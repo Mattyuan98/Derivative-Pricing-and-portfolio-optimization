{
 "cells": [
  {
   "cell_type": "markdown",
   "metadata": {},
   "source": [
    "## Bermuda option pricing using LSMC"
   ]
  },
  {
   "cell_type": "markdown",
   "metadata": {},
   "source": [
    "在金融产品定价上，蒙特卡洛主要根据大数定律以及中央极限定理为理论基础将期望表达式转换成算术平均表达式，然后模拟每条路径上的产品支付函数，将其累加再求平均值"
   ]
  },
  {
   "cell_type": "code",
   "execution_count": 1,
   "metadata": {},
   "outputs": [],
   "source": [
    "import pandas as pd \n",
    "import numpy as np \n",
    "import seaborn as sns\n",
    "import matplotlib as mpl \n",
    "import matplotlib.pyplot as plt\n",
    "%matplotlib inline\n",
    "\n",
    "from numpy import polyfit, polyval\n",
    "from numpy.polynomial.laguerre import lagfit, lagval\n",
    "from scipy.stats import norm\n",
    "  "
   ]
  },
  {
   "cell_type": "code",
   "execution_count": 2,
   "metadata": {},
   "outputs": [],
   "source": [
    "np.random.seed(1031)\n",
    "mpl.rcParams['font.sans-serif'] = ['Microsoft YaHei']\n",
    "mpl.rcParams['axes.unicode_minus'] = False\n"
   ]
  },
  {
   "cell_type": "code",
   "execution_count": 3,
   "metadata": {},
   "outputs": [
    {
     "data": {
      "text/html": [
       "        <script type=\"text/javascript\">\n",
       "        window.PlotlyConfig = {MathJaxConfig: 'local'};\n",
       "        if (window.MathJax) {MathJax.Hub.Config({SVG: {font: \"STIX-Web\"}});}\n",
       "        if (typeof require !== 'undefined') {\n",
       "        require.undef(\"plotly\");\n",
       "        requirejs.config({\n",
       "            paths: {\n",
       "                'plotly': ['https://cdn.plot.ly/plotly-latest.min']\n",
       "            }\n",
       "        });\n",
       "        require(['plotly'], function(Plotly) {\n",
       "            window._Plotly = Plotly;\n",
       "        });\n",
       "        }\n",
       "        </script>\n",
       "        "
      ]
     },
     "metadata": {},
     "output_type": "display_data"
    },
    {
     "data": {
      "text/html": [
       "        <script type=\"text/javascript\">\n",
       "        window.PlotlyConfig = {MathJaxConfig: 'local'};\n",
       "        if (window.MathJax) {MathJax.Hub.Config({SVG: {font: \"STIX-Web\"}});}\n",
       "        if (typeof require !== 'undefined') {\n",
       "        require.undef(\"plotly\");\n",
       "        requirejs.config({\n",
       "            paths: {\n",
       "                'plotly': ['https://cdn.plot.ly/plotly-latest.min']\n",
       "            }\n",
       "        });\n",
       "        require(['plotly'], function(Plotly) {\n",
       "            window._Plotly = Plotly;\n",
       "        });\n",
       "        }\n",
       "        </script>\n",
       "        "
      ]
     },
     "metadata": {},
     "output_type": "display_data"
    }
   ],
   "source": [
    "import cufflinks as cf \n",
    "cf.go_offline()"
   ]
  },
  {
   "cell_type": "markdown",
   "metadata": {},
   "source": [
    "## 欧式期权、美式期权和百慕大期权蒙特卡洛定价"
   ]
  },
  {
   "cell_type": "markdown",
   "metadata": {},
   "source": [
    "\\begin{equation}\n",
    "S(T) = S(0) \\cdot \\exp ((r-q-\\frac{1}{2} \\sigma ^2 ) + \\sigma \\sqrt T \\cdot z) \n",
    "\\end{equation}\n",
    "\n",
    "- 其中 $z$ ~ N(0,1),标准正态分布随机变量"
   ]
  },
  {
   "cell_type": "code",
   "execution_count": 4,
   "metadata": {},
   "outputs": [],
   "source": [
    "(S0,r,q,T,sigma) = (1,0.02,0,1,0.2)\n",
    "(Nsim, Nt) = (20,2) #为了简便只有两个时间点，0，1\n",
    "\n",
    "t = np.linspace(0,T,Nt)\n",
    "dt = np.diff(t)\n",
    "\n",
    "z = np.random.randn(Nsim, Nt-1)\n",
    "A = (r-q-0.5*(sigma)**2)*dt + sigma*(z*np.sqrt(dt))\n",
    "\n",
    "lnS0 = np.tile(np.log(S0),(Nsim,1))\n",
    "lnS = lnS0 + np.cumsum(A,axis=1)\n",
    "lnS = np.hstack((lnS0,lnS))\n",
    "S = np.exp(lnS)"
   ]
  },
  {
   "cell_type": "code",
   "execution_count": 5,
   "metadata": {},
   "outputs": [
    {
     "data": {
      "text/html": [
       "<div>\n",
       "<style scoped>\n",
       "    .dataframe tbody tr th:only-of-type {\n",
       "        vertical-align: middle;\n",
       "    }\n",
       "\n",
       "    .dataframe tbody tr th {\n",
       "        vertical-align: top;\n",
       "    }\n",
       "\n",
       "    .dataframe thead th {\n",
       "        text-align: right;\n",
       "    }\n",
       "</style>\n",
       "<table border=\"1\" class=\"dataframe\">\n",
       "  <thead>\n",
       "    <tr style=\"text-align: right;\">\n",
       "      <th></th>\n",
       "      <th>path 1</th>\n",
       "      <th>path 2</th>\n",
       "      <th>path 3</th>\n",
       "      <th>path 4</th>\n",
       "      <th>path 5</th>\n",
       "      <th>path 6</th>\n",
       "      <th>path 7</th>\n",
       "      <th>path 8</th>\n",
       "      <th>path 9</th>\n",
       "      <th>path 10</th>\n",
       "      <th>path 11</th>\n",
       "      <th>path 12</th>\n",
       "      <th>path 13</th>\n",
       "      <th>path 14</th>\n",
       "      <th>path 15</th>\n",
       "      <th>path 16</th>\n",
       "      <th>path 17</th>\n",
       "      <th>path 18</th>\n",
       "      <th>path 19</th>\n",
       "      <th>path 20</th>\n",
       "    </tr>\n",
       "  </thead>\n",
       "  <tbody>\n",
       "    <tr>\n",
       "      <th>0.0</th>\n",
       "      <td>1.000000</td>\n",
       "      <td>1.00000</td>\n",
       "      <td>1.000000</td>\n",
       "      <td>1.000000</td>\n",
       "      <td>1.000000</td>\n",
       "      <td>1.000000</td>\n",
       "      <td>1.000000</td>\n",
       "      <td>1.000000</td>\n",
       "      <td>1.000000</td>\n",
       "      <td>1.000000</td>\n",
       "      <td>1.000000</td>\n",
       "      <td>1.000000</td>\n",
       "      <td>1.000000</td>\n",
       "      <td>1.000000</td>\n",
       "      <td>1.000000</td>\n",
       "      <td>1.000000</td>\n",
       "      <td>1.000000</td>\n",
       "      <td>1.000000</td>\n",
       "      <td>1.000000</td>\n",
       "      <td>1.000000</td>\n",
       "    </tr>\n",
       "    <tr>\n",
       "      <th>1.0</th>\n",
       "      <td>0.847959</td>\n",
       "      <td>0.70235</td>\n",
       "      <td>1.055208</td>\n",
       "      <td>0.762127</td>\n",
       "      <td>1.112235</td>\n",
       "      <td>1.153429</td>\n",
       "      <td>1.383853</td>\n",
       "      <td>1.008958</td>\n",
       "      <td>1.047884</td>\n",
       "      <td>0.876047</td>\n",
       "      <td>1.279304</td>\n",
       "      <td>0.913415</td>\n",
       "      <td>0.888091</td>\n",
       "      <td>1.127591</td>\n",
       "      <td>0.883755</td>\n",
       "      <td>1.122599</td>\n",
       "      <td>0.752655</td>\n",
       "      <td>0.975478</td>\n",
       "      <td>1.348344</td>\n",
       "      <td>0.863982</td>\n",
       "    </tr>\n",
       "  </tbody>\n",
       "</table>\n",
       "</div>"
      ],
      "text/plain": [
       "       path 1   path 2    path 3    path 4    path 5    path 6    path 7  \\\n",
       "0.0  1.000000  1.00000  1.000000  1.000000  1.000000  1.000000  1.000000   \n",
       "1.0  0.847959  0.70235  1.055208  0.762127  1.112235  1.153429  1.383853   \n",
       "\n",
       "       path 8    path 9   path 10   path 11   path 12   path 13   path 14  \\\n",
       "0.0  1.000000  1.000000  1.000000  1.000000  1.000000  1.000000  1.000000   \n",
       "1.0  1.008958  1.047884  0.876047  1.279304  0.913415  0.888091  1.127591   \n",
       "\n",
       "      path 15   path 16   path 17   path 18   path 19   path 20  \n",
       "0.0  1.000000  1.000000  1.000000  1.000000  1.000000  1.000000  \n",
       "1.0  0.883755  1.122599  0.752655  0.975478  1.348344  0.863982  "
      ]
     },
     "execution_count": 5,
     "metadata": {},
     "output_type": "execute_result"
    }
   ],
   "source": [
    "label = [x + ' ' + str(y) for x,y in zip(['path']*Nsim, np.arange(1,Nsim+1))]\n",
    "df = pd.DataFrame(S.T, index=t,columns=label)\n",
    "df"
   ]
  },
  {
   "cell_type": "code",
   "execution_count": 6,
   "metadata": {},
   "outputs": [
    {
     "data": {
      "application/vnd.plotly.v1+json": {
       "config": {
        "linkText": "Export to plot.ly",
        "plotlyServerURL": "https://plot.ly",
        "showLink": true
       },
       "data": [
        {
         "line": {
          "color": "rgba(255, 153, 51, 1.0)",
          "dash": "solid",
          "shape": "linear",
          "width": 1.3
         },
         "marker": {
          "size": 5,
          "symbol": "circle"
         },
         "mode": "lines+markers",
         "name": "path 1",
         "text": "",
         "type": "scatter",
         "x": [
          0,
          1
         ],
         "y": [
          1,
          0.8479592080375972
         ]
        },
        {
         "line": {
          "color": "rgba(55, 128, 191, 1.0)",
          "dash": "solid",
          "shape": "linear",
          "width": 1.3
         },
         "marker": {
          "size": 5,
          "symbol": "circle"
         },
         "mode": "lines+markers",
         "name": "path 2",
         "text": "",
         "type": "scatter",
         "x": [
          0,
          1
         ],
         "y": [
          1,
          0.7023498389842264
         ]
        },
        {
         "line": {
          "color": "rgba(50, 171, 96, 1.0)",
          "dash": "solid",
          "shape": "linear",
          "width": 1.3
         },
         "marker": {
          "size": 5,
          "symbol": "circle"
         },
         "mode": "lines+markers",
         "name": "path 3",
         "text": "",
         "type": "scatter",
         "x": [
          0,
          1
         ],
         "y": [
          1,
          1.0552080418110437
         ]
        },
        {
         "line": {
          "color": "rgba(128, 0, 128, 1.0)",
          "dash": "solid",
          "shape": "linear",
          "width": 1.3
         },
         "marker": {
          "size": 5,
          "symbol": "circle"
         },
         "mode": "lines+markers",
         "name": "path 4",
         "text": "",
         "type": "scatter",
         "x": [
          0,
          1
         ],
         "y": [
          1,
          0.7621272477047061
         ]
        },
        {
         "line": {
          "color": "rgba(219, 64, 82, 1.0)",
          "dash": "solid",
          "shape": "linear",
          "width": 1.3
         },
         "marker": {
          "size": 5,
          "symbol": "circle"
         },
         "mode": "lines+markers",
         "name": "path 5",
         "text": "",
         "type": "scatter",
         "x": [
          0,
          1
         ],
         "y": [
          1,
          1.1122354284800993
         ]
        },
        {
         "line": {
          "color": "rgba(0, 128, 128, 1.0)",
          "dash": "solid",
          "shape": "linear",
          "width": 1.3
         },
         "marker": {
          "size": 5,
          "symbol": "circle"
         },
         "mode": "lines+markers",
         "name": "path 6",
         "text": "",
         "type": "scatter",
         "x": [
          0,
          1
         ],
         "y": [
          1,
          1.153428705800499
         ]
        },
        {
         "line": {
          "color": "rgba(255, 255, 51, 1.0)",
          "dash": "solid",
          "shape": "linear",
          "width": 1.3
         },
         "marker": {
          "size": 5,
          "symbol": "circle"
         },
         "mode": "lines+markers",
         "name": "path 7",
         "text": "",
         "type": "scatter",
         "x": [
          0,
          1
         ],
         "y": [
          1,
          1.383852782869392
         ]
        },
        {
         "line": {
          "color": "rgba(128, 128, 0, 1.0)",
          "dash": "solid",
          "shape": "linear",
          "width": 1.3
         },
         "marker": {
          "size": 5,
          "symbol": "circle"
         },
         "mode": "lines+markers",
         "name": "path 8",
         "text": "",
         "type": "scatter",
         "x": [
          0,
          1
         ],
         "y": [
          1,
          1.0089576777119977
         ]
        },
        {
         "line": {
          "color": "rgba(251, 128, 114, 1.0)",
          "dash": "solid",
          "shape": "linear",
          "width": 1.3
         },
         "marker": {
          "size": 5,
          "symbol": "circle"
         },
         "mode": "lines+markers",
         "name": "path 9",
         "text": "",
         "type": "scatter",
         "x": [
          0,
          1
         ],
         "y": [
          1,
          1.0478843826023017
         ]
        },
        {
         "line": {
          "color": "rgba(128, 177, 211, 1.0)",
          "dash": "solid",
          "shape": "linear",
          "width": 1.3
         },
         "marker": {
          "size": 5,
          "symbol": "circle"
         },
         "mode": "lines+markers",
         "name": "path 10",
         "text": "",
         "type": "scatter",
         "x": [
          0,
          1
         ],
         "y": [
          1,
          0.8760474557531202
         ]
        },
        {
         "line": {
          "color": "rgba(128, 177, 211, 0.8999999999999999)",
          "dash": "solid",
          "shape": "linear",
          "width": 1.3
         },
         "marker": {
          "size": 5,
          "symbol": "circle"
         },
         "mode": "lines+markers",
         "name": "path 11",
         "text": "",
         "type": "scatter",
         "x": [
          0,
          1
         ],
         "y": [
          1,
          1.279304487731122
         ]
        },
        {
         "line": {
          "color": "rgba(255, 153, 51, 0.8999999999999999)",
          "dash": "solid",
          "shape": "linear",
          "width": 1.3
         },
         "marker": {
          "size": 5,
          "symbol": "circle"
         },
         "mode": "lines+markers",
         "name": "path 12",
         "text": "",
         "type": "scatter",
         "x": [
          0,
          1
         ],
         "y": [
          1,
          0.9134154730090113
         ]
        },
        {
         "line": {
          "color": "rgba(55, 128, 191, 0.8999999999999999)",
          "dash": "solid",
          "shape": "linear",
          "width": 1.3
         },
         "marker": {
          "size": 5,
          "symbol": "circle"
         },
         "mode": "lines+markers",
         "name": "path 13",
         "text": "",
         "type": "scatter",
         "x": [
          0,
          1
         ],
         "y": [
          1,
          0.888090631439794
         ]
        },
        {
         "line": {
          "color": "rgba(50, 171, 96, 0.8999999999999999)",
          "dash": "solid",
          "shape": "linear",
          "width": 1.3
         },
         "marker": {
          "size": 5,
          "symbol": "circle"
         },
         "mode": "lines+markers",
         "name": "path 14",
         "text": "",
         "type": "scatter",
         "x": [
          0,
          1
         ],
         "y": [
          1,
          1.1275913575323084
         ]
        },
        {
         "line": {
          "color": "rgba(128, 0, 128, 0.8999999999999999)",
          "dash": "solid",
          "shape": "linear",
          "width": 1.3
         },
         "marker": {
          "size": 5,
          "symbol": "circle"
         },
         "mode": "lines+markers",
         "name": "path 15",
         "text": "",
         "type": "scatter",
         "x": [
          0,
          1
         ],
         "y": [
          1,
          0.8837550986268348
         ]
        },
        {
         "line": {
          "color": "rgba(219, 64, 82, 0.8999999999999999)",
          "dash": "solid",
          "shape": "linear",
          "width": 1.3
         },
         "marker": {
          "size": 5,
          "symbol": "circle"
         },
         "mode": "lines+markers",
         "name": "path 16",
         "text": "",
         "type": "scatter",
         "x": [
          0,
          1
         ],
         "y": [
          1,
          1.1225993082000298
         ]
        },
        {
         "line": {
          "color": "rgba(0, 128, 128, 0.8999999999999999)",
          "dash": "solid",
          "shape": "linear",
          "width": 1.3
         },
         "marker": {
          "size": 5,
          "symbol": "circle"
         },
         "mode": "lines+markers",
         "name": "path 17",
         "text": "",
         "type": "scatter",
         "x": [
          0,
          1
         ],
         "y": [
          1,
          0.7526548707825276
         ]
        },
        {
         "line": {
          "color": "rgba(255, 255, 51, 0.8999999999999999)",
          "dash": "solid",
          "shape": "linear",
          "width": 1.3
         },
         "marker": {
          "size": 5,
          "symbol": "circle"
         },
         "mode": "lines+markers",
         "name": "path 18",
         "text": "",
         "type": "scatter",
         "x": [
          0,
          1
         ],
         "y": [
          1,
          0.9754781162541492
         ]
        },
        {
         "line": {
          "color": "rgba(128, 128, 0, 0.8999999999999999)",
          "dash": "solid",
          "shape": "linear",
          "width": 1.3
         },
         "marker": {
          "size": 5,
          "symbol": "circle"
         },
         "mode": "lines+markers",
         "name": "path 19",
         "text": "",
         "type": "scatter",
         "x": [
          0,
          1
         ],
         "y": [
          1,
          1.3483443907619637
         ]
        },
        {
         "line": {
          "color": "rgba(251, 128, 114, 0.8999999999999999)",
          "dash": "solid",
          "shape": "linear",
          "width": 1.3
         },
         "marker": {
          "size": 5,
          "symbol": "circle"
         },
         "mode": "lines+markers",
         "name": "path 20",
         "text": "",
         "type": "scatter",
         "x": [
          0,
          1
         ],
         "y": [
          1,
          0.8639817250168631
         ]
        }
       ],
       "layout": {
        "legend": {
         "bgcolor": "#F5F6F9",
         "font": {
          "color": "#4D5663"
         }
        },
        "paper_bgcolor": "#F5F6F9",
        "plot_bgcolor": "#F5F6F9",
        "template": {
         "data": {
          "bar": [
           {
            "error_x": {
             "color": "#2a3f5f"
            },
            "error_y": {
             "color": "#2a3f5f"
            },
            "marker": {
             "line": {
              "color": "#E5ECF6",
              "width": 0.5
             }
            },
            "type": "bar"
           }
          ],
          "barpolar": [
           {
            "marker": {
             "line": {
              "color": "#E5ECF6",
              "width": 0.5
             }
            },
            "type": "barpolar"
           }
          ],
          "carpet": [
           {
            "aaxis": {
             "endlinecolor": "#2a3f5f",
             "gridcolor": "white",
             "linecolor": "white",
             "minorgridcolor": "white",
             "startlinecolor": "#2a3f5f"
            },
            "baxis": {
             "endlinecolor": "#2a3f5f",
             "gridcolor": "white",
             "linecolor": "white",
             "minorgridcolor": "white",
             "startlinecolor": "#2a3f5f"
            },
            "type": "carpet"
           }
          ],
          "choropleth": [
           {
            "colorbar": {
             "outlinewidth": 0,
             "ticks": ""
            },
            "type": "choropleth"
           }
          ],
          "contour": [
           {
            "colorbar": {
             "outlinewidth": 0,
             "ticks": ""
            },
            "colorscale": [
             [
              0,
              "#0d0887"
             ],
             [
              0.1111111111111111,
              "#46039f"
             ],
             [
              0.2222222222222222,
              "#7201a8"
             ],
             [
              0.3333333333333333,
              "#9c179e"
             ],
             [
              0.4444444444444444,
              "#bd3786"
             ],
             [
              0.5555555555555556,
              "#d8576b"
             ],
             [
              0.6666666666666666,
              "#ed7953"
             ],
             [
              0.7777777777777778,
              "#fb9f3a"
             ],
             [
              0.8888888888888888,
              "#fdca26"
             ],
             [
              1,
              "#f0f921"
             ]
            ],
            "type": "contour"
           }
          ],
          "contourcarpet": [
           {
            "colorbar": {
             "outlinewidth": 0,
             "ticks": ""
            },
            "type": "contourcarpet"
           }
          ],
          "heatmap": [
           {
            "colorbar": {
             "outlinewidth": 0,
             "ticks": ""
            },
            "colorscale": [
             [
              0,
              "#0d0887"
             ],
             [
              0.1111111111111111,
              "#46039f"
             ],
             [
              0.2222222222222222,
              "#7201a8"
             ],
             [
              0.3333333333333333,
              "#9c179e"
             ],
             [
              0.4444444444444444,
              "#bd3786"
             ],
             [
              0.5555555555555556,
              "#d8576b"
             ],
             [
              0.6666666666666666,
              "#ed7953"
             ],
             [
              0.7777777777777778,
              "#fb9f3a"
             ],
             [
              0.8888888888888888,
              "#fdca26"
             ],
             [
              1,
              "#f0f921"
             ]
            ],
            "type": "heatmap"
           }
          ],
          "heatmapgl": [
           {
            "colorbar": {
             "outlinewidth": 0,
             "ticks": ""
            },
            "colorscale": [
             [
              0,
              "#0d0887"
             ],
             [
              0.1111111111111111,
              "#46039f"
             ],
             [
              0.2222222222222222,
              "#7201a8"
             ],
             [
              0.3333333333333333,
              "#9c179e"
             ],
             [
              0.4444444444444444,
              "#bd3786"
             ],
             [
              0.5555555555555556,
              "#d8576b"
             ],
             [
              0.6666666666666666,
              "#ed7953"
             ],
             [
              0.7777777777777778,
              "#fb9f3a"
             ],
             [
              0.8888888888888888,
              "#fdca26"
             ],
             [
              1,
              "#f0f921"
             ]
            ],
            "type": "heatmapgl"
           }
          ],
          "histogram": [
           {
            "marker": {
             "colorbar": {
              "outlinewidth": 0,
              "ticks": ""
             }
            },
            "type": "histogram"
           }
          ],
          "histogram2d": [
           {
            "colorbar": {
             "outlinewidth": 0,
             "ticks": ""
            },
            "colorscale": [
             [
              0,
              "#0d0887"
             ],
             [
              0.1111111111111111,
              "#46039f"
             ],
             [
              0.2222222222222222,
              "#7201a8"
             ],
             [
              0.3333333333333333,
              "#9c179e"
             ],
             [
              0.4444444444444444,
              "#bd3786"
             ],
             [
              0.5555555555555556,
              "#d8576b"
             ],
             [
              0.6666666666666666,
              "#ed7953"
             ],
             [
              0.7777777777777778,
              "#fb9f3a"
             ],
             [
              0.8888888888888888,
              "#fdca26"
             ],
             [
              1,
              "#f0f921"
             ]
            ],
            "type": "histogram2d"
           }
          ],
          "histogram2dcontour": [
           {
            "colorbar": {
             "outlinewidth": 0,
             "ticks": ""
            },
            "colorscale": [
             [
              0,
              "#0d0887"
             ],
             [
              0.1111111111111111,
              "#46039f"
             ],
             [
              0.2222222222222222,
              "#7201a8"
             ],
             [
              0.3333333333333333,
              "#9c179e"
             ],
             [
              0.4444444444444444,
              "#bd3786"
             ],
             [
              0.5555555555555556,
              "#d8576b"
             ],
             [
              0.6666666666666666,
              "#ed7953"
             ],
             [
              0.7777777777777778,
              "#fb9f3a"
             ],
             [
              0.8888888888888888,
              "#fdca26"
             ],
             [
              1,
              "#f0f921"
             ]
            ],
            "type": "histogram2dcontour"
           }
          ],
          "mesh3d": [
           {
            "colorbar": {
             "outlinewidth": 0,
             "ticks": ""
            },
            "type": "mesh3d"
           }
          ],
          "parcoords": [
           {
            "line": {
             "colorbar": {
              "outlinewidth": 0,
              "ticks": ""
             }
            },
            "type": "parcoords"
           }
          ],
          "pie": [
           {
            "automargin": true,
            "type": "pie"
           }
          ],
          "scatter": [
           {
            "marker": {
             "colorbar": {
              "outlinewidth": 0,
              "ticks": ""
             }
            },
            "type": "scatter"
           }
          ],
          "scatter3d": [
           {
            "line": {
             "colorbar": {
              "outlinewidth": 0,
              "ticks": ""
             }
            },
            "marker": {
             "colorbar": {
              "outlinewidth": 0,
              "ticks": ""
             }
            },
            "type": "scatter3d"
           }
          ],
          "scattercarpet": [
           {
            "marker": {
             "colorbar": {
              "outlinewidth": 0,
              "ticks": ""
             }
            },
            "type": "scattercarpet"
           }
          ],
          "scattergeo": [
           {
            "marker": {
             "colorbar": {
              "outlinewidth": 0,
              "ticks": ""
             }
            },
            "type": "scattergeo"
           }
          ],
          "scattergl": [
           {
            "marker": {
             "colorbar": {
              "outlinewidth": 0,
              "ticks": ""
             }
            },
            "type": "scattergl"
           }
          ],
          "scattermapbox": [
           {
            "marker": {
             "colorbar": {
              "outlinewidth": 0,
              "ticks": ""
             }
            },
            "type": "scattermapbox"
           }
          ],
          "scatterpolar": [
           {
            "marker": {
             "colorbar": {
              "outlinewidth": 0,
              "ticks": ""
             }
            },
            "type": "scatterpolar"
           }
          ],
          "scatterpolargl": [
           {
            "marker": {
             "colorbar": {
              "outlinewidth": 0,
              "ticks": ""
             }
            },
            "type": "scatterpolargl"
           }
          ],
          "scatterternary": [
           {
            "marker": {
             "colorbar": {
              "outlinewidth": 0,
              "ticks": ""
             }
            },
            "type": "scatterternary"
           }
          ],
          "surface": [
           {
            "colorbar": {
             "outlinewidth": 0,
             "ticks": ""
            },
            "colorscale": [
             [
              0,
              "#0d0887"
             ],
             [
              0.1111111111111111,
              "#46039f"
             ],
             [
              0.2222222222222222,
              "#7201a8"
             ],
             [
              0.3333333333333333,
              "#9c179e"
             ],
             [
              0.4444444444444444,
              "#bd3786"
             ],
             [
              0.5555555555555556,
              "#d8576b"
             ],
             [
              0.6666666666666666,
              "#ed7953"
             ],
             [
              0.7777777777777778,
              "#fb9f3a"
             ],
             [
              0.8888888888888888,
              "#fdca26"
             ],
             [
              1,
              "#f0f921"
             ]
            ],
            "type": "surface"
           }
          ],
          "table": [
           {
            "cells": {
             "fill": {
              "color": "#EBF0F8"
             },
             "line": {
              "color": "white"
             }
            },
            "header": {
             "fill": {
              "color": "#C8D4E3"
             },
             "line": {
              "color": "white"
             }
            },
            "type": "table"
           }
          ]
         },
         "layout": {
          "annotationdefaults": {
           "arrowcolor": "#2a3f5f",
           "arrowhead": 0,
           "arrowwidth": 1
          },
          "autotypenumbers": "strict",
          "coloraxis": {
           "colorbar": {
            "outlinewidth": 0,
            "ticks": ""
           }
          },
          "colorscale": {
           "diverging": [
            [
             0,
             "#8e0152"
            ],
            [
             0.1,
             "#c51b7d"
            ],
            [
             0.2,
             "#de77ae"
            ],
            [
             0.3,
             "#f1b6da"
            ],
            [
             0.4,
             "#fde0ef"
            ],
            [
             0.5,
             "#f7f7f7"
            ],
            [
             0.6,
             "#e6f5d0"
            ],
            [
             0.7,
             "#b8e186"
            ],
            [
             0.8,
             "#7fbc41"
            ],
            [
             0.9,
             "#4d9221"
            ],
            [
             1,
             "#276419"
            ]
           ],
           "sequential": [
            [
             0,
             "#0d0887"
            ],
            [
             0.1111111111111111,
             "#46039f"
            ],
            [
             0.2222222222222222,
             "#7201a8"
            ],
            [
             0.3333333333333333,
             "#9c179e"
            ],
            [
             0.4444444444444444,
             "#bd3786"
            ],
            [
             0.5555555555555556,
             "#d8576b"
            ],
            [
             0.6666666666666666,
             "#ed7953"
            ],
            [
             0.7777777777777778,
             "#fb9f3a"
            ],
            [
             0.8888888888888888,
             "#fdca26"
            ],
            [
             1,
             "#f0f921"
            ]
           ],
           "sequentialminus": [
            [
             0,
             "#0d0887"
            ],
            [
             0.1111111111111111,
             "#46039f"
            ],
            [
             0.2222222222222222,
             "#7201a8"
            ],
            [
             0.3333333333333333,
             "#9c179e"
            ],
            [
             0.4444444444444444,
             "#bd3786"
            ],
            [
             0.5555555555555556,
             "#d8576b"
            ],
            [
             0.6666666666666666,
             "#ed7953"
            ],
            [
             0.7777777777777778,
             "#fb9f3a"
            ],
            [
             0.8888888888888888,
             "#fdca26"
            ],
            [
             1,
             "#f0f921"
            ]
           ]
          },
          "colorway": [
           "#636efa",
           "#EF553B",
           "#00cc96",
           "#ab63fa",
           "#FFA15A",
           "#19d3f3",
           "#FF6692",
           "#B6E880",
           "#FF97FF",
           "#FECB52"
          ],
          "font": {
           "color": "#2a3f5f"
          },
          "geo": {
           "bgcolor": "white",
           "lakecolor": "white",
           "landcolor": "#E5ECF6",
           "showlakes": true,
           "showland": true,
           "subunitcolor": "white"
          },
          "hoverlabel": {
           "align": "left"
          },
          "hovermode": "closest",
          "mapbox": {
           "style": "light"
          },
          "paper_bgcolor": "white",
          "plot_bgcolor": "#E5ECF6",
          "polar": {
           "angularaxis": {
            "gridcolor": "white",
            "linecolor": "white",
            "ticks": ""
           },
           "bgcolor": "#E5ECF6",
           "radialaxis": {
            "gridcolor": "white",
            "linecolor": "white",
            "ticks": ""
           }
          },
          "scene": {
           "xaxis": {
            "backgroundcolor": "#E5ECF6",
            "gridcolor": "white",
            "gridwidth": 2,
            "linecolor": "white",
            "showbackground": true,
            "ticks": "",
            "zerolinecolor": "white"
           },
           "yaxis": {
            "backgroundcolor": "#E5ECF6",
            "gridcolor": "white",
            "gridwidth": 2,
            "linecolor": "white",
            "showbackground": true,
            "ticks": "",
            "zerolinecolor": "white"
           },
           "zaxis": {
            "backgroundcolor": "#E5ECF6",
            "gridcolor": "white",
            "gridwidth": 2,
            "linecolor": "white",
            "showbackground": true,
            "ticks": "",
            "zerolinecolor": "white"
           }
          },
          "shapedefaults": {
           "line": {
            "color": "#2a3f5f"
           }
          },
          "ternary": {
           "aaxis": {
            "gridcolor": "white",
            "linecolor": "white",
            "ticks": ""
           },
           "baxis": {
            "gridcolor": "white",
            "linecolor": "white",
            "ticks": ""
           },
           "bgcolor": "#E5ECF6",
           "caxis": {
            "gridcolor": "white",
            "linecolor": "white",
            "ticks": ""
           }
          },
          "title": {
           "x": 0.05
          },
          "xaxis": {
           "automargin": true,
           "gridcolor": "white",
           "linecolor": "white",
           "ticks": "",
           "title": {
            "standoff": 15
           },
           "zerolinecolor": "white",
           "zerolinewidth": 2
          },
          "yaxis": {
           "automargin": true,
           "gridcolor": "white",
           "linecolor": "white",
           "ticks": "",
           "title": {
            "standoff": 15
           },
           "zerolinecolor": "white",
           "zerolinewidth": 2
          }
         }
        },
        "title": {
         "font": {
          "color": "#4D5663"
         },
         "text": "到期日时点的价格采样"
        },
        "xaxis": {
         "gridcolor": "#E1E5ED",
         "showgrid": true,
         "tickfont": {
          "color": "#4D5663"
         },
         "title": {
          "font": {
           "color": "#4D5663"
          },
          "text": "t"
         },
         "zerolinecolor": "#E1E5ED"
        },
        "yaxis": {
         "gridcolor": "#E1E5ED",
         "showgrid": true,
         "tickfont": {
          "color": "#4D5663"
         },
         "title": {
          "font": {
           "color": "#4D5663"
          },
          "text": "S"
         },
         "zerolinecolor": "#E1E5ED"
        }
       }
      },
      "text/html": [
       "<div>                            <div id=\"949b3b7a-6d33-4e02-bc9f-40c964a147da\" class=\"plotly-graph-div\" style=\"height:525px; width:100%;\"></div>            <script type=\"text/javascript\">                require([\"plotly\"], function(Plotly) {                    window.PLOTLYENV=window.PLOTLYENV || {};\n",
       "                    window.PLOTLYENV.BASE_URL='https://plot.ly';                                    if (document.getElementById(\"949b3b7a-6d33-4e02-bc9f-40c964a147da\")) {                    Plotly.newPlot(                        \"949b3b7a-6d33-4e02-bc9f-40c964a147da\",                        [{\"line\": {\"color\": \"rgba(255, 153, 51, 1.0)\", \"dash\": \"solid\", \"shape\": \"linear\", \"width\": 1.3}, \"marker\": {\"size\": 5, \"symbol\": \"circle\"}, \"mode\": \"lines+markers\", \"name\": \"path 1\", \"text\": \"\", \"type\": \"scatter\", \"x\": [0.0, 1.0], \"y\": [1.0, 0.8479592080375972]}, {\"line\": {\"color\": \"rgba(55, 128, 191, 1.0)\", \"dash\": \"solid\", \"shape\": \"linear\", \"width\": 1.3}, \"marker\": {\"size\": 5, \"symbol\": \"circle\"}, \"mode\": \"lines+markers\", \"name\": \"path 2\", \"text\": \"\", \"type\": \"scatter\", \"x\": [0.0, 1.0], \"y\": [1.0, 0.7023498389842264]}, {\"line\": {\"color\": \"rgba(50, 171, 96, 1.0)\", \"dash\": \"solid\", \"shape\": \"linear\", \"width\": 1.3}, \"marker\": {\"size\": 5, \"symbol\": \"circle\"}, \"mode\": \"lines+markers\", \"name\": \"path 3\", \"text\": \"\", \"type\": \"scatter\", \"x\": [0.0, 1.0], \"y\": [1.0, 1.0552080418110437]}, {\"line\": {\"color\": \"rgba(128, 0, 128, 1.0)\", \"dash\": \"solid\", \"shape\": \"linear\", \"width\": 1.3}, \"marker\": {\"size\": 5, \"symbol\": \"circle\"}, \"mode\": \"lines+markers\", \"name\": \"path 4\", \"text\": \"\", \"type\": \"scatter\", \"x\": [0.0, 1.0], \"y\": [1.0, 0.7621272477047061]}, {\"line\": {\"color\": \"rgba(219, 64, 82, 1.0)\", \"dash\": \"solid\", \"shape\": \"linear\", \"width\": 1.3}, \"marker\": {\"size\": 5, \"symbol\": \"circle\"}, \"mode\": \"lines+markers\", \"name\": \"path 5\", \"text\": \"\", \"type\": \"scatter\", \"x\": [0.0, 1.0], \"y\": [1.0, 1.1122354284800993]}, {\"line\": {\"color\": \"rgba(0, 128, 128, 1.0)\", \"dash\": \"solid\", \"shape\": \"linear\", \"width\": 1.3}, \"marker\": {\"size\": 5, \"symbol\": \"circle\"}, \"mode\": \"lines+markers\", \"name\": \"path 6\", \"text\": \"\", \"type\": \"scatter\", \"x\": [0.0, 1.0], \"y\": [1.0, 1.153428705800499]}, {\"line\": {\"color\": \"rgba(255, 255, 51, 1.0)\", \"dash\": \"solid\", \"shape\": \"linear\", \"width\": 1.3}, \"marker\": {\"size\": 5, \"symbol\": \"circle\"}, \"mode\": \"lines+markers\", \"name\": \"path 7\", \"text\": \"\", \"type\": \"scatter\", \"x\": [0.0, 1.0], \"y\": [1.0, 1.383852782869392]}, {\"line\": {\"color\": \"rgba(128, 128, 0, 1.0)\", \"dash\": \"solid\", \"shape\": \"linear\", \"width\": 1.3}, \"marker\": {\"size\": 5, \"symbol\": \"circle\"}, \"mode\": \"lines+markers\", \"name\": \"path 8\", \"text\": \"\", \"type\": \"scatter\", \"x\": [0.0, 1.0], \"y\": [1.0, 1.0089576777119977]}, {\"line\": {\"color\": \"rgba(251, 128, 114, 1.0)\", \"dash\": \"solid\", \"shape\": \"linear\", \"width\": 1.3}, \"marker\": {\"size\": 5, \"symbol\": \"circle\"}, \"mode\": \"lines+markers\", \"name\": \"path 9\", \"text\": \"\", \"type\": \"scatter\", \"x\": [0.0, 1.0], \"y\": [1.0, 1.0478843826023017]}, {\"line\": {\"color\": \"rgba(128, 177, 211, 1.0)\", \"dash\": \"solid\", \"shape\": \"linear\", \"width\": 1.3}, \"marker\": {\"size\": 5, \"symbol\": \"circle\"}, \"mode\": \"lines+markers\", \"name\": \"path 10\", \"text\": \"\", \"type\": \"scatter\", \"x\": [0.0, 1.0], \"y\": [1.0, 0.8760474557531202]}, {\"line\": {\"color\": \"rgba(128, 177, 211, 0.8999999999999999)\", \"dash\": \"solid\", \"shape\": \"linear\", \"width\": 1.3}, \"marker\": {\"size\": 5, \"symbol\": \"circle\"}, \"mode\": \"lines+markers\", \"name\": \"path 11\", \"text\": \"\", \"type\": \"scatter\", \"x\": [0.0, 1.0], \"y\": [1.0, 1.279304487731122]}, {\"line\": {\"color\": \"rgba(255, 153, 51, 0.8999999999999999)\", \"dash\": \"solid\", \"shape\": \"linear\", \"width\": 1.3}, \"marker\": {\"size\": 5, \"symbol\": \"circle\"}, \"mode\": \"lines+markers\", \"name\": \"path 12\", \"text\": \"\", \"type\": \"scatter\", \"x\": [0.0, 1.0], \"y\": [1.0, 0.9134154730090113]}, {\"line\": {\"color\": \"rgba(55, 128, 191, 0.8999999999999999)\", \"dash\": \"solid\", \"shape\": \"linear\", \"width\": 1.3}, \"marker\": {\"size\": 5, \"symbol\": \"circle\"}, \"mode\": \"lines+markers\", \"name\": \"path 13\", \"text\": \"\", \"type\": \"scatter\", \"x\": [0.0, 1.0], \"y\": [1.0, 0.888090631439794]}, {\"line\": {\"color\": \"rgba(50, 171, 96, 0.8999999999999999)\", \"dash\": \"solid\", \"shape\": \"linear\", \"width\": 1.3}, \"marker\": {\"size\": 5, \"symbol\": \"circle\"}, \"mode\": \"lines+markers\", \"name\": \"path 14\", \"text\": \"\", \"type\": \"scatter\", \"x\": [0.0, 1.0], \"y\": [1.0, 1.1275913575323084]}, {\"line\": {\"color\": \"rgba(128, 0, 128, 0.8999999999999999)\", \"dash\": \"solid\", \"shape\": \"linear\", \"width\": 1.3}, \"marker\": {\"size\": 5, \"symbol\": \"circle\"}, \"mode\": \"lines+markers\", \"name\": \"path 15\", \"text\": \"\", \"type\": \"scatter\", \"x\": [0.0, 1.0], \"y\": [1.0, 0.8837550986268348]}, {\"line\": {\"color\": \"rgba(219, 64, 82, 0.8999999999999999)\", \"dash\": \"solid\", \"shape\": \"linear\", \"width\": 1.3}, \"marker\": {\"size\": 5, \"symbol\": \"circle\"}, \"mode\": \"lines+markers\", \"name\": \"path 16\", \"text\": \"\", \"type\": \"scatter\", \"x\": [0.0, 1.0], \"y\": [1.0, 1.1225993082000298]}, {\"line\": {\"color\": \"rgba(0, 128, 128, 0.8999999999999999)\", \"dash\": \"solid\", \"shape\": \"linear\", \"width\": 1.3}, \"marker\": {\"size\": 5, \"symbol\": \"circle\"}, \"mode\": \"lines+markers\", \"name\": \"path 17\", \"text\": \"\", \"type\": \"scatter\", \"x\": [0.0, 1.0], \"y\": [1.0, 0.7526548707825276]}, {\"line\": {\"color\": \"rgba(255, 255, 51, 0.8999999999999999)\", \"dash\": \"solid\", \"shape\": \"linear\", \"width\": 1.3}, \"marker\": {\"size\": 5, \"symbol\": \"circle\"}, \"mode\": \"lines+markers\", \"name\": \"path 18\", \"text\": \"\", \"type\": \"scatter\", \"x\": [0.0, 1.0], \"y\": [1.0, 0.9754781162541492]}, {\"line\": {\"color\": \"rgba(128, 128, 0, 0.8999999999999999)\", \"dash\": \"solid\", \"shape\": \"linear\", \"width\": 1.3}, \"marker\": {\"size\": 5, \"symbol\": \"circle\"}, \"mode\": \"lines+markers\", \"name\": \"path 19\", \"text\": \"\", \"type\": \"scatter\", \"x\": [0.0, 1.0], \"y\": [1.0, 1.3483443907619637]}, {\"line\": {\"color\": \"rgba(251, 128, 114, 0.8999999999999999)\", \"dash\": \"solid\", \"shape\": \"linear\", \"width\": 1.3}, \"marker\": {\"size\": 5, \"symbol\": \"circle\"}, \"mode\": \"lines+markers\", \"name\": \"path 20\", \"text\": \"\", \"type\": \"scatter\", \"x\": [0.0, 1.0], \"y\": [1.0, 0.8639817250168631]}],                        {\"legend\": {\"bgcolor\": \"#F5F6F9\", \"font\": {\"color\": \"#4D5663\"}}, \"paper_bgcolor\": \"#F5F6F9\", \"plot_bgcolor\": \"#F5F6F9\", \"template\": {\"data\": {\"bar\": [{\"error_x\": {\"color\": \"#2a3f5f\"}, \"error_y\": {\"color\": \"#2a3f5f\"}, \"marker\": {\"line\": {\"color\": \"#E5ECF6\", \"width\": 0.5}}, \"type\": \"bar\"}], \"barpolar\": [{\"marker\": {\"line\": {\"color\": \"#E5ECF6\", \"width\": 0.5}}, \"type\": \"barpolar\"}], \"carpet\": [{\"aaxis\": {\"endlinecolor\": \"#2a3f5f\", \"gridcolor\": \"white\", \"linecolor\": \"white\", \"minorgridcolor\": \"white\", \"startlinecolor\": \"#2a3f5f\"}, \"baxis\": {\"endlinecolor\": \"#2a3f5f\", \"gridcolor\": \"white\", \"linecolor\": \"white\", \"minorgridcolor\": \"white\", \"startlinecolor\": \"#2a3f5f\"}, \"type\": \"carpet\"}], \"choropleth\": [{\"colorbar\": {\"outlinewidth\": 0, \"ticks\": \"\"}, \"type\": \"choropleth\"}], \"contour\": [{\"colorbar\": {\"outlinewidth\": 0, \"ticks\": \"\"}, \"colorscale\": [[0.0, \"#0d0887\"], [0.1111111111111111, \"#46039f\"], [0.2222222222222222, \"#7201a8\"], [0.3333333333333333, \"#9c179e\"], [0.4444444444444444, \"#bd3786\"], [0.5555555555555556, \"#d8576b\"], [0.6666666666666666, \"#ed7953\"], [0.7777777777777778, \"#fb9f3a\"], [0.8888888888888888, \"#fdca26\"], [1.0, \"#f0f921\"]], \"type\": \"contour\"}], \"contourcarpet\": [{\"colorbar\": {\"outlinewidth\": 0, \"ticks\": \"\"}, \"type\": \"contourcarpet\"}], \"heatmap\": [{\"colorbar\": {\"outlinewidth\": 0, \"ticks\": \"\"}, \"colorscale\": [[0.0, \"#0d0887\"], [0.1111111111111111, \"#46039f\"], [0.2222222222222222, \"#7201a8\"], [0.3333333333333333, \"#9c179e\"], [0.4444444444444444, \"#bd3786\"], [0.5555555555555556, \"#d8576b\"], [0.6666666666666666, \"#ed7953\"], [0.7777777777777778, \"#fb9f3a\"], [0.8888888888888888, \"#fdca26\"], [1.0, \"#f0f921\"]], \"type\": \"heatmap\"}], \"heatmapgl\": [{\"colorbar\": {\"outlinewidth\": 0, \"ticks\": \"\"}, \"colorscale\": [[0.0, \"#0d0887\"], [0.1111111111111111, \"#46039f\"], [0.2222222222222222, \"#7201a8\"], [0.3333333333333333, \"#9c179e\"], [0.4444444444444444, \"#bd3786\"], [0.5555555555555556, \"#d8576b\"], [0.6666666666666666, \"#ed7953\"], [0.7777777777777778, \"#fb9f3a\"], [0.8888888888888888, \"#fdca26\"], [1.0, \"#f0f921\"]], \"type\": \"heatmapgl\"}], \"histogram\": [{\"marker\": {\"colorbar\": {\"outlinewidth\": 0, \"ticks\": \"\"}}, \"type\": \"histogram\"}], \"histogram2d\": [{\"colorbar\": {\"outlinewidth\": 0, \"ticks\": \"\"}, \"colorscale\": [[0.0, \"#0d0887\"], [0.1111111111111111, \"#46039f\"], [0.2222222222222222, \"#7201a8\"], [0.3333333333333333, \"#9c179e\"], [0.4444444444444444, \"#bd3786\"], [0.5555555555555556, \"#d8576b\"], [0.6666666666666666, \"#ed7953\"], [0.7777777777777778, \"#fb9f3a\"], [0.8888888888888888, \"#fdca26\"], [1.0, \"#f0f921\"]], \"type\": \"histogram2d\"}], \"histogram2dcontour\": [{\"colorbar\": {\"outlinewidth\": 0, \"ticks\": \"\"}, \"colorscale\": [[0.0, \"#0d0887\"], [0.1111111111111111, \"#46039f\"], [0.2222222222222222, \"#7201a8\"], [0.3333333333333333, \"#9c179e\"], [0.4444444444444444, \"#bd3786\"], [0.5555555555555556, \"#d8576b\"], [0.6666666666666666, \"#ed7953\"], [0.7777777777777778, \"#fb9f3a\"], [0.8888888888888888, \"#fdca26\"], [1.0, \"#f0f921\"]], \"type\": \"histogram2dcontour\"}], \"mesh3d\": [{\"colorbar\": {\"outlinewidth\": 0, \"ticks\": \"\"}, \"type\": \"mesh3d\"}], \"parcoords\": [{\"line\": {\"colorbar\": {\"outlinewidth\": 0, \"ticks\": \"\"}}, \"type\": \"parcoords\"}], \"pie\": [{\"automargin\": true, \"type\": \"pie\"}], \"scatter\": [{\"marker\": {\"colorbar\": {\"outlinewidth\": 0, \"ticks\": \"\"}}, \"type\": \"scatter\"}], \"scatter3d\": [{\"line\": {\"colorbar\": {\"outlinewidth\": 0, \"ticks\": \"\"}}, \"marker\": {\"colorbar\": {\"outlinewidth\": 0, \"ticks\": \"\"}}, \"type\": \"scatter3d\"}], \"scattercarpet\": [{\"marker\": {\"colorbar\": {\"outlinewidth\": 0, \"ticks\": \"\"}}, \"type\": \"scattercarpet\"}], \"scattergeo\": [{\"marker\": {\"colorbar\": {\"outlinewidth\": 0, \"ticks\": \"\"}}, \"type\": \"scattergeo\"}], \"scattergl\": [{\"marker\": {\"colorbar\": {\"outlinewidth\": 0, \"ticks\": \"\"}}, \"type\": \"scattergl\"}], \"scattermapbox\": [{\"marker\": {\"colorbar\": {\"outlinewidth\": 0, \"ticks\": \"\"}}, \"type\": \"scattermapbox\"}], \"scatterpolar\": [{\"marker\": {\"colorbar\": {\"outlinewidth\": 0, \"ticks\": \"\"}}, \"type\": \"scatterpolar\"}], \"scatterpolargl\": [{\"marker\": {\"colorbar\": {\"outlinewidth\": 0, \"ticks\": \"\"}}, \"type\": \"scatterpolargl\"}], \"scatterternary\": [{\"marker\": {\"colorbar\": {\"outlinewidth\": 0, \"ticks\": \"\"}}, \"type\": \"scatterternary\"}], \"surface\": [{\"colorbar\": {\"outlinewidth\": 0, \"ticks\": \"\"}, \"colorscale\": [[0.0, \"#0d0887\"], [0.1111111111111111, \"#46039f\"], [0.2222222222222222, \"#7201a8\"], [0.3333333333333333, \"#9c179e\"], [0.4444444444444444, \"#bd3786\"], [0.5555555555555556, \"#d8576b\"], [0.6666666666666666, \"#ed7953\"], [0.7777777777777778, \"#fb9f3a\"], [0.8888888888888888, \"#fdca26\"], [1.0, \"#f0f921\"]], \"type\": \"surface\"}], \"table\": [{\"cells\": {\"fill\": {\"color\": \"#EBF0F8\"}, \"line\": {\"color\": \"white\"}}, \"header\": {\"fill\": {\"color\": \"#C8D4E3\"}, \"line\": {\"color\": \"white\"}}, \"type\": \"table\"}]}, \"layout\": {\"annotationdefaults\": {\"arrowcolor\": \"#2a3f5f\", \"arrowhead\": 0, \"arrowwidth\": 1}, \"autotypenumbers\": \"strict\", \"coloraxis\": {\"colorbar\": {\"outlinewidth\": 0, \"ticks\": \"\"}}, \"colorscale\": {\"diverging\": [[0, \"#8e0152\"], [0.1, \"#c51b7d\"], [0.2, \"#de77ae\"], [0.3, \"#f1b6da\"], [0.4, \"#fde0ef\"], [0.5, \"#f7f7f7\"], [0.6, \"#e6f5d0\"], [0.7, \"#b8e186\"], [0.8, \"#7fbc41\"], [0.9, \"#4d9221\"], [1, \"#276419\"]], \"sequential\": [[0.0, \"#0d0887\"], [0.1111111111111111, \"#46039f\"], [0.2222222222222222, \"#7201a8\"], [0.3333333333333333, \"#9c179e\"], [0.4444444444444444, \"#bd3786\"], [0.5555555555555556, \"#d8576b\"], [0.6666666666666666, \"#ed7953\"], [0.7777777777777778, \"#fb9f3a\"], [0.8888888888888888, \"#fdca26\"], [1.0, \"#f0f921\"]], \"sequentialminus\": [[0.0, \"#0d0887\"], [0.1111111111111111, \"#46039f\"], [0.2222222222222222, \"#7201a8\"], [0.3333333333333333, \"#9c179e\"], [0.4444444444444444, \"#bd3786\"], [0.5555555555555556, \"#d8576b\"], [0.6666666666666666, \"#ed7953\"], [0.7777777777777778, \"#fb9f3a\"], [0.8888888888888888, \"#fdca26\"], [1.0, \"#f0f921\"]]}, \"colorway\": [\"#636efa\", \"#EF553B\", \"#00cc96\", \"#ab63fa\", \"#FFA15A\", \"#19d3f3\", \"#FF6692\", \"#B6E880\", \"#FF97FF\", \"#FECB52\"], \"font\": {\"color\": \"#2a3f5f\"}, \"geo\": {\"bgcolor\": \"white\", \"lakecolor\": \"white\", \"landcolor\": \"#E5ECF6\", \"showlakes\": true, \"showland\": true, \"subunitcolor\": \"white\"}, \"hoverlabel\": {\"align\": \"left\"}, \"hovermode\": \"closest\", \"mapbox\": {\"style\": \"light\"}, \"paper_bgcolor\": \"white\", \"plot_bgcolor\": \"#E5ECF6\", \"polar\": {\"angularaxis\": {\"gridcolor\": \"white\", \"linecolor\": \"white\", \"ticks\": \"\"}, \"bgcolor\": \"#E5ECF6\", \"radialaxis\": {\"gridcolor\": \"white\", \"linecolor\": \"white\", \"ticks\": \"\"}}, \"scene\": {\"xaxis\": {\"backgroundcolor\": \"#E5ECF6\", \"gridcolor\": \"white\", \"gridwidth\": 2, \"linecolor\": \"white\", \"showbackground\": true, \"ticks\": \"\", \"zerolinecolor\": \"white\"}, \"yaxis\": {\"backgroundcolor\": \"#E5ECF6\", \"gridcolor\": \"white\", \"gridwidth\": 2, \"linecolor\": \"white\", \"showbackground\": true, \"ticks\": \"\", \"zerolinecolor\": \"white\"}, \"zaxis\": {\"backgroundcolor\": \"#E5ECF6\", \"gridcolor\": \"white\", \"gridwidth\": 2, \"linecolor\": \"white\", \"showbackground\": true, \"ticks\": \"\", \"zerolinecolor\": \"white\"}}, \"shapedefaults\": {\"line\": {\"color\": \"#2a3f5f\"}}, \"ternary\": {\"aaxis\": {\"gridcolor\": \"white\", \"linecolor\": \"white\", \"ticks\": \"\"}, \"baxis\": {\"gridcolor\": \"white\", \"linecolor\": \"white\", \"ticks\": \"\"}, \"bgcolor\": \"#E5ECF6\", \"caxis\": {\"gridcolor\": \"white\", \"linecolor\": \"white\", \"ticks\": \"\"}}, \"title\": {\"x\": 0.05}, \"xaxis\": {\"automargin\": true, \"gridcolor\": \"white\", \"linecolor\": \"white\", \"ticks\": \"\", \"title\": {\"standoff\": 15}, \"zerolinecolor\": \"white\", \"zerolinewidth\": 2}, \"yaxis\": {\"automargin\": true, \"gridcolor\": \"white\", \"linecolor\": \"white\", \"ticks\": \"\", \"title\": {\"standoff\": 15}, \"zerolinecolor\": \"white\", \"zerolinewidth\": 2}}}, \"title\": {\"font\": {\"color\": \"#4D5663\"}, \"text\": \"\\u5230\\u671f\\u65e5\\u65f6\\u70b9\\u7684\\u4ef7\\u683c\\u91c7\\u6837\"}, \"xaxis\": {\"gridcolor\": \"#E1E5ED\", \"showgrid\": true, \"tickfont\": {\"color\": \"#4D5663\"}, \"title\": {\"font\": {\"color\": \"#4D5663\"}, \"text\": \"t\"}, \"zerolinecolor\": \"#E1E5ED\"}, \"yaxis\": {\"gridcolor\": \"#E1E5ED\", \"showgrid\": true, \"tickfont\": {\"color\": \"#4D5663\"}, \"title\": {\"font\": {\"color\": \"#4D5663\"}, \"text\": \"S\"}, \"zerolinecolor\": \"#E1E5ED\"}},                        {\"showLink\": true, \"linkText\": \"Export to plot.ly\", \"plotlyServerURL\": \"https://plot.ly\", \"responsive\": true}                    ).then(function(){\n",
       "                            \n",
       "var gd = document.getElementById('949b3b7a-6d33-4e02-bc9f-40c964a147da');\n",
       "var x = new MutationObserver(function (mutations, observer) {{\n",
       "        var display = window.getComputedStyle(gd).display;\n",
       "        if (!display || display === 'none') {{\n",
       "            console.log([gd, 'removed!']);\n",
       "            Plotly.purge(gd);\n",
       "            observer.disconnect();\n",
       "        }}\n",
       "}});\n",
       "\n",
       "// Listen for the removal of the full notebook cells\n",
       "var notebookContainer = gd.closest('#notebook-container');\n",
       "if (notebookContainer) {{\n",
       "    x.observe(notebookContainer, {childList: true});\n",
       "}}\n",
       "\n",
       "// Listen for the clearing of the current output cell\n",
       "var outputEl = gd.closest('.output');\n",
       "if (outputEl) {{\n",
       "    x.observe(outputEl, {childList: true});\n",
       "}}\n",
       "\n",
       "                        })                };                });            </script>        </div>"
      ]
     },
     "metadata": {},
     "output_type": "display_data"
    }
   ],
   "source": [
    "df.iplot(xTitle = 't', yTitle ='S',mode = 'lines+markers', size=5,title = '到期日时点的价格采样')"
   ]
  },
  {
   "cell_type": "markdown",
   "metadata": {},
   "source": [
    "### 使用蒙特卡洛模拟出到期时点的价格是为了求所有的模拟的均值，比较样本均值和真实值的（BS模型下的解析解），确保采样的质量。"
   ]
  },
  {
   "cell_type": "code",
   "execution_count": 7,
   "metadata": {},
   "outputs": [
    {
     "data": {
      "text/plain": [
       "1.0202013400267558"
      ]
     },
     "execution_count": 7,
     "metadata": {},
     "output_type": "execute_result"
    }
   ],
   "source": [
    "# BS真实值\n",
    "S0*np.exp(r*T)"
   ]
  },
  {
   "cell_type": "code",
   "execution_count": 8,
   "metadata": {},
   "outputs": [],
   "source": [
    "def underlying (S0,r,q,T,sigma,Nsim,Nt):\n",
    "    \"\"\"\n",
    "    calculate the undl assets price\n",
    "    \"\"\"\n",
    "    t = np.linspace(0,T,Nt)\n",
    "    dt = np.diff(t)\n",
    "\n",
    "    z = np.random.randn(Nsim, Nt-1)\n",
    "    A = (r-q-0.5*(sigma)**2)*dt + sigma*(z*np.sqrt(dt))\n",
    "\n",
    "    lnS0 = np.tile(np.log(S0),(Nsim,1))\n",
    "    lnS = lnS0 + np.cumsum(A,axis=1)\n",
    "    lnS = np.hstack((lnS0,lnS))\n",
    "    S = np.exp(lnS)\n",
    "    return S"
   ]
  },
  {
   "cell_type": "code",
   "execution_count": 9,
   "metadata": {},
   "outputs": [],
   "source": [
    "Nsim = [1,10,100,1000,10000,100000]\n",
    "Ntrial = 100\n",
    "results = np.zeros((Ntrial,len(Nsim)))\n",
    "\n",
    "for i in np.arange(Ntrial):\n",
    "    for j,N in enumerate(Nsim):\n",
    "        S = underlying(S0,r,q,T,sigma,N,Nt)\n",
    "        results[i,j] = np.mean(S[:,-1])\n"
   ]
  },
  {
   "cell_type": "code",
   "execution_count": 10,
   "metadata": {},
   "outputs": [
    {
     "data": {
      "text/plain": [
       "<matplotlib.lines.Line2D at 0x1ea5be8bbc8>"
      ]
     },
     "execution_count": 10,
     "metadata": {},
     "output_type": "execute_result"
    },
    {
     "data": {
      "image/png": "[encoded data removed]",
      "text/plain": [
       "<Figure size 360x360 with 1 Axes>"
      ]
     },
     "metadata": {},
     "output_type": "display_data"
    }
   ],
   "source": [
    "df = pd.DataFrame( results, columns=Nsim)\n",
    "sns.set_style(style=\"darkgrid\")\n",
    "g = sns.catplot(x=\"variable\",y =\"value\", kind = 'point',data=df.melt())\n",
    "\n",
    "true_mean = S0 * np.exp(r*T)\n",
    "plt.axhline(y=true_mean,color ='red')"
   ]
  },
  {
   "cell_type": "markdown",
   "metadata": {},
   "source": [
    "## 定价一个欧式看跌期权"
   ]
  },
  {
   "cell_type": "code",
   "execution_count": 11,
   "metadata": {},
   "outputs": [],
   "source": [
    "(S0,K,r,q,T,sigma,omega) = (1,1.1,0.02,0,1,0.2,-1)\n",
    "(Nsim, Nt) = (100000,2)"
   ]
  },
  {
   "cell_type": "code",
   "execution_count": 12,
   "metadata": {},
   "outputs": [],
   "source": [
    "#首先采样到期日节点的标的资产价格 S（T）\n",
    "Smat = underlying(S0,r,q,T,sigma,Nsim,Nt)\n",
    "S = Smat[:,-1]"
   ]
  },
  {
   "cell_type": "code",
   "execution_count": 13,
   "metadata": {},
   "outputs": [
    {
     "data": {
      "text/plain": [
       "array([0.87121577, 1.01735776, 0.86823883, ..., 1.13105142, 1.08609234,\n",
       "       1.07324028])"
      ]
     },
     "execution_count": 13,
     "metadata": {},
     "output_type": "execute_result"
    }
   ],
   "source": [
    "S"
   ]
  },
  {
   "cell_type": "code",
   "execution_count": 14,
   "metadata": {},
   "outputs": [
    {
     "data": {
      "text/plain": [
       "0.1278154406222673"
      ]
     },
     "execution_count": 14,
     "metadata": {},
     "output_type": "execute_result"
    }
   ],
   "source": [
    "#在到期日将S(T)代入到期权的PAYOFF支付函数中 max(K-S(T),0) 计算均值得到到期期权价格\n",
    "V_MC = np.exp(-r*T) * np.mean(np.maximum(omega*(S-K),0))\n",
    "V_MC"
   ]
  },
  {
   "cell_type": "code",
   "execution_count": 15,
   "metadata": {},
   "outputs": [],
   "source": [
    "# 与解析解BS进行比较，两个值相近\n",
    "def BlackScholes(S0=100,K=100,r=0.01,q=0.01,T=1,sigma = 0.2,omega=1):\n",
    "    discount = np.exp(-r*T)\n",
    "    forward = S0 * np.exp((r-q)*T)\n",
    "    moneyness = np.log(forward/K)\n",
    "    vol_sqrt_T = sigma * np.sqrt(T)\n",
    "\n",
    "    d1 = moneyness / vol_sqrt_T + 0.5 * vol_sqrt_T\n",
    "    d2 = d1 - vol_sqrt_T\n",
    "\n",
    "    V = omega * discount * (forward*norm.cdf(omega*d1) - K*norm.cdf(omega*d2))\n",
    "    return V"
   ]
  },
  {
   "cell_type": "code",
   "execution_count": 16,
   "metadata": {},
   "outputs": [
    {
     "data": {
      "text/plain": [
       "0.12765721020973578"
      ]
     },
     "execution_count": 16,
     "metadata": {},
     "output_type": "execute_result"
    }
   ],
   "source": [
    "V_BS = BlackScholes(S0,K,r,q,T,sigma,omega)\n",
    "V_BS"
   ]
  },
  {
   "cell_type": "markdown",
   "metadata": {},
   "source": [
    "## 使用对立变量来缩减误差"
   ]
  },
  {
   "cell_type": "code",
   "execution_count": 17,
   "metadata": {},
   "outputs": [],
   "source": [
    "def underlying_AV (S0,r,q,T,sigma,Nsim,Nt,antithetic=False):\n",
    "\n",
    "    t=np.linspace(0,T,Nt)\n",
    "    dt = np.diff(t)\n",
    "\n",
    "    if antithetic:\n",
    "        z1 = np.random.randn(int(Nsim/2),Nt-1) #先生成一半的数\n",
    "        z = np.vstack([z1,-z1]) #直接求相反数生成剩下的一半\n",
    "\n",
    "    else:\n",
    "        z= np.random.randn(Nsim,Nt -1 )\n",
    "    \n",
    "    A = (r-q-0.5*(sigma)**2)*dt + sigma * (z*np.sqrt(dt))\n",
    "\n",
    "    lnS0 = np.tile(np.log(S0),(Nsim,1))\n",
    "    lnS = lnS0 + np.cumsum(A,axis=1)\n",
    "    lnS = np.hstack((lnS0,lnS))\n",
    "    S = np.exp(lnS)\n",
    "    return S"
   ]
  },
  {
   "cell_type": "code",
   "execution_count": 18,
   "metadata": {},
   "outputs": [
    {
     "data": {
      "text/plain": [
       "0.1278154406222673"
      ]
     },
     "execution_count": 18,
     "metadata": {},
     "output_type": "execute_result"
    }
   ],
   "source": [
    "V_MC = np.exp(-r*T) * np.mean(np.maximum(omega*(S-K),0))\n",
    "V_MC"
   ]
  },
  {
   "cell_type": "code",
   "execution_count": 19,
   "metadata": {},
   "outputs": [
    {
     "data": {
      "text/plain": [
       "0.12767233644294232"
      ]
     },
     "execution_count": 19,
     "metadata": {},
     "output_type": "execute_result"
    }
   ],
   "source": [
    "Smat_av = underlying_AV(S0,r,q,T,sigma,Nsim,Nt,antithetic=True)\n",
    "S_av = Smat_av[:,-1]\n",
    "V_AV = np.exp(-r*T) * np.mean(np.maximum(omega*(S_av-K),0))\n",
    "V_AV"
   ]
  },
  {
   "cell_type": "markdown",
   "metadata": {},
   "source": [
    "## 美式期权定价\n",
    "- 路径模拟\n"
   ]
  },
  {
   "cell_type": "markdown",
   "metadata": {},
   "source": [
    "\\begin{equation}\n",
    "S(t_{n+1}) = S(t_n) \\cdot \\exp ((r-q-\\frac{1}{2} \\sigma ^2 ) \\cdot \\delta t + \\sigma \\sqrt {\\delta t} \\cdot z) \n",
    "\\end{equation}"
   ]
  },
  {
   "cell_type": "markdown",
   "metadata": {},
   "source": [
    "\\begin{equation}\n",
    "ln S(t_{n+1}) = ln S(t_n) + (r-q-\\frac{1}{2} \\sigma ^2 ) \\cdot \\delta t + \\sigma \\sqrt {\\delta t} \\cdot z\n",
    "\\end{equation}\n",
    "\n",
    "- 先模拟 $lnS(T)$ 再用 $exp (lnS(T))$ 返回 $S(T)$ "
   ]
  },
  {
   "cell_type": "code",
   "execution_count": 20,
   "metadata": {},
   "outputs": [
    {
     "data": {
      "text/html": [
       "<div>\n",
       "<style scoped>\n",
       "    .dataframe tbody tr th:only-of-type {\n",
       "        vertical-align: middle;\n",
       "    }\n",
       "\n",
       "    .dataframe tbody tr th {\n",
       "        vertical-align: top;\n",
       "    }\n",
       "\n",
       "    .dataframe thead th {\n",
       "        text-align: right;\n",
       "    }\n",
       "</style>\n",
       "<table border=\"1\" class=\"dataframe\">\n",
       "  <thead>\n",
       "    <tr style=\"text-align: right;\">\n",
       "      <th></th>\n",
       "      <th>path 1</th>\n",
       "      <th>path 2</th>\n",
       "      <th>path 3</th>\n",
       "      <th>path 4</th>\n",
       "      <th>path 5</th>\n",
       "      <th>path 6</th>\n",
       "      <th>path 7</th>\n",
       "      <th>path 8</th>\n",
       "      <th>path 9</th>\n",
       "      <th>path 10</th>\n",
       "      <th>...</th>\n",
       "      <th>path 21</th>\n",
       "      <th>path 22</th>\n",
       "      <th>path 23</th>\n",
       "      <th>path 24</th>\n",
       "      <th>path 25</th>\n",
       "      <th>path 26</th>\n",
       "      <th>path 27</th>\n",
       "      <th>path 28</th>\n",
       "      <th>path 29</th>\n",
       "      <th>path 30</th>\n",
       "    </tr>\n",
       "  </thead>\n",
       "  <tbody>\n",
       "    <tr>\n",
       "      <th>0.000000</th>\n",
       "      <td>1.000000</td>\n",
       "      <td>1.000000</td>\n",
       "      <td>1.000000</td>\n",
       "      <td>1.000000</td>\n",
       "      <td>1.000000</td>\n",
       "      <td>1.000000</td>\n",
       "      <td>1.000000</td>\n",
       "      <td>1.000000</td>\n",
       "      <td>1.000000</td>\n",
       "      <td>1.000000</td>\n",
       "      <td>...</td>\n",
       "      <td>1.000000</td>\n",
       "      <td>1.000000</td>\n",
       "      <td>1.000000</td>\n",
       "      <td>1.000000</td>\n",
       "      <td>1.000000</td>\n",
       "      <td>1.000000</td>\n",
       "      <td>1.000000</td>\n",
       "      <td>1.000000</td>\n",
       "      <td>1.000000</td>\n",
       "      <td>1.000000</td>\n",
       "    </tr>\n",
       "    <tr>\n",
       "      <th>0.010101</th>\n",
       "      <td>0.975887</td>\n",
       "      <td>0.990099</td>\n",
       "      <td>0.970019</td>\n",
       "      <td>1.010077</td>\n",
       "      <td>1.013803</td>\n",
       "      <td>0.999982</td>\n",
       "      <td>0.987959</td>\n",
       "      <td>1.018872</td>\n",
       "      <td>0.990592</td>\n",
       "      <td>0.976421</td>\n",
       "      <td>...</td>\n",
       "      <td>0.981254</td>\n",
       "      <td>0.976443</td>\n",
       "      <td>1.026191</td>\n",
       "      <td>0.986895</td>\n",
       "      <td>1.001074</td>\n",
       "      <td>0.977290</td>\n",
       "      <td>0.999535</td>\n",
       "      <td>0.982884</td>\n",
       "      <td>0.989432</td>\n",
       "      <td>1.056684</td>\n",
       "    </tr>\n",
       "    <tr>\n",
       "      <th>0.020202</th>\n",
       "      <td>0.972173</td>\n",
       "      <td>1.006264</td>\n",
       "      <td>0.966652</td>\n",
       "      <td>0.969670</td>\n",
       "      <td>1.026042</td>\n",
       "      <td>0.993155</td>\n",
       "      <td>0.957744</td>\n",
       "      <td>1.013411</td>\n",
       "      <td>0.964962</td>\n",
       "      <td>0.984391</td>\n",
       "      <td>...</td>\n",
       "      <td>0.964654</td>\n",
       "      <td>0.941307</td>\n",
       "      <td>0.996354</td>\n",
       "      <td>0.977054</td>\n",
       "      <td>1.036384</td>\n",
       "      <td>0.988105</td>\n",
       "      <td>0.990154</td>\n",
       "      <td>0.989291</td>\n",
       "      <td>0.998451</td>\n",
       "      <td>1.073217</td>\n",
       "    </tr>\n",
       "    <tr>\n",
       "      <th>0.030303</th>\n",
       "      <td>0.945548</td>\n",
       "      <td>1.004096</td>\n",
       "      <td>0.972111</td>\n",
       "      <td>0.988002</td>\n",
       "      <td>1.025910</td>\n",
       "      <td>0.981693</td>\n",
       "      <td>0.949291</td>\n",
       "      <td>0.998273</td>\n",
       "      <td>0.940369</td>\n",
       "      <td>0.947071</td>\n",
       "      <td>...</td>\n",
       "      <td>0.936794</td>\n",
       "      <td>0.916245</td>\n",
       "      <td>0.966344</td>\n",
       "      <td>0.999793</td>\n",
       "      <td>1.045443</td>\n",
       "      <td>0.999125</td>\n",
       "      <td>0.993821</td>\n",
       "      <td>0.943873</td>\n",
       "      <td>0.972795</td>\n",
       "      <td>1.143703</td>\n",
       "    </tr>\n",
       "    <tr>\n",
       "      <th>0.040404</th>\n",
       "      <td>0.941405</td>\n",
       "      <td>1.002111</td>\n",
       "      <td>0.991468</td>\n",
       "      <td>1.000567</td>\n",
       "      <td>0.998195</td>\n",
       "      <td>0.971020</td>\n",
       "      <td>0.953197</td>\n",
       "      <td>1.033016</td>\n",
       "      <td>0.924124</td>\n",
       "      <td>0.922567</td>\n",
       "      <td>...</td>\n",
       "      <td>0.950643</td>\n",
       "      <td>0.931129</td>\n",
       "      <td>0.974085</td>\n",
       "      <td>1.004928</td>\n",
       "      <td>1.069457</td>\n",
       "      <td>1.004415</td>\n",
       "      <td>1.028898</td>\n",
       "      <td>0.967997</td>\n",
       "      <td>0.961712</td>\n",
       "      <td>1.128618</td>\n",
       "    </tr>\n",
       "    <tr>\n",
       "      <th>...</th>\n",
       "      <td>...</td>\n",
       "      <td>...</td>\n",
       "      <td>...</td>\n",
       "      <td>...</td>\n",
       "      <td>...</td>\n",
       "      <td>...</td>\n",
       "      <td>...</td>\n",
       "      <td>...</td>\n",
       "      <td>...</td>\n",
       "      <td>...</td>\n",
       "      <td>...</td>\n",
       "      <td>...</td>\n",
       "      <td>...</td>\n",
       "      <td>...</td>\n",
       "      <td>...</td>\n",
       "      <td>...</td>\n",
       "      <td>...</td>\n",
       "      <td>...</td>\n",
       "      <td>...</td>\n",
       "      <td>...</td>\n",
       "      <td>...</td>\n",
       "    </tr>\n",
       "    <tr>\n",
       "      <th>0.959596</th>\n",
       "      <td>0.774507</td>\n",
       "      <td>1.148739</td>\n",
       "      <td>1.040960</td>\n",
       "      <td>0.905130</td>\n",
       "      <td>0.940507</td>\n",
       "      <td>0.885328</td>\n",
       "      <td>1.045947</td>\n",
       "      <td>0.875434</td>\n",
       "      <td>1.086161</td>\n",
       "      <td>0.909203</td>\n",
       "      <td>...</td>\n",
       "      <td>1.157109</td>\n",
       "      <td>0.651946</td>\n",
       "      <td>0.856671</td>\n",
       "      <td>0.956033</td>\n",
       "      <td>0.981709</td>\n",
       "      <td>1.201037</td>\n",
       "      <td>0.709045</td>\n",
       "      <td>0.801823</td>\n",
       "      <td>1.217883</td>\n",
       "      <td>1.198973</td>\n",
       "    </tr>\n",
       "    <tr>\n",
       "      <th>0.969697</th>\n",
       "      <td>0.802628</td>\n",
       "      <td>1.167558</td>\n",
       "      <td>1.047988</td>\n",
       "      <td>0.903173</td>\n",
       "      <td>0.895641</td>\n",
       "      <td>0.889600</td>\n",
       "      <td>0.997561</td>\n",
       "      <td>0.906255</td>\n",
       "      <td>1.083402</td>\n",
       "      <td>0.921805</td>\n",
       "      <td>...</td>\n",
       "      <td>1.149080</td>\n",
       "      <td>0.648064</td>\n",
       "      <td>0.842234</td>\n",
       "      <td>0.927816</td>\n",
       "      <td>0.984334</td>\n",
       "      <td>1.202511</td>\n",
       "      <td>0.713041</td>\n",
       "      <td>0.781075</td>\n",
       "      <td>1.200074</td>\n",
       "      <td>1.216264</td>\n",
       "    </tr>\n",
       "    <tr>\n",
       "      <th>0.979798</th>\n",
       "      <td>0.791772</td>\n",
       "      <td>1.178536</td>\n",
       "      <td>1.048554</td>\n",
       "      <td>0.900453</td>\n",
       "      <td>0.930745</td>\n",
       "      <td>0.873870</td>\n",
       "      <td>0.976813</td>\n",
       "      <td>0.934193</td>\n",
       "      <td>1.107032</td>\n",
       "      <td>0.935603</td>\n",
       "      <td>...</td>\n",
       "      <td>1.205240</td>\n",
       "      <td>0.642515</td>\n",
       "      <td>0.818934</td>\n",
       "      <td>0.952127</td>\n",
       "      <td>0.952299</td>\n",
       "      <td>1.184182</td>\n",
       "      <td>0.693819</td>\n",
       "      <td>0.800102</td>\n",
       "      <td>1.201634</td>\n",
       "      <td>1.212937</td>\n",
       "    </tr>\n",
       "    <tr>\n",
       "      <th>0.989899</th>\n",
       "      <td>0.790790</td>\n",
       "      <td>1.227807</td>\n",
       "      <td>1.016412</td>\n",
       "      <td>0.898169</td>\n",
       "      <td>0.937982</td>\n",
       "      <td>0.871123</td>\n",
       "      <td>1.018369</td>\n",
       "      <td>0.952492</td>\n",
       "      <td>1.113640</td>\n",
       "      <td>0.907706</td>\n",
       "      <td>...</td>\n",
       "      <td>1.218359</td>\n",
       "      <td>0.631242</td>\n",
       "      <td>0.840553</td>\n",
       "      <td>0.943852</td>\n",
       "      <td>0.932981</td>\n",
       "      <td>1.228289</td>\n",
       "      <td>0.688941</td>\n",
       "      <td>0.772359</td>\n",
       "      <td>1.232437</td>\n",
       "      <td>1.196615</td>\n",
       "    </tr>\n",
       "    <tr>\n",
       "      <th>1.000000</th>\n",
       "      <td>0.794966</td>\n",
       "      <td>1.256411</td>\n",
       "      <td>1.052117</td>\n",
       "      <td>0.927175</td>\n",
       "      <td>0.945687</td>\n",
       "      <td>0.848243</td>\n",
       "      <td>1.039719</td>\n",
       "      <td>0.935460</td>\n",
       "      <td>1.123243</td>\n",
       "      <td>0.889165</td>\n",
       "      <td>...</td>\n",
       "      <td>1.208524</td>\n",
       "      <td>0.630990</td>\n",
       "      <td>0.826421</td>\n",
       "      <td>0.969030</td>\n",
       "      <td>0.933850</td>\n",
       "      <td>1.185931</td>\n",
       "      <td>0.687078</td>\n",
       "      <td>0.791122</td>\n",
       "      <td>1.195425</td>\n",
       "      <td>1.190790</td>\n",
       "    </tr>\n",
       "  </tbody>\n",
       "</table>\n",
       "<p>100 rows × 30 columns</p>\n",
       "</div>"
      ],
      "text/plain": [
       "            path 1    path 2    path 3    path 4    path 5    path 6  \\\n",
       "0.000000  1.000000  1.000000  1.000000  1.000000  1.000000  1.000000   \n",
       "0.010101  0.975887  0.990099  0.970019  1.010077  1.013803  0.999982   \n",
       "0.020202  0.972173  1.006264  0.966652  0.969670  1.026042  0.993155   \n",
       "0.030303  0.945548  1.004096  0.972111  0.988002  1.025910  0.981693   \n",
       "0.040404  0.941405  1.002111  0.991468  1.000567  0.998195  0.971020   \n",
       "...            ...       ...       ...       ...       ...       ...   \n",
       "0.959596  0.774507  1.148739  1.040960  0.905130  0.940507  0.885328   \n",
       "0.969697  0.802628  1.167558  1.047988  0.903173  0.895641  0.889600   \n",
       "0.979798  0.791772  1.178536  1.048554  0.900453  0.930745  0.873870   \n",
       "0.989899  0.790790  1.227807  1.016412  0.898169  0.937982  0.871123   \n",
       "1.000000  0.794966  1.256411  1.052117  0.927175  0.945687  0.848243   \n",
       "\n",
       "            path 7    path 8    path 9   path 10  ...   path 21   path 22  \\\n",
       "0.000000  1.000000  1.000000  1.000000  1.000000  ...  1.000000  1.000000   \n",
       "0.010101  0.987959  1.018872  0.990592  0.976421  ...  0.981254  0.976443   \n",
       "0.020202  0.957744  1.013411  0.964962  0.984391  ...  0.964654  0.941307   \n",
       "0.030303  0.949291  0.998273  0.940369  0.947071  ...  0.936794  0.916245   \n",
       "0.040404  0.953197  1.033016  0.924124  0.922567  ...  0.950643  0.931129   \n",
       "...            ...       ...       ...       ...  ...       ...       ...   \n",
       "0.959596  1.045947  0.875434  1.086161  0.909203  ...  1.157109  0.651946   \n",
       "0.969697  0.997561  0.906255  1.083402  0.921805  ...  1.149080  0.648064   \n",
       "0.979798  0.976813  0.934193  1.107032  0.935603  ...  1.205240  0.642515   \n",
       "0.989899  1.018369  0.952492  1.113640  0.907706  ...  1.218359  0.631242   \n",
       "1.000000  1.039719  0.935460  1.123243  0.889165  ...  1.208524  0.630990   \n",
       "\n",
       "           path 23   path 24   path 25   path 26   path 27   path 28  \\\n",
       "0.000000  1.000000  1.000000  1.000000  1.000000  1.000000  1.000000   \n",
       "0.010101  1.026191  0.986895  1.001074  0.977290  0.999535  0.982884   \n",
       "0.020202  0.996354  0.977054  1.036384  0.988105  0.990154  0.989291   \n",
       "0.030303  0.966344  0.999793  1.045443  0.999125  0.993821  0.943873   \n",
       "0.040404  0.974085  1.004928  1.069457  1.004415  1.028898  0.967997   \n",
       "...            ...       ...       ...       ...       ...       ...   \n",
       "0.959596  0.856671  0.956033  0.981709  1.201037  0.709045  0.801823   \n",
       "0.969697  0.842234  0.927816  0.984334  1.202511  0.713041  0.781075   \n",
       "0.979798  0.818934  0.952127  0.952299  1.184182  0.693819  0.800102   \n",
       "0.989899  0.840553  0.943852  0.932981  1.228289  0.688941  0.772359   \n",
       "1.000000  0.826421  0.969030  0.933850  1.185931  0.687078  0.791122   \n",
       "\n",
       "           path 29   path 30  \n",
       "0.000000  1.000000  1.000000  \n",
       "0.010101  0.989432  1.056684  \n",
       "0.020202  0.998451  1.073217  \n",
       "0.030303  0.972795  1.143703  \n",
       "0.040404  0.961712  1.128618  \n",
       "...            ...       ...  \n",
       "0.959596  1.217883  1.198973  \n",
       "0.969697  1.200074  1.216264  \n",
       "0.979798  1.201634  1.212937  \n",
       "0.989899  1.232437  1.196615  \n",
       "1.000000  1.195425  1.190790  \n",
       "\n",
       "[100 rows x 30 columns]"
      ]
     },
     "execution_count": 20,
     "metadata": {},
     "output_type": "execute_result"
    }
   ],
   "source": [
    "(S0,r,q,T,sigma) = (1,0.02,0,1,0.2)\n",
    "(Nsim, Nt) = (30,100)\n",
    "S = underlying(S0,r,q,T,sigma,Nsim,Nt)\n",
    "t = np.linspace(0,T,Nt)\n",
    "label = [ x + ' ' + str(y) for x,y in zip (['path'] * Nsim, np.arange(1,Nsim+1))]\n",
    "df = pd.DataFrame(S.T, index=t,columns=label)\n",
    "df"
   ]
  },
  {
   "cell_type": "code",
   "execution_count": 21,
   "metadata": {},
   "outputs": [
    {
     "data": {
      "application/vnd.plotly.v1+json": {
       "config": {
        "linkText": "Export to plot.ly",
        "plotlyServerURL": "https://plot.ly",
        "showLink": true
       },
       "data": [
        {
         "line": {
          "color": "rgba(255, 153, 51, 1.0)",
          "dash": "solid",
          "shape": "linear",
          "width": 1.3
         },
         "marker": {
          "size": 5,
          "symbol": "circle"
         },
         "mode": "lines+markers",
         "name": "path 1",
         "text": "",
         "type": "scatter",
         "x": [
          0,
          0.010101010101010102,
          0.020202020202020204,
          0.030303030303030304,
          0.04040404040404041,
          0.05050505050505051,
          0.06060606060606061,
          0.07070707070707072,
          0.08080808080808081,
          0.09090909090909091,
          0.10101010101010102,
          0.11111111111111112,
          0.12121212121212122,
          0.13131313131313133,
          0.14141414141414144,
          0.15151515151515152,
          0.16161616161616163,
          0.17171717171717174,
          0.18181818181818182,
          0.19191919191919193,
          0.20202020202020204,
          0.21212121212121213,
          0.22222222222222224,
          0.23232323232323235,
          0.24242424242424243,
          0.25252525252525254,
          0.26262626262626265,
          0.27272727272727276,
          0.2828282828282829,
          0.29292929292929293,
          0.30303030303030304,
          0.31313131313131315,
          0.32323232323232326,
          0.33333333333333337,
          0.3434343434343435,
          0.3535353535353536,
          0.36363636363636365,
          0.37373737373737376,
          0.38383838383838387,
          0.393939393939394,
          0.4040404040404041,
          0.4141414141414142,
          0.42424242424242425,
          0.43434343434343436,
          0.4444444444444445,
          0.4545454545454546,
          0.4646464646464647,
          0.4747474747474748,
          0.48484848484848486,
          0.494949494949495,
          0.5050505050505051,
          0.5151515151515152,
          0.5252525252525253,
          0.5353535353535354,
          0.5454545454545455,
          0.5555555555555556,
          0.5656565656565657,
          0.5757575757575758,
          0.5858585858585859,
          0.595959595959596,
          0.6060606060606061,
          0.6161616161616162,
          0.6262626262626263,
          0.6363636363636365,
          0.6464646464646465,
          0.6565656565656566,
          0.6666666666666667,
          0.6767676767676768,
          0.686868686868687,
          0.696969696969697,
          0.7070707070707072,
          0.7171717171717172,
          0.7272727272727273,
          0.7373737373737375,
          0.7474747474747475,
          0.7575757575757577,
          0.7676767676767677,
          0.7777777777777778,
          0.787878787878788,
          0.797979797979798,
          0.8080808080808082,
          0.8181818181818182,
          0.8282828282828284,
          0.8383838383838385,
          0.8484848484848485,
          0.8585858585858587,
          0.8686868686868687,
          0.8787878787878789,
          0.888888888888889,
          0.8989898989898991,
          0.9090909090909092,
          0.9191919191919192,
          0.9292929292929294,
          0.9393939393939394,
          0.9494949494949496,
          0.9595959595959597,
          0.9696969696969697,
          0.9797979797979799,
          0.98989898989899,
          1
         ],
         "y": [
          1,
          0.9758869136128923,
          0.9721730696903835,
          0.9455480370273452,
          0.9414053781623999,
          0.9687432196414028,
          0.9671080613298267,
          0.9560072408974605,
          0.9657002342900465,
          0.9941924449783498,
          0.9729100730726264,
          0.9727488063289431,
          0.9552279679507055,
          0.932530211284605,
          0.9391744851686584,
          0.9803915635535319,
          0.9561781796138237,
          0.935598507403294,
          0.9189797868378408,
          0.936440048860052,
          0.9594866887179461,
          0.9773688416798361,
          0.9506065493578757,
          0.9260314732134883,
          0.9231717950365005,
          0.904024473912134,
          0.8962450029596567,
          0.9111813599043924,
          0.8729896866915208,
          0.8797835916026995,
          0.885474845095688,
          0.8975893114743073,
          0.9129688965536907,
          0.9019421584836093,
          0.9270845092960636,
          0.9011998906251354,
          0.872606007926468,
          0.8741887926238721,
          0.8631213615117552,
          0.8755395385192943,
          0.8946435230708383,
          0.8849630992320563,
          0.8631310045721152,
          0.8806602897705903,
          0.894471275580086,
          0.8945608653621298,
          0.902184298051153,
          0.8911239038053266,
          0.9216270621230068,
          0.9043579668624385,
          0.8886838661852802,
          0.8781038275019986,
          0.8691881530712653,
          0.8758744578835242,
          0.8894141734166863,
          0.8687232104042801,
          0.8488047962841543,
          0.8641954281409263,
          0.8811220751226176,
          0.8870973715066156,
          0.8434546318006347,
          0.8495255868601282,
          0.8427131458577135,
          0.8495472555971263,
          0.8418830316050491,
          0.8213504087838809,
          0.8294884524019979,
          0.8591588086293086,
          0.8561952492598025,
          0.8476179735746044,
          0.8637231564286059,
          0.8766903581303528,
          0.8698448659914227,
          0.8698629706858394,
          0.874665897255359,
          0.8552054200320549,
          0.849783909861284,
          0.8233286249646886,
          0.7992510012760651,
          0.7641689955481811,
          0.749202308833352,
          0.7417589902946362,
          0.7618042712799648,
          0.7767017786590342,
          0.7598330415277469,
          0.7711047467571815,
          0.756238712681652,
          0.7759596709851548,
          0.7688583827427595,
          0.785512938261782,
          0.7708140518149246,
          0.7678588368728746,
          0.7791026046455274,
          0.7950801065509451,
          0.7786060573676911,
          0.7745072965762303,
          0.8026282266880732,
          0.7917722138087361,
          0.7907904265260666,
          0.7949658986010579
         ]
        },
        {
         "line": {
          "color": "rgba(55, 128, 191, 1.0)",
          "dash": "solid",
          "shape": "linear",
          "width": 1.3
         },
         "marker": {
          "size": 5,
          "symbol": "circle"
         },
         "mode": "lines+markers",
         "name": "path 2",
         "text": "",
         "type": "scatter",
         "x": [
          0,
          0.010101010101010102,
          0.020202020202020204,
          0.030303030303030304,
          0.04040404040404041,
          0.05050505050505051,
          0.06060606060606061,
          0.07070707070707072,
          0.08080808080808081,
          0.09090909090909091,
          0.10101010101010102,
          0.11111111111111112,
          0.12121212121212122,
          0.13131313131313133,
          0.14141414141414144,
          0.15151515151515152,
          0.16161616161616163,
          0.17171717171717174,
          0.18181818181818182,
          0.19191919191919193,
          0.20202020202020204,
          0.21212121212121213,
          0.22222222222222224,
          0.23232323232323235,
          0.24242424242424243,
          0.25252525252525254,
          0.26262626262626265,
          0.27272727272727276,
          0.2828282828282829,
          0.29292929292929293,
          0.30303030303030304,
          0.31313131313131315,
          0.32323232323232326,
          0.33333333333333337,
          0.3434343434343435,
          0.3535353535353536,
          0.36363636363636365,
          0.37373737373737376,
          0.38383838383838387,
          0.393939393939394,
          0.4040404040404041,
          0.4141414141414142,
          0.42424242424242425,
          0.43434343434343436,
          0.4444444444444445,
          0.4545454545454546,
          0.4646464646464647,
          0.4747474747474748,
          0.48484848484848486,
          0.494949494949495,
          0.5050505050505051,
          0.5151515151515152,
          0.5252525252525253,
          0.5353535353535354,
          0.5454545454545455,
          0.5555555555555556,
          0.5656565656565657,
          0.5757575757575758,
          0.5858585858585859,
          0.595959595959596,
          0.6060606060606061,
          0.6161616161616162,
          0.6262626262626263,
          0.6363636363636365,
          0.6464646464646465,
          0.6565656565656566,
          0.6666666666666667,
          0.6767676767676768,
          0.686868686868687,
          0.696969696969697,
          0.7070707070707072,
          0.7171717171717172,
          0.7272727272727273,
          0.7373737373737375,
          0.7474747474747475,
          0.7575757575757577,
          0.7676767676767677,
          0.7777777777777778,
          0.787878787878788,
          0.797979797979798,
          0.8080808080808082,
          0.8181818181818182,
          0.8282828282828284,
          0.8383838383838385,
          0.8484848484848485,
          0.8585858585858587,
          0.8686868686868687,
          0.8787878787878789,
          0.888888888888889,
          0.8989898989898991,
          0.9090909090909092,
          0.9191919191919192,
          0.9292929292929294,
          0.9393939393939394,
          0.9494949494949496,
          0.9595959595959597,
          0.9696969696969697,
          0.9797979797979799,
          0.98989898989899,
          1
         ],
         "y": [
          1,
          0.9900985011126776,
          1.0062636541968664,
          1.0040958985931934,
          1.0021109825540695,
          0.9947789582702957,
          1.0057845705918314,
          1.0302672937850235,
          1.016992721994259,
          1.0507949860983392,
          1.0622840178774358,
          1.06736032738149,
          1.0396640142305185,
          1.036811498497757,
          1.0069705796745043,
          1.0135281353477217,
          1.041396311450523,
          1.0606231274624853,
          1.0872340275155021,
          1.0930738391027925,
          1.0754795139524442,
          1.0708329968075607,
          1.050447023597076,
          1.0554309022860813,
          1.0841302683693983,
          1.0558111826207588,
          1.0720406663174868,
          1.0851327882084103,
          1.0440526905686287,
          1.0700653254088421,
          1.0735106245268662,
          1.0995619567988093,
          1.099462173553724,
          1.0788864750629374,
          1.0971753438944873,
          1.0636198755369348,
          1.0609270248354323,
          1.0363889018528718,
          1.0582696302770778,
          1.0470228931265533,
          1.0252547320669065,
          1.022031939257398,
          1.0001054994585326,
          0.9868414492512289,
          0.9979090620689567,
          0.9622561881810493,
          1.0104743918584156,
          1.0320609416335913,
          1.06864967042806,
          1.049300690257967,
          1.0639413530872084,
          1.0631531020216953,
          1.0993987461841737,
          1.1082264185554267,
          1.1462911016783626,
          1.1162831515517209,
          1.117476647976742,
          1.1251149267060128,
          1.1242372632754702,
          1.1038451122094177,
          1.0819149036425402,
          1.0676786794222395,
          1.0746672629615857,
          1.0803493305860905,
          1.0804343275593304,
          1.093085549605247,
          1.1188524290124253,
          1.1013792174500048,
          1.1305250146300245,
          1.1334781738625315,
          1.112382637783666,
          1.1078130699185549,
          1.0934420861160057,
          1.0888372720921073,
          1.1079740564075862,
          1.136393706047534,
          1.1125563772205953,
          1.1184740917286797,
          1.127570534529967,
          1.1338748066274578,
          1.1365495718537901,
          1.1353509187563224,
          1.131250244392808,
          1.1080793426568696,
          1.0924439391540968,
          1.114368936315851,
          1.1079791847340552,
          1.1607539634450494,
          1.1634783142183331,
          1.149690545323327,
          1.1390915603088705,
          1.1298643744550652,
          1.1350249490169129,
          1.155107415689347,
          1.1287952990150114,
          1.1487392759474806,
          1.1675578599805256,
          1.178536187955775,
          1.2278071456612711,
          1.2564114980631593
         ]
        },
        {
         "line": {
          "color": "rgba(50, 171, 96, 1.0)",
          "dash": "solid",
          "shape": "linear",
          "width": 1.3
         },
         "marker": {
          "size": 5,
          "symbol": "circle"
         },
         "mode": "lines+markers",
         "name": "path 3",
         "text": "",
         "type": "scatter",
         "x": [
          0,
          0.010101010101010102,
          0.020202020202020204,
          0.030303030303030304,
          0.04040404040404041,
          0.05050505050505051,
          0.06060606060606061,
          0.07070707070707072,
          0.08080808080808081,
          0.09090909090909091,
          0.10101010101010102,
          0.11111111111111112,
          0.12121212121212122,
          0.13131313131313133,
          0.14141414141414144,
          0.15151515151515152,
          0.16161616161616163,
          0.17171717171717174,
          0.18181818181818182,
          0.19191919191919193,
          0.20202020202020204,
          0.21212121212121213,
          0.22222222222222224,
          0.23232323232323235,
          0.24242424242424243,
          0.25252525252525254,
          0.26262626262626265,
          0.27272727272727276,
          0.2828282828282829,
          0.29292929292929293,
          0.30303030303030304,
          0.31313131313131315,
          0.32323232323232326,
          0.33333333333333337,
          0.3434343434343435,
          0.3535353535353536,
          0.36363636363636365,
          0.37373737373737376,
          0.38383838383838387,
          0.393939393939394,
          0.4040404040404041,
          0.4141414141414142,
          0.42424242424242425,
          0.43434343434343436,
          0.4444444444444445,
          0.4545454545454546,
          0.4646464646464647,
          0.4747474747474748,
          0.48484848484848486,
          0.494949494949495,
          0.5050505050505051,
          0.5151515151515152,
          0.5252525252525253,
          0.5353535353535354,
          0.5454545454545455,
          0.5555555555555556,
          0.5656565656565657,
          0.5757575757575758,
          0.5858585858585859,
          0.595959595959596,
          0.6060606060606061,
          0.6161616161616162,
          0.6262626262626263,
          0.6363636363636365,
          0.6464646464646465,
          0.6565656565656566,
          0.6666666666666667,
          0.6767676767676768,
          0.686868686868687,
          0.696969696969697,
          0.7070707070707072,
          0.7171717171717172,
          0.7272727272727273,
          0.7373737373737375,
          0.7474747474747475,
          0.7575757575757577,
          0.7676767676767677,
          0.7777777777777778,
          0.787878787878788,
          0.797979797979798,
          0.8080808080808082,
          0.8181818181818182,
          0.8282828282828284,
          0.8383838383838385,
          0.8484848484848485,
          0.8585858585858587,
          0.8686868686868687,
          0.8787878787878789,
          0.888888888888889,
          0.8989898989898991,
          0.9090909090909092,
          0.9191919191919192,
          0.9292929292929294,
          0.9393939393939394,
          0.9494949494949496,
          0.9595959595959597,
          0.9696969696969697,
          0.9797979797979799,
          0.98989898989899,
          1
         ],
         "y": [
          1,
          0.970018893905712,
          0.9666522441944345,
          0.9721114012515543,
          0.9914679723948817,
          0.9622280597952465,
          0.9776909561557369,
          0.980196247295136,
          0.9611781547070389,
          0.9882960060943683,
          0.9536897286162671,
          0.972071142276014,
          0.959516261791915,
          0.9633879441018737,
          1.0046483671916653,
          1.0485461239297609,
          1.0372290074373243,
          1.0328091665648729,
          1.0087111670524864,
          0.9878391056247884,
          0.9722295753261812,
          0.9820486750401832,
          0.9614980717575592,
          0.9229608299794656,
          0.9303559131086379,
          0.9456729871933758,
          0.9880123807970795,
          1.0018013126829903,
          1.0293352987735662,
          1.0713945176436437,
          1.0460065772407237,
          1.0413428965442775,
          1.0330254984137432,
          1.0198865000219628,
          1.0164117750182762,
          1.0172494475290785,
          1.0590522683695238,
          1.0726195309588962,
          1.038671833657434,
          1.0379343745794962,
          1.0208931733433535,
          1.0663788270144323,
          1.0503085355371338,
          1.0525018057902977,
          1.0450373912151643,
          1.0845178097908441,
          1.0803385322809902,
          1.1418363194995969,
          1.1514496266600933,
          1.1334245791300577,
          1.127768306443226,
          1.1306360524661252,
          1.133296352402337,
          1.0988289169242684,
          1.092832197845793,
          1.0888171884880082,
          1.0745978355305845,
          1.1015397401542437,
          1.0970206674680987,
          1.1182519056453148,
          1.0575721781729557,
          1.0238265630991121,
          1.0304627809449929,
          0.9754883275162753,
          0.9880283399576085,
          0.9922141769877704,
          0.9763856897728818,
          0.9882575842994143,
          0.9460099441796217,
          0.9496273910579466,
          0.9747942252402407,
          0.9561524947272753,
          0.9518210902033084,
          0.965881229962555,
          1.0217656330092808,
          1.0402599641871824,
          1.011775383298951,
          1.0211773164403533,
          1.020176291783971,
          1.033400122701889,
          1.0644749419436295,
          1.050148609398824,
          1.0508483976160976,
          1.0581123237400454,
          1.0547942667318593,
          1.0434430525376488,
          1.038217128868242,
          1.0447347853769569,
          1.0430720210710247,
          1.0299191363779117,
          1.034238443895115,
          1.0031367154392246,
          1.0222070621514066,
          1.0463152737053836,
          1.0719671893653453,
          1.0409602521856332,
          1.0479883987025858,
          1.0485543978661036,
          1.0164118424030288,
          1.0521170711183436
         ]
        },
        {
         "line": {
          "color": "rgba(128, 0, 128, 1.0)",
          "dash": "solid",
          "shape": "linear",
          "width": 1.3
         },
         "marker": {
          "size": 5,
          "symbol": "circle"
         },
         "mode": "lines+markers",
         "name": "path 4",
         "text": "",
         "type": "scatter",
         "x": [
          0,
          0.010101010101010102,
          0.020202020202020204,
          0.030303030303030304,
          0.04040404040404041,
          0.05050505050505051,
          0.06060606060606061,
          0.07070707070707072,
          0.08080808080808081,
          0.09090909090909091,
          0.10101010101010102,
          0.11111111111111112,
          0.12121212121212122,
          0.13131313131313133,
          0.14141414141414144,
          0.15151515151515152,
          0.16161616161616163,
          0.17171717171717174,
          0.18181818181818182,
          0.19191919191919193,
          0.20202020202020204,
          0.21212121212121213,
          0.22222222222222224,
          0.23232323232323235,
          0.24242424242424243,
          0.25252525252525254,
          0.26262626262626265,
          0.27272727272727276,
          0.2828282828282829,
          0.29292929292929293,
          0.30303030303030304,
          0.31313131313131315,
          0.32323232323232326,
          0.33333333333333337,
          0.3434343434343435,
          0.3535353535353536,
          0.36363636363636365,
          0.37373737373737376,
          0.38383838383838387,
          0.393939393939394,
          0.4040404040404041,
          0.4141414141414142,
          0.42424242424242425,
          0.43434343434343436,
          0.4444444444444445,
          0.4545454545454546,
          0.4646464646464647,
          0.4747474747474748,
          0.48484848484848486,
          0.494949494949495,
          0.5050505050505051,
          0.5151515151515152,
          0.5252525252525253,
          0.5353535353535354,
          0.5454545454545455,
          0.5555555555555556,
          0.5656565656565657,
          0.5757575757575758,
          0.5858585858585859,
          0.595959595959596,
          0.6060606060606061,
          0.6161616161616162,
          0.6262626262626263,
          0.6363636363636365,
          0.6464646464646465,
          0.6565656565656566,
          0.6666666666666667,
          0.6767676767676768,
          0.686868686868687,
          0.696969696969697,
          0.7070707070707072,
          0.7171717171717172,
          0.7272727272727273,
          0.7373737373737375,
          0.7474747474747475,
          0.7575757575757577,
          0.7676767676767677,
          0.7777777777777778,
          0.787878787878788,
          0.797979797979798,
          0.8080808080808082,
          0.8181818181818182,
          0.8282828282828284,
          0.8383838383838385,
          0.8484848484848485,
          0.8585858585858587,
          0.8686868686868687,
          0.8787878787878789,
          0.888888888888889,
          0.8989898989898991,
          0.9090909090909092,
          0.9191919191919192,
          0.9292929292929294,
          0.9393939393939394,
          0.9494949494949496,
          0.9595959595959597,
          0.9696969696969697,
          0.9797979797979799,
          0.98989898989899,
          1
         ],
         "y": [
          1,
          1.0100766529531966,
          0.96967014550651,
          0.9880020359048549,
          1.000566975545798,
          0.9604711043769283,
          0.9430406686804025,
          0.9098387160945834,
          0.925503851776737,
          0.9267213816088873,
          0.8783398545296802,
          0.8833459572066477,
          0.9037922910512458,
          0.9207532010865654,
          0.8890858242709772,
          0.9118865056781805,
          0.9230490782755669,
          0.9265861414466132,
          0.9565976501254138,
          0.9849052137218969,
          0.9683874641930883,
          0.9358609923163315,
          0.9591821084650717,
          0.9771785000864182,
          1.0046735170327812,
          1.002958955477817,
          1.0174989707861062,
          1.0167236464551632,
          0.9977345447217973,
          0.9883508361053414,
          1.0034806977139095,
          1.0233832458350003,
          1.0401696168904446,
          1.0424749305117285,
          1.0684633453237584,
          1.0996147661699716,
          1.075029720154942,
          1.0813506106094233,
          1.0413820976058328,
          1.0467985430521412,
          1.0620049042938582,
          1.0427583599470893,
          1.0425625014536652,
          1.0825197628979637,
          1.0860459995361764,
          1.0926561427447896,
          1.076580721257838,
          1.0497190695639713,
          1.0054562205716788,
          0.9983024830954543,
          0.9664731601668487,
          0.9636034495145351,
          0.9435125389519904,
          0.9607106044277669,
          0.9642769605074997,
          0.9872960912518304,
          0.9730933420616594,
          0.9438390569809416,
          0.9478110122638481,
          0.9472897837666541,
          0.9382198774153799,
          0.936077732287433,
          0.9608193951980193,
          0.9602370669248912,
          1.0078329401486525,
          0.996035665565391,
          0.9921651209443056,
          1.0043465952142547,
          1.0277729706841126,
          1.0235390064790393,
          1.0195600084093346,
          1.0221655575397692,
          1.0187089470539974,
          0.9726025183520568,
          0.9582531259147911,
          0.9543165417475912,
          0.9444940089569589,
          0.9511692578258734,
          0.9365371225643749,
          0.9405773365419113,
          0.9234485073193682,
          0.9371864345201107,
          0.9638351728049904,
          0.9618848547654122,
          0.971163306743406,
          0.9582385175721726,
          0.9753801533548322,
          1.003274744962303,
          0.9776469055907434,
          0.9938333675162407,
          0.9970281890984257,
          0.9657717197018958,
          0.9238821485356609,
          0.9089066521387839,
          0.9082014598332425,
          0.9051296642169157,
          0.9031728225161028,
          0.9004527673783752,
          0.8981692878489722,
          0.9271750184583186
         ]
        },
        {
         "line": {
          "color": "rgba(219, 64, 82, 1.0)",
          "dash": "solid",
          "shape": "linear",
          "width": 1.3
         },
         "marker": {
          "size": 5,
          "symbol": "circle"
         },
         "mode": "lines+markers",
         "name": "path 5",
         "text": "",
         "type": "scatter",
         "x": [
          0,
          0.010101010101010102,
          0.020202020202020204,
          0.030303030303030304,
          0.04040404040404041,
          0.05050505050505051,
          0.06060606060606061,
          0.07070707070707072,
          0.08080808080808081,
          0.09090909090909091,
          0.10101010101010102,
          0.11111111111111112,
          0.12121212121212122,
          0.13131313131313133,
          0.14141414141414144,
          0.15151515151515152,
          0.16161616161616163,
          0.17171717171717174,
          0.18181818181818182,
          0.19191919191919193,
          0.20202020202020204,
          0.21212121212121213,
          0.22222222222222224,
          0.23232323232323235,
          0.24242424242424243,
          0.25252525252525254,
          0.26262626262626265,
          0.27272727272727276,
          0.2828282828282829,
          0.29292929292929293,
          0.30303030303030304,
          0.31313131313131315,
          0.32323232323232326,
          0.33333333333333337,
          0.3434343434343435,
          0.3535353535353536,
          0.36363636363636365,
          0.37373737373737376,
          0.38383838383838387,
          0.393939393939394,
          0.4040404040404041,
          0.4141414141414142,
          0.42424242424242425,
          0.43434343434343436,
          0.4444444444444445,
          0.4545454545454546,
          0.4646464646464647,
          0.4747474747474748,
          0.48484848484848486,
          0.494949494949495,
          0.5050505050505051,
          0.5151515151515152,
          0.5252525252525253,
          0.5353535353535354,
          0.5454545454545455,
          0.5555555555555556,
          0.5656565656565657,
          0.5757575757575758,
          0.5858585858585859,
          0.595959595959596,
          0.6060606060606061,
          0.6161616161616162,
          0.6262626262626263,
          0.6363636363636365,
          0.6464646464646465,
          0.6565656565656566,
          0.6666666666666667,
          0.6767676767676768,
          0.686868686868687,
          0.696969696969697,
          0.7070707070707072,
          0.7171717171717172,
          0.7272727272727273,
          0.7373737373737375,
          0.7474747474747475,
          0.7575757575757577,
          0.7676767676767677,
          0.7777777777777778,
          0.787878787878788,
          0.797979797979798,
          0.8080808080808082,
          0.8181818181818182,
          0.8282828282828284,
          0.8383838383838385,
          0.8484848484848485,
          0.8585858585858587,
          0.8686868686868687,
          0.8787878787878789,
          0.888888888888889,
          0.8989898989898991,
          0.9090909090909092,
          0.9191919191919192,
          0.9292929292929294,
          0.9393939393939394,
          0.9494949494949496,
          0.9595959595959597,
          0.9696969696969697,
          0.9797979797979799,
          0.98989898989899,
          1
         ],
         "y": [
          1,
          1.0138034124209758,
          1.0260418863605516,
          1.0259101738097145,
          0.998195157744345,
          0.9695580279039462,
          0.9822347179715913,
          0.9528330601350478,
          0.9976971238562866,
          1.013214143668941,
          1.0055631982588893,
          0.9765681586250885,
          0.9315901210290543,
          0.936495759503991,
          0.9461642693063816,
          0.9283908317319192,
          0.9237729642040124,
          0.8972861294254828,
          0.9035711965804836,
          0.9056249272517646,
          0.8758432707296896,
          0.8560003846775893,
          0.8371735122892052,
          0.8361880042220097,
          0.8538427397496826,
          0.838461577894848,
          0.831556815567072,
          0.8316854670136015,
          0.8105010646275325,
          0.7967509127088371,
          0.809892255356203,
          0.8116834293171719,
          0.8225295397121002,
          0.8211428937287245,
          0.8270773456600559,
          0.8348488688037458,
          0.8521732248484762,
          0.8351063772987595,
          0.831338852473634,
          0.8486422826805722,
          0.8338804373054104,
          0.8675533626134135,
          0.8610397222402832,
          0.8561010654533552,
          0.8397422634136172,
          0.8388492542423853,
          0.8371324019442389,
          0.826551484148046,
          0.8218888331179689,
          0.8390401873204315,
          0.8367957997000981,
          0.8390791856415412,
          0.83237482563794,
          0.8171032423417535,
          0.8386680472758031,
          0.8284436248436553,
          0.8239159028922004,
          0.8407182008049968,
          0.8560172743739421,
          0.8517378196622477,
          0.8707440182985163,
          0.8638044772049532,
          0.8594101565005213,
          0.860823820995816,
          0.8701399477298478,
          0.8461397580252609,
          0.8655077198362394,
          0.9016193591792391,
          0.8913932817156001,
          0.8954626680472028,
          0.9095436807442248,
          0.9059728029645888,
          0.9149560278253599,
          0.9321689667154814,
          0.9116322332602216,
          0.9096492657103767,
          0.9162274128125996,
          0.9141054338498282,
          0.9304783116118346,
          0.9563140014644348,
          0.9632853960369858,
          0.9533373976465034,
          0.9680539125547554,
          0.9906959285346999,
          0.9945538739968227,
          0.967609680105873,
          0.9623258160741315,
          0.9737728207699788,
          0.9724826247412747,
          0.9318357752438423,
          0.9225138887737103,
          0.9254986014901413,
          0.9284631224102906,
          0.92349363228461,
          0.948924303778468,
          0.9405071009300575,
          0.8956414764175419,
          0.930745463972999,
          0.9379818131416439,
          0.9456871479443995
         ]
        },
        {
         "line": {
          "color": "rgba(0, 128, 128, 1.0)",
          "dash": "solid",
          "shape": "linear",
          "width": 1.3
         },
         "marker": {
          "size": 5,
          "symbol": "circle"
         },
         "mode": "lines+markers",
         "name": "path 6",
         "text": "",
         "type": "scatter",
         "x": [
          0,
          0.010101010101010102,
          0.020202020202020204,
          0.030303030303030304,
          0.04040404040404041,
          0.05050505050505051,
          0.06060606060606061,
          0.07070707070707072,
          0.08080808080808081,
          0.09090909090909091,
          0.10101010101010102,
          0.11111111111111112,
          0.12121212121212122,
          0.13131313131313133,
          0.14141414141414144,
          0.15151515151515152,
          0.16161616161616163,
          0.17171717171717174,
          0.18181818181818182,
          0.19191919191919193,
          0.20202020202020204,
          0.21212121212121213,
          0.22222222222222224,
          0.23232323232323235,
          0.24242424242424243,
          0.25252525252525254,
          0.26262626262626265,
          0.27272727272727276,
          0.2828282828282829,
          0.29292929292929293,
          0.30303030303030304,
          0.31313131313131315,
          0.32323232323232326,
          0.33333333333333337,
          0.3434343434343435,
          0.3535353535353536,
          0.36363636363636365,
          0.37373737373737376,
          0.38383838383838387,
          0.393939393939394,
          0.4040404040404041,
          0.4141414141414142,
          0.42424242424242425,
          0.43434343434343436,
          0.4444444444444445,
          0.4545454545454546,
          0.4646464646464647,
          0.4747474747474748,
          0.48484848484848486,
          0.494949494949495,
          0.5050505050505051,
          0.5151515151515152,
          0.5252525252525253,
          0.5353535353535354,
          0.5454545454545455,
          0.5555555555555556,
          0.5656565656565657,
          0.5757575757575758,
          0.5858585858585859,
          0.595959595959596,
          0.6060606060606061,
          0.6161616161616162,
          0.6262626262626263,
          0.6363636363636365,
          0.6464646464646465,
          0.6565656565656566,
          0.6666666666666667,
          0.6767676767676768,
          0.686868686868687,
          0.696969696969697,
          0.7070707070707072,
          0.7171717171717172,
          0.7272727272727273,
          0.7373737373737375,
          0.7474747474747475,
          0.7575757575757577,
          0.7676767676767677,
          0.7777777777777778,
          0.787878787878788,
          0.797979797979798,
          0.8080808080808082,
          0.8181818181818182,
          0.8282828282828284,
          0.8383838383838385,
          0.8484848484848485,
          0.8585858585858587,
          0.8686868686868687,
          0.8787878787878789,
          0.888888888888889,
          0.8989898989898991,
          0.9090909090909092,
          0.9191919191919192,
          0.9292929292929294,
          0.9393939393939394,
          0.9494949494949496,
          0.9595959595959597,
          0.9696969696969697,
          0.9797979797979799,
          0.98989898989899,
          1
         ],
         "y": [
          1,
          0.9999816106791676,
          0.9931548306833855,
          0.9816931856545151,
          0.9710201832285149,
          0.9867474997823557,
          0.9598249014240983,
          0.945944401657754,
          0.9834305009416339,
          0.9894084461315303,
          0.965856431385515,
          0.9615080021918514,
          0.9584470410083826,
          0.9832248194690683,
          1.0150027016566479,
          1.0107325839604024,
          1.0010121204888551,
          0.9889981988282196,
          0.9674058397705684,
          0.9634979332806657,
          0.935574990923007,
          0.9583385999713119,
          0.9730358794887233,
          0.973338264348096,
          0.9616824573206074,
          0.941127876271852,
          0.9645643565694093,
          0.9724132675242502,
          0.9486468439350864,
          0.9297304662341438,
          0.9411776325844594,
          0.9358695003765338,
          0.905745029640526,
          0.9454995882359185,
          0.9235635894273097,
          0.9362728689609955,
          0.9303582104577734,
          0.9258589625769195,
          0.9608105290261109,
          0.9563065525044455,
          0.9452986639031348,
          0.9479575348833095,
          0.9285914960644756,
          0.9097212470084449,
          0.8779421749058679,
          0.8745482603992439,
          0.9209418818174494,
          0.8782616012118415,
          0.8517696131005595,
          0.8508155405964649,
          0.8607025571555184,
          0.8765018666182008,
          0.9004464197586665,
          0.8791602818079505,
          0.8809850734073714,
          0.8776888769018415,
          0.8884404703436561,
          0.8754089753188861,
          0.8572897418235466,
          0.8605003679275429,
          0.8678225682127912,
          0.8552155196769295,
          0.8560558347211263,
          0.8749176976668133,
          0.8852651854623957,
          0.8901808013512,
          0.8806102719568444,
          0.8559580454391732,
          0.8494878872022633,
          0.851683090847822,
          0.8370291924099235,
          0.8689601104038135,
          0.8770672536882269,
          0.8810050261653475,
          0.8784762936225169,
          0.8945656487619619,
          0.890337014273378,
          0.8607140717354168,
          0.8801475103347204,
          0.8903744843243679,
          0.8854269416301362,
          0.8885028217727986,
          0.8873043234226436,
          0.9047684653049992,
          0.9360587075872772,
          0.8981627584057493,
          0.9372140972596824,
          0.9135549389694885,
          0.924126571755102,
          0.9114815203308724,
          0.9082225242224443,
          0.8855165532546867,
          0.8983772993471341,
          0.9117280678232329,
          0.9006467355899099,
          0.8853275501644137,
          0.8896002665411494,
          0.8738698329464177,
          0.8711234888163792,
          0.8482426840748747
         ]
        },
        {
         "line": {
          "color": "rgba(255, 255, 51, 1.0)",
          "dash": "solid",
          "shape": "linear",
          "width": 1.3
         },
         "marker": {
          "size": 5,
          "symbol": "circle"
         },
         "mode": "lines+markers",
         "name": "path 7",
         "text": "",
         "type": "scatter",
         "x": [
          0,
          0.010101010101010102,
          0.020202020202020204,
          0.030303030303030304,
          0.04040404040404041,
          0.05050505050505051,
          0.06060606060606061,
          0.07070707070707072,
          0.08080808080808081,
          0.09090909090909091,
          0.10101010101010102,
          0.11111111111111112,
          0.12121212121212122,
          0.13131313131313133,
          0.14141414141414144,
          0.15151515151515152,
          0.16161616161616163,
          0.17171717171717174,
          0.18181818181818182,
          0.19191919191919193,
          0.20202020202020204,
          0.21212121212121213,
          0.22222222222222224,
          0.23232323232323235,
          0.24242424242424243,
          0.25252525252525254,
          0.26262626262626265,
          0.27272727272727276,
          0.2828282828282829,
          0.29292929292929293,
          0.30303030303030304,
          0.31313131313131315,
          0.32323232323232326,
          0.33333333333333337,
          0.3434343434343435,
          0.3535353535353536,
          0.36363636363636365,
          0.37373737373737376,
          0.38383838383838387,
          0.393939393939394,
          0.4040404040404041,
          0.4141414141414142,
          0.42424242424242425,
          0.43434343434343436,
          0.4444444444444445,
          0.4545454545454546,
          0.4646464646464647,
          0.4747474747474748,
          0.48484848484848486,
          0.494949494949495,
          0.5050505050505051,
          0.5151515151515152,
          0.5252525252525253,
          0.5353535353535354,
          0.5454545454545455,
          0.5555555555555556,
          0.5656565656565657,
          0.5757575757575758,
          0.5858585858585859,
          0.595959595959596,
          0.6060606060606061,
          0.6161616161616162,
          0.6262626262626263,
          0.6363636363636365,
          0.6464646464646465,
          0.6565656565656566,
          0.6666666666666667,
          0.6767676767676768,
          0.686868686868687,
          0.696969696969697,
          0.7070707070707072,
          0.7171717171717172,
          0.7272727272727273,
          0.7373737373737375,
          0.7474747474747475,
          0.7575757575757577,
          0.7676767676767677,
          0.7777777777777778,
          0.787878787878788,
          0.797979797979798,
          0.8080808080808082,
          0.8181818181818182,
          0.8282828282828284,
          0.8383838383838385,
          0.8484848484848485,
          0.8585858585858587,
          0.8686868686868687,
          0.8787878787878789,
          0.888888888888889,
          0.8989898989898991,
          0.9090909090909092,
          0.9191919191919192,
          0.9292929292929294,
          0.9393939393939394,
          0.9494949494949496,
          0.9595959595959597,
          0.9696969696969697,
          0.9797979797979799,
          0.98989898989899,
          1
         ],
         "y": [
          1,
          0.9879585215671528,
          0.9577444239038932,
          0.9492912845501316,
          0.9531972713294484,
          0.9722607596388348,
          0.9946845010178725,
          0.9939892096220289,
          0.963918373541532,
          0.9675458402241564,
          0.9819055201304765,
          0.9722545409984894,
          0.9866378952315967,
          1.0067801482138936,
          1.0105153729330323,
          1.0202205560788131,
          0.989581945400854,
          0.9610086595649795,
          0.950135647851557,
          0.9630848701709729,
          0.971606031629502,
          0.9896304991789387,
          1.005207442452726,
          1.02069852036731,
          1.0284452047921697,
          1.0521726349127267,
          1.0493322167339607,
          1.046943777025269,
          1.0567092213789668,
          1.035057182437084,
          1.0560838809833566,
          1.0825690438791928,
          1.075471794700989,
          1.0460920549594828,
          1.0342431968398367,
          1.06574279306275,
          1.0757364682236914,
          1.053111939732093,
          1.0667946882839623,
          1.0704463466064027,
          1.039122464945915,
          1.0668522262321927,
          1.0506348133197312,
          1.0770706429568755,
          1.0943465490868176,
          1.078064551508346,
          1.0694962607683547,
          1.0615761569532887,
          1.0743460349710214,
          1.0758767087331804,
          1.0849844009497454,
          1.0804656098759438,
          1.0664263329300443,
          1.0478119478314558,
          1.0770537736003716,
          1.1043983415928726,
          1.1196492358146894,
          1.0712390225052366,
          1.0289296557345937,
          1.0324436786436009,
          1.035829413917947,
          1.0185567968750278,
          1.028651999706999,
          1.009925449903361,
          1.0052960450810642,
          1.0065669785054254,
          1.045093628699996,
          1.079688122768743,
          1.0947019440353756,
          1.094511274538007,
          1.0718633792351135,
          1.0856953110605547,
          1.0948506722773055,
          1.0735808166900431,
          1.102042623728068,
          1.0883618234815806,
          1.0935128749571192,
          1.0985040622255178,
          1.1095196373215088,
          1.095721138592007,
          1.102244924422822,
          1.0932496194633574,
          1.0808086311836267,
          1.0851864446965405,
          1.0735514202754153,
          1.0561683029655387,
          1.0826074123695246,
          1.079895532489071,
          1.1107005016605065,
          1.0871508307564293,
          1.0705374924392466,
          1.0683091543232444,
          1.0475682449130252,
          1.0567142053046406,
          1.0069266371231445,
          1.0459465013488118,
          0.997560618782901,
          0.9768130116488788,
          1.0183693548121389,
          1.039718669375195
         ]
        },
        {
         "line": {
          "color": "rgba(128, 128, 0, 1.0)",
          "dash": "solid",
          "shape": "linear",
          "width": 1.3
         },
         "marker": {
          "size": 5,
          "symbol": "circle"
         },
         "mode": "lines+markers",
         "name": "path 8",
         "text": "",
         "type": "scatter",
         "x": [
          0,
          0.010101010101010102,
          0.020202020202020204,
          0.030303030303030304,
          0.04040404040404041,
          0.05050505050505051,
          0.06060606060606061,
          0.07070707070707072,
          0.08080808080808081,
          0.09090909090909091,
          0.10101010101010102,
          0.11111111111111112,
          0.12121212121212122,
          0.13131313131313133,
          0.14141414141414144,
          0.15151515151515152,
          0.16161616161616163,
          0.17171717171717174,
          0.18181818181818182,
          0.19191919191919193,
          0.20202020202020204,
          0.21212121212121213,
          0.22222222222222224,
          0.23232323232323235,
          0.24242424242424243,
          0.25252525252525254,
          0.26262626262626265,
          0.27272727272727276,
          0.2828282828282829,
          0.29292929292929293,
          0.30303030303030304,
          0.31313131313131315,
          0.32323232323232326,
          0.33333333333333337,
          0.3434343434343435,
          0.3535353535353536,
          0.36363636363636365,
          0.37373737373737376,
          0.38383838383838387,
          0.393939393939394,
          0.4040404040404041,
          0.4141414141414142,
          0.42424242424242425,
          0.43434343434343436,
          0.4444444444444445,
          0.4545454545454546,
          0.4646464646464647,
          0.4747474747474748,
          0.48484848484848486,
          0.494949494949495,
          0.5050505050505051,
          0.5151515151515152,
          0.5252525252525253,
          0.5353535353535354,
          0.5454545454545455,
          0.5555555555555556,
          0.5656565656565657,
          0.5757575757575758,
          0.5858585858585859,
          0.595959595959596,
          0.6060606060606061,
          0.6161616161616162,
          0.6262626262626263,
          0.6363636363636365,
          0.6464646464646465,
          0.6565656565656566,
          0.6666666666666667,
          0.6767676767676768,
          0.686868686868687,
          0.696969696969697,
          0.7070707070707072,
          0.7171717171717172,
          0.7272727272727273,
          0.7373737373737375,
          0.7474747474747475,
          0.7575757575757577,
          0.7676767676767677,
          0.7777777777777778,
          0.787878787878788,
          0.797979797979798,
          0.8080808080808082,
          0.8181818181818182,
          0.8282828282828284,
          0.8383838383838385,
          0.8484848484848485,
          0.8585858585858587,
          0.8686868686868687,
          0.8787878787878789,
          0.888888888888889,
          0.8989898989898991,
          0.9090909090909092,
          0.9191919191919192,
          0.9292929292929294,
          0.9393939393939394,
          0.9494949494949496,
          0.9595959595959597,
          0.9696969696969697,
          0.9797979797979799,
          0.98989898989899,
          1
         ],
         "y": [
          1,
          1.0188722425290273,
          1.0134107101251848,
          0.9982734242940284,
          1.0330163014982727,
          1.092845316398936,
          1.0601899209638423,
          1.0190246684330142,
          0.9940522337691792,
          0.9690007394322562,
          0.9667586528260026,
          0.9415825634830386,
          0.9653892567585651,
          0.9826648255848377,
          0.9907647878611757,
          0.9986010272445146,
          1.0060718450728747,
          0.9979050090306213,
          1.0141168932337024,
          0.9975018822476874,
          1.027201361668962,
          1.0178144484086762,
          1.0258847095546169,
          1.0248734558246524,
          1.020231024813421,
          1.0381826043613687,
          1.029381314205764,
          1.0244811705566244,
          1.0699294600659464,
          1.0709378551483437,
          1.0655883276099476,
          1.0681613641067667,
          1.1110521179215627,
          1.1089416519042679,
          1.1255440525811145,
          1.0952166866455748,
          1.0913602675585796,
          1.084067276622497,
          1.0398731951332194,
          1.0456902896765208,
          1.0464622926217708,
          1.0794200801424958,
          1.0840064869388943,
          1.0965390572969282,
          1.0965770697254598,
          1.0926744063084917,
          1.0883029766200665,
          1.0641336370054384,
          1.0405106574965195,
          1.0561809083419271,
          1.039660132761832,
          1.065313069494811,
          1.0772957001832444,
          1.0856484615135302,
          1.0992771211331311,
          1.1112871707684255,
          1.1158775190953776,
          1.0975074941680418,
          1.1147277556341157,
          1.085404893141044,
          1.089432781711,
          1.0913129557915056,
          1.073150703314859,
          1.0891243678553553,
          1.0720515461567097,
          1.0637224448752134,
          1.0367124030128199,
          1.0681377218494383,
          1.0370907958003357,
          1.0432904587398086,
          1.0519282209237082,
          1.0385166415912785,
          1.0123122450327349,
          1.0334328344714385,
          1.035955449155344,
          1.0616000832064751,
          1.0453314379317145,
          1.0375024516028302,
          1.0409936094676673,
          1.0006595668380396,
          1.005621401009539,
          0.9798459339088679,
          0.9778800445534357,
          0.9745964846463474,
          0.9804520969319125,
          0.9828851192936823,
          0.9631862846904058,
          0.9486699519222417,
          0.9478597935492156,
          0.9171366846349891,
          0.874229895867783,
          0.8926951177358886,
          0.8714672816547478,
          0.8706698538705451,
          0.8685597083209008,
          0.8754337026705424,
          0.9062547831851199,
          0.9341925893818086,
          0.952491606602926,
          0.935460062959621
         ]
        },
        {
         "line": {
          "color": "rgba(251, 128, 114, 1.0)",
          "dash": "solid",
          "shape": "linear",
          "width": 1.3
         },
         "marker": {
          "size": 5,
          "symbol": "circle"
         },
         "mode": "lines+markers",
         "name": "path 9",
         "text": "",
         "type": "scatter",
         "x": [
          0,
          0.010101010101010102,
          0.020202020202020204,
          0.030303030303030304,
          0.04040404040404041,
          0.05050505050505051,
          0.06060606060606061,
          0.07070707070707072,
          0.08080808080808081,
          0.09090909090909091,
          0.10101010101010102,
          0.11111111111111112,
          0.12121212121212122,
          0.13131313131313133,
          0.14141414141414144,
          0.15151515151515152,
          0.16161616161616163,
          0.17171717171717174,
          0.18181818181818182,
          0.19191919191919193,
          0.20202020202020204,
          0.21212121212121213,
          0.22222222222222224,
          0.23232323232323235,
          0.24242424242424243,
          0.25252525252525254,
          0.26262626262626265,
          0.27272727272727276,
          0.2828282828282829,
          0.29292929292929293,
          0.30303030303030304,
          0.31313131313131315,
          0.32323232323232326,
          0.33333333333333337,
          0.3434343434343435,
          0.3535353535353536,
          0.36363636363636365,
          0.37373737373737376,
          0.38383838383838387,
          0.393939393939394,
          0.4040404040404041,
          0.4141414141414142,
          0.42424242424242425,
          0.43434343434343436,
          0.4444444444444445,
          0.4545454545454546,
          0.4646464646464647,
          0.4747474747474748,
          0.48484848484848486,
          0.494949494949495,
          0.5050505050505051,
          0.5151515151515152,
          0.5252525252525253,
          0.5353535353535354,
          0.5454545454545455,
          0.5555555555555556,
          0.5656565656565657,
          0.5757575757575758,
          0.5858585858585859,
          0.595959595959596,
          0.6060606060606061,
          0.6161616161616162,
          0.6262626262626263,
          0.6363636363636365,
          0.6464646464646465,
          0.6565656565656566,
          0.6666666666666667,
          0.6767676767676768,
          0.686868686868687,
          0.696969696969697,
          0.7070707070707072,
          0.7171717171717172,
          0.7272727272727273,
          0.7373737373737375,
          0.7474747474747475,
          0.7575757575757577,
          0.7676767676767677,
          0.7777777777777778,
          0.787878787878788,
          0.797979797979798,
          0.8080808080808082,
          0.8181818181818182,
          0.8282828282828284,
          0.8383838383838385,
          0.8484848484848485,
          0.8585858585858587,
          0.8686868686868687,
          0.8787878787878789,
          0.888888888888889,
          0.8989898989898991,
          0.9090909090909092,
          0.9191919191919192,
          0.9292929292929294,
          0.9393939393939394,
          0.9494949494949496,
          0.9595959595959597,
          0.9696969696969697,
          0.9797979797979799,
          0.98989898989899,
          1
         ],
         "y": [
          1,
          0.9905915355213522,
          0.9649615320902541,
          0.9403692009521352,
          0.9241242691513611,
          0.9190842643547867,
          0.9274644504444155,
          0.9274180324228483,
          0.9420349184242987,
          0.959947420763255,
          0.9333458781862791,
          0.9136664522621433,
          0.9062830975618066,
          0.8891729829608982,
          0.9169632647460947,
          0.8975420891680826,
          0.8903179658566285,
          0.8793289365852105,
          0.8935065752272191,
          0.9037889876968259,
          0.9205580905848748,
          0.9522474111162339,
          0.9587722929018173,
          0.9757593991886799,
          0.9854753142579962,
          0.9648275781440413,
          0.9448781487735948,
          0.9516421825622335,
          0.934783522813275,
          0.929266181513029,
          0.940482970552505,
          0.9660671639038144,
          0.9882046896722376,
          0.9880127813138533,
          0.9812592454501581,
          0.9786457934061605,
          0.9790507576437993,
          0.9934555384509391,
          0.9764641169756738,
          1.0098780913442873,
          1.0008618821246802,
          1.0155356342151645,
          1.00461286446844,
          1.005207621753287,
          1.0032007975381503,
          1.0139903581084495,
          1.0074991403528106,
          1.0166914180131912,
          1.0068088057617308,
          1.0142921794838762,
          0.9914723873055348,
          0.9719190071838716,
          1.0082751670081296,
          1.0412695111942192,
          1.0592543906979897,
          1.0750852592225204,
          1.0639495291675318,
          1.0471026882411245,
          1.0677677642500591,
          1.064487464375023,
          1.0666039714221758,
          1.057443292892314,
          1.0203942022610681,
          1.0462192687019636,
          1.0436361974101607,
          1.0471785897029053,
          1.0351571340998114,
          1.023961820895801,
          1.035133424966005,
          1.001908208085093,
          0.9971028037561571,
          1.0003008057076885,
          1.0156014711208081,
          1.058333568537437,
          1.0783450091044287,
          1.0889447820773002,
          1.081459672068305,
          1.084211877815034,
          1.126409793496605,
          1.0942077514932949,
          1.0837123293357807,
          1.0731989438718843,
          1.0924040500413021,
          1.074668962271174,
          1.0097392810112191,
          0.9939650038744886,
          1.0151729475472042,
          1.0479438124928895,
          1.0609170077867143,
          1.073515954522172,
          1.0510206570540412,
          1.0729881208450067,
          1.0553882921543782,
          1.040922269110006,
          1.068964515944721,
          1.0861612984101459,
          1.083402395445329,
          1.1070322908234442,
          1.1136403559049828,
          1.1232432602642677
         ]
        },
        {
         "line": {
          "color": "rgba(128, 177, 211, 1.0)",
          "dash": "solid",
          "shape": "linear",
          "width": 1.3
         },
         "marker": {
          "size": 5,
          "symbol": "circle"
         },
         "mode": "lines+markers",
         "name": "path 10",
         "text": "",
         "type": "scatter",
         "x": [
          0,
          0.010101010101010102,
          0.020202020202020204,
          0.030303030303030304,
          0.04040404040404041,
          0.05050505050505051,
          0.06060606060606061,
          0.07070707070707072,
          0.08080808080808081,
          0.09090909090909091,
          0.10101010101010102,
          0.11111111111111112,
          0.12121212121212122,
          0.13131313131313133,
          0.14141414141414144,
          0.15151515151515152,
          0.16161616161616163,
          0.17171717171717174,
          0.18181818181818182,
          0.19191919191919193,
          0.20202020202020204,
          0.21212121212121213,
          0.22222222222222224,
          0.23232323232323235,
          0.24242424242424243,
          0.25252525252525254,
          0.26262626262626265,
          0.27272727272727276,
          0.2828282828282829,
          0.29292929292929293,
          0.30303030303030304,
          0.31313131313131315,
          0.32323232323232326,
          0.33333333333333337,
          0.3434343434343435,
          0.3535353535353536,
          0.36363636363636365,
          0.37373737373737376,
          0.38383838383838387,
          0.393939393939394,
          0.4040404040404041,
          0.4141414141414142,
          0.42424242424242425,
          0.43434343434343436,
          0.4444444444444445,
          0.4545454545454546,
          0.4646464646464647,
          0.4747474747474748,
          0.48484848484848486,
          0.494949494949495,
          0.5050505050505051,
          0.5151515151515152,
          0.5252525252525253,
          0.5353535353535354,
          0.5454545454545455,
          0.5555555555555556,
          0.5656565656565657,
          0.5757575757575758,
          0.5858585858585859,
          0.595959595959596,
          0.6060606060606061,
          0.6161616161616162,
          0.6262626262626263,
          0.6363636363636365,
          0.6464646464646465,
          0.6565656565656566,
          0.6666666666666667,
          0.6767676767676768,
          0.686868686868687,
          0.696969696969697,
          0.7070707070707072,
          0.7171717171717172,
          0.7272727272727273,
          0.7373737373737375,
          0.7474747474747475,
          0.7575757575757577,
          0.7676767676767677,
          0.7777777777777778,
          0.787878787878788,
          0.797979797979798,
          0.8080808080808082,
          0.8181818181818182,
          0.8282828282828284,
          0.8383838383838385,
          0.8484848484848485,
          0.8585858585858587,
          0.8686868686868687,
          0.8787878787878789,
          0.888888888888889,
          0.8989898989898991,
          0.9090909090909092,
          0.9191919191919192,
          0.9292929292929294,
          0.9393939393939394,
          0.9494949494949496,
          0.9595959595959597,
          0.9696969696969697,
          0.9797979797979799,
          0.98989898989899,
          1
         ],
         "y": [
          1,
          0.9764210469692465,
          0.984391075025009,
          0.9470707864876164,
          0.9225667983234687,
          0.9721771335629018,
          0.9544466381912325,
          0.9976992580703808,
          1.0010030367193332,
          1.0117381092479856,
          1.0021792512546859,
          1.0131879878452927,
          1.0224926516269615,
          1.006906663172622,
          1.0103093067146802,
          0.9903823454956333,
          0.9939593182882575,
          1.0056048716470207,
          0.9925025273570892,
          1.0172494738113198,
          1.0048841197820735,
          1.014486913226215,
          1.0259013993052006,
          1.0471875132408839,
          1.0463505493354106,
          1.0433907924995862,
          1.0602556557148775,
          1.0948388068759796,
          1.109734777485979,
          1.1091712180665556,
          1.1399619401992211,
          1.0995291528580935,
          1.1142386602389185,
          1.1169942173354428,
          1.1305267981826048,
          1.161701921951773,
          1.1945341965642824,
          1.2052647242833388,
          1.192604260754344,
          1.1607350770723996,
          1.1535092749459048,
          1.1832643390167414,
          1.1704454892637188,
          1.1748161244557283,
          1.194289721295118,
          1.2236663937000405,
          1.2066711388411966,
          1.2118565482798036,
          1.249926586515904,
          1.245539700705587,
          1.2219714532114454,
          1.2043788056111349,
          1.1880512436330302,
          1.1825658505286136,
          1.178286145532673,
          1.1424199515649904,
          1.1180464592015618,
          1.116477342842594,
          1.1512957231218217,
          1.174122778728981,
          1.146596888587461,
          1.1244142218301139,
          1.1032618841894635,
          1.0973558620777113,
          1.092429827683551,
          1.0742082204301697,
          1.0722184755683553,
          1.0577309464073203,
          1.036101474471133,
          1.0315720749517463,
          1.0311033699906296,
          0.999546598638607,
          0.9909235917227753,
          0.9917235874832181,
          0.9533361955820057,
          0.9283075058783283,
          0.9085952645647938,
          0.8986317046164851,
          0.8965830641788521,
          0.8991319731983953,
          0.8663716493880673,
          0.8735624257310388,
          0.8623510324220881,
          0.870416064988991,
          0.8682620519635759,
          0.8518591139216657,
          0.881885480074729,
          0.8770176620242569,
          0.8960942647185411,
          0.8834750230022965,
          0.9048219135701604,
          0.9142245663675709,
          0.9327795744649122,
          0.903390285282151,
          0.8982554416552185,
          0.9092026714707494,
          0.9218051700411718,
          0.9356030706869273,
          0.9077059803940205,
          0.8891650332723064
         ]
        },
        {
         "line": {
          "color": "rgba(128, 177, 211, 0.8999999999999999)",
          "dash": "solid",
          "shape": "linear",
          "width": 1.3
         },
         "marker": {
          "size": 5,
          "symbol": "circle"
         },
         "mode": "lines+markers",
         "name": "path 11",
         "text": "",
         "type": "scatter",
         "x": [
          0,
          0.010101010101010102,
          0.020202020202020204,
          0.030303030303030304,
          0.04040404040404041,
          0.05050505050505051,
          0.06060606060606061,
          0.07070707070707072,
          0.08080808080808081,
          0.09090909090909091,
          0.10101010101010102,
          0.11111111111111112,
          0.12121212121212122,
          0.13131313131313133,
          0.14141414141414144,
          0.15151515151515152,
          0.16161616161616163,
          0.17171717171717174,
          0.18181818181818182,
          0.19191919191919193,
          0.20202020202020204,
          0.21212121212121213,
          0.22222222222222224,
          0.23232323232323235,
          0.24242424242424243,
          0.25252525252525254,
          0.26262626262626265,
          0.27272727272727276,
          0.2828282828282829,
          0.29292929292929293,
          0.30303030303030304,
          0.31313131313131315,
          0.32323232323232326,
          0.33333333333333337,
          0.3434343434343435,
          0.3535353535353536,
          0.36363636363636365,
          0.37373737373737376,
          0.38383838383838387,
          0.393939393939394,
          0.4040404040404041,
          0.4141414141414142,
          0.42424242424242425,
          0.43434343434343436,
          0.4444444444444445,
          0.4545454545454546,
          0.4646464646464647,
          0.4747474747474748,
          0.48484848484848486,
          0.494949494949495,
          0.5050505050505051,
          0.5151515151515152,
          0.5252525252525253,
          0.5353535353535354,
          0.5454545454545455,
          0.5555555555555556,
          0.5656565656565657,
          0.5757575757575758,
          0.5858585858585859,
          0.595959595959596,
          0.6060606060606061,
          0.6161616161616162,
          0.6262626262626263,
          0.6363636363636365,
          0.6464646464646465,
          0.6565656565656566,
          0.6666666666666667,
          0.6767676767676768,
          0.686868686868687,
          0.696969696969697,
          0.7070707070707072,
          0.7171717171717172,
          0.7272727272727273,
          0.7373737373737375,
          0.7474747474747475,
          0.7575757575757577,
          0.7676767676767677,
          0.7777777777777778,
          0.787878787878788,
          0.797979797979798,
          0.8080808080808082,
          0.8181818181818182,
          0.8282828282828284,
          0.8383838383838385,
          0.8484848484848485,
          0.8585858585858587,
          0.8686868686868687,
          0.8787878787878789,
          0.888888888888889,
          0.8989898989898991,
          0.9090909090909092,
          0.9191919191919192,
          0.9292929292929294,
          0.9393939393939394,
          0.9494949494949496,
          0.9595959595959597,
          0.9696969696969697,
          0.9797979797979799,
          0.98989898989899,
          1
         ],
         "y": [
          1,
          0.9902532486368287,
          0.998618687306737,
          1.013819958187991,
          1.04712456726187,
          1.0806791786081227,
          1.0562967982569835,
          1.0776190305152753,
          1.108328928806003,
          1.1300152040808118,
          1.0893372520449105,
          1.1090329849985294,
          1.1095661847853142,
          1.1134990681414307,
          1.1129541874084727,
          1.1399868013940122,
          1.116396719519444,
          1.1158756067292597,
          1.1480380661274658,
          1.1480841542334363,
          1.1560713929133075,
          1.1428096567754136,
          1.1374742587832694,
          1.1217116792512327,
          1.1498101829825094,
          1.168789631544032,
          1.15339705492153,
          1.1929153555658398,
          1.184998295341044,
          1.2166006947305759,
          1.2368695543249348,
          1.2398781307643458,
          1.2284049471272476,
          1.2506348913307521,
          1.2676675203676968,
          1.261519305047651,
          1.295739903715582,
          1.2722770710565057,
          1.2775272371037696,
          1.2516185380145115,
          1.2247086797857745,
          1.1862743324887333,
          1.1749683691380588,
          1.1257762434922052,
          1.1264898968506436,
          1.1402095366450724,
          1.1467077317682477,
          1.1276316853199957,
          1.1266905852495028,
          1.1132357811278057,
          1.1147787805964289,
          1.1430056800440471,
          1.1170846707940643,
          1.1059715329030404,
          1.0800223569382694,
          1.0770917571381413,
          1.053655547737394,
          1.0604878913419897,
          1.074973899421457,
          1.0449854426040477,
          1.047931688951307,
          1.0798463805024094,
          1.07767754383967,
          1.0743041234074853,
          1.0710509566213597,
          1.0688994625501793,
          1.073596385172108,
          1.0642283904285224,
          1.0485894352517389,
          1.0699128616601532,
          1.0619080444697455,
          1.06698794209477,
          1.0410221490369387,
          1.0494032727181963,
          1.0575042997581459,
          1.0483341028649509,
          1.041339886446464,
          1.0009468941946529,
          0.9846975633795351,
          0.9656089573701954,
          0.9796184975182193,
          0.9745273532766129,
          0.9592247013767917,
          0.9533801156397551,
          0.9333145143329183,
          0.9366385750650502,
          0.9274688644688491,
          0.9407893524656062,
          0.9691838199525966,
          0.9595808527320889,
          0.9581334516178895,
          0.9678879416196107,
          0.9343187868017698,
          0.9402634877553715,
          0.9505356556163849,
          0.936275182034201,
          0.9405555970309358,
          0.9343802847336774,
          0.9578518760368152,
          0.9275427922667748
         ]
        },
        {
         "line": {
          "color": "rgba(255, 153, 51, 0.8999999999999999)",
          "dash": "solid",
          "shape": "linear",
          "width": 1.3
         },
         "marker": {
          "size": 5,
          "symbol": "circle"
         },
         "mode": "lines+markers",
         "name": "path 12",
         "text": "",
         "type": "scatter",
         "x": [
          0,
          0.010101010101010102,
          0.020202020202020204,
          0.030303030303030304,
          0.04040404040404041,
          0.05050505050505051,
          0.06060606060606061,
          0.07070707070707072,
          0.08080808080808081,
          0.09090909090909091,
          0.10101010101010102,
          0.11111111111111112,
          0.12121212121212122,
          0.13131313131313133,
          0.14141414141414144,
          0.15151515151515152,
          0.16161616161616163,
          0.17171717171717174,
          0.18181818181818182,
          0.19191919191919193,
          0.20202020202020204,
          0.21212121212121213,
          0.22222222222222224,
          0.23232323232323235,
          0.24242424242424243,
          0.25252525252525254,
          0.26262626262626265,
          0.27272727272727276,
          0.2828282828282829,
          0.29292929292929293,
          0.30303030303030304,
          0.31313131313131315,
          0.32323232323232326,
          0.33333333333333337,
          0.3434343434343435,
          0.3535353535353536,
          0.36363636363636365,
          0.37373737373737376,
          0.38383838383838387,
          0.393939393939394,
          0.4040404040404041,
          0.4141414141414142,
          0.42424242424242425,
          0.43434343434343436,
          0.4444444444444445,
          0.4545454545454546,
          0.4646464646464647,
          0.4747474747474748,
          0.48484848484848486,
          0.494949494949495,
          0.5050505050505051,
          0.5151515151515152,
          0.5252525252525253,
          0.5353535353535354,
          0.5454545454545455,
          0.5555555555555556,
          0.5656565656565657,
          0.5757575757575758,
          0.5858585858585859,
          0.595959595959596,
          0.6060606060606061,
          0.6161616161616162,
          0.6262626262626263,
          0.6363636363636365,
          0.6464646464646465,
          0.6565656565656566,
          0.6666666666666667,
          0.6767676767676768,
          0.686868686868687,
          0.696969696969697,
          0.7070707070707072,
          0.7171717171717172,
          0.7272727272727273,
          0.7373737373737375,
          0.7474747474747475,
          0.7575757575757577,
          0.7676767676767677,
          0.7777777777777778,
          0.787878787878788,
          0.797979797979798,
          0.8080808080808082,
          0.8181818181818182,
          0.8282828282828284,
          0.8383838383838385,
          0.8484848484848485,
          0.8585858585858587,
          0.8686868686868687,
          0.8787878787878789,
          0.888888888888889,
          0.8989898989898991,
          0.9090909090909092,
          0.9191919191919192,
          0.9292929292929294,
          0.9393939393939394,
          0.9494949494949496,
          0.9595959595959597,
          0.9696969696969697,
          0.9797979797979799,
          0.98989898989899,
          1
         ],
         "y": [
          1,
          0.9746577422862719,
          0.975064326830704,
          0.9678590455587136,
          0.9651934456822887,
          0.9532495331037346,
          0.9844943711473301,
          0.9751650901160708,
          0.9713340831199436,
          0.9704609851123671,
          0.9878606908699779,
          1.0227780823432735,
          1.0181753021584656,
          1.0460950682787076,
          1.072226056734129,
          1.0752755790207889,
          1.1178711441205733,
          1.1343039863708453,
          1.1477351427689326,
          1.1569329237533972,
          1.178116369351787,
          1.1796553801880751,
          1.176572976783825,
          1.1632824280321128,
          1.1538628014804149,
          1.1255539845951388,
          1.1081778610771809,
          1.083398224732093,
          1.0810284472306693,
          1.0868688892238536,
          1.133787428753262,
          1.1654045024627617,
          1.164469180229042,
          1.1552802051423914,
          1.1658741401844526,
          1.1604800080595794,
          1.1622619868032567,
          1.15835847920919,
          1.1819409685000843,
          1.159978236523842,
          1.181342047926724,
          1.231272075190902,
          1.2128471294460865,
          1.2294023688596998,
          1.2435287581319734,
          1.2299145524832116,
          1.2323311183607992,
          1.2517776497729078,
          1.2680939821690507,
          1.2356173131692902,
          1.2298388722650255,
          1.2259850247875266,
          1.2633654612543384,
          1.271451413916621,
          1.2425551325424757,
          1.2672136618175427,
          1.2400613625878025,
          1.261300517819131,
          1.307133391522682,
          1.3044887323791752,
          1.2817876143333584,
          1.2906623091525957,
          1.24185318569426,
          1.2437273425905164,
          1.2296485231712067,
          1.1945390518242003,
          1.2131413885718272,
          1.1933408770757645,
          1.2064022082693893,
          1.1936590938582834,
          1.1703591454693187,
          1.1681030476930179,
          1.123384374195705,
          1.1449320580741118,
          1.1731114422831566,
          1.1390758659948121,
          1.1633275840024004,
          1.1410210573079085,
          1.1256477607060082,
          1.133185438984318,
          1.1228310855298274,
          1.084978619854226,
          1.0839664041801513,
          1.0953894464239515,
          1.097757490285209,
          1.0837957596498982,
          1.1252852831676508,
          1.1676237850907585,
          1.2016984915707472,
          1.1712547924553678,
          1.1513472288185624,
          1.1529549364978682,
          1.1521583143377594,
          1.1408519366440188,
          1.1304176474998617,
          1.112745202650858,
          1.1036236499043623,
          1.1219843755193626,
          1.1079446891553955,
          1.1043694003113735
         ]
        },
        {
         "line": {
          "color": "rgba(55, 128, 191, 0.8999999999999999)",
          "dash": "solid",
          "shape": "linear",
          "width": 1.3
         },
         "marker": {
          "size": 5,
          "symbol": "circle"
         },
         "mode": "lines+markers",
         "name": "path 13",
         "text": "",
         "type": "scatter",
         "x": [
          0,
          0.010101010101010102,
          0.020202020202020204,
          0.030303030303030304,
          0.04040404040404041,
          0.05050505050505051,
          0.06060606060606061,
          0.07070707070707072,
          0.08080808080808081,
          0.09090909090909091,
          0.10101010101010102,
          0.11111111111111112,
          0.12121212121212122,
          0.13131313131313133,
          0.14141414141414144,
          0.15151515151515152,
          0.16161616161616163,
          0.17171717171717174,
          0.18181818181818182,
          0.19191919191919193,
          0.20202020202020204,
          0.21212121212121213,
          0.22222222222222224,
          0.23232323232323235,
          0.24242424242424243,
          0.25252525252525254,
          0.26262626262626265,
          0.27272727272727276,
          0.2828282828282829,
          0.29292929292929293,
          0.30303030303030304,
          0.31313131313131315,
          0.32323232323232326,
          0.33333333333333337,
          0.3434343434343435,
          0.3535353535353536,
          0.36363636363636365,
          0.37373737373737376,
          0.38383838383838387,
          0.393939393939394,
          0.4040404040404041,
          0.4141414141414142,
          0.42424242424242425,
          0.43434343434343436,
          0.4444444444444445,
          0.4545454545454546,
          0.4646464646464647,
          0.4747474747474748,
          0.48484848484848486,
          0.494949494949495,
          0.5050505050505051,
          0.5151515151515152,
          0.5252525252525253,
          0.5353535353535354,
          0.5454545454545455,
          0.5555555555555556,
          0.5656565656565657,
          0.5757575757575758,
          0.5858585858585859,
          0.595959595959596,
          0.6060606060606061,
          0.6161616161616162,
          0.6262626262626263,
          0.6363636363636365,
          0.6464646464646465,
          0.6565656565656566,
          0.6666666666666667,
          0.6767676767676768,
          0.686868686868687,
          0.696969696969697,
          0.7070707070707072,
          0.7171717171717172,
          0.7272727272727273,
          0.7373737373737375,
          0.7474747474747475,
          0.7575757575757577,
          0.7676767676767677,
          0.7777777777777778,
          0.787878787878788,
          0.797979797979798,
          0.8080808080808082,
          0.8181818181818182,
          0.8282828282828284,
          0.8383838383838385,
          0.8484848484848485,
          0.8585858585858587,
          0.8686868686868687,
          0.8787878787878789,
          0.888888888888889,
          0.8989898989898991,
          0.9090909090909092,
          0.9191919191919192,
          0.9292929292929294,
          0.9393939393939394,
          0.9494949494949496,
          0.9595959595959597,
          0.9696969696969697,
          0.9797979797979799,
          0.98989898989899,
          1
         ],
         "y": [
          1,
          1.009567378122102,
          0.9852633693898919,
          1.0033172172347125,
          0.9833806118386831,
          0.9798761493603226,
          1.0088461803504667,
          1.0348244286949915,
          1.036313296623513,
          1.031461303692167,
          1.0331957199757187,
          1.0876795860219317,
          1.0882678131898278,
          1.0789295283406188,
          1.0611857697332716,
          1.0241177590088932,
          1.0273564643236994,
          1.0058352704997393,
          1.026730082957836,
          1.005689231030346,
          0.9657187737500452,
          0.9960257852142954,
          1.0340357713845105,
          1.0485438590049752,
          1.0469350066992138,
          1.0813565322813683,
          1.0956377206273968,
          1.0726423075367493,
          1.0896810462993674,
          1.1144015825458868,
          1.1547269426014948,
          1.178931929310362,
          1.1699199165420715,
          1.176549734175861,
          1.1965733291204816,
          1.2004481281721642,
          1.2072105037119012,
          1.171948242864713,
          1.1566179193247694,
          1.192408674596693,
          1.1943595662841644,
          1.161980876630347,
          1.186208885106821,
          1.25992260330787,
          1.3198075750309803,
          1.3112613150295482,
          1.3211481973969788,
          1.263100901160409,
          1.2580869478058738,
          1.260512402927301,
          1.261110781059095,
          1.2373698985677226,
          1.242025579194747,
          1.231855919308265,
          1.2709263927811647,
          1.269235032596698,
          1.287703495051985,
          1.2761513513123033,
          1.3042953882907913,
          1.2779707793910056,
          1.2832209764245404,
          1.2528374158385467,
          1.227930741936931,
          1.2447302284281414,
          1.2414986677779325,
          1.2781246063539249,
          1.3326264271350399,
          1.3661063693375297,
          1.3317792897826906,
          1.3505477118038889,
          1.365016884967584,
          1.425315418801167,
          1.4404715609905587,
          1.4130542121399166,
          1.4642139693392318,
          1.4141811848559909,
          1.3622856612063792,
          1.3636155678972683,
          1.3759290027345452,
          1.3248148092729524,
          1.3138342389184368,
          1.3170403726561568,
          1.2880054686788074,
          1.3008139637066989,
          1.2789778517383912,
          1.2446995096796476,
          1.2072393979932268,
          1.1669751490183926,
          1.1950053462752233,
          1.2075741800716637,
          1.2136502583219262,
          1.2295703923372976,
          1.2236319992120954,
          1.21494879980646,
          1.1869354037398305,
          1.208461740122487,
          1.2134090500540102,
          1.2158859770644013,
          1.1983379822815179,
          1.1585212383212515
         ]
        },
        {
         "line": {
          "color": "rgba(50, 171, 96, 0.8999999999999999)",
          "dash": "solid",
          "shape": "linear",
          "width": 1.3
         },
         "marker": {
          "size": 5,
          "symbol": "circle"
         },
         "mode": "lines+markers",
         "name": "path 14",
         "text": "",
         "type": "scatter",
         "x": [
          0,
          0.010101010101010102,
          0.020202020202020204,
          0.030303030303030304,
          0.04040404040404041,
          0.05050505050505051,
          0.06060606060606061,
          0.07070707070707072,
          0.08080808080808081,
          0.09090909090909091,
          0.10101010101010102,
          0.11111111111111112,
          0.12121212121212122,
          0.13131313131313133,
          0.14141414141414144,
          0.15151515151515152,
          0.16161616161616163,
          0.17171717171717174,
          0.18181818181818182,
          0.19191919191919193,
          0.20202020202020204,
          0.21212121212121213,
          0.22222222222222224,
          0.23232323232323235,
          0.24242424242424243,
          0.25252525252525254,
          0.26262626262626265,
          0.27272727272727276,
          0.2828282828282829,
          0.29292929292929293,
          0.30303030303030304,
          0.31313131313131315,
          0.32323232323232326,
          0.33333333333333337,
          0.3434343434343435,
          0.3535353535353536,
          0.36363636363636365,
          0.37373737373737376,
          0.38383838383838387,
          0.393939393939394,
          0.4040404040404041,
          0.4141414141414142,
          0.42424242424242425,
          0.43434343434343436,
          0.4444444444444445,
          0.4545454545454546,
          0.4646464646464647,
          0.4747474747474748,
          0.48484848484848486,
          0.494949494949495,
          0.5050505050505051,
          0.5151515151515152,
          0.5252525252525253,
          0.5353535353535354,
          0.5454545454545455,
          0.5555555555555556,
          0.5656565656565657,
          0.5757575757575758,
          0.5858585858585859,
          0.595959595959596,
          0.6060606060606061,
          0.6161616161616162,
          0.6262626262626263,
          0.6363636363636365,
          0.6464646464646465,
          0.6565656565656566,
          0.6666666666666667,
          0.6767676767676768,
          0.686868686868687,
          0.696969696969697,
          0.7070707070707072,
          0.7171717171717172,
          0.7272727272727273,
          0.7373737373737375,
          0.7474747474747475,
          0.7575757575757577,
          0.7676767676767677,
          0.7777777777777778,
          0.787878787878788,
          0.797979797979798,
          0.8080808080808082,
          0.8181818181818182,
          0.8282828282828284,
          0.8383838383838385,
          0.8484848484848485,
          0.8585858585858587,
          0.8686868686868687,
          0.8787878787878789,
          0.888888888888889,
          0.8989898989898991,
          0.9090909090909092,
          0.9191919191919192,
          0.9292929292929294,
          0.9393939393939394,
          0.9494949494949496,
          0.9595959595959597,
          0.9696969696969697,
          0.9797979797979799,
          0.98989898989899,
          1
         ],
         "y": [
          1,
          1.0250703661990515,
          1.0304758590814753,
          1.0284378476904747,
          1.0256462133051696,
          1.0477522961585806,
          1.0788917436858292,
          1.0561447944796134,
          1.087445686474432,
          1.0822091282231534,
          1.064146546579353,
          1.0818044852188138,
          1.1130424284962532,
          1.1138595497423012,
          1.158031372386627,
          1.1819956097848017,
          1.21567964303406,
          1.1966177788720804,
          1.2032655924240125,
          1.1996122620617624,
          1.171629804451522,
          1.148282335710451,
          1.1313724696469292,
          1.132784506410911,
          1.1340292125508862,
          1.1214725921920425,
          1.159566600306401,
          1.1453571610293831,
          1.1908732470149326,
          1.1947040884955662,
          1.1693984237110266,
          1.1452842620206087,
          1.148399975340389,
          1.1673876109015449,
          1.2043936644673987,
          1.216898933484172,
          1.1894255123308373,
          1.230092403521313,
          1.2447263320293889,
          1.2603482961136774,
          1.3135876116022178,
          1.321280616439497,
          1.2890004545534441,
          1.301315042844228,
          1.332279781357302,
          1.305550675094751,
          1.2855970297131996,
          1.2653661291259513,
          1.2448520982333278,
          1.2118554751016093,
          1.1893652058338036,
          1.1839095570107536,
          1.168814407829265,
          1.1988324598814153,
          1.1843470906977054,
          1.2291473082311561,
          1.205940862670509,
          1.1847607743238266,
          1.2396936058987458,
          1.2295154214769595,
          1.262498434826725,
          1.2620973627927465,
          1.2418873311708634,
          1.2138772594236567,
          1.183106698601153,
          1.1483426281898839,
          1.1457180799431685,
          1.1776118710284398,
          1.1753869517272844,
          1.1926021436234773,
          1.1989481402721984,
          1.241901794906358,
          1.284400155115749,
          1.3049406251800175,
          1.3472604468602558,
          1.3503636481695989,
          1.2938025982524874,
          1.2567928239740886,
          1.2915663011574652,
          1.2690187273034312,
          1.23456531283316,
          1.277557381003793,
          1.2793875783456188,
          1.290104011590068,
          1.284953706079171,
          1.2502444866434919,
          1.2449249946391512,
          1.254813396096378,
          1.255231059288643,
          1.252534261903308,
          1.2540168404638032,
          1.235948314682533,
          1.239291901034105,
          1.2527132059503658,
          1.2427572472282737,
          1.2205600525654106,
          1.226187817742376,
          1.196532818047937,
          1.1581032087519179,
          1.1727752191468372
         ]
        },
        {
         "line": {
          "color": "rgba(128, 0, 128, 0.8999999999999999)",
          "dash": "solid",
          "shape": "linear",
          "width": 1.3
         },
         "marker": {
          "size": 5,
          "symbol": "circle"
         },
         "mode": "lines+markers",
         "name": "path 15",
         "text": "",
         "type": "scatter",
         "x": [
          0,
          0.010101010101010102,
          0.020202020202020204,
          0.030303030303030304,
          0.04040404040404041,
          0.05050505050505051,
          0.06060606060606061,
          0.07070707070707072,
          0.08080808080808081,
          0.09090909090909091,
          0.10101010101010102,
          0.11111111111111112,
          0.12121212121212122,
          0.13131313131313133,
          0.14141414141414144,
          0.15151515151515152,
          0.16161616161616163,
          0.17171717171717174,
          0.18181818181818182,
          0.19191919191919193,
          0.20202020202020204,
          0.21212121212121213,
          0.22222222222222224,
          0.23232323232323235,
          0.24242424242424243,
          0.25252525252525254,
          0.26262626262626265,
          0.27272727272727276,
          0.2828282828282829,
          0.29292929292929293,
          0.30303030303030304,
          0.31313131313131315,
          0.32323232323232326,
          0.33333333333333337,
          0.3434343434343435,
          0.3535353535353536,
          0.36363636363636365,
          0.37373737373737376,
          0.38383838383838387,
          0.393939393939394,
          0.4040404040404041,
          0.4141414141414142,
          0.42424242424242425,
          0.43434343434343436,
          0.4444444444444445,
          0.4545454545454546,
          0.4646464646464647,
          0.4747474747474748,
          0.48484848484848486,
          0.494949494949495,
          0.5050505050505051,
          0.5151515151515152,
          0.5252525252525253,
          0.5353535353535354,
          0.5454545454545455,
          0.5555555555555556,
          0.5656565656565657,
          0.5757575757575758,
          0.5858585858585859,
          0.595959595959596,
          0.6060606060606061,
          0.6161616161616162,
          0.6262626262626263,
          0.6363636363636365,
          0.6464646464646465,
          0.6565656565656566,
          0.6666666666666667,
          0.6767676767676768,
          0.686868686868687,
          0.696969696969697,
          0.7070707070707072,
          0.7171717171717172,
          0.7272727272727273,
          0.7373737373737375,
          0.7474747474747475,
          0.7575757575757577,
          0.7676767676767677,
          0.7777777777777778,
          0.787878787878788,
          0.797979797979798,
          0.8080808080808082,
          0.8181818181818182,
          0.8282828282828284,
          0.8383838383838385,
          0.8484848484848485,
          0.8585858585858587,
          0.8686868686868687,
          0.8787878787878789,
          0.888888888888889,
          0.8989898989898991,
          0.9090909090909092,
          0.9191919191919192,
          0.9292929292929294,
          0.9393939393939394,
          0.9494949494949496,
          0.9595959595959597,
          0.9696969696969697,
          0.9797979797979799,
          0.98989898989899,
          1
         ],
         "y": [
          1,
          1.0088217716622356,
          0.9887703417109744,
          0.9882710684611653,
          0.99308760498855,
          0.9606473851379553,
          0.9344769461592276,
          0.946364988368122,
          0.9470739617942572,
          0.9243173921929821,
          0.9233393768441935,
          0.9480710643321597,
          0.9421334793450201,
          0.9495621091107022,
          0.9386218960293867,
          0.9321412160946517,
          0.9571351288829778,
          0.9603677628200916,
          0.9392880357216618,
          0.9159403180598178,
          0.9145270557683901,
          0.890150551565407,
          0.8866956648080144,
          0.8686254324281052,
          0.8529999846754864,
          0.8355645490967352,
          0.8105507245931629,
          0.7999101038099192,
          0.7713117996076371,
          0.788324596200435,
          0.788060717990586,
          0.7836316437339973,
          0.7814325636913603,
          0.7734796774504894,
          0.7881160209019196,
          0.7704615013917557,
          0.7968207188927465,
          0.7992138765808929,
          0.8047381981720794,
          0.8254271315014531,
          0.8202937125725841,
          0.850299978641202,
          0.8272660781509474,
          0.824985999975894,
          0.8334229168935777,
          0.8486212853742074,
          0.8185796111602148,
          0.8325567957375063,
          0.8197620430566045,
          0.8099747579446864,
          0.7738990028084687,
          0.7892150800551967,
          0.7893608949457698,
          0.7971620887508082,
          0.788433594507115,
          0.7943464396941811,
          0.7845312301249165,
          0.8066933916790973,
          0.8197538044589374,
          0.8063204476618389,
          0.7955406441913665,
          0.8050478328462602,
          0.8117901842660934,
          0.822973975045177,
          0.81534911070998,
          0.7744853148482115,
          0.76086777683471,
          0.7682986301327055,
          0.7935405982842465,
          0.7843205344703821,
          0.7962236971804781,
          0.7885185605759409,
          0.811208032591523,
          0.823952134751832,
          0.7886242650982741,
          0.7850311960980102,
          0.777769189262489,
          0.7595522910948975,
          0.7518219649343073,
          0.7463546191438141,
          0.7421684633153285,
          0.7564179720828679,
          0.7609520302458302,
          0.7705452260056112,
          0.7797394348039098,
          0.7685190232497588,
          0.7647957481471005,
          0.7549029909367714,
          0.7569229126519407,
          0.7396757663672022,
          0.7301476326792812,
          0.7098230709431406,
          0.7032816222011925,
          0.7087401227607946,
          0.7116396387509148,
          0.6865972552668014,
          0.6808551941674246,
          0.6984976613935875,
          0.7027216416925205,
          0.6999448809365247
         ]
        },
        {
         "line": {
          "color": "rgba(219, 64, 82, 0.8999999999999999)",
          "dash": "solid",
          "shape": "linear",
          "width": 1.3
         },
         "marker": {
          "size": 5,
          "symbol": "circle"
         },
         "mode": "lines+markers",
         "name": "path 16",
         "text": "",
         "type": "scatter",
         "x": [
          0,
          0.010101010101010102,
          0.020202020202020204,
          0.030303030303030304,
          0.04040404040404041,
          0.05050505050505051,
          0.06060606060606061,
          0.07070707070707072,
          0.08080808080808081,
          0.09090909090909091,
          0.10101010101010102,
          0.11111111111111112,
          0.12121212121212122,
          0.13131313131313133,
          0.14141414141414144,
          0.15151515151515152,
          0.16161616161616163,
          0.17171717171717174,
          0.18181818181818182,
          0.19191919191919193,
          0.20202020202020204,
          0.21212121212121213,
          0.22222222222222224,
          0.23232323232323235,
          0.24242424242424243,
          0.25252525252525254,
          0.26262626262626265,
          0.27272727272727276,
          0.2828282828282829,
          0.29292929292929293,
          0.30303030303030304,
          0.31313131313131315,
          0.32323232323232326,
          0.33333333333333337,
          0.3434343434343435,
          0.3535353535353536,
          0.36363636363636365,
          0.37373737373737376,
          0.38383838383838387,
          0.393939393939394,
          0.4040404040404041,
          0.4141414141414142,
          0.42424242424242425,
          0.43434343434343436,
          0.4444444444444445,
          0.4545454545454546,
          0.4646464646464647,
          0.4747474747474748,
          0.48484848484848486,
          0.494949494949495,
          0.5050505050505051,
          0.5151515151515152,
          0.5252525252525253,
          0.5353535353535354,
          0.5454545454545455,
          0.5555555555555556,
          0.5656565656565657,
          0.5757575757575758,
          0.5858585858585859,
          0.595959595959596,
          0.6060606060606061,
          0.6161616161616162,
          0.6262626262626263,
          0.6363636363636365,
          0.6464646464646465,
          0.6565656565656566,
          0.6666666666666667,
          0.6767676767676768,
          0.686868686868687,
          0.696969696969697,
          0.7070707070707072,
          0.7171717171717172,
          0.7272727272727273,
          0.7373737373737375,
          0.7474747474747475,
          0.7575757575757577,
          0.7676767676767677,
          0.7777777777777778,
          0.787878787878788,
          0.797979797979798,
          0.8080808080808082,
          0.8181818181818182,
          0.8282828282828284,
          0.8383838383838385,
          0.8484848484848485,
          0.8585858585858587,
          0.8686868686868687,
          0.8787878787878789,
          0.888888888888889,
          0.8989898989898991,
          0.9090909090909092,
          0.9191919191919192,
          0.9292929292929294,
          0.9393939393939394,
          0.9494949494949496,
          0.9595959595959597,
          0.9696969696969697,
          0.9797979797979799,
          0.98989898989899,
          1
         ],
         "y": [
          1,
          1.0339392134208616,
          1.0101613886622156,
          0.9993455444569843,
          0.9923105491680639,
          0.9709858924732813,
          0.9810014317413616,
          0.9753775024967163,
          0.9859565157815232,
          0.9923715624035518,
          0.9922059433487471,
          0.9537400421159975,
          1.0114181504303719,
          1.018492099702123,
          1.041516491429101,
          1.0238721546265164,
          0.999185482976468,
          0.9895693350110382,
          0.9830285754065305,
          0.9897843030805206,
          1.021179443794623,
          1.0133503541246023,
          1.007826381246062,
          0.9731547044315544,
          0.9860739148826171,
          0.9882662330787481,
          0.9964810693004454,
          1.0112828950426078,
          1.0179763417697834,
          1.040715760281142,
          1.0267989314313486,
          1.035230329895106,
          1.013905032689578,
          1.0644932885577658,
          1.0500652500718741,
          1.0465894212056397,
          1.036076244515934,
          1.011426756817903,
          1.013479289716731,
          1.0233531213027807,
          1.0064301271424625,
          1.0029947532549968,
          0.9845415446223243,
          1.0379204576215018,
          1.0144888135561625,
          0.988440239923209,
          0.9728276028812078,
          0.9788962410010542,
          0.9751314248157952,
          0.9603439939685259,
          0.9254286018806352,
          0.9061777113451068,
          0.8984916455497637,
          0.9425411064547902,
          0.9565052357063015,
          0.9297857922696487,
          0.9293802310459808,
          0.9237831694255174,
          0.9016161546892737,
          0.9184950496156675,
          0.9403128936904587,
          0.9326227024144718,
          0.9481645667375707,
          0.9495410045500433,
          0.9438924673764413,
          0.9520450574438796,
          0.913869861836801,
          0.8987665355046891,
          0.8928353699232786,
          0.864125234188341,
          0.8386241046858834,
          0.83813935751434,
          0.8209755253250934,
          0.852438983608044,
          0.8429833288848428,
          0.8459456559176284,
          0.847079697928294,
          0.871279270958612,
          0.8763585348959863,
          0.9209776920608896,
          0.8593461018279325,
          0.8504027384772559,
          0.8570800224865217,
          0.8389328767977227,
          0.8275477602931146,
          0.8376704441527281,
          0.8450712996353211,
          0.8420441214234643,
          0.8394796259397356,
          0.8526692715671599,
          0.827990751397933,
          0.8193315990711734,
          0.8326270767869701,
          0.8261665140273486,
          0.8205730856790258,
          0.8487151782187817,
          0.8230340452505677,
          0.8144503466088664,
          0.8323914715822394,
          0.8441338083816823
         ]
        },
        {
         "line": {
          "color": "rgba(0, 128, 128, 0.8999999999999999)",
          "dash": "solid",
          "shape": "linear",
          "width": 1.3
         },
         "marker": {
          "size": 5,
          "symbol": "circle"
         },
         "mode": "lines+markers",
         "name": "path 17",
         "text": "",
         "type": "scatter",
         "x": [
          0,
          0.010101010101010102,
          0.020202020202020204,
          0.030303030303030304,
          0.04040404040404041,
          0.05050505050505051,
          0.06060606060606061,
          0.07070707070707072,
          0.08080808080808081,
          0.09090909090909091,
          0.10101010101010102,
          0.11111111111111112,
          0.12121212121212122,
          0.13131313131313133,
          0.14141414141414144,
          0.15151515151515152,
          0.16161616161616163,
          0.17171717171717174,
          0.18181818181818182,
          0.19191919191919193,
          0.20202020202020204,
          0.21212121212121213,
          0.22222222222222224,
          0.23232323232323235,
          0.24242424242424243,
          0.25252525252525254,
          0.26262626262626265,
          0.27272727272727276,
          0.2828282828282829,
          0.29292929292929293,
          0.30303030303030304,
          0.31313131313131315,
          0.32323232323232326,
          0.33333333333333337,
          0.3434343434343435,
          0.3535353535353536,
          0.36363636363636365,
          0.37373737373737376,
          0.38383838383838387,
          0.393939393939394,
          0.4040404040404041,
          0.4141414141414142,
          0.42424242424242425,
          0.43434343434343436,
          0.4444444444444445,
          0.4545454545454546,
          0.4646464646464647,
          0.4747474747474748,
          0.48484848484848486,
          0.494949494949495,
          0.5050505050505051,
          0.5151515151515152,
          0.5252525252525253,
          0.5353535353535354,
          0.5454545454545455,
          0.5555555555555556,
          0.5656565656565657,
          0.5757575757575758,
          0.5858585858585859,
          0.595959595959596,
          0.6060606060606061,
          0.6161616161616162,
          0.6262626262626263,
          0.6363636363636365,
          0.6464646464646465,
          0.6565656565656566,
          0.6666666666666667,
          0.6767676767676768,
          0.686868686868687,
          0.696969696969697,
          0.7070707070707072,
          0.7171717171717172,
          0.7272727272727273,
          0.7373737373737375,
          0.7474747474747475,
          0.7575757575757577,
          0.7676767676767677,
          0.7777777777777778,
          0.787878787878788,
          0.797979797979798,
          0.8080808080808082,
          0.8181818181818182,
          0.8282828282828284,
          0.8383838383838385,
          0.8484848484848485,
          0.8585858585858587,
          0.8686868686868687,
          0.8787878787878789,
          0.888888888888889,
          0.8989898989898991,
          0.9090909090909092,
          0.9191919191919192,
          0.9292929292929294,
          0.9393939393939394,
          0.9494949494949496,
          0.9595959595959597,
          0.9696969696969697,
          0.9797979797979799,
          0.98989898989899,
          1
         ],
         "y": [
          1,
          0.9630176918558075,
          0.9469311481261525,
          0.9156515536077305,
          0.9383569944624133,
          0.9478155150880329,
          0.9683529989494384,
          0.9502108949684377,
          0.9318690324924094,
          0.8897743194418793,
          0.9000631004812026,
          0.9151486061427287,
          0.9306379810113283,
          0.9024156714284315,
          0.8958676662449091,
          0.8791907234430102,
          0.8705119838934313,
          0.8598047657732104,
          0.8575662598127066,
          0.8387907404372495,
          0.8608252378006669,
          0.8617820265909452,
          0.846288811389217,
          0.8308042327202149,
          0.8462880821127795,
          0.80995384840775,
          0.816671009935578,
          0.8179985798736322,
          0.8104287712021324,
          0.811725757335099,
          0.8255610709549963,
          0.8276009799412976,
          0.8413188477474685,
          0.8499677503883907,
          0.8451290607943384,
          0.8568970598282859,
          0.831020303026184,
          0.8134333559198959,
          0.8327427839683613,
          0.8222011700949896,
          0.8333984140027192,
          0.8501396108592599,
          0.8170608637257866,
          0.8072816798031084,
          0.8108150030249456,
          0.8182729466310668,
          0.8289034564132843,
          0.8361278888596191,
          0.8294140934808121,
          0.8341604712691595,
          0.8106140081128566,
          0.7866516896942828,
          0.7744566036494125,
          0.7600710055619952,
          0.7231956176762314,
          0.6835138335262158,
          0.680422855151273,
          0.6475795693973831,
          0.6367411147433344,
          0.6397352673359095,
          0.6524065401584422,
          0.6613768550763139,
          0.6381817205595287,
          0.6336660991545167,
          0.6437085180354922,
          0.6109238883976505,
          0.6305581500948245,
          0.6451869030799128,
          0.6516735116425453,
          0.6712688721045804,
          0.6657715197151055,
          0.6629727935377238,
          0.667106618130136,
          0.655261902875184,
          0.6660449957358822,
          0.6762058259433263,
          0.6674387257811475,
          0.6874221255261294,
          0.6802433966611325,
          0.7209672341655259,
          0.727476795163968,
          0.7278015120914508,
          0.714340900350274,
          0.7286947691036548,
          0.7251506159532859,
          0.71524179843374,
          0.7016094287380701,
          0.7001209032325165,
          0.7148577008267648,
          0.7285863568628209,
          0.7299531537702926,
          0.7518199751447645,
          0.795882936415661,
          0.7586684468512145,
          0.795149778042297,
          0.8004778075820119,
          0.8179511915025611,
          0.8166681405787521,
          0.7876746987842526,
          0.7974819280216529
         ]
        },
        {
         "line": {
          "color": "rgba(255, 255, 51, 0.8999999999999999)",
          "dash": "solid",
          "shape": "linear",
          "width": 1.3
         },
         "marker": {
          "size": 5,
          "symbol": "circle"
         },
         "mode": "lines+markers",
         "name": "path 18",
         "text": "",
         "type": "scatter",
         "x": [
          0,
          0.010101010101010102,
          0.020202020202020204,
          0.030303030303030304,
          0.04040404040404041,
          0.05050505050505051,
          0.06060606060606061,
          0.07070707070707072,
          0.08080808080808081,
          0.09090909090909091,
          0.10101010101010102,
          0.11111111111111112,
          0.12121212121212122,
          0.13131313131313133,
          0.14141414141414144,
          0.15151515151515152,
          0.16161616161616163,
          0.17171717171717174,
          0.18181818181818182,
          0.19191919191919193,
          0.20202020202020204,
          0.21212121212121213,
          0.22222222222222224,
          0.23232323232323235,
          0.24242424242424243,
          0.25252525252525254,
          0.26262626262626265,
          0.27272727272727276,
          0.2828282828282829,
          0.29292929292929293,
          0.30303030303030304,
          0.31313131313131315,
          0.32323232323232326,
          0.33333333333333337,
          0.3434343434343435,
          0.3535353535353536,
          0.36363636363636365,
          0.37373737373737376,
          0.38383838383838387,
          0.393939393939394,
          0.4040404040404041,
          0.4141414141414142,
          0.42424242424242425,
          0.43434343434343436,
          0.4444444444444445,
          0.4545454545454546,
          0.4646464646464647,
          0.4747474747474748,
          0.48484848484848486,
          0.494949494949495,
          0.5050505050505051,
          0.5151515151515152,
          0.5252525252525253,
          0.5353535353535354,
          0.5454545454545455,
          0.5555555555555556,
          0.5656565656565657,
          0.5757575757575758,
          0.5858585858585859,
          0.595959595959596,
          0.6060606060606061,
          0.6161616161616162,
          0.6262626262626263,
          0.6363636363636365,
          0.6464646464646465,
          0.6565656565656566,
          0.6666666666666667,
          0.6767676767676768,
          0.686868686868687,
          0.696969696969697,
          0.7070707070707072,
          0.7171717171717172,
          0.7272727272727273,
          0.7373737373737375,
          0.7474747474747475,
          0.7575757575757577,
          0.7676767676767677,
          0.7777777777777778,
          0.787878787878788,
          0.797979797979798,
          0.8080808080808082,
          0.8181818181818182,
          0.8282828282828284,
          0.8383838383838385,
          0.8484848484848485,
          0.8585858585858587,
          0.8686868686868687,
          0.8787878787878789,
          0.888888888888889,
          0.8989898989898991,
          0.9090909090909092,
          0.9191919191919192,
          0.9292929292929294,
          0.9393939393939394,
          0.9494949494949496,
          0.9595959595959597,
          0.9696969696969697,
          0.9797979797979799,
          0.98989898989899,
          1
         ],
         "y": [
          1,
          1.0043092218000202,
          1.015020001836591,
          1.0045296746854633,
          0.9766900676582453,
          0.9463253656992763,
          0.9895547138327335,
          0.9946903034687207,
          0.9896827069515682,
          0.9964429410750864,
          1.0404939414592873,
          1.073324656127851,
          1.091499524269133,
          1.1033905273520341,
          1.1316299267411307,
          1.1521784176953236,
          1.1929631849447477,
          1.2269877636175572,
          1.2377476855758927,
          1.20196675379772,
          1.2712043562359574,
          1.291522660679607,
          1.2852320171963432,
          1.307784836046512,
          1.2883340281030549,
          1.3115145159042534,
          1.3079812223443288,
          1.3291625429689646,
          1.333859676364474,
          1.351894681454155,
          1.3689118399822582,
          1.3754005455778524,
          1.3997889332356213,
          1.3670218976252921,
          1.354844975895038,
          1.3325581819466215,
          1.363742489876851,
          1.3559463469622957,
          1.3676600294742496,
          1.4011827462414712,
          1.4190955525385942,
          1.4218927969703448,
          1.4535025421295193,
          1.4885140821788994,
          1.513572680475162,
          1.5701267811645594,
          1.5543604877016244,
          1.5447642098035466,
          1.521177408549825,
          1.5140900523905076,
          1.4575291644930977,
          1.4804843396492942,
          1.4582712906580424,
          1.4951417258562263,
          1.4891384438066961,
          1.5117587806590211,
          1.5155545132777348,
          1.5301198393784112,
          1.5318167122713509,
          1.4956623188519933,
          1.5465077888922765,
          1.580247469159223,
          1.529231613580648,
          1.5533885044825493,
          1.496174084632381,
          1.5308556239610285,
          1.5673314266119653,
          1.5706322641609185,
          1.5652024096084085,
          1.5661093455670523,
          1.583143975316395,
          1.617468466730365,
          1.6249720690015956,
          1.6886477155508957,
          1.6502402895154498,
          1.6070649327409043,
          1.6410145224837425,
          1.6563191009308547,
          1.6664914116422371,
          1.7149416721429298,
          1.7049003408285928,
          1.692565432636432,
          1.6317252952802512,
          1.6461893840913773,
          1.626692994309375,
          1.6078274805878212,
          1.6103506105241165,
          1.6256506189582924,
          1.6474773516617711,
          1.6906625494161418,
          1.6825203090385843,
          1.7004990735457157,
          1.6684163161670162,
          1.6300932296271164,
          1.6383177056502543,
          1.6255391291310899,
          1.624577427426591,
          1.6376027118278667,
          1.610320425609351,
          1.5678336870850453
         ]
        },
        {
         "line": {
          "color": "rgba(128, 128, 0, 0.8999999999999999)",
          "dash": "solid",
          "shape": "linear",
          "width": 1.3
         },
         "marker": {
          "size": 5,
          "symbol": "circle"
         },
         "mode": "lines+markers",
         "name": "path 19",
         "text": "",
         "type": "scatter",
         "x": [
          0,
          0.010101010101010102,
          0.020202020202020204,
          0.030303030303030304,
          0.04040404040404041,
          0.05050505050505051,
          0.06060606060606061,
          0.07070707070707072,
          0.08080808080808081,
          0.09090909090909091,
          0.10101010101010102,
          0.11111111111111112,
          0.12121212121212122,
          0.13131313131313133,
          0.14141414141414144,
          0.15151515151515152,
          0.16161616161616163,
          0.17171717171717174,
          0.18181818181818182,
          0.19191919191919193,
          0.20202020202020204,
          0.21212121212121213,
          0.22222222222222224,
          0.23232323232323235,
          0.24242424242424243,
          0.25252525252525254,
          0.26262626262626265,
          0.27272727272727276,
          0.2828282828282829,
          0.29292929292929293,
          0.30303030303030304,
          0.31313131313131315,
          0.32323232323232326,
          0.33333333333333337,
          0.3434343434343435,
          0.3535353535353536,
          0.36363636363636365,
          0.37373737373737376,
          0.38383838383838387,
          0.393939393939394,
          0.4040404040404041,
          0.4141414141414142,
          0.42424242424242425,
          0.43434343434343436,
          0.4444444444444445,
          0.4545454545454546,
          0.4646464646464647,
          0.4747474747474748,
          0.48484848484848486,
          0.494949494949495,
          0.5050505050505051,
          0.5151515151515152,
          0.5252525252525253,
          0.5353535353535354,
          0.5454545454545455,
          0.5555555555555556,
          0.5656565656565657,
          0.5757575757575758,
          0.5858585858585859,
          0.595959595959596,
          0.6060606060606061,
          0.6161616161616162,
          0.6262626262626263,
          0.6363636363636365,
          0.6464646464646465,
          0.6565656565656566,
          0.6666666666666667,
          0.6767676767676768,
          0.686868686868687,
          0.696969696969697,
          0.7070707070707072,
          0.7171717171717172,
          0.7272727272727273,
          0.7373737373737375,
          0.7474747474747475,
          0.7575757575757577,
          0.7676767676767677,
          0.7777777777777778,
          0.787878787878788,
          0.797979797979798,
          0.8080808080808082,
          0.8181818181818182,
          0.8282828282828284,
          0.8383838383838385,
          0.8484848484848485,
          0.8585858585858587,
          0.8686868686868687,
          0.8787878787878789,
          0.888888888888889,
          0.8989898989898991,
          0.9090909090909092,
          0.9191919191919192,
          0.9292929292929294,
          0.9393939393939394,
          0.9494949494949496,
          0.9595959595959597,
          0.9696969696969697,
          0.9797979797979799,
          0.98989898989899,
          1
         ],
         "y": [
          1,
          1.023590197245516,
          1.0317806465578057,
          1.0333132951372366,
          1.0500592681495713,
          1.0392694413395773,
          1.0445973194531533,
          1.07205761440332,
          1.0746058646748342,
          1.0631113033617308,
          1.069592686928212,
          1.0802410596951249,
          1.0610809265339185,
          1.0606015144916228,
          1.0666432433928927,
          1.0518694294155224,
          1.0422007387334227,
          1.040812721705395,
          1.04825600921315,
          1.0299391366741633,
          1.019430377347386,
          1.0538465023626127,
          1.063858633649555,
          1.0656907322865339,
          1.0437469405934723,
          1.0135514024493841,
          1.02762436436551,
          1.0168266550047158,
          1.012555409408939,
          1.016338812517652,
          1.020232709973613,
          0.9972974187924204,
          0.9828763122075587,
          0.9945155252834956,
          0.9942792982767383,
          0.999433973348767,
          0.9805721103781653,
          1.0220213361715222,
          1.011339569618591,
          1.0409850436133412,
          1.0354059484082736,
          1.0393939975228115,
          1.0187527903024904,
          0.9940495395229695,
          1.0018163168206002,
          0.9790664736240725,
          0.9922633870197081,
          0.9934015150278258,
          0.9696352328696738,
          0.9458355645817462,
          0.955984494649938,
          0.9426399308971609,
          0.9369504482724701,
          0.947142734381537,
          0.9408871249129835,
          0.9162480406072248,
          0.9196436171085188,
          0.929906084761394,
          0.9021046836479408,
          0.8807228343767628,
          0.8740329509929116,
          0.855652656617775,
          0.8691147134365627,
          0.8690656771102497,
          0.885760390240196,
          0.900451291729723,
          0.8911185274372416,
          0.8931912747485935,
          0.9015764779758775,
          0.9021241142174657,
          0.9148002428056703,
          0.9244335255195683,
          0.936053633352851,
          0.9071309235965515,
          0.9296924763398225,
          0.9558968336973358,
          0.9452179605288191,
          0.9264612997906183,
          0.8849950538461085,
          0.9100338316155447,
          0.89211126171319,
          0.9224499220416154,
          0.9371759169881767,
          0.9222068187415514,
          0.8981838220518606,
          0.918010065067925,
          0.9378953022141828,
          0.9046220511206584,
          0.8993222639974768,
          0.8955585493016937,
          0.8883239351366672,
          0.8904376049259798,
          0.9053803113754189,
          0.9082664051631277,
          0.8964509882274644,
          0.9168419710709088,
          0.9485548551168089,
          0.9379801624809999,
          0.9197374592869347,
          0.9329798314479937
         ]
        },
        {
         "line": {
          "color": "rgba(251, 128, 114, 0.8999999999999999)",
          "dash": "solid",
          "shape": "linear",
          "width": 1.3
         },
         "marker": {
          "size": 5,
          "symbol": "circle"
         },
         "mode": "lines+markers",
         "name": "path 20",
         "text": "",
         "type": "scatter",
         "x": [
          0,
          0.010101010101010102,
          0.020202020202020204,
          0.030303030303030304,
          0.04040404040404041,
          0.05050505050505051,
          0.06060606060606061,
          0.07070707070707072,
          0.08080808080808081,
          0.09090909090909091,
          0.10101010101010102,
          0.11111111111111112,
          0.12121212121212122,
          0.13131313131313133,
          0.14141414141414144,
          0.15151515151515152,
          0.16161616161616163,
          0.17171717171717174,
          0.18181818181818182,
          0.19191919191919193,
          0.20202020202020204,
          0.21212121212121213,
          0.22222222222222224,
          0.23232323232323235,
          0.24242424242424243,
          0.25252525252525254,
          0.26262626262626265,
          0.27272727272727276,
          0.2828282828282829,
          0.29292929292929293,
          0.30303030303030304,
          0.31313131313131315,
          0.32323232323232326,
          0.33333333333333337,
          0.3434343434343435,
          0.3535353535353536,
          0.36363636363636365,
          0.37373737373737376,
          0.38383838383838387,
          0.393939393939394,
          0.4040404040404041,
          0.4141414141414142,
          0.42424242424242425,
          0.43434343434343436,
          0.4444444444444445,
          0.4545454545454546,
          0.4646464646464647,
          0.4747474747474748,
          0.48484848484848486,
          0.494949494949495,
          0.5050505050505051,
          0.5151515151515152,
          0.5252525252525253,
          0.5353535353535354,
          0.5454545454545455,
          0.5555555555555556,
          0.5656565656565657,
          0.5757575757575758,
          0.5858585858585859,
          0.595959595959596,
          0.6060606060606061,
          0.6161616161616162,
          0.6262626262626263,
          0.6363636363636365,
          0.6464646464646465,
          0.6565656565656566,
          0.6666666666666667,
          0.6767676767676768,
          0.686868686868687,
          0.696969696969697,
          0.7070707070707072,
          0.7171717171717172,
          0.7272727272727273,
          0.7373737373737375,
          0.7474747474747475,
          0.7575757575757577,
          0.7676767676767677,
          0.7777777777777778,
          0.787878787878788,
          0.797979797979798,
          0.8080808080808082,
          0.8181818181818182,
          0.8282828282828284,
          0.8383838383838385,
          0.8484848484848485,
          0.8585858585858587,
          0.8686868686868687,
          0.8787878787878789,
          0.888888888888889,
          0.8989898989898991,
          0.9090909090909092,
          0.9191919191919192,
          0.9292929292929294,
          0.9393939393939394,
          0.9494949494949496,
          0.9595959595959597,
          0.9696969696969697,
          0.9797979797979799,
          0.98989898989899,
          1
         ],
         "y": [
          1,
          1.0117144080693627,
          1.0334848955861606,
          1.0612932659867707,
          1.077633900185702,
          1.102025726698366,
          1.1034809868713065,
          1.0843955234611595,
          1.0448501510782673,
          1.0481715786131311,
          1.0660439470681704,
          1.0748638954503833,
          1.080559630708648,
          1.0790006794302265,
          1.0749146014789759,
          1.10298665130605,
          1.1321962637959166,
          1.1332361633980395,
          1.1239424539016305,
          1.130153998730076,
          1.1204537702109005,
          1.1028132121039802,
          1.0530536518340352,
          1.081692237327206,
          1.0900653082571017,
          1.1169805502910752,
          1.1581204281900024,
          1.1452858454226928,
          1.1250485527759284,
          1.130670044778504,
          1.1338129346826218,
          1.127793607858375,
          1.1302930050031417,
          1.1314925216419716,
          1.1446571735721969,
          1.1553643313385713,
          1.1513974937623734,
          1.1515985731173664,
          1.1609612016088011,
          1.1551392140565087,
          1.1822628081683446,
          1.135488181047426,
          1.0868637746171148,
          1.0791376086280016,
          1.058489298852581,
          1.0724895686548253,
          1.0932713208435152,
          1.0924193878015747,
          1.0721885535252902,
          1.0459294092526246,
          1.0278685443167968,
          1.024206565946918,
          1.0278121938549092,
          1.0320134184202936,
          1.0526995038476648,
          1.0446695885573487,
          1.0068534115084522,
          1.018327525403777,
          1.0339574049742484,
          1.0540378467445024,
          1.1226019296498533,
          1.1506169307220975,
          1.161638959179695,
          1.1773964132186459,
          1.1731534622047293,
          1.1351379674289832,
          1.1657224813202498,
          1.1246576250803502,
          1.1018188334119843,
          1.073760653273245,
          1.085946826983987,
          1.0584225353025187,
          1.0737462585606279,
          1.0840727004211144,
          1.1319003045903442,
          1.142861228839119,
          1.1707769987514816,
          1.1970008009245374,
          1.1690243772125124,
          1.159430472849837,
          1.1246951247925236,
          1.1646314003230336,
          1.1410095284658373,
          1.145733616809388,
          1.1478478509600676,
          1.1053962631889067,
          1.0943581661420092,
          1.0938716706785072,
          1.0690992829651764,
          1.08202466344383,
          1.0818694167639284,
          1.092274671506968,
          1.0799678232113925,
          1.0679732653756775,
          1.04980361742095,
          1.0763056270153284,
          1.096168304807344,
          1.1033484774748405,
          1.0772131633874973,
          1.0662198244030916
         ]
        },
        {
         "line": {
          "color": "rgba(251, 128, 114, 0.7999999999999998)",
          "dash": "solid",
          "shape": "linear",
          "width": 1.3
         },
         "marker": {
          "size": 5,
          "symbol": "circle"
         },
         "mode": "lines+markers",
         "name": "path 21",
         "text": "",
         "type": "scatter",
         "x": [
          0,
          0.010101010101010102,
          0.020202020202020204,
          0.030303030303030304,
          0.04040404040404041,
          0.05050505050505051,
          0.06060606060606061,
          0.07070707070707072,
          0.08080808080808081,
          0.09090909090909091,
          0.10101010101010102,
          0.11111111111111112,
          0.12121212121212122,
          0.13131313131313133,
          0.14141414141414144,
          0.15151515151515152,
          0.16161616161616163,
          0.17171717171717174,
          0.18181818181818182,
          0.19191919191919193,
          0.20202020202020204,
          0.21212121212121213,
          0.22222222222222224,
          0.23232323232323235,
          0.24242424242424243,
          0.25252525252525254,
          0.26262626262626265,
          0.27272727272727276,
          0.2828282828282829,
          0.29292929292929293,
          0.30303030303030304,
          0.31313131313131315,
          0.32323232323232326,
          0.33333333333333337,
          0.3434343434343435,
          0.3535353535353536,
          0.36363636363636365,
          0.37373737373737376,
          0.38383838383838387,
          0.393939393939394,
          0.4040404040404041,
          0.4141414141414142,
          0.42424242424242425,
          0.43434343434343436,
          0.4444444444444445,
          0.4545454545454546,
          0.4646464646464647,
          0.4747474747474748,
          0.48484848484848486,
          0.494949494949495,
          0.5050505050505051,
          0.5151515151515152,
          0.5252525252525253,
          0.5353535353535354,
          0.5454545454545455,
          0.5555555555555556,
          0.5656565656565657,
          0.5757575757575758,
          0.5858585858585859,
          0.595959595959596,
          0.6060606060606061,
          0.6161616161616162,
          0.6262626262626263,
          0.6363636363636365,
          0.6464646464646465,
          0.6565656565656566,
          0.6666666666666667,
          0.6767676767676768,
          0.686868686868687,
          0.696969696969697,
          0.7070707070707072,
          0.7171717171717172,
          0.7272727272727273,
          0.7373737373737375,
          0.7474747474747475,
          0.7575757575757577,
          0.7676767676767677,
          0.7777777777777778,
          0.787878787878788,
          0.797979797979798,
          0.8080808080808082,
          0.8181818181818182,
          0.8282828282828284,
          0.8383838383838385,
          0.8484848484848485,
          0.8585858585858587,
          0.8686868686868687,
          0.8787878787878789,
          0.888888888888889,
          0.8989898989898991,
          0.9090909090909092,
          0.9191919191919192,
          0.9292929292929294,
          0.9393939393939394,
          0.9494949494949496,
          0.9595959595959597,
          0.9696969696969697,
          0.9797979797979799,
          0.98989898989899,
          1
         ],
         "y": [
          1,
          0.9812540783405549,
          0.9646540200718747,
          0.936793563830236,
          0.9506425322167323,
          0.9481960462098433,
          0.9704530353367763,
          0.9939026210532329,
          0.9875115879441595,
          1.0044217695720754,
          1.0404029881665282,
          1.0498144029488252,
          1.04649785795809,
          1.0157495099983949,
          1.028885256699467,
          1.02638113217333,
          1.0015915772345527,
          1.0001604493060208,
          0.9979125880511633,
          0.9738534307188339,
          0.9810252177661491,
          0.950514002485011,
          0.9400610770634649,
          0.930494014430785,
          0.9388058278095239,
          0.9074375541260531,
          0.9222649267569566,
          0.9312919067348895,
          0.950779889046305,
          0.9761218067034171,
          0.9802899360305364,
          0.9838739315531624,
          0.9711643078998453,
          0.9524204204857474,
          0.940757370255093,
          0.9270009426422866,
          0.9388432018603059,
          0.9544422647320675,
          0.935449478327484,
          0.9330193037289597,
          0.9400979969606468,
          0.9409527568788926,
          0.9083479571227384,
          0.9041860983223268,
          0.8935912252193549,
          0.8919749808421942,
          0.880621123367518,
          0.8720617449649868,
          0.8589526553906225,
          0.8964520894796613,
          0.9083251441240207,
          0.938435636308624,
          0.918148615175992,
          0.9515033059141307,
          0.9518002494664997,
          0.9358008447510208,
          0.9138635633805294,
          0.882787717469347,
          0.9124018045623862,
          0.9220630411360105,
          0.9214960956763176,
          0.9172838528608326,
          0.9213193301856516,
          0.9613878951056175,
          0.9595694559733677,
          0.9663495908789761,
          0.9370692493739501,
          0.9128508522766114,
          0.9323222742357309,
          0.9256038240910939,
          0.889516513934119,
          0.927134051899625,
          0.9328895098614735,
          0.9368044526931083,
          0.9474775994416615,
          0.9441019944129619,
          0.9215440912736568,
          0.9588532177391155,
          0.9562201021577833,
          0.9742714146115588,
          1.0048083367716398,
          1.0370301845258327,
          1.0746472861628966,
          1.08317491651937,
          1.0932835723148049,
          1.085133811180979,
          1.113632957913922,
          1.1342765657542755,
          1.1453403754662914,
          1.1473026541757345,
          1.1680614713313473,
          1.166268492317125,
          1.2238429659964802,
          1.1966512961554348,
          1.1579969539874366,
          1.1571091340269934,
          1.1490795884440228,
          1.2052404768568543,
          1.2183591934541789,
          1.208523658845862
         ]
        },
        {
         "line": {
          "color": "rgba(128, 177, 211, 0.7999999999999998)",
          "dash": "solid",
          "shape": "linear",
          "width": 1.3
         },
         "marker": {
          "size": 5,
          "symbol": "circle"
         },
         "mode": "lines+markers",
         "name": "path 22",
         "text": "",
         "type": "scatter",
         "x": [
          0,
          0.010101010101010102,
          0.020202020202020204,
          0.030303030303030304,
          0.04040404040404041,
          0.05050505050505051,
          0.06060606060606061,
          0.07070707070707072,
          0.08080808080808081,
          0.09090909090909091,
          0.10101010101010102,
          0.11111111111111112,
          0.12121212121212122,
          0.13131313131313133,
          0.14141414141414144,
          0.15151515151515152,
          0.16161616161616163,
          0.17171717171717174,
          0.18181818181818182,
          0.19191919191919193,
          0.20202020202020204,
          0.21212121212121213,
          0.22222222222222224,
          0.23232323232323235,
          0.24242424242424243,
          0.25252525252525254,
          0.26262626262626265,
          0.27272727272727276,
          0.2828282828282829,
          0.29292929292929293,
          0.30303030303030304,
          0.31313131313131315,
          0.32323232323232326,
          0.33333333333333337,
          0.3434343434343435,
          0.3535353535353536,
          0.36363636363636365,
          0.37373737373737376,
          0.38383838383838387,
          0.393939393939394,
          0.4040404040404041,
          0.4141414141414142,
          0.42424242424242425,
          0.43434343434343436,
          0.4444444444444445,
          0.4545454545454546,
          0.4646464646464647,
          0.4747474747474748,
          0.48484848484848486,
          0.494949494949495,
          0.5050505050505051,
          0.5151515151515152,
          0.5252525252525253,
          0.5353535353535354,
          0.5454545454545455,
          0.5555555555555556,
          0.5656565656565657,
          0.5757575757575758,
          0.5858585858585859,
          0.595959595959596,
          0.6060606060606061,
          0.6161616161616162,
          0.6262626262626263,
          0.6363636363636365,
          0.6464646464646465,
          0.6565656565656566,
          0.6666666666666667,
          0.6767676767676768,
          0.686868686868687,
          0.696969696969697,
          0.7070707070707072,
          0.7171717171717172,
          0.7272727272727273,
          0.7373737373737375,
          0.7474747474747475,
          0.7575757575757577,
          0.7676767676767677,
          0.7777777777777778,
          0.787878787878788,
          0.797979797979798,
          0.8080808080808082,
          0.8181818181818182,
          0.8282828282828284,
          0.8383838383838385,
          0.8484848484848485,
          0.8585858585858587,
          0.8686868686868687,
          0.8787878787878789,
          0.888888888888889,
          0.8989898989898991,
          0.9090909090909092,
          0.9191919191919192,
          0.9292929292929294,
          0.9393939393939394,
          0.9494949494949496,
          0.9595959595959597,
          0.9696969696969697,
          0.9797979797979799,
          0.98989898989899,
          1
         ],
         "y": [
          1,
          0.976443358258406,
          0.9413069572712208,
          0.9162450164413082,
          0.9311287956781578,
          0.9476939218722659,
          0.9405802216453107,
          0.9489868186629199,
          0.94879793051751,
          0.9445920465515245,
          0.9658368738431676,
          0.9638761800104991,
          0.9370843145800852,
          0.9640064667453417,
          0.9560842483051972,
          0.9583337053019348,
          1.003129666770514,
          0.9929972743372988,
          0.9992555299571241,
          1.029721282083047,
          1.0582115488850146,
          1.0481204215639774,
          1.0467644940451422,
          1.0843526971312645,
          1.1121154362332322,
          1.105943265330456,
          1.1090485225373563,
          1.1197785602832937,
          1.142773491567599,
          1.1449686491553392,
          1.108688209544347,
          1.1069937799416416,
          1.0859365332847277,
          1.0750799006338312,
          1.0453687578832802,
          1.0413746769166137,
          1.0216189109922171,
          0.9977092166511231,
          0.9907410281503891,
          1.004262576959696,
          0.9834436072972649,
          1.0123774871547648,
          0.9935262781558195,
          0.9853743602652008,
          0.9677262550703984,
          0.9641494261717262,
          0.9307717227578184,
          0.9308098519426237,
          0.9148604246096312,
          0.8944052759391175,
          0.9107322765309276,
          0.89700835241261,
          0.8852857114232738,
          0.8560789322831613,
          0.8565228460455732,
          0.855900228039635,
          0.8428777499049344,
          0.8372205542772577,
          0.8314128055950873,
          0.8536692949763738,
          0.8417365999240509,
          0.8485191266492644,
          0.8644543614117062,
          0.8633263802510275,
          0.8616275183806141,
          0.8402511011326694,
          0.8407304362035806,
          0.8292111467542117,
          0.836791046846234,
          0.8429823077660741,
          0.8335181189794628,
          0.8347502841287948,
          0.8019684903835214,
          0.77782101419806,
          0.7629756613276949,
          0.752003246573171,
          0.727128652114788,
          0.7086560173060618,
          0.7258983464476595,
          0.7272332777669187,
          0.7211906497362991,
          0.7188557541621221,
          0.7298818905861217,
          0.7383782133452993,
          0.7333628831812373,
          0.708063080677402,
          0.703400656734417,
          0.6981464057397855,
          0.7135596934669507,
          0.6853534157475981,
          0.674351428606629,
          0.6582434163414201,
          0.6475925667097884,
          0.6534792289199127,
          0.6469445430491338,
          0.6519456224252257,
          0.6480636735296496,
          0.64251526017166,
          0.6312417630970866,
          0.6309895061091942
         ]
        },
        {
         "line": {
          "color": "rgba(255, 153, 51, 0.7999999999999998)",
          "dash": "solid",
          "shape": "linear",
          "width": 1.3
         },
         "marker": {
          "size": 5,
          "symbol": "circle"
         },
         "mode": "lines+markers",
         "name": "path 23",
         "text": "",
         "type": "scatter",
         "x": [
          0,
          0.010101010101010102,
          0.020202020202020204,
          0.030303030303030304,
          0.04040404040404041,
          0.05050505050505051,
          0.06060606060606061,
          0.07070707070707072,
          0.08080808080808081,
          0.09090909090909091,
          0.10101010101010102,
          0.11111111111111112,
          0.12121212121212122,
          0.13131313131313133,
          0.14141414141414144,
          0.15151515151515152,
          0.16161616161616163,
          0.17171717171717174,
          0.18181818181818182,
          0.19191919191919193,
          0.20202020202020204,
          0.21212121212121213,
          0.22222222222222224,
          0.23232323232323235,
          0.24242424242424243,
          0.25252525252525254,
          0.26262626262626265,
          0.27272727272727276,
          0.2828282828282829,
          0.29292929292929293,
          0.30303030303030304,
          0.31313131313131315,
          0.32323232323232326,
          0.33333333333333337,
          0.3434343434343435,
          0.3535353535353536,
          0.36363636363636365,
          0.37373737373737376,
          0.38383838383838387,
          0.393939393939394,
          0.4040404040404041,
          0.4141414141414142,
          0.42424242424242425,
          0.43434343434343436,
          0.4444444444444445,
          0.4545454545454546,
          0.4646464646464647,
          0.4747474747474748,
          0.48484848484848486,
          0.494949494949495,
          0.5050505050505051,
          0.5151515151515152,
          0.5252525252525253,
          0.5353535353535354,
          0.5454545454545455,
          0.5555555555555556,
          0.5656565656565657,
          0.5757575757575758,
          0.5858585858585859,
          0.595959595959596,
          0.6060606060606061,
          0.6161616161616162,
          0.6262626262626263,
          0.6363636363636365,
          0.6464646464646465,
          0.6565656565656566,
          0.6666666666666667,
          0.6767676767676768,
          0.686868686868687,
          0.696969696969697,
          0.7070707070707072,
          0.7171717171717172,
          0.7272727272727273,
          0.7373737373737375,
          0.7474747474747475,
          0.7575757575757577,
          0.7676767676767677,
          0.7777777777777778,
          0.787878787878788,
          0.797979797979798,
          0.8080808080808082,
          0.8181818181818182,
          0.8282828282828284,
          0.8383838383838385,
          0.8484848484848485,
          0.8585858585858587,
          0.8686868686868687,
          0.8787878787878789,
          0.888888888888889,
          0.8989898989898991,
          0.9090909090909092,
          0.9191919191919192,
          0.9292929292929294,
          0.9393939393939394,
          0.9494949494949496,
          0.9595959595959597,
          0.9696969696969697,
          0.9797979797979799,
          0.98989898989899,
          1
         ],
         "y": [
          1,
          1.0261908411164689,
          0.9963541800253529,
          0.9663436272286962,
          0.974084542574336,
          0.9750793203615821,
          0.9518486674651643,
          0.9610250814001206,
          0.9684224004717414,
          0.9509711620607155,
          0.9455230718131729,
          0.948888761025064,
          0.9475748853717867,
          0.9695845070312643,
          0.969241316176674,
          0.9713885766115672,
          1.021822249103313,
          1.0349288225474818,
          1.0166241689824003,
          1.0245663717904954,
          0.9648404144947985,
          0.9697660497911469,
          0.9378259145648863,
          0.9265730001378637,
          0.925708015137678,
          0.9127732240545416,
          0.9438036138595021,
          0.9586995103184199,
          0.9313341726141875,
          0.9224218339279495,
          0.8800934291127926,
          0.8828683325760933,
          0.8788804943121559,
          0.8645634307146686,
          0.8517453360670657,
          0.8238172638849044,
          0.8233337430368419,
          0.8173008961324936,
          0.7924947358055906,
          0.8009691009975969,
          0.8144021413673643,
          0.8343731265035438,
          0.856430948644972,
          0.8377976108315467,
          0.8358802210629706,
          0.8229131429088676,
          0.833527607560348,
          0.8314807704331627,
          0.8386647407201959,
          0.851642461995022,
          0.8727035531398409,
          0.8773487811464308,
          0.869084211262616,
          0.8678366177485786,
          0.8862186934850659,
          0.901723876575126,
          0.872638656377462,
          0.8824128590724629,
          0.8968828223532729,
          0.898824585811517,
          0.8792369392189372,
          0.8528195682030089,
          0.8448235330636484,
          0.8487947562097605,
          0.827777266944795,
          0.8279374701343514,
          0.8447653780527057,
          0.8879283656544354,
          0.8563534603770334,
          0.8717051378015745,
          0.8631476790201577,
          0.8601327263714719,
          0.8672501058737057,
          0.8805859478936185,
          0.8759190469926138,
          0.8521621077784469,
          0.8240144121312978,
          0.8124932217577991,
          0.8207660266324759,
          0.8247218842029431,
          0.8131286881906019,
          0.8595496892118492,
          0.8757552025755654,
          0.8376607207147092,
          0.8932364003933354,
          0.8582128960683341,
          0.8837270648485697,
          0.8994808561678188,
          0.8874381595990726,
          0.8829131904256892,
          0.9024473739104882,
          0.8647857680846622,
          0.8551538301358877,
          0.8625356740367945,
          0.8501335313600001,
          0.856671186674847,
          0.8422343129312708,
          0.8189336889019346,
          0.8405534114696257,
          0.8264208277457773
         ]
        },
        {
         "line": {
          "color": "rgba(55, 128, 191, 0.7999999999999998)",
          "dash": "solid",
          "shape": "linear",
          "width": 1.3
         },
         "marker": {
          "size": 5,
          "symbol": "circle"
         },
         "mode": "lines+markers",
         "name": "path 24",
         "text": "",
         "type": "scatter",
         "x": [
          0,
          0.010101010101010102,
          0.020202020202020204,
          0.030303030303030304,
          0.04040404040404041,
          0.05050505050505051,
          0.06060606060606061,
          0.07070707070707072,
          0.08080808080808081,
          0.09090909090909091,
          0.10101010101010102,
          0.11111111111111112,
          0.12121212121212122,
          0.13131313131313133,
          0.14141414141414144,
          0.15151515151515152,
          0.16161616161616163,
          0.17171717171717174,
          0.18181818181818182,
          0.19191919191919193,
          0.20202020202020204,
          0.21212121212121213,
          0.22222222222222224,
          0.23232323232323235,
          0.24242424242424243,
          0.25252525252525254,
          0.26262626262626265,
          0.27272727272727276,
          0.2828282828282829,
          0.29292929292929293,
          0.30303030303030304,
          0.31313131313131315,
          0.32323232323232326,
          0.33333333333333337,
          0.3434343434343435,
          0.3535353535353536,
          0.36363636363636365,
          0.37373737373737376,
          0.38383838383838387,
          0.393939393939394,
          0.4040404040404041,
          0.4141414141414142,
          0.42424242424242425,
          0.43434343434343436,
          0.4444444444444445,
          0.4545454545454546,
          0.4646464646464647,
          0.4747474747474748,
          0.48484848484848486,
          0.494949494949495,
          0.5050505050505051,
          0.5151515151515152,
          0.5252525252525253,
          0.5353535353535354,
          0.5454545454545455,
          0.5555555555555556,
          0.5656565656565657,
          0.5757575757575758,
          0.5858585858585859,
          0.595959595959596,
          0.6060606060606061,
          0.6161616161616162,
          0.6262626262626263,
          0.6363636363636365,
          0.6464646464646465,
          0.6565656565656566,
          0.6666666666666667,
          0.6767676767676768,
          0.686868686868687,
          0.696969696969697,
          0.7070707070707072,
          0.7171717171717172,
          0.7272727272727273,
          0.7373737373737375,
          0.7474747474747475,
          0.7575757575757577,
          0.7676767676767677,
          0.7777777777777778,
          0.787878787878788,
          0.797979797979798,
          0.8080808080808082,
          0.8181818181818182,
          0.8282828282828284,
          0.8383838383838385,
          0.8484848484848485,
          0.8585858585858587,
          0.8686868686868687,
          0.8787878787878789,
          0.888888888888889,
          0.8989898989898991,
          0.9090909090909092,
          0.9191919191919192,
          0.9292929292929294,
          0.9393939393939394,
          0.9494949494949496,
          0.9595959595959597,
          0.9696969696969697,
          0.9797979797979799,
          0.98989898989899,
          1
         ],
         "y": [
          1,
          0.9868953741579071,
          0.9770541786182455,
          0.9997928363225173,
          1.004928212197918,
          1.008852853371937,
          0.9951853501994562,
          0.9692522679881735,
          0.980742586804952,
          0.9697416292771458,
          0.9722020719721683,
          0.9853321432412488,
          1.0293331956238316,
          1.0291125944971748,
          1.037787285884163,
          1.0814326319879877,
          1.0569126116576888,
          1.071034689021933,
          1.0900506123956941,
          1.0434679221542371,
          1.05205424799217,
          1.026468473842394,
          1.0506862873421725,
          1.0585968277306865,
          1.0535956927150953,
          1.044951009593069,
          1.0696284756522243,
          1.0361403681460224,
          1.0133402731485044,
          1.0507187876675617,
          1.0267123720996474,
          1.0527052906019856,
          1.0489324105200255,
          1.0477997074934764,
          1.0234513436755714,
          1.0488347907590152,
          1.0200175946186754,
          1.0094172681249272,
          1.00111588813775,
          1.0393984853670653,
          1.0301866428314632,
          1.019216553046864,
          1.039133984442292,
          1.039304818125659,
          1.0298434935784018,
          1.014387110364815,
          0.9806838073673322,
          0.9681569188993455,
          0.9661026687112366,
          0.937932051254923,
          0.9440468172048186,
          0.9115257197206525,
          0.8941270284978093,
          0.9294198393225312,
          0.9568971455972928,
          0.9472717736027416,
          0.9458179852284788,
          0.9498964553664209,
          0.9799530419815401,
          1.0053419318241281,
          1.0367185398286316,
          1.0249301438678577,
          0.9997216650416697,
          0.9744048240957242,
          0.9943946704324695,
          0.9827051529779663,
          0.968261774275408,
          0.9750693642962627,
          0.9625841202918602,
          0.9846967756323133,
          0.9832901604854409,
          0.9749577313952796,
          0.9969699499285082,
          0.9918438595650684,
          1.0338704493166937,
          1.0111803506902546,
          0.984250940026381,
          0.9894373503788445,
          0.9726993081918381,
          0.9412487652593217,
          0.9565940077741942,
          0.9407728337337424,
          0.9306853090108731,
          0.9162883301753176,
          0.899243314904635,
          0.8970753972645116,
          0.8807851586123981,
          0.8667862512884437,
          0.8954064154176298,
          0.9023277943857354,
          0.9177061395923747,
          0.9027941271037757,
          0.9360941615762393,
          0.9072166790597661,
          0.9241513162576568,
          0.9560330339840912,
          0.9278163739620364,
          0.9521267719703477,
          0.94385172007229,
          0.9690303429433074
         ]
        },
        {
         "line": {
          "color": "rgba(50, 171, 96, 0.7999999999999998)",
          "dash": "solid",
          "shape": "linear",
          "width": 1.3
         },
         "marker": {
          "size": 5,
          "symbol": "circle"
         },
         "mode": "lines+markers",
         "name": "path 25",
         "text": "",
         "type": "scatter",
         "x": [
          0,
          0.010101010101010102,
          0.020202020202020204,
          0.030303030303030304,
          0.04040404040404041,
          0.05050505050505051,
          0.06060606060606061,
          0.07070707070707072,
          0.08080808080808081,
          0.09090909090909091,
          0.10101010101010102,
          0.11111111111111112,
          0.12121212121212122,
          0.13131313131313133,
          0.14141414141414144,
          0.15151515151515152,
          0.16161616161616163,
          0.17171717171717174,
          0.18181818181818182,
          0.19191919191919193,
          0.20202020202020204,
          0.21212121212121213,
          0.22222222222222224,
          0.23232323232323235,
          0.24242424242424243,
          0.25252525252525254,
          0.26262626262626265,
          0.27272727272727276,
          0.2828282828282829,
          0.29292929292929293,
          0.30303030303030304,
          0.31313131313131315,
          0.32323232323232326,
          0.33333333333333337,
          0.3434343434343435,
          0.3535353535353536,
          0.36363636363636365,
          0.37373737373737376,
          0.38383838383838387,
          0.393939393939394,
          0.4040404040404041,
          0.4141414141414142,
          0.42424242424242425,
          0.43434343434343436,
          0.4444444444444445,
          0.4545454545454546,
          0.4646464646464647,
          0.4747474747474748,
          0.48484848484848486,
          0.494949494949495,
          0.5050505050505051,
          0.5151515151515152,
          0.5252525252525253,
          0.5353535353535354,
          0.5454545454545455,
          0.5555555555555556,
          0.5656565656565657,
          0.5757575757575758,
          0.5858585858585859,
          0.595959595959596,
          0.6060606060606061,
          0.6161616161616162,
          0.6262626262626263,
          0.6363636363636365,
          0.6464646464646465,
          0.6565656565656566,
          0.6666666666666667,
          0.6767676767676768,
          0.686868686868687,
          0.696969696969697,
          0.7070707070707072,
          0.7171717171717172,
          0.7272727272727273,
          0.7373737373737375,
          0.7474747474747475,
          0.7575757575757577,
          0.7676767676767677,
          0.7777777777777778,
          0.787878787878788,
          0.797979797979798,
          0.8080808080808082,
          0.8181818181818182,
          0.8282828282828284,
          0.8383838383838385,
          0.8484848484848485,
          0.8585858585858587,
          0.8686868686868687,
          0.8787878787878789,
          0.888888888888889,
          0.8989898989898991,
          0.9090909090909092,
          0.9191919191919192,
          0.9292929292929294,
          0.9393939393939394,
          0.9494949494949496,
          0.9595959595959597,
          0.9696969696969697,
          0.9797979797979799,
          0.98989898989899,
          1
         ],
         "y": [
          1,
          1.0010740879519966,
          1.0363839088961013,
          1.0454427840635454,
          1.0694572515750034,
          1.0660434915601753,
          1.0637954600558774,
          1.0723630101524866,
          1.0739067766704584,
          1.0699676432710663,
          1.0513625731165055,
          1.0336372826853513,
          1.0288646670666084,
          1.0251371310276762,
          0.9997894030904594,
          0.9957322779215836,
          0.9850137524538911,
          0.9592127247058759,
          0.983838141845115,
          0.9742315162484217,
          0.9648676213694646,
          0.9395161386486551,
          0.9698349633329755,
          0.9948489190515561,
          0.992512866770255,
          0.980358892769223,
          0.9816092443127875,
          0.9880104014625323,
          1.0084717999205175,
          1.009023402191531,
          1.0357139497371122,
          1.0418388317210312,
          1.042013510452182,
          1.0277957137208016,
          1.0662511098275922,
          1.0595230978200842,
          1.0763695192855776,
          1.0705578207368358,
          1.097907712288396,
          1.0875898273330167,
          1.1135250790356412,
          1.103768791251476,
          1.0759185882907263,
          1.0914836327396094,
          1.115805794199403,
          1.083063755105823,
          1.0949971750242855,
          1.0797240861933912,
          1.0663835724821245,
          1.0869619907424626,
          1.079512185642266,
          1.0908259428097888,
          1.1021535489084753,
          1.1216647513929228,
          1.1412392181233544,
          1.1741306898519215,
          1.1774952704858688,
          1.1922406260767526,
          1.1392497285658134,
          1.1608113042448274,
          1.149270017626002,
          1.1334742647706377,
          1.1705154186430733,
          1.1595178758465243,
          1.1618892084988546,
          1.1656520099785552,
          1.1682716851553139,
          1.2164016856021915,
          1.2170491545735802,
          1.1705329594411706,
          1.1979842570288934,
          1.2233445336494166,
          1.2191087336152626,
          1.1571811320480103,
          1.1748016310880864,
          1.1684860642572468,
          1.1946467896043316,
          1.2275367344817179,
          1.22545481536089,
          1.2316558700468074,
          1.1987309430557882,
          1.1763901358421358,
          1.1619715123123064,
          1.1535637335655708,
          1.1395546476278693,
          1.147304923828888,
          1.1165392655275903,
          1.1038485432583498,
          1.1038309344409523,
          1.0973772946629312,
          1.0375133835867683,
          1.0607424595366883,
          1.0187134679660437,
          1.0153216178670885,
          1.0036217852093918,
          0.9817089278119449,
          0.9843341439878117,
          0.952299022843788,
          0.9329813505042566,
          0.9338499344995211
         ]
        },
        {
         "line": {
          "color": "rgba(128, 0, 128, 0.7999999999999998)",
          "dash": "solid",
          "shape": "linear",
          "width": 1.3
         },
         "marker": {
          "size": 5,
          "symbol": "circle"
         },
         "mode": "lines+markers",
         "name": "path 26",
         "text": "",
         "type": "scatter",
         "x": [
          0,
          0.010101010101010102,
          0.020202020202020204,
          0.030303030303030304,
          0.04040404040404041,
          0.05050505050505051,
          0.06060606060606061,
          0.07070707070707072,
          0.08080808080808081,
          0.09090909090909091,
          0.10101010101010102,
          0.11111111111111112,
          0.12121212121212122,
          0.13131313131313133,
          0.14141414141414144,
          0.15151515151515152,
          0.16161616161616163,
          0.17171717171717174,
          0.18181818181818182,
          0.19191919191919193,
          0.20202020202020204,
          0.21212121212121213,
          0.22222222222222224,
          0.23232323232323235,
          0.24242424242424243,
          0.25252525252525254,
          0.26262626262626265,
          0.27272727272727276,
          0.2828282828282829,
          0.29292929292929293,
          0.30303030303030304,
          0.31313131313131315,
          0.32323232323232326,
          0.33333333333333337,
          0.3434343434343435,
          0.3535353535353536,
          0.36363636363636365,
          0.37373737373737376,
          0.38383838383838387,
          0.393939393939394,
          0.4040404040404041,
          0.4141414141414142,
          0.42424242424242425,
          0.43434343434343436,
          0.4444444444444445,
          0.4545454545454546,
          0.4646464646464647,
          0.4747474747474748,
          0.48484848484848486,
          0.494949494949495,
          0.5050505050505051,
          0.5151515151515152,
          0.5252525252525253,
          0.5353535353535354,
          0.5454545454545455,
          0.5555555555555556,
          0.5656565656565657,
          0.5757575757575758,
          0.5858585858585859,
          0.595959595959596,
          0.6060606060606061,
          0.6161616161616162,
          0.6262626262626263,
          0.6363636363636365,
          0.6464646464646465,
          0.6565656565656566,
          0.6666666666666667,
          0.6767676767676768,
          0.686868686868687,
          0.696969696969697,
          0.7070707070707072,
          0.7171717171717172,
          0.7272727272727273,
          0.7373737373737375,
          0.7474747474747475,
          0.7575757575757577,
          0.7676767676767677,
          0.7777777777777778,
          0.787878787878788,
          0.797979797979798,
          0.8080808080808082,
          0.8181818181818182,
          0.8282828282828284,
          0.8383838383838385,
          0.8484848484848485,
          0.8585858585858587,
          0.8686868686868687,
          0.8787878787878789,
          0.888888888888889,
          0.8989898989898991,
          0.9090909090909092,
          0.9191919191919192,
          0.9292929292929294,
          0.9393939393939394,
          0.9494949494949496,
          0.9595959595959597,
          0.9696969696969697,
          0.9797979797979799,
          0.98989898989899,
          1
         ],
         "y": [
          1,
          0.9772899678321018,
          0.9881051233820934,
          0.9991252342635714,
          1.0044145768728283,
          0.9722873424314336,
          0.9813546814559264,
          0.9862270816446075,
          0.9814319469420906,
          0.9844350358243432,
          0.9853765706936242,
          0.9637442007381342,
          0.9512234479207751,
          0.9278239642447638,
          0.9677861207942434,
          0.9869712615737254,
          0.9960776375996276,
          1.010582433304875,
          1.0173503866642384,
          1.030573539310583,
          0.9968239281606487,
          0.9892235106423396,
          0.9848347420984668,
          0.9926749245524416,
          0.988194012710819,
          1.013565491302277,
          1.0245500239370453,
          1.0038092214017786,
          0.9906767754766855,
          0.9894161739793921,
          1.0101570496533236,
          0.9869865887481676,
          0.9828409945294397,
          0.9600291659037814,
          1.0166513395190369,
          1.0184756395026084,
          0.9926019325245189,
          0.9773467493347927,
          0.9924182147598298,
          0.9663180658725125,
          0.9862703257037041,
          1.0057549621101882,
          1.0132046049171441,
          1.0099099980256088,
          0.9846965267059306,
          1.0046870918455149,
          0.9969813162470487,
          1.0115551560393705,
          1.0346434548948618,
          1.0699539421936175,
          1.0740605536103593,
          1.103002640498465,
          1.1071522671854914,
          1.1092005153977227,
          1.1017910166087759,
          1.1079365033663096,
          1.0863241066668905,
          1.0845665279484544,
          1.0756159206495521,
          1.122592009068716,
          1.104822053905969,
          1.0869298430232237,
          1.0908924727087734,
          1.103221409085296,
          1.130854565302653,
          1.1150957422038397,
          1.0981524172110748,
          1.0909348795959086,
          1.0632213444091072,
          1.0584740634698904,
          1.0931597185377728,
          1.1083640810656108,
          1.1493979429564178,
          1.1546144579104118,
          1.1344663616664394,
          1.1419737899541977,
          1.1271373292791742,
          1.160569273956916,
          1.1374944404087888,
          1.1701060842654136,
          1.1985596586515996,
          1.1998229337446231,
          1.2128883389056972,
          1.2175444438142442,
          1.221908980550321,
          1.2326259414144476,
          1.251721335507612,
          1.2170034636949225,
          1.2056572138490476,
          1.2252256936459989,
          1.261360072243328,
          1.2197494473334782,
          1.2000300474702403,
          1.194702842973612,
          1.1656865668868928,
          1.201036926682378,
          1.2025108385038974,
          1.1841824006931452,
          1.228288638273322,
          1.1859307490812916
         ]
        },
        {
         "line": {
          "color": "rgba(219, 64, 82, 0.7999999999999998)",
          "dash": "solid",
          "shape": "linear",
          "width": 1.3
         },
         "marker": {
          "size": 5,
          "symbol": "circle"
         },
         "mode": "lines+markers",
         "name": "path 27",
         "text": "",
         "type": "scatter",
         "x": [
          0,
          0.010101010101010102,
          0.020202020202020204,
          0.030303030303030304,
          0.04040404040404041,
          0.05050505050505051,
          0.06060606060606061,
          0.07070707070707072,
          0.08080808080808081,
          0.09090909090909091,
          0.10101010101010102,
          0.11111111111111112,
          0.12121212121212122,
          0.13131313131313133,
          0.14141414141414144,
          0.15151515151515152,
          0.16161616161616163,
          0.17171717171717174,
          0.18181818181818182,
          0.19191919191919193,
          0.20202020202020204,
          0.21212121212121213,
          0.22222222222222224,
          0.23232323232323235,
          0.24242424242424243,
          0.25252525252525254,
          0.26262626262626265,
          0.27272727272727276,
          0.2828282828282829,
          0.29292929292929293,
          0.30303030303030304,
          0.31313131313131315,
          0.32323232323232326,
          0.33333333333333337,
          0.3434343434343435,
          0.3535353535353536,
          0.36363636363636365,
          0.37373737373737376,
          0.38383838383838387,
          0.393939393939394,
          0.4040404040404041,
          0.4141414141414142,
          0.42424242424242425,
          0.43434343434343436,
          0.4444444444444445,
          0.4545454545454546,
          0.4646464646464647,
          0.4747474747474748,
          0.48484848484848486,
          0.494949494949495,
          0.5050505050505051,
          0.5151515151515152,
          0.5252525252525253,
          0.5353535353535354,
          0.5454545454545455,
          0.5555555555555556,
          0.5656565656565657,
          0.5757575757575758,
          0.5858585858585859,
          0.595959595959596,
          0.6060606060606061,
          0.6161616161616162,
          0.6262626262626263,
          0.6363636363636365,
          0.6464646464646465,
          0.6565656565656566,
          0.6666666666666667,
          0.6767676767676768,
          0.686868686868687,
          0.696969696969697,
          0.7070707070707072,
          0.7171717171717172,
          0.7272727272727273,
          0.7373737373737375,
          0.7474747474747475,
          0.7575757575757577,
          0.7676767676767677,
          0.7777777777777778,
          0.787878787878788,
          0.797979797979798,
          0.8080808080808082,
          0.8181818181818182,
          0.8282828282828284,
          0.8383838383838385,
          0.8484848484848485,
          0.8585858585858587,
          0.8686868686868687,
          0.8787878787878789,
          0.888888888888889,
          0.8989898989898991,
          0.9090909090909092,
          0.9191919191919192,
          0.9292929292929294,
          0.9393939393939394,
          0.9494949494949496,
          0.9595959595959597,
          0.9696969696969697,
          0.9797979797979799,
          0.98989898989899,
          1
         ],
         "y": [
          1,
          0.9995353130836037,
          0.9901540973438476,
          0.9938205031440672,
          1.028897542396953,
          1.0194975323049391,
          1.0122502515797722,
          0.995557019749737,
          0.9950869635528529,
          1.0044928289236303,
          0.9607869556243621,
          0.9660698303824118,
          0.956174878228973,
          0.9346211159269527,
          0.9130776410050945,
          0.8876368399973263,
          0.8963104840990033,
          0.8824413234454535,
          0.8704996895541537,
          0.8547367882173175,
          0.8650449342443137,
          0.8672295600174439,
          0.8328027402477534,
          0.825755908662209,
          0.8044564798085155,
          0.7767147575477602,
          0.7806768309934226,
          0.7934432444483702,
          0.7990298536899345,
          0.8042607439344832,
          0.7826324028979965,
          0.7542487162486933,
          0.7581712375788058,
          0.7378508096538832,
          0.7278347018474352,
          0.7487589786444527,
          0.7541217659492226,
          0.7443020247485511,
          0.7379723052998444,
          0.7434661435056743,
          0.7285157386145293,
          0.7022162438079528,
          0.7100751063716528,
          0.7111045137807311,
          0.7027295385010639,
          0.7203829854904377,
          0.7331282524877233,
          0.7163608543164658,
          0.7117650214392125,
          0.7197561240253455,
          0.7046685605712408,
          0.6819426605300437,
          0.7003896126941074,
          0.6897292085263703,
          0.6893129878729287,
          0.6976424023798801,
          0.6958335717334548,
          0.7079538017819424,
          0.7050587789815019,
          0.7134466740499962,
          0.7066058844029853,
          0.708257562081197,
          0.6905914671979781,
          0.7097393506333842,
          0.706989467664401,
          0.706756885739247,
          0.702400448171672,
          0.6977608540389117,
          0.692142731393965,
          0.7045677704198166,
          0.7027807456957496,
          0.7038847369340648,
          0.6950088270068728,
          0.6960836702013911,
          0.7141076295591103,
          0.7038898958214501,
          0.7193716922533674,
          0.747812885586609,
          0.7380337604783861,
          0.7166991651450294,
          0.7128474493795907,
          0.7330345993411439,
          0.7588446417535808,
          0.7682884600719175,
          0.7847437026353665,
          0.8020162746365234,
          0.7982857886909271,
          0.7920276040202333,
          0.7937087027481678,
          0.7872111004887972,
          0.7654921031896808,
          0.7586763095410064,
          0.7505989705523055,
          0.727649638066864,
          0.7052843415902617,
          0.7090453385189791,
          0.713040682332643,
          0.6938186336120106,
          0.6889413097640918,
          0.6870779668087764
         ]
        },
        {
         "line": {
          "color": "rgba(0, 128, 128, 0.7999999999999998)",
          "dash": "solid",
          "shape": "linear",
          "width": 1.3
         },
         "marker": {
          "size": 5,
          "symbol": "circle"
         },
         "mode": "lines+markers",
         "name": "path 28",
         "text": "",
         "type": "scatter",
         "x": [
          0,
          0.010101010101010102,
          0.020202020202020204,
          0.030303030303030304,
          0.04040404040404041,
          0.05050505050505051,
          0.06060606060606061,
          0.07070707070707072,
          0.08080808080808081,
          0.09090909090909091,
          0.10101010101010102,
          0.11111111111111112,
          0.12121212121212122,
          0.13131313131313133,
          0.14141414141414144,
          0.15151515151515152,
          0.16161616161616163,
          0.17171717171717174,
          0.18181818181818182,
          0.19191919191919193,
          0.20202020202020204,
          0.21212121212121213,
          0.22222222222222224,
          0.23232323232323235,
          0.24242424242424243,
          0.25252525252525254,
          0.26262626262626265,
          0.27272727272727276,
          0.2828282828282829,
          0.29292929292929293,
          0.30303030303030304,
          0.31313131313131315,
          0.32323232323232326,
          0.33333333333333337,
          0.3434343434343435,
          0.3535353535353536,
          0.36363636363636365,
          0.37373737373737376,
          0.38383838383838387,
          0.393939393939394,
          0.4040404040404041,
          0.4141414141414142,
          0.42424242424242425,
          0.43434343434343436,
          0.4444444444444445,
          0.4545454545454546,
          0.4646464646464647,
          0.4747474747474748,
          0.48484848484848486,
          0.494949494949495,
          0.5050505050505051,
          0.5151515151515152,
          0.5252525252525253,
          0.5353535353535354,
          0.5454545454545455,
          0.5555555555555556,
          0.5656565656565657,
          0.5757575757575758,
          0.5858585858585859,
          0.595959595959596,
          0.6060606060606061,
          0.6161616161616162,
          0.6262626262626263,
          0.6363636363636365,
          0.6464646464646465,
          0.6565656565656566,
          0.6666666666666667,
          0.6767676767676768,
          0.686868686868687,
          0.696969696969697,
          0.7070707070707072,
          0.7171717171717172,
          0.7272727272727273,
          0.7373737373737375,
          0.7474747474747475,
          0.7575757575757577,
          0.7676767676767677,
          0.7777777777777778,
          0.787878787878788,
          0.797979797979798,
          0.8080808080808082,
          0.8181818181818182,
          0.8282828282828284,
          0.8383838383838385,
          0.8484848484848485,
          0.8585858585858587,
          0.8686868686868687,
          0.8787878787878789,
          0.888888888888889,
          0.8989898989898991,
          0.9090909090909092,
          0.9191919191919192,
          0.9292929292929294,
          0.9393939393939394,
          0.9494949494949496,
          0.9595959595959597,
          0.9696969696969697,
          0.9797979797979799,
          0.98989898989899,
          1
         ],
         "y": [
          1,
          0.9828843201867022,
          0.9892907217793597,
          0.9438727131405297,
          0.9679971783307892,
          0.967725099436134,
          0.959922616683834,
          0.9390209913607467,
          0.9646155653900736,
          0.9596053267017781,
          0.9611078055046338,
          0.9579019105822449,
          0.9491473933058682,
          0.9477930786548155,
          0.9401643069995379,
          0.9296202895235237,
          0.9270070366080159,
          0.9312674975309524,
          0.9399564133669944,
          0.9277323112110775,
          0.9166042036332878,
          0.8876493549384806,
          0.9181275249149902,
          0.914921908008238,
          0.9039594435673051,
          0.9194450470735858,
          0.9332130516765683,
          0.9607314381606198,
          0.9529778638951635,
          0.9428877871610427,
          0.9350713071800288,
          0.942565337801836,
          0.9575981308275903,
          0.9563868634761611,
          0.9652826655769281,
          0.9491552556873886,
          0.9420963420506424,
          0.9847331766537203,
          1.0096150790848648,
          1.04790648955979,
          1.0655117621099133,
          1.0385685218809764,
          1.0534603272574514,
          1.081166710352203,
          1.0482627661033046,
          1.043798054515593,
          1.0380318282044334,
          1.0432345780986587,
          1.0563414089712158,
          1.040530202852884,
          1.016800101974218,
          0.994213524295576,
          0.9615062038110537,
          0.9588191548712408,
          1.0083781762701824,
          0.9906167417321134,
          0.9806665318619081,
          0.9803953826179919,
          0.9882355555277172,
          0.995206638441898,
          0.9914698869277376,
          0.9667405830056848,
          0.9514072426988874,
          0.9406117058073061,
          0.929912706842986,
          0.9188445191834885,
          0.9144745404599577,
          0.9241476862195352,
          0.9222888600716953,
          0.9259001862968985,
          0.91787738335182,
          0.9088783202371937,
          0.9233568687965865,
          0.9477517117024963,
          0.9712486418004872,
          0.9493574284340304,
          0.9719342556868719,
          0.9537463863222972,
          0.9437925991029722,
          0.9307057226205253,
          0.9370351317270217,
          0.9099019967305623,
          0.8979148180383408,
          0.9163676525750047,
          0.8903567456927296,
          0.8627629682165273,
          0.8557452196249683,
          0.8798505158015332,
          0.9113738738013716,
          0.8816938980983308,
          0.876259388501814,
          0.844137611432993,
          0.8546575663540443,
          0.8283298350111269,
          0.7878762090138596,
          0.8018227536489928,
          0.7810745438231665,
          0.8001019311304551,
          0.7723592875199854,
          0.7911222793589702
         ]
        },
        {
         "line": {
          "color": "rgba(255, 255, 51, 0.7999999999999998)",
          "dash": "solid",
          "shape": "linear",
          "width": 1.3
         },
         "marker": {
          "size": 5,
          "symbol": "circle"
         },
         "mode": "lines+markers",
         "name": "path 29",
         "text": "",
         "type": "scatter",
         "x": [
          0,
          0.010101010101010102,
          0.020202020202020204,
          0.030303030303030304,
          0.04040404040404041,
          0.05050505050505051,
          0.06060606060606061,
          0.07070707070707072,
          0.08080808080808081,
          0.09090909090909091,
          0.10101010101010102,
          0.11111111111111112,
          0.12121212121212122,
          0.13131313131313133,
          0.14141414141414144,
          0.15151515151515152,
          0.16161616161616163,
          0.17171717171717174,
          0.18181818181818182,
          0.19191919191919193,
          0.20202020202020204,
          0.21212121212121213,
          0.22222222222222224,
          0.23232323232323235,
          0.24242424242424243,
          0.25252525252525254,
          0.26262626262626265,
          0.27272727272727276,
          0.2828282828282829,
          0.29292929292929293,
          0.30303030303030304,
          0.31313131313131315,
          0.32323232323232326,
          0.33333333333333337,
          0.3434343434343435,
          0.3535353535353536,
          0.36363636363636365,
          0.37373737373737376,
          0.38383838383838387,
          0.393939393939394,
          0.4040404040404041,
          0.4141414141414142,
          0.42424242424242425,
          0.43434343434343436,
          0.4444444444444445,
          0.4545454545454546,
          0.4646464646464647,
          0.4747474747474748,
          0.48484848484848486,
          0.494949494949495,
          0.5050505050505051,
          0.5151515151515152,
          0.5252525252525253,
          0.5353535353535354,
          0.5454545454545455,
          0.5555555555555556,
          0.5656565656565657,
          0.5757575757575758,
          0.5858585858585859,
          0.595959595959596,
          0.6060606060606061,
          0.6161616161616162,
          0.6262626262626263,
          0.6363636363636365,
          0.6464646464646465,
          0.6565656565656566,
          0.6666666666666667,
          0.6767676767676768,
          0.686868686868687,
          0.696969696969697,
          0.7070707070707072,
          0.7171717171717172,
          0.7272727272727273,
          0.7373737373737375,
          0.7474747474747475,
          0.7575757575757577,
          0.7676767676767677,
          0.7777777777777778,
          0.787878787878788,
          0.797979797979798,
          0.8080808080808082,
          0.8181818181818182,
          0.8282828282828284,
          0.8383838383838385,
          0.8484848484848485,
          0.8585858585858587,
          0.8686868686868687,
          0.8787878787878789,
          0.888888888888889,
          0.8989898989898991,
          0.9090909090909092,
          0.9191919191919192,
          0.9292929292929294,
          0.9393939393939394,
          0.9494949494949496,
          0.9595959595959597,
          0.9696969696969697,
          0.9797979797979799,
          0.98989898989899,
          1
         ],
         "y": [
          1,
          0.9894323753837764,
          0.9984513067914923,
          0.9727952940361556,
          0.961712382477732,
          0.9657959882099829,
          0.9871768855473595,
          1.0283561433961055,
          1.0247218415712787,
          1.022043077507976,
          1.018213936561717,
          1.0166148851781553,
          1.0084009579762094,
          1.0150968600614088,
          1.0130823202574946,
          0.9925551896859522,
          0.9871422944715221,
          0.9941807163010209,
          0.9774649415791826,
          0.9627614273973321,
          0.9598740519358848,
          0.94512660468224,
          0.9522594101646411,
          0.9753725936817286,
          0.948274919582258,
          0.9487862555664306,
          0.9532756538799015,
          0.9531174257961135,
          0.9527214992719498,
          0.9558686210107128,
          0.9674383956120254,
          1.0018039847692541,
          0.9842981342096117,
          1.010276931745952,
          0.9733558259924742,
          1.0043577838241975,
          1.0093739812067963,
          1.0251939901191425,
          1.0298458682755631,
          1.0345737931338488,
          1.0647837933378341,
          1.0679123351876123,
          1.0987915444600223,
          1.1129197299852946,
          1.1146270850089393,
          1.1655458480852177,
          1.1454768780345261,
          1.1925868482044897,
          1.1819039834944263,
          1.1937821206024917,
          1.2346460416280631,
          1.2720450466498028,
          1.2689408137019513,
          1.243482976720927,
          1.2464038324602473,
          1.238319297380783,
          1.225443453218587,
          1.196959912492353,
          1.2099442953382824,
          1.2221498584477726,
          1.2410236506505468,
          1.2172989838925241,
          1.2427791257500174,
          1.2831198128949055,
          1.286677669918434,
          1.2785201727952828,
          1.315060163748781,
          1.3453697696116949,
          1.354725598157531,
          1.3381025343078763,
          1.3824114157653449,
          1.3587811374900096,
          1.3878738796128491,
          1.3724688318909677,
          1.3849977879606068,
          1.3608295282968623,
          1.3422947091966304,
          1.3221809935567048,
          1.2650863476758283,
          1.2555956654797555,
          1.21448275408709,
          1.2279206991723732,
          1.2005107662240895,
          1.186424363486823,
          1.2118708390705053,
          1.1755812593835997,
          1.164305282366442,
          1.1908043575658447,
          1.1599914162233493,
          1.132411962698204,
          1.180768973941569,
          1.1719381327990768,
          1.1709683676711842,
          1.1846649633302877,
          1.179356483180564,
          1.2178826955111928,
          1.200074139367569,
          1.2016343569522587,
          1.2324369831039508,
          1.1954250175144807
         ]
        },
        {
         "line": {
          "color": "rgba(128, 128, 0, 0.7999999999999998)",
          "dash": "solid",
          "shape": "linear",
          "width": 1.3
         },
         "marker": {
          "size": 5,
          "symbol": "circle"
         },
         "mode": "lines+markers",
         "name": "path 30",
         "text": "",
         "type": "scatter",
         "x": [
          0,
          0.010101010101010102,
          0.020202020202020204,
          0.030303030303030304,
          0.04040404040404041,
          0.05050505050505051,
          0.06060606060606061,
          0.07070707070707072,
          0.08080808080808081,
          0.09090909090909091,
          0.10101010101010102,
          0.11111111111111112,
          0.12121212121212122,
          0.13131313131313133,
          0.14141414141414144,
          0.15151515151515152,
          0.16161616161616163,
          0.17171717171717174,
          0.18181818181818182,
          0.19191919191919193,
          0.20202020202020204,
          0.21212121212121213,
          0.22222222222222224,
          0.23232323232323235,
          0.24242424242424243,
          0.25252525252525254,
          0.26262626262626265,
          0.27272727272727276,
          0.2828282828282829,
          0.29292929292929293,
          0.30303030303030304,
          0.31313131313131315,
          0.32323232323232326,
          0.33333333333333337,
          0.3434343434343435,
          0.3535353535353536,
          0.36363636363636365,
          0.37373737373737376,
          0.38383838383838387,
          0.393939393939394,
          0.4040404040404041,
          0.4141414141414142,
          0.42424242424242425,
          0.43434343434343436,
          0.4444444444444445,
          0.4545454545454546,
          0.4646464646464647,
          0.4747474747474748,
          0.48484848484848486,
          0.494949494949495,
          0.5050505050505051,
          0.5151515151515152,
          0.5252525252525253,
          0.5353535353535354,
          0.5454545454545455,
          0.5555555555555556,
          0.5656565656565657,
          0.5757575757575758,
          0.5858585858585859,
          0.595959595959596,
          0.6060606060606061,
          0.6161616161616162,
          0.6262626262626263,
          0.6363636363636365,
          0.6464646464646465,
          0.6565656565656566,
          0.6666666666666667,
          0.6767676767676768,
          0.686868686868687,
          0.696969696969697,
          0.7070707070707072,
          0.7171717171717172,
          0.7272727272727273,
          0.7373737373737375,
          0.7474747474747475,
          0.7575757575757577,
          0.7676767676767677,
          0.7777777777777778,
          0.787878787878788,
          0.797979797979798,
          0.8080808080808082,
          0.8181818181818182,
          0.8282828282828284,
          0.8383838383838385,
          0.8484848484848485,
          0.8585858585858587,
          0.8686868686868687,
          0.8787878787878789,
          0.888888888888889,
          0.8989898989898991,
          0.9090909090909092,
          0.9191919191919192,
          0.9292929292929294,
          0.9393939393939394,
          0.9494949494949496,
          0.9595959595959597,
          0.9696969696969697,
          0.9797979797979799,
          0.98989898989899,
          1
         ],
         "y": [
          1,
          1.056684274625968,
          1.0732173008158816,
          1.1437030093400193,
          1.1286178759960814,
          1.1660935224064481,
          1.1405753578911528,
          1.159595419375231,
          1.1401588792795074,
          1.116204424315617,
          1.104160532024904,
          1.1831637398099815,
          1.1736614997607326,
          1.2101525196394693,
          1.2251902888968307,
          1.2693992052055123,
          1.245639106248735,
          1.2440891975001114,
          1.2683874065543594,
          1.2637100741950356,
          1.2710218062596645,
          1.229628183634322,
          1.2330742326277477,
          1.274554425515536,
          1.2369224187248553,
          1.2508547394756084,
          1.2401534411166681,
          1.2735606942432816,
          1.282679083839186,
          1.2904291361821263,
          1.2975241575160745,
          1.2985605037397159,
          1.296490070911462,
          1.2638008450824982,
          1.258816742060675,
          1.2465931100971877,
          1.2597695088001633,
          1.2511002036004768,
          1.2560910762932107,
          1.2207299214559553,
          1.1896728293765235,
          1.1636002823241332,
          1.1796143336576173,
          1.17715855065168,
          1.1530263994427348,
          1.177671081890468,
          1.2036125550144015,
          1.192699954092526,
          1.2073611666288737,
          1.2495122044413334,
          1.2590783005660635,
          1.2588524909087628,
          1.2735386957622379,
          1.2812969098931224,
          1.277580339245234,
          1.2499321957359684,
          1.1948730803446708,
          1.18963101058694,
          1.1586732839815026,
          1.1695895861740835,
          1.1686129311966846,
          1.1597288617125399,
          1.1970834222121804,
          1.195083294441157,
          1.2221048357998443,
          1.2096485932894308,
          1.2072979794669036,
          1.220916489160222,
          1.2288419540638014,
          1.2402936890418803,
          1.2294353649671654,
          1.2316060280605874,
          1.203375958699415,
          1.206208563685203,
          1.2190753524080706,
          1.249207540971235,
          1.2665968389398594,
          1.2615495660171288,
          1.2311791081388301,
          1.2238313855212066,
          1.2224431123515795,
          1.2200345172608569,
          1.2629463092709465,
          1.2716314123909604,
          1.21181921559747,
          1.213548017991295,
          1.1898689546473462,
          1.1806363002622864,
          1.2071515799307162,
          1.2311787510318162,
          1.2215654017664834,
          1.2116661394387866,
          1.2123814940064925,
          1.1886321342533044,
          1.185271699954591,
          1.1989734858987022,
          1.216263513830475,
          1.2129370570574045,
          1.1966145427670756,
          1.190790172639898
         ]
        }
       ],
       "layout": {
        "legend": {
         "bgcolor": "#F5F6F9",
         "font": {
          "color": "#4D5663"
         }
        },
        "paper_bgcolor": "#F5F6F9",
        "plot_bgcolor": "#F5F6F9",
        "template": {
         "data": {
          "bar": [
           {
            "error_x": {
             "color": "#2a3f5f"
            },
            "error_y": {
             "color": "#2a3f5f"
            },
            "marker": {
             "line": {
              "color": "#E5ECF6",
              "width": 0.5
             }
            },
            "type": "bar"
           }
          ],
          "barpolar": [
           {
            "marker": {
             "line": {
              "color": "#E5ECF6",
              "width": 0.5
             }
            },
            "type": "barpolar"
           }
          ],
          "carpet": [
           {
            "aaxis": {
             "endlinecolor": "#2a3f5f",
             "gridcolor": "white",
             "linecolor": "white",
             "minorgridcolor": "white",
             "startlinecolor": "#2a3f5f"
            },
            "baxis": {
             "endlinecolor": "#2a3f5f",
             "gridcolor": "white",
             "linecolor": "white",
             "minorgridcolor": "white",
             "startlinecolor": "#2a3f5f"
            },
            "type": "carpet"
           }
          ],
          "choropleth": [
           {
            "colorbar": {
             "outlinewidth": 0,
             "ticks": ""
            },
            "type": "choropleth"
           }
          ],
          "contour": [
           {
            "colorbar": {
             "outlinewidth": 0,
             "ticks": ""
            },
            "colorscale": [
             [
              0,
              "#0d0887"
             ],
             [
              0.1111111111111111,
              "#46039f"
             ],
             [
              0.2222222222222222,
              "#7201a8"
             ],
             [
              0.3333333333333333,
              "#9c179e"
             ],
             [
              0.4444444444444444,
              "#bd3786"
             ],
             [
              0.5555555555555556,
              "#d8576b"
             ],
             [
              0.6666666666666666,
              "#ed7953"
             ],
             [
              0.7777777777777778,
              "#fb9f3a"
             ],
             [
              0.8888888888888888,
              "#fdca26"
             ],
             [
              1,
              "#f0f921"
             ]
            ],
            "type": "contour"
           }
          ],
          "contourcarpet": [
           {
            "colorbar": {
             "outlinewidth": 0,
             "ticks": ""
            },
            "type": "contourcarpet"
           }
          ],
          "heatmap": [
           {
            "colorbar": {
             "outlinewidth": 0,
             "ticks": ""
            },
            "colorscale": [
             [
              0,
              "#0d0887"
             ],
             [
              0.1111111111111111,
              "#46039f"
             ],
             [
              0.2222222222222222,
              "#7201a8"
             ],
             [
              0.3333333333333333,
              "#9c179e"
             ],
             [
              0.4444444444444444,
              "#bd3786"
             ],
             [
              0.5555555555555556,
              "#d8576b"
             ],
             [
              0.6666666666666666,
              "#ed7953"
             ],
             [
              0.7777777777777778,
              "#fb9f3a"
             ],
             [
              0.8888888888888888,
              "#fdca26"
             ],
             [
              1,
              "#f0f921"
             ]
            ],
            "type": "heatmap"
           }
          ],
          "heatmapgl": [
           {
            "colorbar": {
             "outlinewidth": 0,
             "ticks": ""
            },
            "colorscale": [
             [
              0,
              "#0d0887"
             ],
             [
              0.1111111111111111,
              "#46039f"
             ],
             [
              0.2222222222222222,
              "#7201a8"
             ],
             [
              0.3333333333333333,
              "#9c179e"
             ],
             [
              0.4444444444444444,
              "#bd3786"
             ],
             [
              0.5555555555555556,
              "#d8576b"
             ],
             [
              0.6666666666666666,
              "#ed7953"
             ],
             [
              0.7777777777777778,
              "#fb9f3a"
             ],
             [
              0.8888888888888888,
              "#fdca26"
             ],
             [
              1,
              "#f0f921"
             ]
            ],
            "type": "heatmapgl"
           }
          ],
          "histogram": [
           {
            "marker": {
             "colorbar": {
              "outlinewidth": 0,
              "ticks": ""
             }
            },
            "type": "histogram"
           }
          ],
          "histogram2d": [
           {
            "colorbar": {
             "outlinewidth": 0,
             "ticks": ""
            },
            "colorscale": [
             [
              0,
              "#0d0887"
             ],
             [
              0.1111111111111111,
              "#46039f"
             ],
             [
              0.2222222222222222,
              "#7201a8"
             ],
             [
              0.3333333333333333,
              "#9c179e"
             ],
             [
              0.4444444444444444,
              "#bd3786"
             ],
             [
              0.5555555555555556,
              "#d8576b"
             ],
             [
              0.6666666666666666,
              "#ed7953"
             ],
             [
              0.7777777777777778,
              "#fb9f3a"
             ],
             [
              0.8888888888888888,
              "#fdca26"
             ],
             [
              1,
              "#f0f921"
             ]
            ],
            "type": "histogram2d"
           }
          ],
          "histogram2dcontour": [
           {
            "colorbar": {
             "outlinewidth": 0,
             "ticks": ""
            },
            "colorscale": [
             [
              0,
              "#0d0887"
             ],
             [
              0.1111111111111111,
              "#46039f"
             ],
             [
              0.2222222222222222,
              "#7201a8"
             ],
             [
              0.3333333333333333,
              "#9c179e"
             ],
             [
              0.4444444444444444,
              "#bd3786"
             ],
             [
              0.5555555555555556,
              "#d8576b"
             ],
             [
              0.6666666666666666,
              "#ed7953"
             ],
             [
              0.7777777777777778,
              "#fb9f3a"
             ],
             [
              0.8888888888888888,
              "#fdca26"
             ],
             [
              1,
              "#f0f921"
             ]
            ],
            "type": "histogram2dcontour"
           }
          ],
          "mesh3d": [
           {
            "colorbar": {
             "outlinewidth": 0,
             "ticks": ""
            },
            "type": "mesh3d"
           }
          ],
          "parcoords": [
           {
            "line": {
             "colorbar": {
              "outlinewidth": 0,
              "ticks": ""
             }
            },
            "type": "parcoords"
           }
          ],
          "pie": [
           {
            "automargin": true,
            "type": "pie"
           }
          ],
          "scatter": [
           {
            "marker": {
             "colorbar": {
              "outlinewidth": 0,
              "ticks": ""
             }
            },
            "type": "scatter"
           }
          ],
          "scatter3d": [
           {
            "line": {
             "colorbar": {
              "outlinewidth": 0,
              "ticks": ""
             }
            },
            "marker": {
             "colorbar": {
              "outlinewidth": 0,
              "ticks": ""
             }
            },
            "type": "scatter3d"
           }
          ],
          "scattercarpet": [
           {
            "marker": {
             "colorbar": {
              "outlinewidth": 0,
              "ticks": ""
             }
            },
            "type": "scattercarpet"
           }
          ],
          "scattergeo": [
           {
            "marker": {
             "colorbar": {
              "outlinewidth": 0,
              "ticks": ""
             }
            },
            "type": "scattergeo"
           }
          ],
          "scattergl": [
           {
            "marker": {
             "colorbar": {
              "outlinewidth": 0,
              "ticks": ""
             }
            },
            "type": "scattergl"
           }
          ],
          "scattermapbox": [
           {
            "marker": {
             "colorbar": {
              "outlinewidth": 0,
              "ticks": ""
             }
            },
            "type": "scattermapbox"
           }
          ],
          "scatterpolar": [
           {
            "marker": {
             "colorbar": {
              "outlinewidth": 0,
              "ticks": ""
             }
            },
            "type": "scatterpolar"
           }
          ],
          "scatterpolargl": [
           {
            "marker": {
             "colorbar": {
              "outlinewidth": 0,
              "ticks": ""
             }
            },
            "type": "scatterpolargl"
           }
          ],
          "scatterternary": [
           {
            "marker": {
             "colorbar": {
              "outlinewidth": 0,
              "ticks": ""
             }
            },
            "type": "scatterternary"
           }
          ],
          "surface": [
           {
            "colorbar": {
             "outlinewidth": 0,
             "ticks": ""
            },
            "colorscale": [
             [
              0,
              "#0d0887"
             ],
             [
              0.1111111111111111,
              "#46039f"
             ],
             [
              0.2222222222222222,
              "#7201a8"
             ],
             [
              0.3333333333333333,
              "#9c179e"
             ],
             [
              0.4444444444444444,
              "#bd3786"
             ],
             [
              0.5555555555555556,
              "#d8576b"
             ],
             [
              0.6666666666666666,
              "#ed7953"
             ],
             [
              0.7777777777777778,
              "#fb9f3a"
             ],
             [
              0.8888888888888888,
              "#fdca26"
             ],
             [
              1,
              "#f0f921"
             ]
            ],
            "type": "surface"
           }
          ],
          "table": [
           {
            "cells": {
             "fill": {
              "color": "#EBF0F8"
             },
             "line": {
              "color": "white"
             }
            },
            "header": {
             "fill": {
              "color": "#C8D4E3"
             },
             "line": {
              "color": "white"
             }
            },
            "type": "table"
           }
          ]
         },
         "layout": {
          "annotationdefaults": {
           "arrowcolor": "#2a3f5f",
           "arrowhead": 0,
           "arrowwidth": 1
          },
          "autotypenumbers": "strict",
          "coloraxis": {
           "colorbar": {
            "outlinewidth": 0,
            "ticks": ""
           }
          },
          "colorscale": {
           "diverging": [
            [
             0,
             "#8e0152"
            ],
            [
             0.1,
             "#c51b7d"
            ],
            [
             0.2,
             "#de77ae"
            ],
            [
             0.3,
             "#f1b6da"
            ],
            [
             0.4,
             "#fde0ef"
            ],
            [
             0.5,
             "#f7f7f7"
            ],
            [
             0.6,
             "#e6f5d0"
            ],
            [
             0.7,
             "#b8e186"
            ],
            [
             0.8,
             "#7fbc41"
            ],
            [
             0.9,
             "#4d9221"
            ],
            [
             1,
             "#276419"
            ]
           ],
           "sequential": [
            [
             0,
             "#0d0887"
            ],
            [
             0.1111111111111111,
             "#46039f"
            ],
            [
             0.2222222222222222,
             "#7201a8"
            ],
            [
             0.3333333333333333,
             "#9c179e"
            ],
            [
             0.4444444444444444,
             "#bd3786"
            ],
            [
             0.5555555555555556,
             "#d8576b"
            ],
            [
             0.6666666666666666,
             "#ed7953"
            ],
            [
             0.7777777777777778,
             "#fb9f3a"
            ],
            [
             0.8888888888888888,
             "#fdca26"
            ],
            [
             1,
             "#f0f921"
            ]
           ],
           "sequentialminus": [
            [
             0,
             "#0d0887"
            ],
            [
             0.1111111111111111,
             "#46039f"
            ],
            [
             0.2222222222222222,
             "#7201a8"
            ],
            [
             0.3333333333333333,
             "#9c179e"
            ],
            [
             0.4444444444444444,
             "#bd3786"
            ],
            [
             0.5555555555555556,
             "#d8576b"
            ],
            [
             0.6666666666666666,
             "#ed7953"
            ],
            [
             0.7777777777777778,
             "#fb9f3a"
            ],
            [
             0.8888888888888888,
             "#fdca26"
            ],
            [
             1,
             "#f0f921"
            ]
           ]
          },
          "colorway": [
           "#636efa",
           "#EF553B",
           "#00cc96",
           "#ab63fa",
           "#FFA15A",
           "#19d3f3",
           "#FF6692",
           "#B6E880",
           "#FF97FF",
           "#FECB52"
          ],
          "font": {
           "color": "#2a3f5f"
          },
          "geo": {
           "bgcolor": "white",
           "lakecolor": "white",
           "landcolor": "#E5ECF6",
           "showlakes": true,
           "showland": true,
           "subunitcolor": "white"
          },
          "hoverlabel": {
           "align": "left"
          },
          "hovermode": "closest",
          "mapbox": {
           "style": "light"
          },
          "paper_bgcolor": "white",
          "plot_bgcolor": "#E5ECF6",
          "polar": {
           "angularaxis": {
            "gridcolor": "white",
            "linecolor": "white",
            "ticks": ""
           },
           "bgcolor": "#E5ECF6",
           "radialaxis": {
            "gridcolor": "white",
            "linecolor": "white",
            "ticks": ""
           }
          },
          "scene": {
           "xaxis": {
            "backgroundcolor": "#E5ECF6",
            "gridcolor": "white",
            "gridwidth": 2,
            "linecolor": "white",
            "showbackground": true,
            "ticks": "",
            "zerolinecolor": "white"
           },
           "yaxis": {
            "backgroundcolor": "#E5ECF6",
            "gridcolor": "white",
            "gridwidth": 2,
            "linecolor": "white",
            "showbackground": true,
            "ticks": "",
            "zerolinecolor": "white"
           },
           "zaxis": {
            "backgroundcolor": "#E5ECF6",
            "gridcolor": "white",
            "gridwidth": 2,
            "linecolor": "white",
            "showbackground": true,
            "ticks": "",
            "zerolinecolor": "white"
           }
          },
          "shapedefaults": {
           "line": {
            "color": "#2a3f5f"
           }
          },
          "ternary": {
           "aaxis": {
            "gridcolor": "white",
            "linecolor": "white",
            "ticks": ""
           },
           "baxis": {
            "gridcolor": "white",
            "linecolor": "white",
            "ticks": ""
           },
           "bgcolor": "#E5ECF6",
           "caxis": {
            "gridcolor": "white",
            "linecolor": "white",
            "ticks": ""
           }
          },
          "title": {
           "x": 0.05
          },
          "xaxis": {
           "automargin": true,
           "gridcolor": "white",
           "linecolor": "white",
           "ticks": "",
           "title": {
            "standoff": 15
           },
           "zerolinecolor": "white",
           "zerolinewidth": 2
          },
          "yaxis": {
           "automargin": true,
           "gridcolor": "white",
           "linecolor": "white",
           "ticks": "",
           "title": {
            "standoff": 15
           },
           "zerolinecolor": "white",
           "zerolinewidth": 2
          }
         }
        },
        "title": {
         "font": {
          "color": "#4D5663"
         },
         "text": "价格路径模拟"
        },
        "xaxis": {
         "gridcolor": "#E1E5ED",
         "showgrid": true,
         "tickfont": {
          "color": "#4D5663"
         },
         "title": {
          "font": {
           "color": "#4D5663"
          },
          "text": "t"
         },
         "zerolinecolor": "#E1E5ED"
        },
        "yaxis": {
         "gridcolor": "#E1E5ED",
         "showgrid": true,
         "tickfont": {
          "color": "#4D5663"
         },
         "title": {
          "font": {
           "color": "#4D5663"
          },
          "text": "S"
         },
         "zerolinecolor": "#E1E5ED"
        }
       }
      },
      "text/html": [
       "<div>                            <div id=\"6cf6696a-8cdc-4e38-b666-c475ca0dc203\" class=\"plotly-graph-div\" style=\"height:525px; width:100%;\"></div>            <script type=\"text/javascript\">                require([\"plotly\"], function(Plotly) {                    window.PLOTLYENV=window.PLOTLYENV || {};\n",
       "                    window.PLOTLYENV.BASE_URL='https://plot.ly';                                    if (document.getElementById(\"6cf6696a-8cdc-4e38-b666-c475ca0dc203\")) {                    Plotly.newPlot(                        \"6cf6696a-8cdc-4e38-b666-c475ca0dc203\",                        [{\"line\": {\"color\": \"rgba(255, 153, 51, 1.0)\", \"dash\": \"solid\", \"shape\": \"linear\", \"width\": 1.3}, \"marker\": {\"size\": 5, \"symbol\": \"circle\"}, \"mode\": \"lines+markers\", \"name\": \"path 1\", \"text\": \"\", \"type\": \"scatter\", \"x\": [0.0, 0.010101010101010102, 0.020202020202020204, 0.030303030303030304, 0.04040404040404041, 0.05050505050505051, 0.06060606060606061, 0.07070707070707072, 0.08080808080808081, 0.09090909090909091, 0.10101010101010102, 0.11111111111111112, 0.12121212121212122, 0.13131313131313133, 0.14141414141414144, 0.15151515151515152, 0.16161616161616163, 0.17171717171717174, 0.18181818181818182, 0.19191919191919193, 0.20202020202020204, 0.21212121212121213, 0.22222222222222224, 0.23232323232323235, 0.24242424242424243, 0.25252525252525254, 0.26262626262626265, 0.27272727272727276, 0.2828282828282829, 0.29292929292929293, 0.30303030303030304, 0.31313131313131315, 0.32323232323232326, 0.33333333333333337, 0.3434343434343435, 0.3535353535353536, 0.36363636363636365, 0.37373737373737376, 0.38383838383838387, 0.393939393939394, 0.4040404040404041, 0.4141414141414142, 0.42424242424242425, 0.43434343434343436, 0.4444444444444445, 0.4545454545454546, 0.4646464646464647, 0.4747474747474748, 0.48484848484848486, 0.494949494949495, 0.5050505050505051, 0.5151515151515152, 0.5252525252525253, 0.5353535353535354, 0.5454545454545455, 0.5555555555555556, 0.5656565656565657, 0.5757575757575758, 0.5858585858585859, 0.595959595959596, 0.6060606060606061, 0.6161616161616162, 0.6262626262626263, 0.6363636363636365, 0.6464646464646465, 0.6565656565656566, 0.6666666666666667, 0.6767676767676768, 0.686868686868687, 0.696969696969697, 0.7070707070707072, 0.7171717171717172, 0.7272727272727273, 0.7373737373737375, 0.7474747474747475, 0.7575757575757577, 0.7676767676767677, 0.7777777777777778, 0.787878787878788, 0.797979797979798, 0.8080808080808082, 0.8181818181818182, 0.8282828282828284, 0.8383838383838385, 0.8484848484848485, 0.8585858585858587, 0.8686868686868687, 0.8787878787878789, 0.888888888888889, 0.8989898989898991, 0.9090909090909092, 0.9191919191919192, 0.9292929292929294, 0.9393939393939394, 0.9494949494949496, 0.9595959595959597, 0.9696969696969697, 0.9797979797979799, 0.98989898989899, 1.0], \"y\": [1.0, 0.9758869136128923, 0.9721730696903835, 0.9455480370273452, 0.9414053781623999, 0.9687432196414028, 0.9671080613298267, 0.9560072408974605, 0.9657002342900465, 0.9941924449783498, 0.9729100730726264, 0.9727488063289431, 0.9552279679507055, 0.932530211284605, 0.9391744851686584, 0.9803915635535319, 0.9561781796138237, 0.935598507403294, 0.9189797868378408, 0.936440048860052, 0.9594866887179461, 0.9773688416798361, 0.9506065493578757, 0.9260314732134883, 0.9231717950365005, 0.904024473912134, 0.8962450029596567, 0.9111813599043924, 0.8729896866915208, 0.8797835916026995, 0.885474845095688, 0.8975893114743073, 0.9129688965536907, 0.9019421584836093, 0.9270845092960636, 0.9011998906251354, 0.872606007926468, 0.8741887926238721, 0.8631213615117552, 0.8755395385192943, 0.8946435230708383, 0.8849630992320563, 0.8631310045721152, 0.8806602897705903, 0.894471275580086, 0.8945608653621298, 0.902184298051153, 0.8911239038053266, 0.9216270621230068, 0.9043579668624385, 0.8886838661852802, 0.8781038275019986, 0.8691881530712653, 0.8758744578835242, 0.8894141734166863, 0.8687232104042801, 0.8488047962841543, 0.8641954281409263, 0.8811220751226176, 0.8870973715066156, 0.8434546318006347, 0.8495255868601282, 0.8427131458577135, 0.8495472555971263, 0.8418830316050491, 0.8213504087838809, 0.8294884524019979, 0.8591588086293086, 0.8561952492598025, 0.8476179735746044, 0.8637231564286059, 0.8766903581303528, 0.8698448659914227, 0.8698629706858394, 0.874665897255359, 0.8552054200320549, 0.849783909861284, 0.8233286249646886, 0.7992510012760651, 0.7641689955481811, 0.749202308833352, 0.7417589902946362, 0.7618042712799648, 0.7767017786590342, 0.7598330415277469, 0.7711047467571815, 0.756238712681652, 0.7759596709851548, 0.7688583827427595, 0.785512938261782, 0.7708140518149246, 0.7678588368728746, 0.7791026046455274, 0.7950801065509451, 0.7786060573676911, 0.7745072965762303, 0.8026282266880732, 0.7917722138087361, 0.7907904265260666, 0.7949658986010579]}, {\"line\": {\"color\": \"rgba(55, 128, 191, 1.0)\", \"dash\": \"solid\", \"shape\": \"linear\", \"width\": 1.3}, \"marker\": {\"size\": 5, \"symbol\": \"circle\"}, \"mode\": \"lines+markers\", \"name\": \"path 2\", \"text\": \"\", \"type\": \"scatter\", \"x\": [0.0, 0.010101010101010102, 0.020202020202020204, 0.030303030303030304, 0.04040404040404041, 0.05050505050505051, 0.06060606060606061, 0.07070707070707072, 0.08080808080808081, 0.09090909090909091, 0.10101010101010102, 0.11111111111111112, 0.12121212121212122, 0.13131313131313133, 0.14141414141414144, 0.15151515151515152, 0.16161616161616163, 0.17171717171717174, 0.18181818181818182, 0.19191919191919193, 0.20202020202020204, 0.21212121212121213, 0.22222222222222224, 0.23232323232323235, 0.24242424242424243, 0.25252525252525254, 0.26262626262626265, 0.27272727272727276, 0.2828282828282829, 0.29292929292929293, 0.30303030303030304, 0.31313131313131315, 0.32323232323232326, 0.33333333333333337, 0.3434343434343435, 0.3535353535353536, 0.36363636363636365, 0.37373737373737376, 0.38383838383838387, 0.393939393939394, 0.4040404040404041, 0.4141414141414142, 0.42424242424242425, 0.43434343434343436, 0.4444444444444445, 0.4545454545454546, 0.4646464646464647, 0.4747474747474748, 0.48484848484848486, 0.494949494949495, 0.5050505050505051, 0.5151515151515152, 0.5252525252525253, 0.5353535353535354, 0.5454545454545455, 0.5555555555555556, 0.5656565656565657, 0.5757575757575758, 0.5858585858585859, 0.595959595959596, 0.6060606060606061, 0.6161616161616162, 0.6262626262626263, 0.6363636363636365, 0.6464646464646465, 0.6565656565656566, 0.6666666666666667, 0.6767676767676768, 0.686868686868687, 0.696969696969697, 0.7070707070707072, 0.7171717171717172, 0.7272727272727273, 0.7373737373737375, 0.7474747474747475, 0.7575757575757577, 0.7676767676767677, 0.7777777777777778, 0.787878787878788, 0.797979797979798, 0.8080808080808082, 0.8181818181818182, 0.8282828282828284, 0.8383838383838385, 0.8484848484848485, 0.8585858585858587, 0.8686868686868687, 0.8787878787878789, 0.888888888888889, 0.8989898989898991, 0.9090909090909092, 0.9191919191919192, 0.9292929292929294, 0.9393939393939394, 0.9494949494949496, 0.9595959595959597, 0.9696969696969697, 0.9797979797979799, 0.98989898989899, 1.0], \"y\": [1.0, 0.9900985011126776, 1.0062636541968664, 1.0040958985931934, 1.0021109825540695, 0.9947789582702957, 1.0057845705918314, 1.0302672937850235, 1.016992721994259, 1.0507949860983392, 1.0622840178774358, 1.06736032738149, 1.0396640142305185, 1.036811498497757, 1.0069705796745043, 1.0135281353477217, 1.041396311450523, 1.0606231274624853, 1.0872340275155021, 1.0930738391027925, 1.0754795139524442, 1.0708329968075607, 1.050447023597076, 1.0554309022860813, 1.0841302683693983, 1.0558111826207588, 1.0720406663174868, 1.0851327882084103, 1.0440526905686287, 1.0700653254088421, 1.0735106245268662, 1.0995619567988093, 1.099462173553724, 1.0788864750629374, 1.0971753438944873, 1.0636198755369348, 1.0609270248354323, 1.0363889018528718, 1.0582696302770778, 1.0470228931265533, 1.0252547320669065, 1.022031939257398, 1.0001054994585326, 0.9868414492512289, 0.9979090620689567, 0.9622561881810493, 1.0104743918584156, 1.0320609416335913, 1.06864967042806, 1.049300690257967, 1.0639413530872084, 1.0631531020216953, 1.0993987461841737, 1.1082264185554267, 1.1462911016783626, 1.1162831515517209, 1.117476647976742, 1.1251149267060128, 1.1242372632754702, 1.1038451122094177, 1.0819149036425402, 1.0676786794222395, 1.0746672629615857, 1.0803493305860905, 1.0804343275593304, 1.093085549605247, 1.1188524290124253, 1.1013792174500048, 1.1305250146300245, 1.1334781738625315, 1.112382637783666, 1.1078130699185549, 1.0934420861160057, 1.0888372720921073, 1.1079740564075862, 1.136393706047534, 1.1125563772205953, 1.1184740917286797, 1.127570534529967, 1.1338748066274578, 1.1365495718537901, 1.1353509187563224, 1.131250244392808, 1.1080793426568696, 1.0924439391540968, 1.114368936315851, 1.1079791847340552, 1.1607539634450494, 1.1634783142183331, 1.149690545323327, 1.1390915603088705, 1.1298643744550652, 1.1350249490169129, 1.155107415689347, 1.1287952990150114, 1.1487392759474806, 1.1675578599805256, 1.178536187955775, 1.2278071456612711, 1.2564114980631593]}, {\"line\": {\"color\": \"rgba(50, 171, 96, 1.0)\", \"dash\": \"solid\", \"shape\": \"linear\", \"width\": 1.3}, \"marker\": {\"size\": 5, \"symbol\": \"circle\"}, \"mode\": \"lines+markers\", \"name\": \"path 3\", \"text\": \"\", \"type\": \"scatter\", \"x\": [0.0, 0.010101010101010102, 0.020202020202020204, 0.030303030303030304, 0.04040404040404041, 0.05050505050505051, 0.06060606060606061, 0.07070707070707072, 0.08080808080808081, 0.09090909090909091, 0.10101010101010102, 0.11111111111111112, 0.12121212121212122, 0.13131313131313133, 0.14141414141414144, 0.15151515151515152, 0.16161616161616163, 0.17171717171717174, 0.18181818181818182, 0.19191919191919193, 0.20202020202020204, 0.21212121212121213, 0.22222222222222224, 0.23232323232323235, 0.24242424242424243, 0.25252525252525254, 0.26262626262626265, 0.27272727272727276, 0.2828282828282829, 0.29292929292929293, 0.30303030303030304, 0.31313131313131315, 0.32323232323232326, 0.33333333333333337, 0.3434343434343435, 0.3535353535353536, 0.36363636363636365, 0.37373737373737376, 0.38383838383838387, 0.393939393939394, 0.4040404040404041, 0.4141414141414142, 0.42424242424242425, 0.43434343434343436, 0.4444444444444445, 0.4545454545454546, 0.4646464646464647, 0.4747474747474748, 0.48484848484848486, 0.494949494949495, 0.5050505050505051, 0.5151515151515152, 0.5252525252525253, 0.5353535353535354, 0.5454545454545455, 0.5555555555555556, 0.5656565656565657, 0.5757575757575758, 0.5858585858585859, 0.595959595959596, 0.6060606060606061, 0.6161616161616162, 0.6262626262626263, 0.6363636363636365, 0.6464646464646465, 0.6565656565656566, 0.6666666666666667, 0.6767676767676768, 0.686868686868687, 0.696969696969697, 0.7070707070707072, 0.7171717171717172, 0.7272727272727273, 0.7373737373737375, 0.7474747474747475, 0.7575757575757577, 0.7676767676767677, 0.7777777777777778, 0.787878787878788, 0.797979797979798, 0.8080808080808082, 0.8181818181818182, 0.8282828282828284, 0.8383838383838385, 0.8484848484848485, 0.8585858585858587, 0.8686868686868687, 0.8787878787878789, 0.888888888888889, 0.8989898989898991, 0.9090909090909092, 0.9191919191919192, 0.9292929292929294, 0.9393939393939394, 0.9494949494949496, 0.9595959595959597, 0.9696969696969697, 0.9797979797979799, 0.98989898989899, 1.0], \"y\": [1.0, 0.970018893905712, 0.9666522441944345, 0.9721114012515543, 0.9914679723948817, 0.9622280597952465, 0.9776909561557369, 0.980196247295136, 0.9611781547070389, 0.9882960060943683, 0.9536897286162671, 0.972071142276014, 0.959516261791915, 0.9633879441018737, 1.0046483671916653, 1.0485461239297609, 1.0372290074373243, 1.0328091665648729, 1.0087111670524864, 0.9878391056247884, 0.9722295753261812, 0.9820486750401832, 0.9614980717575592, 0.9229608299794656, 0.9303559131086379, 0.9456729871933758, 0.9880123807970795, 1.0018013126829903, 1.0293352987735662, 1.0713945176436437, 1.0460065772407237, 1.0413428965442775, 1.0330254984137432, 1.0198865000219628, 1.0164117750182762, 1.0172494475290785, 1.0590522683695238, 1.0726195309588962, 1.038671833657434, 1.0379343745794962, 1.0208931733433535, 1.0663788270144323, 1.0503085355371338, 1.0525018057902977, 1.0450373912151643, 1.0845178097908441, 1.0803385322809902, 1.1418363194995969, 1.1514496266600933, 1.1334245791300577, 1.127768306443226, 1.1306360524661252, 1.133296352402337, 1.0988289169242684, 1.092832197845793, 1.0888171884880082, 1.0745978355305845, 1.1015397401542437, 1.0970206674680987, 1.1182519056453148, 1.0575721781729557, 1.0238265630991121, 1.0304627809449929, 0.9754883275162753, 0.9880283399576085, 0.9922141769877704, 0.9763856897728818, 0.9882575842994143, 0.9460099441796217, 0.9496273910579466, 0.9747942252402407, 0.9561524947272753, 0.9518210902033084, 0.965881229962555, 1.0217656330092808, 1.0402599641871824, 1.011775383298951, 1.0211773164403533, 1.020176291783971, 1.033400122701889, 1.0644749419436295, 1.050148609398824, 1.0508483976160976, 1.0581123237400454, 1.0547942667318593, 1.0434430525376488, 1.038217128868242, 1.0447347853769569, 1.0430720210710247, 1.0299191363779117, 1.034238443895115, 1.0031367154392246, 1.0222070621514066, 1.0463152737053836, 1.0719671893653453, 1.0409602521856332, 1.0479883987025858, 1.0485543978661036, 1.0164118424030288, 1.0521170711183436]}, {\"line\": {\"color\": \"rgba(128, 0, 128, 1.0)\", \"dash\": \"solid\", \"shape\": \"linear\", \"width\": 1.3}, \"marker\": {\"size\": 5, \"symbol\": \"circle\"}, \"mode\": \"lines+markers\", \"name\": \"path 4\", \"text\": \"\", \"type\": \"scatter\", \"x\": [0.0, 0.010101010101010102, 0.020202020202020204, 0.030303030303030304, 0.04040404040404041, 0.05050505050505051, 0.06060606060606061, 0.07070707070707072, 0.08080808080808081, 0.09090909090909091, 0.10101010101010102, 0.11111111111111112, 0.12121212121212122, 0.13131313131313133, 0.14141414141414144, 0.15151515151515152, 0.16161616161616163, 0.17171717171717174, 0.18181818181818182, 0.19191919191919193, 0.20202020202020204, 0.21212121212121213, 0.22222222222222224, 0.23232323232323235, 0.24242424242424243, 0.25252525252525254, 0.26262626262626265, 0.27272727272727276, 0.2828282828282829, 0.29292929292929293, 0.30303030303030304, 0.31313131313131315, 0.32323232323232326, 0.33333333333333337, 0.3434343434343435, 0.3535353535353536, 0.36363636363636365, 0.37373737373737376, 0.38383838383838387, 0.393939393939394, 0.4040404040404041, 0.4141414141414142, 0.42424242424242425, 0.43434343434343436, 0.4444444444444445, 0.4545454545454546, 0.4646464646464647, 0.4747474747474748, 0.48484848484848486, 0.494949494949495, 0.5050505050505051, 0.5151515151515152, 0.5252525252525253, 0.5353535353535354, 0.5454545454545455, 0.5555555555555556, 0.5656565656565657, 0.5757575757575758, 0.5858585858585859, 0.595959595959596, 0.6060606060606061, 0.6161616161616162, 0.6262626262626263, 0.6363636363636365, 0.6464646464646465, 0.6565656565656566, 0.6666666666666667, 0.6767676767676768, 0.686868686868687, 0.696969696969697, 0.7070707070707072, 0.7171717171717172, 0.7272727272727273, 0.7373737373737375, 0.7474747474747475, 0.7575757575757577, 0.7676767676767677, 0.7777777777777778, 0.787878787878788, 0.797979797979798, 0.8080808080808082, 0.8181818181818182, 0.8282828282828284, 0.8383838383838385, 0.8484848484848485, 0.8585858585858587, 0.8686868686868687, 0.8787878787878789, 0.888888888888889, 0.8989898989898991, 0.9090909090909092, 0.9191919191919192, 0.9292929292929294, 0.9393939393939394, 0.9494949494949496, 0.9595959595959597, 0.9696969696969697, 0.9797979797979799, 0.98989898989899, 1.0], \"y\": [1.0, 1.0100766529531966, 0.96967014550651, 0.9880020359048549, 1.000566975545798, 0.9604711043769283, 0.9430406686804025, 0.9098387160945834, 0.925503851776737, 0.9267213816088873, 0.8783398545296802, 0.8833459572066477, 0.9037922910512458, 0.9207532010865654, 0.8890858242709772, 0.9118865056781805, 0.9230490782755669, 0.9265861414466132, 0.9565976501254138, 0.9849052137218969, 0.9683874641930883, 0.9358609923163315, 0.9591821084650717, 0.9771785000864182, 1.0046735170327812, 1.002958955477817, 1.0174989707861062, 1.0167236464551632, 0.9977345447217973, 0.9883508361053414, 1.0034806977139095, 1.0233832458350003, 1.0401696168904446, 1.0424749305117285, 1.0684633453237584, 1.0996147661699716, 1.075029720154942, 1.0813506106094233, 1.0413820976058328, 1.0467985430521412, 1.0620049042938582, 1.0427583599470893, 1.0425625014536652, 1.0825197628979637, 1.0860459995361764, 1.0926561427447896, 1.076580721257838, 1.0497190695639713, 1.0054562205716788, 0.9983024830954543, 0.9664731601668487, 0.9636034495145351, 0.9435125389519904, 0.9607106044277669, 0.9642769605074997, 0.9872960912518304, 0.9730933420616594, 0.9438390569809416, 0.9478110122638481, 0.9472897837666541, 0.9382198774153799, 0.936077732287433, 0.9608193951980193, 0.9602370669248912, 1.0078329401486525, 0.996035665565391, 0.9921651209443056, 1.0043465952142547, 1.0277729706841126, 1.0235390064790393, 1.0195600084093346, 1.0221655575397692, 1.0187089470539974, 0.9726025183520568, 0.9582531259147911, 0.9543165417475912, 0.9444940089569589, 0.9511692578258734, 0.9365371225643749, 0.9405773365419113, 0.9234485073193682, 0.9371864345201107, 0.9638351728049904, 0.9618848547654122, 0.971163306743406, 0.9582385175721726, 0.9753801533548322, 1.003274744962303, 0.9776469055907434, 0.9938333675162407, 0.9970281890984257, 0.9657717197018958, 0.9238821485356609, 0.9089066521387839, 0.9082014598332425, 0.9051296642169157, 0.9031728225161028, 0.9004527673783752, 0.8981692878489722, 0.9271750184583186]}, {\"line\": {\"color\": \"rgba(219, 64, 82, 1.0)\", \"dash\": \"solid\", \"shape\": \"linear\", \"width\": 1.3}, \"marker\": {\"size\": 5, \"symbol\": \"circle\"}, \"mode\": \"lines+markers\", \"name\": \"path 5\", \"text\": \"\", \"type\": \"scatter\", \"x\": [0.0, 0.010101010101010102, 0.020202020202020204, 0.030303030303030304, 0.04040404040404041, 0.05050505050505051, 0.06060606060606061, 0.07070707070707072, 0.08080808080808081, 0.09090909090909091, 0.10101010101010102, 0.11111111111111112, 0.12121212121212122, 0.13131313131313133, 0.14141414141414144, 0.15151515151515152, 0.16161616161616163, 0.17171717171717174, 0.18181818181818182, 0.19191919191919193, 0.20202020202020204, 0.21212121212121213, 0.22222222222222224, 0.23232323232323235, 0.24242424242424243, 0.25252525252525254, 0.26262626262626265, 0.27272727272727276, 0.2828282828282829, 0.29292929292929293, 0.30303030303030304, 0.31313131313131315, 0.32323232323232326, 0.33333333333333337, 0.3434343434343435, 0.3535353535353536, 0.36363636363636365, 0.37373737373737376, 0.38383838383838387, 0.393939393939394, 0.4040404040404041, 0.4141414141414142, 0.42424242424242425, 0.43434343434343436, 0.4444444444444445, 0.4545454545454546, 0.4646464646464647, 0.4747474747474748, 0.48484848484848486, 0.494949494949495, 0.5050505050505051, 0.5151515151515152, 0.5252525252525253, 0.5353535353535354, 0.5454545454545455, 0.5555555555555556, 0.5656565656565657, 0.5757575757575758, 0.5858585858585859, 0.595959595959596, 0.6060606060606061, 0.6161616161616162, 0.6262626262626263, 0.6363636363636365, 0.6464646464646465, 0.6565656565656566, 0.6666666666666667, 0.6767676767676768, 0.686868686868687, 0.696969696969697, 0.7070707070707072, 0.7171717171717172, 0.7272727272727273, 0.7373737373737375, 0.7474747474747475, 0.7575757575757577, 0.7676767676767677, 0.7777777777777778, 0.787878787878788, 0.797979797979798, 0.8080808080808082, 0.8181818181818182, 0.8282828282828284, 0.8383838383838385, 0.8484848484848485, 0.8585858585858587, 0.8686868686868687, 0.8787878787878789, 0.888888888888889, 0.8989898989898991, 0.9090909090909092, 0.9191919191919192, 0.9292929292929294, 0.9393939393939394, 0.9494949494949496, 0.9595959595959597, 0.9696969696969697, 0.9797979797979799, 0.98989898989899, 1.0], \"y\": [1.0, 1.0138034124209758, 1.0260418863605516, 1.0259101738097145, 0.998195157744345, 0.9695580279039462, 0.9822347179715913, 0.9528330601350478, 0.9976971238562866, 1.013214143668941, 1.0055631982588893, 0.9765681586250885, 0.9315901210290543, 0.936495759503991, 0.9461642693063816, 0.9283908317319192, 0.9237729642040124, 0.8972861294254828, 0.9035711965804836, 0.9056249272517646, 0.8758432707296896, 0.8560003846775893, 0.8371735122892052, 0.8361880042220097, 0.8538427397496826, 0.838461577894848, 0.831556815567072, 0.8316854670136015, 0.8105010646275325, 0.7967509127088371, 0.809892255356203, 0.8116834293171719, 0.8225295397121002, 0.8211428937287245, 0.8270773456600559, 0.8348488688037458, 0.8521732248484762, 0.8351063772987595, 0.831338852473634, 0.8486422826805722, 0.8338804373054104, 0.8675533626134135, 0.8610397222402832, 0.8561010654533552, 0.8397422634136172, 0.8388492542423853, 0.8371324019442389, 0.826551484148046, 0.8218888331179689, 0.8390401873204315, 0.8367957997000981, 0.8390791856415412, 0.83237482563794, 0.8171032423417535, 0.8386680472758031, 0.8284436248436553, 0.8239159028922004, 0.8407182008049968, 0.8560172743739421, 0.8517378196622477, 0.8707440182985163, 0.8638044772049532, 0.8594101565005213, 0.860823820995816, 0.8701399477298478, 0.8461397580252609, 0.8655077198362394, 0.9016193591792391, 0.8913932817156001, 0.8954626680472028, 0.9095436807442248, 0.9059728029645888, 0.9149560278253599, 0.9321689667154814, 0.9116322332602216, 0.9096492657103767, 0.9162274128125996, 0.9141054338498282, 0.9304783116118346, 0.9563140014644348, 0.9632853960369858, 0.9533373976465034, 0.9680539125547554, 0.9906959285346999, 0.9945538739968227, 0.967609680105873, 0.9623258160741315, 0.9737728207699788, 0.9724826247412747, 0.9318357752438423, 0.9225138887737103, 0.9254986014901413, 0.9284631224102906, 0.92349363228461, 0.948924303778468, 0.9405071009300575, 0.8956414764175419, 0.930745463972999, 0.9379818131416439, 0.9456871479443995]}, {\"line\": {\"color\": \"rgba(0, 128, 128, 1.0)\", \"dash\": \"solid\", \"shape\": \"linear\", \"width\": 1.3}, \"marker\": {\"size\": 5, \"symbol\": \"circle\"}, \"mode\": \"lines+markers\", \"name\": \"path 6\", \"text\": \"\", \"type\": \"scatter\", \"x\": [0.0, 0.010101010101010102, 0.020202020202020204, 0.030303030303030304, 0.04040404040404041, 0.05050505050505051, 0.06060606060606061, 0.07070707070707072, 0.08080808080808081, 0.09090909090909091, 0.10101010101010102, 0.11111111111111112, 0.12121212121212122, 0.13131313131313133, 0.14141414141414144, 0.15151515151515152, 0.16161616161616163, 0.17171717171717174, 0.18181818181818182, 0.19191919191919193, 0.20202020202020204, 0.21212121212121213, 0.22222222222222224, 0.23232323232323235, 0.24242424242424243, 0.25252525252525254, 0.26262626262626265, 0.27272727272727276, 0.2828282828282829, 0.29292929292929293, 0.30303030303030304, 0.31313131313131315, 0.32323232323232326, 0.33333333333333337, 0.3434343434343435, 0.3535353535353536, 0.36363636363636365, 0.37373737373737376, 0.38383838383838387, 0.393939393939394, 0.4040404040404041, 0.4141414141414142, 0.42424242424242425, 0.43434343434343436, 0.4444444444444445, 0.4545454545454546, 0.4646464646464647, 0.4747474747474748, 0.48484848484848486, 0.494949494949495, 0.5050505050505051, 0.5151515151515152, 0.5252525252525253, 0.5353535353535354, 0.5454545454545455, 0.5555555555555556, 0.5656565656565657, 0.5757575757575758, 0.5858585858585859, 0.595959595959596, 0.6060606060606061, 0.6161616161616162, 0.6262626262626263, 0.6363636363636365, 0.6464646464646465, 0.6565656565656566, 0.6666666666666667, 0.6767676767676768, 0.686868686868687, 0.696969696969697, 0.7070707070707072, 0.7171717171717172, 0.7272727272727273, 0.7373737373737375, 0.7474747474747475, 0.7575757575757577, 0.7676767676767677, 0.7777777777777778, 0.787878787878788, 0.797979797979798, 0.8080808080808082, 0.8181818181818182, 0.8282828282828284, 0.8383838383838385, 0.8484848484848485, 0.8585858585858587, 0.8686868686868687, 0.8787878787878789, 0.888888888888889, 0.8989898989898991, 0.9090909090909092, 0.9191919191919192, 0.9292929292929294, 0.9393939393939394, 0.9494949494949496, 0.9595959595959597, 0.9696969696969697, 0.9797979797979799, 0.98989898989899, 1.0], \"y\": [1.0, 0.9999816106791676, 0.9931548306833855, 0.9816931856545151, 0.9710201832285149, 0.9867474997823557, 0.9598249014240983, 0.945944401657754, 0.9834305009416339, 0.9894084461315303, 0.965856431385515, 0.9615080021918514, 0.9584470410083826, 0.9832248194690683, 1.0150027016566479, 1.0107325839604024, 1.0010121204888551, 0.9889981988282196, 0.9674058397705684, 0.9634979332806657, 0.935574990923007, 0.9583385999713119, 0.9730358794887233, 0.973338264348096, 0.9616824573206074, 0.941127876271852, 0.9645643565694093, 0.9724132675242502, 0.9486468439350864, 0.9297304662341438, 0.9411776325844594, 0.9358695003765338, 0.905745029640526, 0.9454995882359185, 0.9235635894273097, 0.9362728689609955, 0.9303582104577734, 0.9258589625769195, 0.9608105290261109, 0.9563065525044455, 0.9452986639031348, 0.9479575348833095, 0.9285914960644756, 0.9097212470084449, 0.8779421749058679, 0.8745482603992439, 0.9209418818174494, 0.8782616012118415, 0.8517696131005595, 0.8508155405964649, 0.8607025571555184, 0.8765018666182008, 0.9004464197586665, 0.8791602818079505, 0.8809850734073714, 0.8776888769018415, 0.8884404703436561, 0.8754089753188861, 0.8572897418235466, 0.8605003679275429, 0.8678225682127912, 0.8552155196769295, 0.8560558347211263, 0.8749176976668133, 0.8852651854623957, 0.8901808013512, 0.8806102719568444, 0.8559580454391732, 0.8494878872022633, 0.851683090847822, 0.8370291924099235, 0.8689601104038135, 0.8770672536882269, 0.8810050261653475, 0.8784762936225169, 0.8945656487619619, 0.890337014273378, 0.8607140717354168, 0.8801475103347204, 0.8903744843243679, 0.8854269416301362, 0.8885028217727986, 0.8873043234226436, 0.9047684653049992, 0.9360587075872772, 0.8981627584057493, 0.9372140972596824, 0.9135549389694885, 0.924126571755102, 0.9114815203308724, 0.9082225242224443, 0.8855165532546867, 0.8983772993471341, 0.9117280678232329, 0.9006467355899099, 0.8853275501644137, 0.8896002665411494, 0.8738698329464177, 0.8711234888163792, 0.8482426840748747]}, {\"line\": {\"color\": \"rgba(255, 255, 51, 1.0)\", \"dash\": \"solid\", \"shape\": \"linear\", \"width\": 1.3}, \"marker\": {\"size\": 5, \"symbol\": \"circle\"}, \"mode\": \"lines+markers\", \"name\": \"path 7\", \"text\": \"\", \"type\": \"scatter\", \"x\": [0.0, 0.010101010101010102, 0.020202020202020204, 0.030303030303030304, 0.04040404040404041, 0.05050505050505051, 0.06060606060606061, 0.07070707070707072, 0.08080808080808081, 0.09090909090909091, 0.10101010101010102, 0.11111111111111112, 0.12121212121212122, 0.13131313131313133, 0.14141414141414144, 0.15151515151515152, 0.16161616161616163, 0.17171717171717174, 0.18181818181818182, 0.19191919191919193, 0.20202020202020204, 0.21212121212121213, 0.22222222222222224, 0.23232323232323235, 0.24242424242424243, 0.25252525252525254, 0.26262626262626265, 0.27272727272727276, 0.2828282828282829, 0.29292929292929293, 0.30303030303030304, 0.31313131313131315, 0.32323232323232326, 0.33333333333333337, 0.3434343434343435, 0.3535353535353536, 0.36363636363636365, 0.37373737373737376, 0.38383838383838387, 0.393939393939394, 0.4040404040404041, 0.4141414141414142, 0.42424242424242425, 0.43434343434343436, 0.4444444444444445, 0.4545454545454546, 0.4646464646464647, 0.4747474747474748, 0.48484848484848486, 0.494949494949495, 0.5050505050505051, 0.5151515151515152, 0.5252525252525253, 0.5353535353535354, 0.5454545454545455, 0.5555555555555556, 0.5656565656565657, 0.5757575757575758, 0.5858585858585859, 0.595959595959596, 0.6060606060606061, 0.6161616161616162, 0.6262626262626263, 0.6363636363636365, 0.6464646464646465, 0.6565656565656566, 0.6666666666666667, 0.6767676767676768, 0.686868686868687, 0.696969696969697, 0.7070707070707072, 0.7171717171717172, 0.7272727272727273, 0.7373737373737375, 0.7474747474747475, 0.7575757575757577, 0.7676767676767677, 0.7777777777777778, 0.787878787878788, 0.797979797979798, 0.8080808080808082, 0.8181818181818182, 0.8282828282828284, 0.8383838383838385, 0.8484848484848485, 0.8585858585858587, 0.8686868686868687, 0.8787878787878789, 0.888888888888889, 0.8989898989898991, 0.9090909090909092, 0.9191919191919192, 0.9292929292929294, 0.9393939393939394, 0.9494949494949496, 0.9595959595959597, 0.9696969696969697, 0.9797979797979799, 0.98989898989899, 1.0], \"y\": [1.0, 0.9879585215671528, 0.9577444239038932, 0.9492912845501316, 0.9531972713294484, 0.9722607596388348, 0.9946845010178725, 0.9939892096220289, 0.963918373541532, 0.9675458402241564, 0.9819055201304765, 0.9722545409984894, 0.9866378952315967, 1.0067801482138936, 1.0105153729330323, 1.0202205560788131, 0.989581945400854, 0.9610086595649795, 0.950135647851557, 0.9630848701709729, 0.971606031629502, 0.9896304991789387, 1.005207442452726, 1.02069852036731, 1.0284452047921697, 1.0521726349127267, 1.0493322167339607, 1.046943777025269, 1.0567092213789668, 1.035057182437084, 1.0560838809833566, 1.0825690438791928, 1.075471794700989, 1.0460920549594828, 1.0342431968398367, 1.06574279306275, 1.0757364682236914, 1.053111939732093, 1.0667946882839623, 1.0704463466064027, 1.039122464945915, 1.0668522262321927, 1.0506348133197312, 1.0770706429568755, 1.0943465490868176, 1.078064551508346, 1.0694962607683547, 1.0615761569532887, 1.0743460349710214, 1.0758767087331804, 1.0849844009497454, 1.0804656098759438, 1.0664263329300443, 1.0478119478314558, 1.0770537736003716, 1.1043983415928726, 1.1196492358146894, 1.0712390225052366, 1.0289296557345937, 1.0324436786436009, 1.035829413917947, 1.0185567968750278, 1.028651999706999, 1.009925449903361, 1.0052960450810642, 1.0065669785054254, 1.045093628699996, 1.079688122768743, 1.0947019440353756, 1.094511274538007, 1.0718633792351135, 1.0856953110605547, 1.0948506722773055, 1.0735808166900431, 1.102042623728068, 1.0883618234815806, 1.0935128749571192, 1.0985040622255178, 1.1095196373215088, 1.095721138592007, 1.102244924422822, 1.0932496194633574, 1.0808086311836267, 1.0851864446965405, 1.0735514202754153, 1.0561683029655387, 1.0826074123695246, 1.079895532489071, 1.1107005016605065, 1.0871508307564293, 1.0705374924392466, 1.0683091543232444, 1.0475682449130252, 1.0567142053046406, 1.0069266371231445, 1.0459465013488118, 0.997560618782901, 0.9768130116488788, 1.0183693548121389, 1.039718669375195]}, {\"line\": {\"color\": \"rgba(128, 128, 0, 1.0)\", \"dash\": \"solid\", \"shape\": \"linear\", \"width\": 1.3}, \"marker\": {\"size\": 5, \"symbol\": \"circle\"}, \"mode\": \"lines+markers\", \"name\": \"path 8\", \"text\": \"\", \"type\": \"scatter\", \"x\": [0.0, 0.010101010101010102, 0.020202020202020204, 0.030303030303030304, 0.04040404040404041, 0.05050505050505051, 0.06060606060606061, 0.07070707070707072, 0.08080808080808081, 0.09090909090909091, 0.10101010101010102, 0.11111111111111112, 0.12121212121212122, 0.13131313131313133, 0.14141414141414144, 0.15151515151515152, 0.16161616161616163, 0.17171717171717174, 0.18181818181818182, 0.19191919191919193, 0.20202020202020204, 0.21212121212121213, 0.22222222222222224, 0.23232323232323235, 0.24242424242424243, 0.25252525252525254, 0.26262626262626265, 0.27272727272727276, 0.2828282828282829, 0.29292929292929293, 0.30303030303030304, 0.31313131313131315, 0.32323232323232326, 0.33333333333333337, 0.3434343434343435, 0.3535353535353536, 0.36363636363636365, 0.37373737373737376, 0.38383838383838387, 0.393939393939394, 0.4040404040404041, 0.4141414141414142, 0.42424242424242425, 0.43434343434343436, 0.4444444444444445, 0.4545454545454546, 0.4646464646464647, 0.4747474747474748, 0.48484848484848486, 0.494949494949495, 0.5050505050505051, 0.5151515151515152, 0.5252525252525253, 0.5353535353535354, 0.5454545454545455, 0.5555555555555556, 0.5656565656565657, 0.5757575757575758, 0.5858585858585859, 0.595959595959596, 0.6060606060606061, 0.6161616161616162, 0.6262626262626263, 0.6363636363636365, 0.6464646464646465, 0.6565656565656566, 0.6666666666666667, 0.6767676767676768, 0.686868686868687, 0.696969696969697, 0.7070707070707072, 0.7171717171717172, 0.7272727272727273, 0.7373737373737375, 0.7474747474747475, 0.7575757575757577, 0.7676767676767677, 0.7777777777777778, 0.787878787878788, 0.797979797979798, 0.8080808080808082, 0.8181818181818182, 0.8282828282828284, 0.8383838383838385, 0.8484848484848485, 0.8585858585858587, 0.8686868686868687, 0.8787878787878789, 0.888888888888889, 0.8989898989898991, 0.9090909090909092, 0.9191919191919192, 0.9292929292929294, 0.9393939393939394, 0.9494949494949496, 0.9595959595959597, 0.9696969696969697, 0.9797979797979799, 0.98989898989899, 1.0], \"y\": [1.0, 1.0188722425290273, 1.0134107101251848, 0.9982734242940284, 1.0330163014982727, 1.092845316398936, 1.0601899209638423, 1.0190246684330142, 0.9940522337691792, 0.9690007394322562, 0.9667586528260026, 0.9415825634830386, 0.9653892567585651, 0.9826648255848377, 0.9907647878611757, 0.9986010272445146, 1.0060718450728747, 0.9979050090306213, 1.0141168932337024, 0.9975018822476874, 1.027201361668962, 1.0178144484086762, 1.0258847095546169, 1.0248734558246524, 1.020231024813421, 1.0381826043613687, 1.029381314205764, 1.0244811705566244, 1.0699294600659464, 1.0709378551483437, 1.0655883276099476, 1.0681613641067667, 1.1110521179215627, 1.1089416519042679, 1.1255440525811145, 1.0952166866455748, 1.0913602675585796, 1.084067276622497, 1.0398731951332194, 1.0456902896765208, 1.0464622926217708, 1.0794200801424958, 1.0840064869388943, 1.0965390572969282, 1.0965770697254598, 1.0926744063084917, 1.0883029766200665, 1.0641336370054384, 1.0405106574965195, 1.0561809083419271, 1.039660132761832, 1.065313069494811, 1.0772957001832444, 1.0856484615135302, 1.0992771211331311, 1.1112871707684255, 1.1158775190953776, 1.0975074941680418, 1.1147277556341157, 1.085404893141044, 1.089432781711, 1.0913129557915056, 1.073150703314859, 1.0891243678553553, 1.0720515461567097, 1.0637224448752134, 1.0367124030128199, 1.0681377218494383, 1.0370907958003357, 1.0432904587398086, 1.0519282209237082, 1.0385166415912785, 1.0123122450327349, 1.0334328344714385, 1.035955449155344, 1.0616000832064751, 1.0453314379317145, 1.0375024516028302, 1.0409936094676673, 1.0006595668380396, 1.005621401009539, 0.9798459339088679, 0.9778800445534357, 0.9745964846463474, 0.9804520969319125, 0.9828851192936823, 0.9631862846904058, 0.9486699519222417, 0.9478597935492156, 0.9171366846349891, 0.874229895867783, 0.8926951177358886, 0.8714672816547478, 0.8706698538705451, 0.8685597083209008, 0.8754337026705424, 0.9062547831851199, 0.9341925893818086, 0.952491606602926, 0.935460062959621]}, {\"line\": {\"color\": \"rgba(251, 128, 114, 1.0)\", \"dash\": \"solid\", \"shape\": \"linear\", \"width\": 1.3}, \"marker\": {\"size\": 5, \"symbol\": \"circle\"}, \"mode\": \"lines+markers\", \"name\": \"path 9\", \"text\": \"\", \"type\": \"scatter\", \"x\": [0.0, 0.010101010101010102, 0.020202020202020204, 0.030303030303030304, 0.04040404040404041, 0.05050505050505051, 0.06060606060606061, 0.07070707070707072, 0.08080808080808081, 0.09090909090909091, 0.10101010101010102, 0.11111111111111112, 0.12121212121212122, 0.13131313131313133, 0.14141414141414144, 0.15151515151515152, 0.16161616161616163, 0.17171717171717174, 0.18181818181818182, 0.19191919191919193, 0.20202020202020204, 0.21212121212121213, 0.22222222222222224, 0.23232323232323235, 0.24242424242424243, 0.25252525252525254, 0.26262626262626265, 0.27272727272727276, 0.2828282828282829, 0.29292929292929293, 0.30303030303030304, 0.31313131313131315, 0.32323232323232326, 0.33333333333333337, 0.3434343434343435, 0.3535353535353536, 0.36363636363636365, 0.37373737373737376, 0.38383838383838387, 0.393939393939394, 0.4040404040404041, 0.4141414141414142, 0.42424242424242425, 0.43434343434343436, 0.4444444444444445, 0.4545454545454546, 0.4646464646464647, 0.4747474747474748, 0.48484848484848486, 0.494949494949495, 0.5050505050505051, 0.5151515151515152, 0.5252525252525253, 0.5353535353535354, 0.5454545454545455, 0.5555555555555556, 0.5656565656565657, 0.5757575757575758, 0.5858585858585859, 0.595959595959596, 0.6060606060606061, 0.6161616161616162, 0.6262626262626263, 0.6363636363636365, 0.6464646464646465, 0.6565656565656566, 0.6666666666666667, 0.6767676767676768, 0.686868686868687, 0.696969696969697, 0.7070707070707072, 0.7171717171717172, 0.7272727272727273, 0.7373737373737375, 0.7474747474747475, 0.7575757575757577, 0.7676767676767677, 0.7777777777777778, 0.787878787878788, 0.797979797979798, 0.8080808080808082, 0.8181818181818182, 0.8282828282828284, 0.8383838383838385, 0.8484848484848485, 0.8585858585858587, 0.8686868686868687, 0.8787878787878789, 0.888888888888889, 0.8989898989898991, 0.9090909090909092, 0.9191919191919192, 0.9292929292929294, 0.9393939393939394, 0.9494949494949496, 0.9595959595959597, 0.9696969696969697, 0.9797979797979799, 0.98989898989899, 1.0], \"y\": [1.0, 0.9905915355213522, 0.9649615320902541, 0.9403692009521352, 0.9241242691513611, 0.9190842643547867, 0.9274644504444155, 0.9274180324228483, 0.9420349184242987, 0.959947420763255, 0.9333458781862791, 0.9136664522621433, 0.9062830975618066, 0.8891729829608982, 0.9169632647460947, 0.8975420891680826, 0.8903179658566285, 0.8793289365852105, 0.8935065752272191, 0.9037889876968259, 0.9205580905848748, 0.9522474111162339, 0.9587722929018173, 0.9757593991886799, 0.9854753142579962, 0.9648275781440413, 0.9448781487735948, 0.9516421825622335, 0.934783522813275, 0.929266181513029, 0.940482970552505, 0.9660671639038144, 0.9882046896722376, 0.9880127813138533, 0.9812592454501581, 0.9786457934061605, 0.9790507576437993, 0.9934555384509391, 0.9764641169756738, 1.0098780913442873, 1.0008618821246802, 1.0155356342151645, 1.00461286446844, 1.005207621753287, 1.0032007975381503, 1.0139903581084495, 1.0074991403528106, 1.0166914180131912, 1.0068088057617308, 1.0142921794838762, 0.9914723873055348, 0.9719190071838716, 1.0082751670081296, 1.0412695111942192, 1.0592543906979897, 1.0750852592225204, 1.0639495291675318, 1.0471026882411245, 1.0677677642500591, 1.064487464375023, 1.0666039714221758, 1.057443292892314, 1.0203942022610681, 1.0462192687019636, 1.0436361974101607, 1.0471785897029053, 1.0351571340998114, 1.023961820895801, 1.035133424966005, 1.001908208085093, 0.9971028037561571, 1.0003008057076885, 1.0156014711208081, 1.058333568537437, 1.0783450091044287, 1.0889447820773002, 1.081459672068305, 1.084211877815034, 1.126409793496605, 1.0942077514932949, 1.0837123293357807, 1.0731989438718843, 1.0924040500413021, 1.074668962271174, 1.0097392810112191, 0.9939650038744886, 1.0151729475472042, 1.0479438124928895, 1.0609170077867143, 1.073515954522172, 1.0510206570540412, 1.0729881208450067, 1.0553882921543782, 1.040922269110006, 1.068964515944721, 1.0861612984101459, 1.083402395445329, 1.1070322908234442, 1.1136403559049828, 1.1232432602642677]}, {\"line\": {\"color\": \"rgba(128, 177, 211, 1.0)\", \"dash\": \"solid\", \"shape\": \"linear\", \"width\": 1.3}, \"marker\": {\"size\": 5, \"symbol\": \"circle\"}, \"mode\": \"lines+markers\", \"name\": \"path 10\", \"text\": \"\", \"type\": \"scatter\", \"x\": [0.0, 0.010101010101010102, 0.020202020202020204, 0.030303030303030304, 0.04040404040404041, 0.05050505050505051, 0.06060606060606061, 0.07070707070707072, 0.08080808080808081, 0.09090909090909091, 0.10101010101010102, 0.11111111111111112, 0.12121212121212122, 0.13131313131313133, 0.14141414141414144, 0.15151515151515152, 0.16161616161616163, 0.17171717171717174, 0.18181818181818182, 0.19191919191919193, 0.20202020202020204, 0.21212121212121213, 0.22222222222222224, 0.23232323232323235, 0.24242424242424243, 0.25252525252525254, 0.26262626262626265, 0.27272727272727276, 0.2828282828282829, 0.29292929292929293, 0.30303030303030304, 0.31313131313131315, 0.32323232323232326, 0.33333333333333337, 0.3434343434343435, 0.3535353535353536, 0.36363636363636365, 0.37373737373737376, 0.38383838383838387, 0.393939393939394, 0.4040404040404041, 0.4141414141414142, 0.42424242424242425, 0.43434343434343436, 0.4444444444444445, 0.4545454545454546, 0.4646464646464647, 0.4747474747474748, 0.48484848484848486, 0.494949494949495, 0.5050505050505051, 0.5151515151515152, 0.5252525252525253, 0.5353535353535354, 0.5454545454545455, 0.5555555555555556, 0.5656565656565657, 0.5757575757575758, 0.5858585858585859, 0.595959595959596, 0.6060606060606061, 0.6161616161616162, 0.6262626262626263, 0.6363636363636365, 0.6464646464646465, 0.6565656565656566, 0.6666666666666667, 0.6767676767676768, 0.686868686868687, 0.696969696969697, 0.7070707070707072, 0.7171717171717172, 0.7272727272727273, 0.7373737373737375, 0.7474747474747475, 0.7575757575757577, 0.7676767676767677, 0.7777777777777778, 0.787878787878788, 0.797979797979798, 0.8080808080808082, 0.8181818181818182, 0.8282828282828284, 0.8383838383838385, 0.8484848484848485, 0.8585858585858587, 0.8686868686868687, 0.8787878787878789, 0.888888888888889, 0.8989898989898991, 0.9090909090909092, 0.9191919191919192, 0.9292929292929294, 0.9393939393939394, 0.9494949494949496, 0.9595959595959597, 0.9696969696969697, 0.9797979797979799, 0.98989898989899, 1.0], \"y\": [1.0, 0.9764210469692465, 0.984391075025009, 0.9470707864876164, 0.9225667983234687, 0.9721771335629018, 0.9544466381912325, 0.9976992580703808, 1.0010030367193332, 1.0117381092479856, 1.0021792512546859, 1.0131879878452927, 1.0224926516269615, 1.006906663172622, 1.0103093067146802, 0.9903823454956333, 0.9939593182882575, 1.0056048716470207, 0.9925025273570892, 1.0172494738113198, 1.0048841197820735, 1.014486913226215, 1.0259013993052006, 1.0471875132408839, 1.0463505493354106, 1.0433907924995862, 1.0602556557148775, 1.0948388068759796, 1.109734777485979, 1.1091712180665556, 1.1399619401992211, 1.0995291528580935, 1.1142386602389185, 1.1169942173354428, 1.1305267981826048, 1.161701921951773, 1.1945341965642824, 1.2052647242833388, 1.192604260754344, 1.1607350770723996, 1.1535092749459048, 1.1832643390167414, 1.1704454892637188, 1.1748161244557283, 1.194289721295118, 1.2236663937000405, 1.2066711388411966, 1.2118565482798036, 1.249926586515904, 1.245539700705587, 1.2219714532114454, 1.2043788056111349, 1.1880512436330302, 1.1825658505286136, 1.178286145532673, 1.1424199515649904, 1.1180464592015618, 1.116477342842594, 1.1512957231218217, 1.174122778728981, 1.146596888587461, 1.1244142218301139, 1.1032618841894635, 1.0973558620777113, 1.092429827683551, 1.0742082204301697, 1.0722184755683553, 1.0577309464073203, 1.036101474471133, 1.0315720749517463, 1.0311033699906296, 0.999546598638607, 0.9909235917227753, 0.9917235874832181, 0.9533361955820057, 0.9283075058783283, 0.9085952645647938, 0.8986317046164851, 0.8965830641788521, 0.8991319731983953, 0.8663716493880673, 0.8735624257310388, 0.8623510324220881, 0.870416064988991, 0.8682620519635759, 0.8518591139216657, 0.881885480074729, 0.8770176620242569, 0.8960942647185411, 0.8834750230022965, 0.9048219135701604, 0.9142245663675709, 0.9327795744649122, 0.903390285282151, 0.8982554416552185, 0.9092026714707494, 0.9218051700411718, 0.9356030706869273, 0.9077059803940205, 0.8891650332723064]}, {\"line\": {\"color\": \"rgba(128, 177, 211, 0.8999999999999999)\", \"dash\": \"solid\", \"shape\": \"linear\", \"width\": 1.3}, \"marker\": {\"size\": 5, \"symbol\": \"circle\"}, \"mode\": \"lines+markers\", \"name\": \"path 11\", \"text\": \"\", \"type\": \"scatter\", \"x\": [0.0, 0.010101010101010102, 0.020202020202020204, 0.030303030303030304, 0.04040404040404041, 0.05050505050505051, 0.06060606060606061, 0.07070707070707072, 0.08080808080808081, 0.09090909090909091, 0.10101010101010102, 0.11111111111111112, 0.12121212121212122, 0.13131313131313133, 0.14141414141414144, 0.15151515151515152, 0.16161616161616163, 0.17171717171717174, 0.18181818181818182, 0.19191919191919193, 0.20202020202020204, 0.21212121212121213, 0.22222222222222224, 0.23232323232323235, 0.24242424242424243, 0.25252525252525254, 0.26262626262626265, 0.27272727272727276, 0.2828282828282829, 0.29292929292929293, 0.30303030303030304, 0.31313131313131315, 0.32323232323232326, 0.33333333333333337, 0.3434343434343435, 0.3535353535353536, 0.36363636363636365, 0.37373737373737376, 0.38383838383838387, 0.393939393939394, 0.4040404040404041, 0.4141414141414142, 0.42424242424242425, 0.43434343434343436, 0.4444444444444445, 0.4545454545454546, 0.4646464646464647, 0.4747474747474748, 0.48484848484848486, 0.494949494949495, 0.5050505050505051, 0.5151515151515152, 0.5252525252525253, 0.5353535353535354, 0.5454545454545455, 0.5555555555555556, 0.5656565656565657, 0.5757575757575758, 0.5858585858585859, 0.595959595959596, 0.6060606060606061, 0.6161616161616162, 0.6262626262626263, 0.6363636363636365, 0.6464646464646465, 0.6565656565656566, 0.6666666666666667, 0.6767676767676768, 0.686868686868687, 0.696969696969697, 0.7070707070707072, 0.7171717171717172, 0.7272727272727273, 0.7373737373737375, 0.7474747474747475, 0.7575757575757577, 0.7676767676767677, 0.7777777777777778, 0.787878787878788, 0.797979797979798, 0.8080808080808082, 0.8181818181818182, 0.8282828282828284, 0.8383838383838385, 0.8484848484848485, 0.8585858585858587, 0.8686868686868687, 0.8787878787878789, 0.888888888888889, 0.8989898989898991, 0.9090909090909092, 0.9191919191919192, 0.9292929292929294, 0.9393939393939394, 0.9494949494949496, 0.9595959595959597, 0.9696969696969697, 0.9797979797979799, 0.98989898989899, 1.0], \"y\": [1.0, 0.9902532486368287, 0.998618687306737, 1.013819958187991, 1.04712456726187, 1.0806791786081227, 1.0562967982569835, 1.0776190305152753, 1.108328928806003, 1.1300152040808118, 1.0893372520449105, 1.1090329849985294, 1.1095661847853142, 1.1134990681414307, 1.1129541874084727, 1.1399868013940122, 1.116396719519444, 1.1158756067292597, 1.1480380661274658, 1.1480841542334363, 1.1560713929133075, 1.1428096567754136, 1.1374742587832694, 1.1217116792512327, 1.1498101829825094, 1.168789631544032, 1.15339705492153, 1.1929153555658398, 1.184998295341044, 1.2166006947305759, 1.2368695543249348, 1.2398781307643458, 1.2284049471272476, 1.2506348913307521, 1.2676675203676968, 1.261519305047651, 1.295739903715582, 1.2722770710565057, 1.2775272371037696, 1.2516185380145115, 1.2247086797857745, 1.1862743324887333, 1.1749683691380588, 1.1257762434922052, 1.1264898968506436, 1.1402095366450724, 1.1467077317682477, 1.1276316853199957, 1.1266905852495028, 1.1132357811278057, 1.1147787805964289, 1.1430056800440471, 1.1170846707940643, 1.1059715329030404, 1.0800223569382694, 1.0770917571381413, 1.053655547737394, 1.0604878913419897, 1.074973899421457, 1.0449854426040477, 1.047931688951307, 1.0798463805024094, 1.07767754383967, 1.0743041234074853, 1.0710509566213597, 1.0688994625501793, 1.073596385172108, 1.0642283904285224, 1.0485894352517389, 1.0699128616601532, 1.0619080444697455, 1.06698794209477, 1.0410221490369387, 1.0494032727181963, 1.0575042997581459, 1.0483341028649509, 1.041339886446464, 1.0009468941946529, 0.9846975633795351, 0.9656089573701954, 0.9796184975182193, 0.9745273532766129, 0.9592247013767917, 0.9533801156397551, 0.9333145143329183, 0.9366385750650502, 0.9274688644688491, 0.9407893524656062, 0.9691838199525966, 0.9595808527320889, 0.9581334516178895, 0.9678879416196107, 0.9343187868017698, 0.9402634877553715, 0.9505356556163849, 0.936275182034201, 0.9405555970309358, 0.9343802847336774, 0.9578518760368152, 0.9275427922667748]}, {\"line\": {\"color\": \"rgba(255, 153, 51, 0.8999999999999999)\", \"dash\": \"solid\", \"shape\": \"linear\", \"width\": 1.3}, \"marker\": {\"size\": 5, \"symbol\": \"circle\"}, \"mode\": \"lines+markers\", \"name\": \"path 12\", \"text\": \"\", \"type\": \"scatter\", \"x\": [0.0, 0.010101010101010102, 0.020202020202020204, 0.030303030303030304, 0.04040404040404041, 0.05050505050505051, 0.06060606060606061, 0.07070707070707072, 0.08080808080808081, 0.09090909090909091, 0.10101010101010102, 0.11111111111111112, 0.12121212121212122, 0.13131313131313133, 0.14141414141414144, 0.15151515151515152, 0.16161616161616163, 0.17171717171717174, 0.18181818181818182, 0.19191919191919193, 0.20202020202020204, 0.21212121212121213, 0.22222222222222224, 0.23232323232323235, 0.24242424242424243, 0.25252525252525254, 0.26262626262626265, 0.27272727272727276, 0.2828282828282829, 0.29292929292929293, 0.30303030303030304, 0.31313131313131315, 0.32323232323232326, 0.33333333333333337, 0.3434343434343435, 0.3535353535353536, 0.36363636363636365, 0.37373737373737376, 0.38383838383838387, 0.393939393939394, 0.4040404040404041, 0.4141414141414142, 0.42424242424242425, 0.43434343434343436, 0.4444444444444445, 0.4545454545454546, 0.4646464646464647, 0.4747474747474748, 0.48484848484848486, 0.494949494949495, 0.5050505050505051, 0.5151515151515152, 0.5252525252525253, 0.5353535353535354, 0.5454545454545455, 0.5555555555555556, 0.5656565656565657, 0.5757575757575758, 0.5858585858585859, 0.595959595959596, 0.6060606060606061, 0.6161616161616162, 0.6262626262626263, 0.6363636363636365, 0.6464646464646465, 0.6565656565656566, 0.6666666666666667, 0.6767676767676768, 0.686868686868687, 0.696969696969697, 0.7070707070707072, 0.7171717171717172, 0.7272727272727273, 0.7373737373737375, 0.7474747474747475, 0.7575757575757577, 0.7676767676767677, 0.7777777777777778, 0.787878787878788, 0.797979797979798, 0.8080808080808082, 0.8181818181818182, 0.8282828282828284, 0.8383838383838385, 0.8484848484848485, 0.8585858585858587, 0.8686868686868687, 0.8787878787878789, 0.888888888888889, 0.8989898989898991, 0.9090909090909092, 0.9191919191919192, 0.9292929292929294, 0.9393939393939394, 0.9494949494949496, 0.9595959595959597, 0.9696969696969697, 0.9797979797979799, 0.98989898989899, 1.0], \"y\": [1.0, 0.9746577422862719, 0.975064326830704, 0.9678590455587136, 0.9651934456822887, 0.9532495331037346, 0.9844943711473301, 0.9751650901160708, 0.9713340831199436, 0.9704609851123671, 0.9878606908699779, 1.0227780823432735, 1.0181753021584656, 1.0460950682787076, 1.072226056734129, 1.0752755790207889, 1.1178711441205733, 1.1343039863708453, 1.1477351427689326, 1.1569329237533972, 1.178116369351787, 1.1796553801880751, 1.176572976783825, 1.1632824280321128, 1.1538628014804149, 1.1255539845951388, 1.1081778610771809, 1.083398224732093, 1.0810284472306693, 1.0868688892238536, 1.133787428753262, 1.1654045024627617, 1.164469180229042, 1.1552802051423914, 1.1658741401844526, 1.1604800080595794, 1.1622619868032567, 1.15835847920919, 1.1819409685000843, 1.159978236523842, 1.181342047926724, 1.231272075190902, 1.2128471294460865, 1.2294023688596998, 1.2435287581319734, 1.2299145524832116, 1.2323311183607992, 1.2517776497729078, 1.2680939821690507, 1.2356173131692902, 1.2298388722650255, 1.2259850247875266, 1.2633654612543384, 1.271451413916621, 1.2425551325424757, 1.2672136618175427, 1.2400613625878025, 1.261300517819131, 1.307133391522682, 1.3044887323791752, 1.2817876143333584, 1.2906623091525957, 1.24185318569426, 1.2437273425905164, 1.2296485231712067, 1.1945390518242003, 1.2131413885718272, 1.1933408770757645, 1.2064022082693893, 1.1936590938582834, 1.1703591454693187, 1.1681030476930179, 1.123384374195705, 1.1449320580741118, 1.1731114422831566, 1.1390758659948121, 1.1633275840024004, 1.1410210573079085, 1.1256477607060082, 1.133185438984318, 1.1228310855298274, 1.084978619854226, 1.0839664041801513, 1.0953894464239515, 1.097757490285209, 1.0837957596498982, 1.1252852831676508, 1.1676237850907585, 1.2016984915707472, 1.1712547924553678, 1.1513472288185624, 1.1529549364978682, 1.1521583143377594, 1.1408519366440188, 1.1304176474998617, 1.112745202650858, 1.1036236499043623, 1.1219843755193626, 1.1079446891553955, 1.1043694003113735]}, {\"line\": {\"color\": \"rgba(55, 128, 191, 0.8999999999999999)\", \"dash\": \"solid\", \"shape\": \"linear\", \"width\": 1.3}, \"marker\": {\"size\": 5, \"symbol\": \"circle\"}, \"mode\": \"lines+markers\", \"name\": \"path 13\", \"text\": \"\", \"type\": \"scatter\", \"x\": [0.0, 0.010101010101010102, 0.020202020202020204, 0.030303030303030304, 0.04040404040404041, 0.05050505050505051, 0.06060606060606061, 0.07070707070707072, 0.08080808080808081, 0.09090909090909091, 0.10101010101010102, 0.11111111111111112, 0.12121212121212122, 0.13131313131313133, 0.14141414141414144, 0.15151515151515152, 0.16161616161616163, 0.17171717171717174, 0.18181818181818182, 0.19191919191919193, 0.20202020202020204, 0.21212121212121213, 0.22222222222222224, 0.23232323232323235, 0.24242424242424243, 0.25252525252525254, 0.26262626262626265, 0.27272727272727276, 0.2828282828282829, 0.29292929292929293, 0.30303030303030304, 0.31313131313131315, 0.32323232323232326, 0.33333333333333337, 0.3434343434343435, 0.3535353535353536, 0.36363636363636365, 0.37373737373737376, 0.38383838383838387, 0.393939393939394, 0.4040404040404041, 0.4141414141414142, 0.42424242424242425, 0.43434343434343436, 0.4444444444444445, 0.4545454545454546, 0.4646464646464647, 0.4747474747474748, 0.48484848484848486, 0.494949494949495, 0.5050505050505051, 0.5151515151515152, 0.5252525252525253, 0.5353535353535354, 0.5454545454545455, 0.5555555555555556, 0.5656565656565657, 0.5757575757575758, 0.5858585858585859, 0.595959595959596, 0.6060606060606061, 0.6161616161616162, 0.6262626262626263, 0.6363636363636365, 0.6464646464646465, 0.6565656565656566, 0.6666666666666667, 0.6767676767676768, 0.686868686868687, 0.696969696969697, 0.7070707070707072, 0.7171717171717172, 0.7272727272727273, 0.7373737373737375, 0.7474747474747475, 0.7575757575757577, 0.7676767676767677, 0.7777777777777778, 0.787878787878788, 0.797979797979798, 0.8080808080808082, 0.8181818181818182, 0.8282828282828284, 0.8383838383838385, 0.8484848484848485, 0.8585858585858587, 0.8686868686868687, 0.8787878787878789, 0.888888888888889, 0.8989898989898991, 0.9090909090909092, 0.9191919191919192, 0.9292929292929294, 0.9393939393939394, 0.9494949494949496, 0.9595959595959597, 0.9696969696969697, 0.9797979797979799, 0.98989898989899, 1.0], \"y\": [1.0, 1.009567378122102, 0.9852633693898919, 1.0033172172347125, 0.9833806118386831, 0.9798761493603226, 1.0088461803504667, 1.0348244286949915, 1.036313296623513, 1.031461303692167, 1.0331957199757187, 1.0876795860219317, 1.0882678131898278, 1.0789295283406188, 1.0611857697332716, 1.0241177590088932, 1.0273564643236994, 1.0058352704997393, 1.026730082957836, 1.005689231030346, 0.9657187737500452, 0.9960257852142954, 1.0340357713845105, 1.0485438590049752, 1.0469350066992138, 1.0813565322813683, 1.0956377206273968, 1.0726423075367493, 1.0896810462993674, 1.1144015825458868, 1.1547269426014948, 1.178931929310362, 1.1699199165420715, 1.176549734175861, 1.1965733291204816, 1.2004481281721642, 1.2072105037119012, 1.171948242864713, 1.1566179193247694, 1.192408674596693, 1.1943595662841644, 1.161980876630347, 1.186208885106821, 1.25992260330787, 1.3198075750309803, 1.3112613150295482, 1.3211481973969788, 1.263100901160409, 1.2580869478058738, 1.260512402927301, 1.261110781059095, 1.2373698985677226, 1.242025579194747, 1.231855919308265, 1.2709263927811647, 1.269235032596698, 1.287703495051985, 1.2761513513123033, 1.3042953882907913, 1.2779707793910056, 1.2832209764245404, 1.2528374158385467, 1.227930741936931, 1.2447302284281414, 1.2414986677779325, 1.2781246063539249, 1.3326264271350399, 1.3661063693375297, 1.3317792897826906, 1.3505477118038889, 1.365016884967584, 1.425315418801167, 1.4404715609905587, 1.4130542121399166, 1.4642139693392318, 1.4141811848559909, 1.3622856612063792, 1.3636155678972683, 1.3759290027345452, 1.3248148092729524, 1.3138342389184368, 1.3170403726561568, 1.2880054686788074, 1.3008139637066989, 1.2789778517383912, 1.2446995096796476, 1.2072393979932268, 1.1669751490183926, 1.1950053462752233, 1.2075741800716637, 1.2136502583219262, 1.2295703923372976, 1.2236319992120954, 1.21494879980646, 1.1869354037398305, 1.208461740122487, 1.2134090500540102, 1.2158859770644013, 1.1983379822815179, 1.1585212383212515]}, {\"line\": {\"color\": \"rgba(50, 171, 96, 0.8999999999999999)\", \"dash\": \"solid\", \"shape\": \"linear\", \"width\": 1.3}, \"marker\": {\"size\": 5, \"symbol\": \"circle\"}, \"mode\": \"lines+markers\", \"name\": \"path 14\", \"text\": \"\", \"type\": \"scatter\", \"x\": [0.0, 0.010101010101010102, 0.020202020202020204, 0.030303030303030304, 0.04040404040404041, 0.05050505050505051, 0.06060606060606061, 0.07070707070707072, 0.08080808080808081, 0.09090909090909091, 0.10101010101010102, 0.11111111111111112, 0.12121212121212122, 0.13131313131313133, 0.14141414141414144, 0.15151515151515152, 0.16161616161616163, 0.17171717171717174, 0.18181818181818182, 0.19191919191919193, 0.20202020202020204, 0.21212121212121213, 0.22222222222222224, 0.23232323232323235, 0.24242424242424243, 0.25252525252525254, 0.26262626262626265, 0.27272727272727276, 0.2828282828282829, 0.29292929292929293, 0.30303030303030304, 0.31313131313131315, 0.32323232323232326, 0.33333333333333337, 0.3434343434343435, 0.3535353535353536, 0.36363636363636365, 0.37373737373737376, 0.38383838383838387, 0.393939393939394, 0.4040404040404041, 0.4141414141414142, 0.42424242424242425, 0.43434343434343436, 0.4444444444444445, 0.4545454545454546, 0.4646464646464647, 0.4747474747474748, 0.48484848484848486, 0.494949494949495, 0.5050505050505051, 0.5151515151515152, 0.5252525252525253, 0.5353535353535354, 0.5454545454545455, 0.5555555555555556, 0.5656565656565657, 0.5757575757575758, 0.5858585858585859, 0.595959595959596, 0.6060606060606061, 0.6161616161616162, 0.6262626262626263, 0.6363636363636365, 0.6464646464646465, 0.6565656565656566, 0.6666666666666667, 0.6767676767676768, 0.686868686868687, 0.696969696969697, 0.7070707070707072, 0.7171717171717172, 0.7272727272727273, 0.7373737373737375, 0.7474747474747475, 0.7575757575757577, 0.7676767676767677, 0.7777777777777778, 0.787878787878788, 0.797979797979798, 0.8080808080808082, 0.8181818181818182, 0.8282828282828284, 0.8383838383838385, 0.8484848484848485, 0.8585858585858587, 0.8686868686868687, 0.8787878787878789, 0.888888888888889, 0.8989898989898991, 0.9090909090909092, 0.9191919191919192, 0.9292929292929294, 0.9393939393939394, 0.9494949494949496, 0.9595959595959597, 0.9696969696969697, 0.9797979797979799, 0.98989898989899, 1.0], \"y\": [1.0, 1.0250703661990515, 1.0304758590814753, 1.0284378476904747, 1.0256462133051696, 1.0477522961585806, 1.0788917436858292, 1.0561447944796134, 1.087445686474432, 1.0822091282231534, 1.064146546579353, 1.0818044852188138, 1.1130424284962532, 1.1138595497423012, 1.158031372386627, 1.1819956097848017, 1.21567964303406, 1.1966177788720804, 1.2032655924240125, 1.1996122620617624, 1.171629804451522, 1.148282335710451, 1.1313724696469292, 1.132784506410911, 1.1340292125508862, 1.1214725921920425, 1.159566600306401, 1.1453571610293831, 1.1908732470149326, 1.1947040884955662, 1.1693984237110266, 1.1452842620206087, 1.148399975340389, 1.1673876109015449, 1.2043936644673987, 1.216898933484172, 1.1894255123308373, 1.230092403521313, 1.2447263320293889, 1.2603482961136774, 1.3135876116022178, 1.321280616439497, 1.2890004545534441, 1.301315042844228, 1.332279781357302, 1.305550675094751, 1.2855970297131996, 1.2653661291259513, 1.2448520982333278, 1.2118554751016093, 1.1893652058338036, 1.1839095570107536, 1.168814407829265, 1.1988324598814153, 1.1843470906977054, 1.2291473082311561, 1.205940862670509, 1.1847607743238266, 1.2396936058987458, 1.2295154214769595, 1.262498434826725, 1.2620973627927465, 1.2418873311708634, 1.2138772594236567, 1.183106698601153, 1.1483426281898839, 1.1457180799431685, 1.1776118710284398, 1.1753869517272844, 1.1926021436234773, 1.1989481402721984, 1.241901794906358, 1.284400155115749, 1.3049406251800175, 1.3472604468602558, 1.3503636481695989, 1.2938025982524874, 1.2567928239740886, 1.2915663011574652, 1.2690187273034312, 1.23456531283316, 1.277557381003793, 1.2793875783456188, 1.290104011590068, 1.284953706079171, 1.2502444866434919, 1.2449249946391512, 1.254813396096378, 1.255231059288643, 1.252534261903308, 1.2540168404638032, 1.235948314682533, 1.239291901034105, 1.2527132059503658, 1.2427572472282737, 1.2205600525654106, 1.226187817742376, 1.196532818047937, 1.1581032087519179, 1.1727752191468372]}, {\"line\": {\"color\": \"rgba(128, 0, 128, 0.8999999999999999)\", \"dash\": \"solid\", \"shape\": \"linear\", \"width\": 1.3}, \"marker\": {\"size\": 5, \"symbol\": \"circle\"}, \"mode\": \"lines+markers\", \"name\": \"path 15\", \"text\": \"\", \"type\": \"scatter\", \"x\": [0.0, 0.010101010101010102, 0.020202020202020204, 0.030303030303030304, 0.04040404040404041, 0.05050505050505051, 0.06060606060606061, 0.07070707070707072, 0.08080808080808081, 0.09090909090909091, 0.10101010101010102, 0.11111111111111112, 0.12121212121212122, 0.13131313131313133, 0.14141414141414144, 0.15151515151515152, 0.16161616161616163, 0.17171717171717174, 0.18181818181818182, 0.19191919191919193, 0.20202020202020204, 0.21212121212121213, 0.22222222222222224, 0.23232323232323235, 0.24242424242424243, 0.25252525252525254, 0.26262626262626265, 0.27272727272727276, 0.2828282828282829, 0.29292929292929293, 0.30303030303030304, 0.31313131313131315, 0.32323232323232326, 0.33333333333333337, 0.3434343434343435, 0.3535353535353536, 0.36363636363636365, 0.37373737373737376, 0.38383838383838387, 0.393939393939394, 0.4040404040404041, 0.4141414141414142, 0.42424242424242425, 0.43434343434343436, 0.4444444444444445, 0.4545454545454546, 0.4646464646464647, 0.4747474747474748, 0.48484848484848486, 0.494949494949495, 0.5050505050505051, 0.5151515151515152, 0.5252525252525253, 0.5353535353535354, 0.5454545454545455, 0.5555555555555556, 0.5656565656565657, 0.5757575757575758, 0.5858585858585859, 0.595959595959596, 0.6060606060606061, 0.6161616161616162, 0.6262626262626263, 0.6363636363636365, 0.6464646464646465, 0.6565656565656566, 0.6666666666666667, 0.6767676767676768, 0.686868686868687, 0.696969696969697, 0.7070707070707072, 0.7171717171717172, 0.7272727272727273, 0.7373737373737375, 0.7474747474747475, 0.7575757575757577, 0.7676767676767677, 0.7777777777777778, 0.787878787878788, 0.797979797979798, 0.8080808080808082, 0.8181818181818182, 0.8282828282828284, 0.8383838383838385, 0.8484848484848485, 0.8585858585858587, 0.8686868686868687, 0.8787878787878789, 0.888888888888889, 0.8989898989898991, 0.9090909090909092, 0.9191919191919192, 0.9292929292929294, 0.9393939393939394, 0.9494949494949496, 0.9595959595959597, 0.9696969696969697, 0.9797979797979799, 0.98989898989899, 1.0], \"y\": [1.0, 1.0088217716622356, 0.9887703417109744, 0.9882710684611653, 0.99308760498855, 0.9606473851379553, 0.9344769461592276, 0.946364988368122, 0.9470739617942572, 0.9243173921929821, 0.9233393768441935, 0.9480710643321597, 0.9421334793450201, 0.9495621091107022, 0.9386218960293867, 0.9321412160946517, 0.9571351288829778, 0.9603677628200916, 0.9392880357216618, 0.9159403180598178, 0.9145270557683901, 0.890150551565407, 0.8866956648080144, 0.8686254324281052, 0.8529999846754864, 0.8355645490967352, 0.8105507245931629, 0.7999101038099192, 0.7713117996076371, 0.788324596200435, 0.788060717990586, 0.7836316437339973, 0.7814325636913603, 0.7734796774504894, 0.7881160209019196, 0.7704615013917557, 0.7968207188927465, 0.7992138765808929, 0.8047381981720794, 0.8254271315014531, 0.8202937125725841, 0.850299978641202, 0.8272660781509474, 0.824985999975894, 0.8334229168935777, 0.8486212853742074, 0.8185796111602148, 0.8325567957375063, 0.8197620430566045, 0.8099747579446864, 0.7738990028084687, 0.7892150800551967, 0.7893608949457698, 0.7971620887508082, 0.788433594507115, 0.7943464396941811, 0.7845312301249165, 0.8066933916790973, 0.8197538044589374, 0.8063204476618389, 0.7955406441913665, 0.8050478328462602, 0.8117901842660934, 0.822973975045177, 0.81534911070998, 0.7744853148482115, 0.76086777683471, 0.7682986301327055, 0.7935405982842465, 0.7843205344703821, 0.7962236971804781, 0.7885185605759409, 0.811208032591523, 0.823952134751832, 0.7886242650982741, 0.7850311960980102, 0.777769189262489, 0.7595522910948975, 0.7518219649343073, 0.7463546191438141, 0.7421684633153285, 0.7564179720828679, 0.7609520302458302, 0.7705452260056112, 0.7797394348039098, 0.7685190232497588, 0.7647957481471005, 0.7549029909367714, 0.7569229126519407, 0.7396757663672022, 0.7301476326792812, 0.7098230709431406, 0.7032816222011925, 0.7087401227607946, 0.7116396387509148, 0.6865972552668014, 0.6808551941674246, 0.6984976613935875, 0.7027216416925205, 0.6999448809365247]}, {\"line\": {\"color\": \"rgba(219, 64, 82, 0.8999999999999999)\", \"dash\": \"solid\", \"shape\": \"linear\", \"width\": 1.3}, \"marker\": {\"size\": 5, \"symbol\": \"circle\"}, \"mode\": \"lines+markers\", \"name\": \"path 16\", \"text\": \"\", \"type\": \"scatter\", \"x\": [0.0, 0.010101010101010102, 0.020202020202020204, 0.030303030303030304, 0.04040404040404041, 0.05050505050505051, 0.06060606060606061, 0.07070707070707072, 0.08080808080808081, 0.09090909090909091, 0.10101010101010102, 0.11111111111111112, 0.12121212121212122, 0.13131313131313133, 0.14141414141414144, 0.15151515151515152, 0.16161616161616163, 0.17171717171717174, 0.18181818181818182, 0.19191919191919193, 0.20202020202020204, 0.21212121212121213, 0.22222222222222224, 0.23232323232323235, 0.24242424242424243, 0.25252525252525254, 0.26262626262626265, 0.27272727272727276, 0.2828282828282829, 0.29292929292929293, 0.30303030303030304, 0.31313131313131315, 0.32323232323232326, 0.33333333333333337, 0.3434343434343435, 0.3535353535353536, 0.36363636363636365, 0.37373737373737376, 0.38383838383838387, 0.393939393939394, 0.4040404040404041, 0.4141414141414142, 0.42424242424242425, 0.43434343434343436, 0.4444444444444445, 0.4545454545454546, 0.4646464646464647, 0.4747474747474748, 0.48484848484848486, 0.494949494949495, 0.5050505050505051, 0.5151515151515152, 0.5252525252525253, 0.5353535353535354, 0.5454545454545455, 0.5555555555555556, 0.5656565656565657, 0.5757575757575758, 0.5858585858585859, 0.595959595959596, 0.6060606060606061, 0.6161616161616162, 0.6262626262626263, 0.6363636363636365, 0.6464646464646465, 0.6565656565656566, 0.6666666666666667, 0.6767676767676768, 0.686868686868687, 0.696969696969697, 0.7070707070707072, 0.7171717171717172, 0.7272727272727273, 0.7373737373737375, 0.7474747474747475, 0.7575757575757577, 0.7676767676767677, 0.7777777777777778, 0.787878787878788, 0.797979797979798, 0.8080808080808082, 0.8181818181818182, 0.8282828282828284, 0.8383838383838385, 0.8484848484848485, 0.8585858585858587, 0.8686868686868687, 0.8787878787878789, 0.888888888888889, 0.8989898989898991, 0.9090909090909092, 0.9191919191919192, 0.9292929292929294, 0.9393939393939394, 0.9494949494949496, 0.9595959595959597, 0.9696969696969697, 0.9797979797979799, 0.98989898989899, 1.0], \"y\": [1.0, 1.0339392134208616, 1.0101613886622156, 0.9993455444569843, 0.9923105491680639, 0.9709858924732813, 0.9810014317413616, 0.9753775024967163, 0.9859565157815232, 0.9923715624035518, 0.9922059433487471, 0.9537400421159975, 1.0114181504303719, 1.018492099702123, 1.041516491429101, 1.0238721546265164, 0.999185482976468, 0.9895693350110382, 0.9830285754065305, 0.9897843030805206, 1.021179443794623, 1.0133503541246023, 1.007826381246062, 0.9731547044315544, 0.9860739148826171, 0.9882662330787481, 0.9964810693004454, 1.0112828950426078, 1.0179763417697834, 1.040715760281142, 1.0267989314313486, 1.035230329895106, 1.013905032689578, 1.0644932885577658, 1.0500652500718741, 1.0465894212056397, 1.036076244515934, 1.011426756817903, 1.013479289716731, 1.0233531213027807, 1.0064301271424625, 1.0029947532549968, 0.9845415446223243, 1.0379204576215018, 1.0144888135561625, 0.988440239923209, 0.9728276028812078, 0.9788962410010542, 0.9751314248157952, 0.9603439939685259, 0.9254286018806352, 0.9061777113451068, 0.8984916455497637, 0.9425411064547902, 0.9565052357063015, 0.9297857922696487, 0.9293802310459808, 0.9237831694255174, 0.9016161546892737, 0.9184950496156675, 0.9403128936904587, 0.9326227024144718, 0.9481645667375707, 0.9495410045500433, 0.9438924673764413, 0.9520450574438796, 0.913869861836801, 0.8987665355046891, 0.8928353699232786, 0.864125234188341, 0.8386241046858834, 0.83813935751434, 0.8209755253250934, 0.852438983608044, 0.8429833288848428, 0.8459456559176284, 0.847079697928294, 0.871279270958612, 0.8763585348959863, 0.9209776920608896, 0.8593461018279325, 0.8504027384772559, 0.8570800224865217, 0.8389328767977227, 0.8275477602931146, 0.8376704441527281, 0.8450712996353211, 0.8420441214234643, 0.8394796259397356, 0.8526692715671599, 0.827990751397933, 0.8193315990711734, 0.8326270767869701, 0.8261665140273486, 0.8205730856790258, 0.8487151782187817, 0.8230340452505677, 0.8144503466088664, 0.8323914715822394, 0.8441338083816823]}, {\"line\": {\"color\": \"rgba(0, 128, 128, 0.8999999999999999)\", \"dash\": \"solid\", \"shape\": \"linear\", \"width\": 1.3}, \"marker\": {\"size\": 5, \"symbol\": \"circle\"}, \"mode\": \"lines+markers\", \"name\": \"path 17\", \"text\": \"\", \"type\": \"scatter\", \"x\": [0.0, 0.010101010101010102, 0.020202020202020204, 0.030303030303030304, 0.04040404040404041, 0.05050505050505051, 0.06060606060606061, 0.07070707070707072, 0.08080808080808081, 0.09090909090909091, 0.10101010101010102, 0.11111111111111112, 0.12121212121212122, 0.13131313131313133, 0.14141414141414144, 0.15151515151515152, 0.16161616161616163, 0.17171717171717174, 0.18181818181818182, 0.19191919191919193, 0.20202020202020204, 0.21212121212121213, 0.22222222222222224, 0.23232323232323235, 0.24242424242424243, 0.25252525252525254, 0.26262626262626265, 0.27272727272727276, 0.2828282828282829, 0.29292929292929293, 0.30303030303030304, 0.31313131313131315, 0.32323232323232326, 0.33333333333333337, 0.3434343434343435, 0.3535353535353536, 0.36363636363636365, 0.37373737373737376, 0.38383838383838387, 0.393939393939394, 0.4040404040404041, 0.4141414141414142, 0.42424242424242425, 0.43434343434343436, 0.4444444444444445, 0.4545454545454546, 0.4646464646464647, 0.4747474747474748, 0.48484848484848486, 0.494949494949495, 0.5050505050505051, 0.5151515151515152, 0.5252525252525253, 0.5353535353535354, 0.5454545454545455, 0.5555555555555556, 0.5656565656565657, 0.5757575757575758, 0.5858585858585859, 0.595959595959596, 0.6060606060606061, 0.6161616161616162, 0.6262626262626263, 0.6363636363636365, 0.6464646464646465, 0.6565656565656566, 0.6666666666666667, 0.6767676767676768, 0.686868686868687, 0.696969696969697, 0.7070707070707072, 0.7171717171717172, 0.7272727272727273, 0.7373737373737375, 0.7474747474747475, 0.7575757575757577, 0.7676767676767677, 0.7777777777777778, 0.787878787878788, 0.797979797979798, 0.8080808080808082, 0.8181818181818182, 0.8282828282828284, 0.8383838383838385, 0.8484848484848485, 0.8585858585858587, 0.8686868686868687, 0.8787878787878789, 0.888888888888889, 0.8989898989898991, 0.9090909090909092, 0.9191919191919192, 0.9292929292929294, 0.9393939393939394, 0.9494949494949496, 0.9595959595959597, 0.9696969696969697, 0.9797979797979799, 0.98989898989899, 1.0], \"y\": [1.0, 0.9630176918558075, 0.9469311481261525, 0.9156515536077305, 0.9383569944624133, 0.9478155150880329, 0.9683529989494384, 0.9502108949684377, 0.9318690324924094, 0.8897743194418793, 0.9000631004812026, 0.9151486061427287, 0.9306379810113283, 0.9024156714284315, 0.8958676662449091, 0.8791907234430102, 0.8705119838934313, 0.8598047657732104, 0.8575662598127066, 0.8387907404372495, 0.8608252378006669, 0.8617820265909452, 0.846288811389217, 0.8308042327202149, 0.8462880821127795, 0.80995384840775, 0.816671009935578, 0.8179985798736322, 0.8104287712021324, 0.811725757335099, 0.8255610709549963, 0.8276009799412976, 0.8413188477474685, 0.8499677503883907, 0.8451290607943384, 0.8568970598282859, 0.831020303026184, 0.8134333559198959, 0.8327427839683613, 0.8222011700949896, 0.8333984140027192, 0.8501396108592599, 0.8170608637257866, 0.8072816798031084, 0.8108150030249456, 0.8182729466310668, 0.8289034564132843, 0.8361278888596191, 0.8294140934808121, 0.8341604712691595, 0.8106140081128566, 0.7866516896942828, 0.7744566036494125, 0.7600710055619952, 0.7231956176762314, 0.6835138335262158, 0.680422855151273, 0.6475795693973831, 0.6367411147433344, 0.6397352673359095, 0.6524065401584422, 0.6613768550763139, 0.6381817205595287, 0.6336660991545167, 0.6437085180354922, 0.6109238883976505, 0.6305581500948245, 0.6451869030799128, 0.6516735116425453, 0.6712688721045804, 0.6657715197151055, 0.6629727935377238, 0.667106618130136, 0.655261902875184, 0.6660449957358822, 0.6762058259433263, 0.6674387257811475, 0.6874221255261294, 0.6802433966611325, 0.7209672341655259, 0.727476795163968, 0.7278015120914508, 0.714340900350274, 0.7286947691036548, 0.7251506159532859, 0.71524179843374, 0.7016094287380701, 0.7001209032325165, 0.7148577008267648, 0.7285863568628209, 0.7299531537702926, 0.7518199751447645, 0.795882936415661, 0.7586684468512145, 0.795149778042297, 0.8004778075820119, 0.8179511915025611, 0.8166681405787521, 0.7876746987842526, 0.7974819280216529]}, {\"line\": {\"color\": \"rgba(255, 255, 51, 0.8999999999999999)\", \"dash\": \"solid\", \"shape\": \"linear\", \"width\": 1.3}, \"marker\": {\"size\": 5, \"symbol\": \"circle\"}, \"mode\": \"lines+markers\", \"name\": \"path 18\", \"text\": \"\", \"type\": \"scatter\", \"x\": [0.0, 0.010101010101010102, 0.020202020202020204, 0.030303030303030304, 0.04040404040404041, 0.05050505050505051, 0.06060606060606061, 0.07070707070707072, 0.08080808080808081, 0.09090909090909091, 0.10101010101010102, 0.11111111111111112, 0.12121212121212122, 0.13131313131313133, 0.14141414141414144, 0.15151515151515152, 0.16161616161616163, 0.17171717171717174, 0.18181818181818182, 0.19191919191919193, 0.20202020202020204, 0.21212121212121213, 0.22222222222222224, 0.23232323232323235, 0.24242424242424243, 0.25252525252525254, 0.26262626262626265, 0.27272727272727276, 0.2828282828282829, 0.29292929292929293, 0.30303030303030304, 0.31313131313131315, 0.32323232323232326, 0.33333333333333337, 0.3434343434343435, 0.3535353535353536, 0.36363636363636365, 0.37373737373737376, 0.38383838383838387, 0.393939393939394, 0.4040404040404041, 0.4141414141414142, 0.42424242424242425, 0.43434343434343436, 0.4444444444444445, 0.4545454545454546, 0.4646464646464647, 0.4747474747474748, 0.48484848484848486, 0.494949494949495, 0.5050505050505051, 0.5151515151515152, 0.5252525252525253, 0.5353535353535354, 0.5454545454545455, 0.5555555555555556, 0.5656565656565657, 0.5757575757575758, 0.5858585858585859, 0.595959595959596, 0.6060606060606061, 0.6161616161616162, 0.6262626262626263, 0.6363636363636365, 0.6464646464646465, 0.6565656565656566, 0.6666666666666667, 0.6767676767676768, 0.686868686868687, 0.696969696969697, 0.7070707070707072, 0.7171717171717172, 0.7272727272727273, 0.7373737373737375, 0.7474747474747475, 0.7575757575757577, 0.7676767676767677, 0.7777777777777778, 0.787878787878788, 0.797979797979798, 0.8080808080808082, 0.8181818181818182, 0.8282828282828284, 0.8383838383838385, 0.8484848484848485, 0.8585858585858587, 0.8686868686868687, 0.8787878787878789, 0.888888888888889, 0.8989898989898991, 0.9090909090909092, 0.9191919191919192, 0.9292929292929294, 0.9393939393939394, 0.9494949494949496, 0.9595959595959597, 0.9696969696969697, 0.9797979797979799, 0.98989898989899, 1.0], \"y\": [1.0, 1.0043092218000202, 1.015020001836591, 1.0045296746854633, 0.9766900676582453, 0.9463253656992763, 0.9895547138327335, 0.9946903034687207, 0.9896827069515682, 0.9964429410750864, 1.0404939414592873, 1.073324656127851, 1.091499524269133, 1.1033905273520341, 1.1316299267411307, 1.1521784176953236, 1.1929631849447477, 1.2269877636175572, 1.2377476855758927, 1.20196675379772, 1.2712043562359574, 1.291522660679607, 1.2852320171963432, 1.307784836046512, 1.2883340281030549, 1.3115145159042534, 1.3079812223443288, 1.3291625429689646, 1.333859676364474, 1.351894681454155, 1.3689118399822582, 1.3754005455778524, 1.3997889332356213, 1.3670218976252921, 1.354844975895038, 1.3325581819466215, 1.363742489876851, 1.3559463469622957, 1.3676600294742496, 1.4011827462414712, 1.4190955525385942, 1.4218927969703448, 1.4535025421295193, 1.4885140821788994, 1.513572680475162, 1.5701267811645594, 1.5543604877016244, 1.5447642098035466, 1.521177408549825, 1.5140900523905076, 1.4575291644930977, 1.4804843396492942, 1.4582712906580424, 1.4951417258562263, 1.4891384438066961, 1.5117587806590211, 1.5155545132777348, 1.5301198393784112, 1.5318167122713509, 1.4956623188519933, 1.5465077888922765, 1.580247469159223, 1.529231613580648, 1.5533885044825493, 1.496174084632381, 1.5308556239610285, 1.5673314266119653, 1.5706322641609185, 1.5652024096084085, 1.5661093455670523, 1.583143975316395, 1.617468466730365, 1.6249720690015956, 1.6886477155508957, 1.6502402895154498, 1.6070649327409043, 1.6410145224837425, 1.6563191009308547, 1.6664914116422371, 1.7149416721429298, 1.7049003408285928, 1.692565432636432, 1.6317252952802512, 1.6461893840913773, 1.626692994309375, 1.6078274805878212, 1.6103506105241165, 1.6256506189582924, 1.6474773516617711, 1.6906625494161418, 1.6825203090385843, 1.7004990735457157, 1.6684163161670162, 1.6300932296271164, 1.6383177056502543, 1.6255391291310899, 1.624577427426591, 1.6376027118278667, 1.610320425609351, 1.5678336870850453]}, {\"line\": {\"color\": \"rgba(128, 128, 0, 0.8999999999999999)\", \"dash\": \"solid\", \"shape\": \"linear\", \"width\": 1.3}, \"marker\": {\"size\": 5, \"symbol\": \"circle\"}, \"mode\": \"lines+markers\", \"name\": \"path 19\", \"text\": \"\", \"type\": \"scatter\", \"x\": [0.0, 0.010101010101010102, 0.020202020202020204, 0.030303030303030304, 0.04040404040404041, 0.05050505050505051, 0.06060606060606061, 0.07070707070707072, 0.08080808080808081, 0.09090909090909091, 0.10101010101010102, 0.11111111111111112, 0.12121212121212122, 0.13131313131313133, 0.14141414141414144, 0.15151515151515152, 0.16161616161616163, 0.17171717171717174, 0.18181818181818182, 0.19191919191919193, 0.20202020202020204, 0.21212121212121213, 0.22222222222222224, 0.23232323232323235, 0.24242424242424243, 0.25252525252525254, 0.26262626262626265, 0.27272727272727276, 0.2828282828282829, 0.29292929292929293, 0.30303030303030304, 0.31313131313131315, 0.32323232323232326, 0.33333333333333337, 0.3434343434343435, 0.3535353535353536, 0.36363636363636365, 0.37373737373737376, 0.38383838383838387, 0.393939393939394, 0.4040404040404041, 0.4141414141414142, 0.42424242424242425, 0.43434343434343436, 0.4444444444444445, 0.4545454545454546, 0.4646464646464647, 0.4747474747474748, 0.48484848484848486, 0.494949494949495, 0.5050505050505051, 0.5151515151515152, 0.5252525252525253, 0.5353535353535354, 0.5454545454545455, 0.5555555555555556, 0.5656565656565657, 0.5757575757575758, 0.5858585858585859, 0.595959595959596, 0.6060606060606061, 0.6161616161616162, 0.6262626262626263, 0.6363636363636365, 0.6464646464646465, 0.6565656565656566, 0.6666666666666667, 0.6767676767676768, 0.686868686868687, 0.696969696969697, 0.7070707070707072, 0.7171717171717172, 0.7272727272727273, 0.7373737373737375, 0.7474747474747475, 0.7575757575757577, 0.7676767676767677, 0.7777777777777778, 0.787878787878788, 0.797979797979798, 0.8080808080808082, 0.8181818181818182, 0.8282828282828284, 0.8383838383838385, 0.8484848484848485, 0.8585858585858587, 0.8686868686868687, 0.8787878787878789, 0.888888888888889, 0.8989898989898991, 0.9090909090909092, 0.9191919191919192, 0.9292929292929294, 0.9393939393939394, 0.9494949494949496, 0.9595959595959597, 0.9696969696969697, 0.9797979797979799, 0.98989898989899, 1.0], \"y\": [1.0, 1.023590197245516, 1.0317806465578057, 1.0333132951372366, 1.0500592681495713, 1.0392694413395773, 1.0445973194531533, 1.07205761440332, 1.0746058646748342, 1.0631113033617308, 1.069592686928212, 1.0802410596951249, 1.0610809265339185, 1.0606015144916228, 1.0666432433928927, 1.0518694294155224, 1.0422007387334227, 1.040812721705395, 1.04825600921315, 1.0299391366741633, 1.019430377347386, 1.0538465023626127, 1.063858633649555, 1.0656907322865339, 1.0437469405934723, 1.0135514024493841, 1.02762436436551, 1.0168266550047158, 1.012555409408939, 1.016338812517652, 1.020232709973613, 0.9972974187924204, 0.9828763122075587, 0.9945155252834956, 0.9942792982767383, 0.999433973348767, 0.9805721103781653, 1.0220213361715222, 1.011339569618591, 1.0409850436133412, 1.0354059484082736, 1.0393939975228115, 1.0187527903024904, 0.9940495395229695, 1.0018163168206002, 0.9790664736240725, 0.9922633870197081, 0.9934015150278258, 0.9696352328696738, 0.9458355645817462, 0.955984494649938, 0.9426399308971609, 0.9369504482724701, 0.947142734381537, 0.9408871249129835, 0.9162480406072248, 0.9196436171085188, 0.929906084761394, 0.9021046836479408, 0.8807228343767628, 0.8740329509929116, 0.855652656617775, 0.8691147134365627, 0.8690656771102497, 0.885760390240196, 0.900451291729723, 0.8911185274372416, 0.8931912747485935, 0.9015764779758775, 0.9021241142174657, 0.9148002428056703, 0.9244335255195683, 0.936053633352851, 0.9071309235965515, 0.9296924763398225, 0.9558968336973358, 0.9452179605288191, 0.9264612997906183, 0.8849950538461085, 0.9100338316155447, 0.89211126171319, 0.9224499220416154, 0.9371759169881767, 0.9222068187415514, 0.8981838220518606, 0.918010065067925, 0.9378953022141828, 0.9046220511206584, 0.8993222639974768, 0.8955585493016937, 0.8883239351366672, 0.8904376049259798, 0.9053803113754189, 0.9082664051631277, 0.8964509882274644, 0.9168419710709088, 0.9485548551168089, 0.9379801624809999, 0.9197374592869347, 0.9329798314479937]}, {\"line\": {\"color\": \"rgba(251, 128, 114, 0.8999999999999999)\", \"dash\": \"solid\", \"shape\": \"linear\", \"width\": 1.3}, \"marker\": {\"size\": 5, \"symbol\": \"circle\"}, \"mode\": \"lines+markers\", \"name\": \"path 20\", \"text\": \"\", \"type\": \"scatter\", \"x\": [0.0, 0.010101010101010102, 0.020202020202020204, 0.030303030303030304, 0.04040404040404041, 0.05050505050505051, 0.06060606060606061, 0.07070707070707072, 0.08080808080808081, 0.09090909090909091, 0.10101010101010102, 0.11111111111111112, 0.12121212121212122, 0.13131313131313133, 0.14141414141414144, 0.15151515151515152, 0.16161616161616163, 0.17171717171717174, 0.18181818181818182, 0.19191919191919193, 0.20202020202020204, 0.21212121212121213, 0.22222222222222224, 0.23232323232323235, 0.24242424242424243, 0.25252525252525254, 0.26262626262626265, 0.27272727272727276, 0.2828282828282829, 0.29292929292929293, 0.30303030303030304, 0.31313131313131315, 0.32323232323232326, 0.33333333333333337, 0.3434343434343435, 0.3535353535353536, 0.36363636363636365, 0.37373737373737376, 0.38383838383838387, 0.393939393939394, 0.4040404040404041, 0.4141414141414142, 0.42424242424242425, 0.43434343434343436, 0.4444444444444445, 0.4545454545454546, 0.4646464646464647, 0.4747474747474748, 0.48484848484848486, 0.494949494949495, 0.5050505050505051, 0.5151515151515152, 0.5252525252525253, 0.5353535353535354, 0.5454545454545455, 0.5555555555555556, 0.5656565656565657, 0.5757575757575758, 0.5858585858585859, 0.595959595959596, 0.6060606060606061, 0.6161616161616162, 0.6262626262626263, 0.6363636363636365, 0.6464646464646465, 0.6565656565656566, 0.6666666666666667, 0.6767676767676768, 0.686868686868687, 0.696969696969697, 0.7070707070707072, 0.7171717171717172, 0.7272727272727273, 0.7373737373737375, 0.7474747474747475, 0.7575757575757577, 0.7676767676767677, 0.7777777777777778, 0.787878787878788, 0.797979797979798, 0.8080808080808082, 0.8181818181818182, 0.8282828282828284, 0.8383838383838385, 0.8484848484848485, 0.8585858585858587, 0.8686868686868687, 0.8787878787878789, 0.888888888888889, 0.8989898989898991, 0.9090909090909092, 0.9191919191919192, 0.9292929292929294, 0.9393939393939394, 0.9494949494949496, 0.9595959595959597, 0.9696969696969697, 0.9797979797979799, 0.98989898989899, 1.0], \"y\": [1.0, 1.0117144080693627, 1.0334848955861606, 1.0612932659867707, 1.077633900185702, 1.102025726698366, 1.1034809868713065, 1.0843955234611595, 1.0448501510782673, 1.0481715786131311, 1.0660439470681704, 1.0748638954503833, 1.080559630708648, 1.0790006794302265, 1.0749146014789759, 1.10298665130605, 1.1321962637959166, 1.1332361633980395, 1.1239424539016305, 1.130153998730076, 1.1204537702109005, 1.1028132121039802, 1.0530536518340352, 1.081692237327206, 1.0900653082571017, 1.1169805502910752, 1.1581204281900024, 1.1452858454226928, 1.1250485527759284, 1.130670044778504, 1.1338129346826218, 1.127793607858375, 1.1302930050031417, 1.1314925216419716, 1.1446571735721969, 1.1553643313385713, 1.1513974937623734, 1.1515985731173664, 1.1609612016088011, 1.1551392140565087, 1.1822628081683446, 1.135488181047426, 1.0868637746171148, 1.0791376086280016, 1.058489298852581, 1.0724895686548253, 1.0932713208435152, 1.0924193878015747, 1.0721885535252902, 1.0459294092526246, 1.0278685443167968, 1.024206565946918, 1.0278121938549092, 1.0320134184202936, 1.0526995038476648, 1.0446695885573487, 1.0068534115084522, 1.018327525403777, 1.0339574049742484, 1.0540378467445024, 1.1226019296498533, 1.1506169307220975, 1.161638959179695, 1.1773964132186459, 1.1731534622047293, 1.1351379674289832, 1.1657224813202498, 1.1246576250803502, 1.1018188334119843, 1.073760653273245, 1.085946826983987, 1.0584225353025187, 1.0737462585606279, 1.0840727004211144, 1.1319003045903442, 1.142861228839119, 1.1707769987514816, 1.1970008009245374, 1.1690243772125124, 1.159430472849837, 1.1246951247925236, 1.1646314003230336, 1.1410095284658373, 1.145733616809388, 1.1478478509600676, 1.1053962631889067, 1.0943581661420092, 1.0938716706785072, 1.0690992829651764, 1.08202466344383, 1.0818694167639284, 1.092274671506968, 1.0799678232113925, 1.0679732653756775, 1.04980361742095, 1.0763056270153284, 1.096168304807344, 1.1033484774748405, 1.0772131633874973, 1.0662198244030916]}, {\"line\": {\"color\": \"rgba(251, 128, 114, 0.7999999999999998)\", \"dash\": \"solid\", \"shape\": \"linear\", \"width\": 1.3}, \"marker\": {\"size\": 5, \"symbol\": \"circle\"}, \"mode\": \"lines+markers\", \"name\": \"path 21\", \"text\": \"\", \"type\": \"scatter\", \"x\": [0.0, 0.010101010101010102, 0.020202020202020204, 0.030303030303030304, 0.04040404040404041, 0.05050505050505051, 0.06060606060606061, 0.07070707070707072, 0.08080808080808081, 0.09090909090909091, 0.10101010101010102, 0.11111111111111112, 0.12121212121212122, 0.13131313131313133, 0.14141414141414144, 0.15151515151515152, 0.16161616161616163, 0.17171717171717174, 0.18181818181818182, 0.19191919191919193, 0.20202020202020204, 0.21212121212121213, 0.22222222222222224, 0.23232323232323235, 0.24242424242424243, 0.25252525252525254, 0.26262626262626265, 0.27272727272727276, 0.2828282828282829, 0.29292929292929293, 0.30303030303030304, 0.31313131313131315, 0.32323232323232326, 0.33333333333333337, 0.3434343434343435, 0.3535353535353536, 0.36363636363636365, 0.37373737373737376, 0.38383838383838387, 0.393939393939394, 0.4040404040404041, 0.4141414141414142, 0.42424242424242425, 0.43434343434343436, 0.4444444444444445, 0.4545454545454546, 0.4646464646464647, 0.4747474747474748, 0.48484848484848486, 0.494949494949495, 0.5050505050505051, 0.5151515151515152, 0.5252525252525253, 0.5353535353535354, 0.5454545454545455, 0.5555555555555556, 0.5656565656565657, 0.5757575757575758, 0.5858585858585859, 0.595959595959596, 0.6060606060606061, 0.6161616161616162, 0.6262626262626263, 0.6363636363636365, 0.6464646464646465, 0.6565656565656566, 0.6666666666666667, 0.6767676767676768, 0.686868686868687, 0.696969696969697, 0.7070707070707072, 0.7171717171717172, 0.7272727272727273, 0.7373737373737375, 0.7474747474747475, 0.7575757575757577, 0.7676767676767677, 0.7777777777777778, 0.787878787878788, 0.797979797979798, 0.8080808080808082, 0.8181818181818182, 0.8282828282828284, 0.8383838383838385, 0.8484848484848485, 0.8585858585858587, 0.8686868686868687, 0.8787878787878789, 0.888888888888889, 0.8989898989898991, 0.9090909090909092, 0.9191919191919192, 0.9292929292929294, 0.9393939393939394, 0.9494949494949496, 0.9595959595959597, 0.9696969696969697, 0.9797979797979799, 0.98989898989899, 1.0], \"y\": [1.0, 0.9812540783405549, 0.9646540200718747, 0.936793563830236, 0.9506425322167323, 0.9481960462098433, 0.9704530353367763, 0.9939026210532329, 0.9875115879441595, 1.0044217695720754, 1.0404029881665282, 1.0498144029488252, 1.04649785795809, 1.0157495099983949, 1.028885256699467, 1.02638113217333, 1.0015915772345527, 1.0001604493060208, 0.9979125880511633, 0.9738534307188339, 0.9810252177661491, 0.950514002485011, 0.9400610770634649, 0.930494014430785, 0.9388058278095239, 0.9074375541260531, 0.9222649267569566, 0.9312919067348895, 0.950779889046305, 0.9761218067034171, 0.9802899360305364, 0.9838739315531624, 0.9711643078998453, 0.9524204204857474, 0.940757370255093, 0.9270009426422866, 0.9388432018603059, 0.9544422647320675, 0.935449478327484, 0.9330193037289597, 0.9400979969606468, 0.9409527568788926, 0.9083479571227384, 0.9041860983223268, 0.8935912252193549, 0.8919749808421942, 0.880621123367518, 0.8720617449649868, 0.8589526553906225, 0.8964520894796613, 0.9083251441240207, 0.938435636308624, 0.918148615175992, 0.9515033059141307, 0.9518002494664997, 0.9358008447510208, 0.9138635633805294, 0.882787717469347, 0.9124018045623862, 0.9220630411360105, 0.9214960956763176, 0.9172838528608326, 0.9213193301856516, 0.9613878951056175, 0.9595694559733677, 0.9663495908789761, 0.9370692493739501, 0.9128508522766114, 0.9323222742357309, 0.9256038240910939, 0.889516513934119, 0.927134051899625, 0.9328895098614735, 0.9368044526931083, 0.9474775994416615, 0.9441019944129619, 0.9215440912736568, 0.9588532177391155, 0.9562201021577833, 0.9742714146115588, 1.0048083367716398, 1.0370301845258327, 1.0746472861628966, 1.08317491651937, 1.0932835723148049, 1.085133811180979, 1.113632957913922, 1.1342765657542755, 1.1453403754662914, 1.1473026541757345, 1.1680614713313473, 1.166268492317125, 1.2238429659964802, 1.1966512961554348, 1.1579969539874366, 1.1571091340269934, 1.1490795884440228, 1.2052404768568543, 1.2183591934541789, 1.208523658845862]}, {\"line\": {\"color\": \"rgba(128, 177, 211, 0.7999999999999998)\", \"dash\": \"solid\", \"shape\": \"linear\", \"width\": 1.3}, \"marker\": {\"size\": 5, \"symbol\": \"circle\"}, \"mode\": \"lines+markers\", \"name\": \"path 22\", \"text\": \"\", \"type\": \"scatter\", \"x\": [0.0, 0.010101010101010102, 0.020202020202020204, 0.030303030303030304, 0.04040404040404041, 0.05050505050505051, 0.06060606060606061, 0.07070707070707072, 0.08080808080808081, 0.09090909090909091, 0.10101010101010102, 0.11111111111111112, 0.12121212121212122, 0.13131313131313133, 0.14141414141414144, 0.15151515151515152, 0.16161616161616163, 0.17171717171717174, 0.18181818181818182, 0.19191919191919193, 0.20202020202020204, 0.21212121212121213, 0.22222222222222224, 0.23232323232323235, 0.24242424242424243, 0.25252525252525254, 0.26262626262626265, 0.27272727272727276, 0.2828282828282829, 0.29292929292929293, 0.30303030303030304, 0.31313131313131315, 0.32323232323232326, 0.33333333333333337, 0.3434343434343435, 0.3535353535353536, 0.36363636363636365, 0.37373737373737376, 0.38383838383838387, 0.393939393939394, 0.4040404040404041, 0.4141414141414142, 0.42424242424242425, 0.43434343434343436, 0.4444444444444445, 0.4545454545454546, 0.4646464646464647, 0.4747474747474748, 0.48484848484848486, 0.494949494949495, 0.5050505050505051, 0.5151515151515152, 0.5252525252525253, 0.5353535353535354, 0.5454545454545455, 0.5555555555555556, 0.5656565656565657, 0.5757575757575758, 0.5858585858585859, 0.595959595959596, 0.6060606060606061, 0.6161616161616162, 0.6262626262626263, 0.6363636363636365, 0.6464646464646465, 0.6565656565656566, 0.6666666666666667, 0.6767676767676768, 0.686868686868687, 0.696969696969697, 0.7070707070707072, 0.7171717171717172, 0.7272727272727273, 0.7373737373737375, 0.7474747474747475, 0.7575757575757577, 0.7676767676767677, 0.7777777777777778, 0.787878787878788, 0.797979797979798, 0.8080808080808082, 0.8181818181818182, 0.8282828282828284, 0.8383838383838385, 0.8484848484848485, 0.8585858585858587, 0.8686868686868687, 0.8787878787878789, 0.888888888888889, 0.8989898989898991, 0.9090909090909092, 0.9191919191919192, 0.9292929292929294, 0.9393939393939394, 0.9494949494949496, 0.9595959595959597, 0.9696969696969697, 0.9797979797979799, 0.98989898989899, 1.0], \"y\": [1.0, 0.976443358258406, 0.9413069572712208, 0.9162450164413082, 0.9311287956781578, 0.9476939218722659, 0.9405802216453107, 0.9489868186629199, 0.94879793051751, 0.9445920465515245, 0.9658368738431676, 0.9638761800104991, 0.9370843145800852, 0.9640064667453417, 0.9560842483051972, 0.9583337053019348, 1.003129666770514, 0.9929972743372988, 0.9992555299571241, 1.029721282083047, 1.0582115488850146, 1.0481204215639774, 1.0467644940451422, 1.0843526971312645, 1.1121154362332322, 1.105943265330456, 1.1090485225373563, 1.1197785602832937, 1.142773491567599, 1.1449686491553392, 1.108688209544347, 1.1069937799416416, 1.0859365332847277, 1.0750799006338312, 1.0453687578832802, 1.0413746769166137, 1.0216189109922171, 0.9977092166511231, 0.9907410281503891, 1.004262576959696, 0.9834436072972649, 1.0123774871547648, 0.9935262781558195, 0.9853743602652008, 0.9677262550703984, 0.9641494261717262, 0.9307717227578184, 0.9308098519426237, 0.9148604246096312, 0.8944052759391175, 0.9107322765309276, 0.89700835241261, 0.8852857114232738, 0.8560789322831613, 0.8565228460455732, 0.855900228039635, 0.8428777499049344, 0.8372205542772577, 0.8314128055950873, 0.8536692949763738, 0.8417365999240509, 0.8485191266492644, 0.8644543614117062, 0.8633263802510275, 0.8616275183806141, 0.8402511011326694, 0.8407304362035806, 0.8292111467542117, 0.836791046846234, 0.8429823077660741, 0.8335181189794628, 0.8347502841287948, 0.8019684903835214, 0.77782101419806, 0.7629756613276949, 0.752003246573171, 0.727128652114788, 0.7086560173060618, 0.7258983464476595, 0.7272332777669187, 0.7211906497362991, 0.7188557541621221, 0.7298818905861217, 0.7383782133452993, 0.7333628831812373, 0.708063080677402, 0.703400656734417, 0.6981464057397855, 0.7135596934669507, 0.6853534157475981, 0.674351428606629, 0.6582434163414201, 0.6475925667097884, 0.6534792289199127, 0.6469445430491338, 0.6519456224252257, 0.6480636735296496, 0.64251526017166, 0.6312417630970866, 0.6309895061091942]}, {\"line\": {\"color\": \"rgba(255, 153, 51, 0.7999999999999998)\", \"dash\": \"solid\", \"shape\": \"linear\", \"width\": 1.3}, \"marker\": {\"size\": 5, \"symbol\": \"circle\"}, \"mode\": \"lines+markers\", \"name\": \"path 23\", \"text\": \"\", \"type\": \"scatter\", \"x\": [0.0, 0.010101010101010102, 0.020202020202020204, 0.030303030303030304, 0.04040404040404041, 0.05050505050505051, 0.06060606060606061, 0.07070707070707072, 0.08080808080808081, 0.09090909090909091, 0.10101010101010102, 0.11111111111111112, 0.12121212121212122, 0.13131313131313133, 0.14141414141414144, 0.15151515151515152, 0.16161616161616163, 0.17171717171717174, 0.18181818181818182, 0.19191919191919193, 0.20202020202020204, 0.21212121212121213, 0.22222222222222224, 0.23232323232323235, 0.24242424242424243, 0.25252525252525254, 0.26262626262626265, 0.27272727272727276, 0.2828282828282829, 0.29292929292929293, 0.30303030303030304, 0.31313131313131315, 0.32323232323232326, 0.33333333333333337, 0.3434343434343435, 0.3535353535353536, 0.36363636363636365, 0.37373737373737376, 0.38383838383838387, 0.393939393939394, 0.4040404040404041, 0.4141414141414142, 0.42424242424242425, 0.43434343434343436, 0.4444444444444445, 0.4545454545454546, 0.4646464646464647, 0.4747474747474748, 0.48484848484848486, 0.494949494949495, 0.5050505050505051, 0.5151515151515152, 0.5252525252525253, 0.5353535353535354, 0.5454545454545455, 0.5555555555555556, 0.5656565656565657, 0.5757575757575758, 0.5858585858585859, 0.595959595959596, 0.6060606060606061, 0.6161616161616162, 0.6262626262626263, 0.6363636363636365, 0.6464646464646465, 0.6565656565656566, 0.6666666666666667, 0.6767676767676768, 0.686868686868687, 0.696969696969697, 0.7070707070707072, 0.7171717171717172, 0.7272727272727273, 0.7373737373737375, 0.7474747474747475, 0.7575757575757577, 0.7676767676767677, 0.7777777777777778, 0.787878787878788, 0.797979797979798, 0.8080808080808082, 0.8181818181818182, 0.8282828282828284, 0.8383838383838385, 0.8484848484848485, 0.8585858585858587, 0.8686868686868687, 0.8787878787878789, 0.888888888888889, 0.8989898989898991, 0.9090909090909092, 0.9191919191919192, 0.9292929292929294, 0.9393939393939394, 0.9494949494949496, 0.9595959595959597, 0.9696969696969697, 0.9797979797979799, 0.98989898989899, 1.0], \"y\": [1.0, 1.0261908411164689, 0.9963541800253529, 0.9663436272286962, 0.974084542574336, 0.9750793203615821, 0.9518486674651643, 0.9610250814001206, 0.9684224004717414, 0.9509711620607155, 0.9455230718131729, 0.948888761025064, 0.9475748853717867, 0.9695845070312643, 0.969241316176674, 0.9713885766115672, 1.021822249103313, 1.0349288225474818, 1.0166241689824003, 1.0245663717904954, 0.9648404144947985, 0.9697660497911469, 0.9378259145648863, 0.9265730001378637, 0.925708015137678, 0.9127732240545416, 0.9438036138595021, 0.9586995103184199, 0.9313341726141875, 0.9224218339279495, 0.8800934291127926, 0.8828683325760933, 0.8788804943121559, 0.8645634307146686, 0.8517453360670657, 0.8238172638849044, 0.8233337430368419, 0.8173008961324936, 0.7924947358055906, 0.8009691009975969, 0.8144021413673643, 0.8343731265035438, 0.856430948644972, 0.8377976108315467, 0.8358802210629706, 0.8229131429088676, 0.833527607560348, 0.8314807704331627, 0.8386647407201959, 0.851642461995022, 0.8727035531398409, 0.8773487811464308, 0.869084211262616, 0.8678366177485786, 0.8862186934850659, 0.901723876575126, 0.872638656377462, 0.8824128590724629, 0.8968828223532729, 0.898824585811517, 0.8792369392189372, 0.8528195682030089, 0.8448235330636484, 0.8487947562097605, 0.827777266944795, 0.8279374701343514, 0.8447653780527057, 0.8879283656544354, 0.8563534603770334, 0.8717051378015745, 0.8631476790201577, 0.8601327263714719, 0.8672501058737057, 0.8805859478936185, 0.8759190469926138, 0.8521621077784469, 0.8240144121312978, 0.8124932217577991, 0.8207660266324759, 0.8247218842029431, 0.8131286881906019, 0.8595496892118492, 0.8757552025755654, 0.8376607207147092, 0.8932364003933354, 0.8582128960683341, 0.8837270648485697, 0.8994808561678188, 0.8874381595990726, 0.8829131904256892, 0.9024473739104882, 0.8647857680846622, 0.8551538301358877, 0.8625356740367945, 0.8501335313600001, 0.856671186674847, 0.8422343129312708, 0.8189336889019346, 0.8405534114696257, 0.8264208277457773]}, {\"line\": {\"color\": \"rgba(55, 128, 191, 0.7999999999999998)\", \"dash\": \"solid\", \"shape\": \"linear\", \"width\": 1.3}, \"marker\": {\"size\": 5, \"symbol\": \"circle\"}, \"mode\": \"lines+markers\", \"name\": \"path 24\", \"text\": \"\", \"type\": \"scatter\", \"x\": [0.0, 0.010101010101010102, 0.020202020202020204, 0.030303030303030304, 0.04040404040404041, 0.05050505050505051, 0.06060606060606061, 0.07070707070707072, 0.08080808080808081, 0.09090909090909091, 0.10101010101010102, 0.11111111111111112, 0.12121212121212122, 0.13131313131313133, 0.14141414141414144, 0.15151515151515152, 0.16161616161616163, 0.17171717171717174, 0.18181818181818182, 0.19191919191919193, 0.20202020202020204, 0.21212121212121213, 0.22222222222222224, 0.23232323232323235, 0.24242424242424243, 0.25252525252525254, 0.26262626262626265, 0.27272727272727276, 0.2828282828282829, 0.29292929292929293, 0.30303030303030304, 0.31313131313131315, 0.32323232323232326, 0.33333333333333337, 0.3434343434343435, 0.3535353535353536, 0.36363636363636365, 0.37373737373737376, 0.38383838383838387, 0.393939393939394, 0.4040404040404041, 0.4141414141414142, 0.42424242424242425, 0.43434343434343436, 0.4444444444444445, 0.4545454545454546, 0.4646464646464647, 0.4747474747474748, 0.48484848484848486, 0.494949494949495, 0.5050505050505051, 0.5151515151515152, 0.5252525252525253, 0.5353535353535354, 0.5454545454545455, 0.5555555555555556, 0.5656565656565657, 0.5757575757575758, 0.5858585858585859, 0.595959595959596, 0.6060606060606061, 0.6161616161616162, 0.6262626262626263, 0.6363636363636365, 0.6464646464646465, 0.6565656565656566, 0.6666666666666667, 0.6767676767676768, 0.686868686868687, 0.696969696969697, 0.7070707070707072, 0.7171717171717172, 0.7272727272727273, 0.7373737373737375, 0.7474747474747475, 0.7575757575757577, 0.7676767676767677, 0.7777777777777778, 0.787878787878788, 0.797979797979798, 0.8080808080808082, 0.8181818181818182, 0.8282828282828284, 0.8383838383838385, 0.8484848484848485, 0.8585858585858587, 0.8686868686868687, 0.8787878787878789, 0.888888888888889, 0.8989898989898991, 0.9090909090909092, 0.9191919191919192, 0.9292929292929294, 0.9393939393939394, 0.9494949494949496, 0.9595959595959597, 0.9696969696969697, 0.9797979797979799, 0.98989898989899, 1.0], \"y\": [1.0, 0.9868953741579071, 0.9770541786182455, 0.9997928363225173, 1.004928212197918, 1.008852853371937, 0.9951853501994562, 0.9692522679881735, 0.980742586804952, 0.9697416292771458, 0.9722020719721683, 0.9853321432412488, 1.0293331956238316, 1.0291125944971748, 1.037787285884163, 1.0814326319879877, 1.0569126116576888, 1.071034689021933, 1.0900506123956941, 1.0434679221542371, 1.05205424799217, 1.026468473842394, 1.0506862873421725, 1.0585968277306865, 1.0535956927150953, 1.044951009593069, 1.0696284756522243, 1.0361403681460224, 1.0133402731485044, 1.0507187876675617, 1.0267123720996474, 1.0527052906019856, 1.0489324105200255, 1.0477997074934764, 1.0234513436755714, 1.0488347907590152, 1.0200175946186754, 1.0094172681249272, 1.00111588813775, 1.0393984853670653, 1.0301866428314632, 1.019216553046864, 1.039133984442292, 1.039304818125659, 1.0298434935784018, 1.014387110364815, 0.9806838073673322, 0.9681569188993455, 0.9661026687112366, 0.937932051254923, 0.9440468172048186, 0.9115257197206525, 0.8941270284978093, 0.9294198393225312, 0.9568971455972928, 0.9472717736027416, 0.9458179852284788, 0.9498964553664209, 0.9799530419815401, 1.0053419318241281, 1.0367185398286316, 1.0249301438678577, 0.9997216650416697, 0.9744048240957242, 0.9943946704324695, 0.9827051529779663, 0.968261774275408, 0.9750693642962627, 0.9625841202918602, 0.9846967756323133, 0.9832901604854409, 0.9749577313952796, 0.9969699499285082, 0.9918438595650684, 1.0338704493166937, 1.0111803506902546, 0.984250940026381, 0.9894373503788445, 0.9726993081918381, 0.9412487652593217, 0.9565940077741942, 0.9407728337337424, 0.9306853090108731, 0.9162883301753176, 0.899243314904635, 0.8970753972645116, 0.8807851586123981, 0.8667862512884437, 0.8954064154176298, 0.9023277943857354, 0.9177061395923747, 0.9027941271037757, 0.9360941615762393, 0.9072166790597661, 0.9241513162576568, 0.9560330339840912, 0.9278163739620364, 0.9521267719703477, 0.94385172007229, 0.9690303429433074]}, {\"line\": {\"color\": \"rgba(50, 171, 96, 0.7999999999999998)\", \"dash\": \"solid\", \"shape\": \"linear\", \"width\": 1.3}, \"marker\": {\"size\": 5, \"symbol\": \"circle\"}, \"mode\": \"lines+markers\", \"name\": \"path 25\", \"text\": \"\", \"type\": \"scatter\", \"x\": [0.0, 0.010101010101010102, 0.020202020202020204, 0.030303030303030304, 0.04040404040404041, 0.05050505050505051, 0.06060606060606061, 0.07070707070707072, 0.08080808080808081, 0.09090909090909091, 0.10101010101010102, 0.11111111111111112, 0.12121212121212122, 0.13131313131313133, 0.14141414141414144, 0.15151515151515152, 0.16161616161616163, 0.17171717171717174, 0.18181818181818182, 0.19191919191919193, 0.20202020202020204, 0.21212121212121213, 0.22222222222222224, 0.23232323232323235, 0.24242424242424243, 0.25252525252525254, 0.26262626262626265, 0.27272727272727276, 0.2828282828282829, 0.29292929292929293, 0.30303030303030304, 0.31313131313131315, 0.32323232323232326, 0.33333333333333337, 0.3434343434343435, 0.3535353535353536, 0.36363636363636365, 0.37373737373737376, 0.38383838383838387, 0.393939393939394, 0.4040404040404041, 0.4141414141414142, 0.42424242424242425, 0.43434343434343436, 0.4444444444444445, 0.4545454545454546, 0.4646464646464647, 0.4747474747474748, 0.48484848484848486, 0.494949494949495, 0.5050505050505051, 0.5151515151515152, 0.5252525252525253, 0.5353535353535354, 0.5454545454545455, 0.5555555555555556, 0.5656565656565657, 0.5757575757575758, 0.5858585858585859, 0.595959595959596, 0.6060606060606061, 0.6161616161616162, 0.6262626262626263, 0.6363636363636365, 0.6464646464646465, 0.6565656565656566, 0.6666666666666667, 0.6767676767676768, 0.686868686868687, 0.696969696969697, 0.7070707070707072, 0.7171717171717172, 0.7272727272727273, 0.7373737373737375, 0.7474747474747475, 0.7575757575757577, 0.7676767676767677, 0.7777777777777778, 0.787878787878788, 0.797979797979798, 0.8080808080808082, 0.8181818181818182, 0.8282828282828284, 0.8383838383838385, 0.8484848484848485, 0.8585858585858587, 0.8686868686868687, 0.8787878787878789, 0.888888888888889, 0.8989898989898991, 0.9090909090909092, 0.9191919191919192, 0.9292929292929294, 0.9393939393939394, 0.9494949494949496, 0.9595959595959597, 0.9696969696969697, 0.9797979797979799, 0.98989898989899, 1.0], \"y\": [1.0, 1.0010740879519966, 1.0363839088961013, 1.0454427840635454, 1.0694572515750034, 1.0660434915601753, 1.0637954600558774, 1.0723630101524866, 1.0739067766704584, 1.0699676432710663, 1.0513625731165055, 1.0336372826853513, 1.0288646670666084, 1.0251371310276762, 0.9997894030904594, 0.9957322779215836, 0.9850137524538911, 0.9592127247058759, 0.983838141845115, 0.9742315162484217, 0.9648676213694646, 0.9395161386486551, 0.9698349633329755, 0.9948489190515561, 0.992512866770255, 0.980358892769223, 0.9816092443127875, 0.9880104014625323, 1.0084717999205175, 1.009023402191531, 1.0357139497371122, 1.0418388317210312, 1.042013510452182, 1.0277957137208016, 1.0662511098275922, 1.0595230978200842, 1.0763695192855776, 1.0705578207368358, 1.097907712288396, 1.0875898273330167, 1.1135250790356412, 1.103768791251476, 1.0759185882907263, 1.0914836327396094, 1.115805794199403, 1.083063755105823, 1.0949971750242855, 1.0797240861933912, 1.0663835724821245, 1.0869619907424626, 1.079512185642266, 1.0908259428097888, 1.1021535489084753, 1.1216647513929228, 1.1412392181233544, 1.1741306898519215, 1.1774952704858688, 1.1922406260767526, 1.1392497285658134, 1.1608113042448274, 1.149270017626002, 1.1334742647706377, 1.1705154186430733, 1.1595178758465243, 1.1618892084988546, 1.1656520099785552, 1.1682716851553139, 1.2164016856021915, 1.2170491545735802, 1.1705329594411706, 1.1979842570288934, 1.2233445336494166, 1.2191087336152626, 1.1571811320480103, 1.1748016310880864, 1.1684860642572468, 1.1946467896043316, 1.2275367344817179, 1.22545481536089, 1.2316558700468074, 1.1987309430557882, 1.1763901358421358, 1.1619715123123064, 1.1535637335655708, 1.1395546476278693, 1.147304923828888, 1.1165392655275903, 1.1038485432583498, 1.1038309344409523, 1.0973772946629312, 1.0375133835867683, 1.0607424595366883, 1.0187134679660437, 1.0153216178670885, 1.0036217852093918, 0.9817089278119449, 0.9843341439878117, 0.952299022843788, 0.9329813505042566, 0.9338499344995211]}, {\"line\": {\"color\": \"rgba(128, 0, 128, 0.7999999999999998)\", \"dash\": \"solid\", \"shape\": \"linear\", \"width\": 1.3}, \"marker\": {\"size\": 5, \"symbol\": \"circle\"}, \"mode\": \"lines+markers\", \"name\": \"path 26\", \"text\": \"\", \"type\": \"scatter\", \"x\": [0.0, 0.010101010101010102, 0.020202020202020204, 0.030303030303030304, 0.04040404040404041, 0.05050505050505051, 0.06060606060606061, 0.07070707070707072, 0.08080808080808081, 0.09090909090909091, 0.10101010101010102, 0.11111111111111112, 0.12121212121212122, 0.13131313131313133, 0.14141414141414144, 0.15151515151515152, 0.16161616161616163, 0.17171717171717174, 0.18181818181818182, 0.19191919191919193, 0.20202020202020204, 0.21212121212121213, 0.22222222222222224, 0.23232323232323235, 0.24242424242424243, 0.25252525252525254, 0.26262626262626265, 0.27272727272727276, 0.2828282828282829, 0.29292929292929293, 0.30303030303030304, 0.31313131313131315, 0.32323232323232326, 0.33333333333333337, 0.3434343434343435, 0.3535353535353536, 0.36363636363636365, 0.37373737373737376, 0.38383838383838387, 0.393939393939394, 0.4040404040404041, 0.4141414141414142, 0.42424242424242425, 0.43434343434343436, 0.4444444444444445, 0.4545454545454546, 0.4646464646464647, 0.4747474747474748, 0.48484848484848486, 0.494949494949495, 0.5050505050505051, 0.5151515151515152, 0.5252525252525253, 0.5353535353535354, 0.5454545454545455, 0.5555555555555556, 0.5656565656565657, 0.5757575757575758, 0.5858585858585859, 0.595959595959596, 0.6060606060606061, 0.6161616161616162, 0.6262626262626263, 0.6363636363636365, 0.6464646464646465, 0.6565656565656566, 0.6666666666666667, 0.6767676767676768, 0.686868686868687, 0.696969696969697, 0.7070707070707072, 0.7171717171717172, 0.7272727272727273, 0.7373737373737375, 0.7474747474747475, 0.7575757575757577, 0.7676767676767677, 0.7777777777777778, 0.787878787878788, 0.797979797979798, 0.8080808080808082, 0.8181818181818182, 0.8282828282828284, 0.8383838383838385, 0.8484848484848485, 0.8585858585858587, 0.8686868686868687, 0.8787878787878789, 0.888888888888889, 0.8989898989898991, 0.9090909090909092, 0.9191919191919192, 0.9292929292929294, 0.9393939393939394, 0.9494949494949496, 0.9595959595959597, 0.9696969696969697, 0.9797979797979799, 0.98989898989899, 1.0], \"y\": [1.0, 0.9772899678321018, 0.9881051233820934, 0.9991252342635714, 1.0044145768728283, 0.9722873424314336, 0.9813546814559264, 0.9862270816446075, 0.9814319469420906, 0.9844350358243432, 0.9853765706936242, 0.9637442007381342, 0.9512234479207751, 0.9278239642447638, 0.9677861207942434, 0.9869712615737254, 0.9960776375996276, 1.010582433304875, 1.0173503866642384, 1.030573539310583, 0.9968239281606487, 0.9892235106423396, 0.9848347420984668, 0.9926749245524416, 0.988194012710819, 1.013565491302277, 1.0245500239370453, 1.0038092214017786, 0.9906767754766855, 0.9894161739793921, 1.0101570496533236, 0.9869865887481676, 0.9828409945294397, 0.9600291659037814, 1.0166513395190369, 1.0184756395026084, 0.9926019325245189, 0.9773467493347927, 0.9924182147598298, 0.9663180658725125, 0.9862703257037041, 1.0057549621101882, 1.0132046049171441, 1.0099099980256088, 0.9846965267059306, 1.0046870918455149, 0.9969813162470487, 1.0115551560393705, 1.0346434548948618, 1.0699539421936175, 1.0740605536103593, 1.103002640498465, 1.1071522671854914, 1.1092005153977227, 1.1017910166087759, 1.1079365033663096, 1.0863241066668905, 1.0845665279484544, 1.0756159206495521, 1.122592009068716, 1.104822053905969, 1.0869298430232237, 1.0908924727087734, 1.103221409085296, 1.130854565302653, 1.1150957422038397, 1.0981524172110748, 1.0909348795959086, 1.0632213444091072, 1.0584740634698904, 1.0931597185377728, 1.1083640810656108, 1.1493979429564178, 1.1546144579104118, 1.1344663616664394, 1.1419737899541977, 1.1271373292791742, 1.160569273956916, 1.1374944404087888, 1.1701060842654136, 1.1985596586515996, 1.1998229337446231, 1.2128883389056972, 1.2175444438142442, 1.221908980550321, 1.2326259414144476, 1.251721335507612, 1.2170034636949225, 1.2056572138490476, 1.2252256936459989, 1.261360072243328, 1.2197494473334782, 1.2000300474702403, 1.194702842973612, 1.1656865668868928, 1.201036926682378, 1.2025108385038974, 1.1841824006931452, 1.228288638273322, 1.1859307490812916]}, {\"line\": {\"color\": \"rgba(219, 64, 82, 0.7999999999999998)\", \"dash\": \"solid\", \"shape\": \"linear\", \"width\": 1.3}, \"marker\": {\"size\": 5, \"symbol\": \"circle\"}, \"mode\": \"lines+markers\", \"name\": \"path 27\", \"text\": \"\", \"type\": \"scatter\", \"x\": [0.0, 0.010101010101010102, 0.020202020202020204, 0.030303030303030304, 0.04040404040404041, 0.05050505050505051, 0.06060606060606061, 0.07070707070707072, 0.08080808080808081, 0.09090909090909091, 0.10101010101010102, 0.11111111111111112, 0.12121212121212122, 0.13131313131313133, 0.14141414141414144, 0.15151515151515152, 0.16161616161616163, 0.17171717171717174, 0.18181818181818182, 0.19191919191919193, 0.20202020202020204, 0.21212121212121213, 0.22222222222222224, 0.23232323232323235, 0.24242424242424243, 0.25252525252525254, 0.26262626262626265, 0.27272727272727276, 0.2828282828282829, 0.29292929292929293, 0.30303030303030304, 0.31313131313131315, 0.32323232323232326, 0.33333333333333337, 0.3434343434343435, 0.3535353535353536, 0.36363636363636365, 0.37373737373737376, 0.38383838383838387, 0.393939393939394, 0.4040404040404041, 0.4141414141414142, 0.42424242424242425, 0.43434343434343436, 0.4444444444444445, 0.4545454545454546, 0.4646464646464647, 0.4747474747474748, 0.48484848484848486, 0.494949494949495, 0.5050505050505051, 0.5151515151515152, 0.5252525252525253, 0.5353535353535354, 0.5454545454545455, 0.5555555555555556, 0.5656565656565657, 0.5757575757575758, 0.5858585858585859, 0.595959595959596, 0.6060606060606061, 0.6161616161616162, 0.6262626262626263, 0.6363636363636365, 0.6464646464646465, 0.6565656565656566, 0.6666666666666667, 0.6767676767676768, 0.686868686868687, 0.696969696969697, 0.7070707070707072, 0.7171717171717172, 0.7272727272727273, 0.7373737373737375, 0.7474747474747475, 0.7575757575757577, 0.7676767676767677, 0.7777777777777778, 0.787878787878788, 0.797979797979798, 0.8080808080808082, 0.8181818181818182, 0.8282828282828284, 0.8383838383838385, 0.8484848484848485, 0.8585858585858587, 0.8686868686868687, 0.8787878787878789, 0.888888888888889, 0.8989898989898991, 0.9090909090909092, 0.9191919191919192, 0.9292929292929294, 0.9393939393939394, 0.9494949494949496, 0.9595959595959597, 0.9696969696969697, 0.9797979797979799, 0.98989898989899, 1.0], \"y\": [1.0, 0.9995353130836037, 0.9901540973438476, 0.9938205031440672, 1.028897542396953, 1.0194975323049391, 1.0122502515797722, 0.995557019749737, 0.9950869635528529, 1.0044928289236303, 0.9607869556243621, 0.9660698303824118, 0.956174878228973, 0.9346211159269527, 0.9130776410050945, 0.8876368399973263, 0.8963104840990033, 0.8824413234454535, 0.8704996895541537, 0.8547367882173175, 0.8650449342443137, 0.8672295600174439, 0.8328027402477534, 0.825755908662209, 0.8044564798085155, 0.7767147575477602, 0.7806768309934226, 0.7934432444483702, 0.7990298536899345, 0.8042607439344832, 0.7826324028979965, 0.7542487162486933, 0.7581712375788058, 0.7378508096538832, 0.7278347018474352, 0.7487589786444527, 0.7541217659492226, 0.7443020247485511, 0.7379723052998444, 0.7434661435056743, 0.7285157386145293, 0.7022162438079528, 0.7100751063716528, 0.7111045137807311, 0.7027295385010639, 0.7203829854904377, 0.7331282524877233, 0.7163608543164658, 0.7117650214392125, 0.7197561240253455, 0.7046685605712408, 0.6819426605300437, 0.7003896126941074, 0.6897292085263703, 0.6893129878729287, 0.6976424023798801, 0.6958335717334548, 0.7079538017819424, 0.7050587789815019, 0.7134466740499962, 0.7066058844029853, 0.708257562081197, 0.6905914671979781, 0.7097393506333842, 0.706989467664401, 0.706756885739247, 0.702400448171672, 0.6977608540389117, 0.692142731393965, 0.7045677704198166, 0.7027807456957496, 0.7038847369340648, 0.6950088270068728, 0.6960836702013911, 0.7141076295591103, 0.7038898958214501, 0.7193716922533674, 0.747812885586609, 0.7380337604783861, 0.7166991651450294, 0.7128474493795907, 0.7330345993411439, 0.7588446417535808, 0.7682884600719175, 0.7847437026353665, 0.8020162746365234, 0.7982857886909271, 0.7920276040202333, 0.7937087027481678, 0.7872111004887972, 0.7654921031896808, 0.7586763095410064, 0.7505989705523055, 0.727649638066864, 0.7052843415902617, 0.7090453385189791, 0.713040682332643, 0.6938186336120106, 0.6889413097640918, 0.6870779668087764]}, {\"line\": {\"color\": \"rgba(0, 128, 128, 0.7999999999999998)\", \"dash\": \"solid\", \"shape\": \"linear\", \"width\": 1.3}, \"marker\": {\"size\": 5, \"symbol\": \"circle\"}, \"mode\": \"lines+markers\", \"name\": \"path 28\", \"text\": \"\", \"type\": \"scatter\", \"x\": [0.0, 0.010101010101010102, 0.020202020202020204, 0.030303030303030304, 0.04040404040404041, 0.05050505050505051, 0.06060606060606061, 0.07070707070707072, 0.08080808080808081, 0.09090909090909091, 0.10101010101010102, 0.11111111111111112, 0.12121212121212122, 0.13131313131313133, 0.14141414141414144, 0.15151515151515152, 0.16161616161616163, 0.17171717171717174, 0.18181818181818182, 0.19191919191919193, 0.20202020202020204, 0.21212121212121213, 0.22222222222222224, 0.23232323232323235, 0.24242424242424243, 0.25252525252525254, 0.26262626262626265, 0.27272727272727276, 0.2828282828282829, 0.29292929292929293, 0.30303030303030304, 0.31313131313131315, 0.32323232323232326, 0.33333333333333337, 0.3434343434343435, 0.3535353535353536, 0.36363636363636365, 0.37373737373737376, 0.38383838383838387, 0.393939393939394, 0.4040404040404041, 0.4141414141414142, 0.42424242424242425, 0.43434343434343436, 0.4444444444444445, 0.4545454545454546, 0.4646464646464647, 0.4747474747474748, 0.48484848484848486, 0.494949494949495, 0.5050505050505051, 0.5151515151515152, 0.5252525252525253, 0.5353535353535354, 0.5454545454545455, 0.5555555555555556, 0.5656565656565657, 0.5757575757575758, 0.5858585858585859, 0.595959595959596, 0.6060606060606061, 0.6161616161616162, 0.6262626262626263, 0.6363636363636365, 0.6464646464646465, 0.6565656565656566, 0.6666666666666667, 0.6767676767676768, 0.686868686868687, 0.696969696969697, 0.7070707070707072, 0.7171717171717172, 0.7272727272727273, 0.7373737373737375, 0.7474747474747475, 0.7575757575757577, 0.7676767676767677, 0.7777777777777778, 0.787878787878788, 0.797979797979798, 0.8080808080808082, 0.8181818181818182, 0.8282828282828284, 0.8383838383838385, 0.8484848484848485, 0.8585858585858587, 0.8686868686868687, 0.8787878787878789, 0.888888888888889, 0.8989898989898991, 0.9090909090909092, 0.9191919191919192, 0.9292929292929294, 0.9393939393939394, 0.9494949494949496, 0.9595959595959597, 0.9696969696969697, 0.9797979797979799, 0.98989898989899, 1.0], \"y\": [1.0, 0.9828843201867022, 0.9892907217793597, 0.9438727131405297, 0.9679971783307892, 0.967725099436134, 0.959922616683834, 0.9390209913607467, 0.9646155653900736, 0.9596053267017781, 0.9611078055046338, 0.9579019105822449, 0.9491473933058682, 0.9477930786548155, 0.9401643069995379, 0.9296202895235237, 0.9270070366080159, 0.9312674975309524, 0.9399564133669944, 0.9277323112110775, 0.9166042036332878, 0.8876493549384806, 0.9181275249149902, 0.914921908008238, 0.9039594435673051, 0.9194450470735858, 0.9332130516765683, 0.9607314381606198, 0.9529778638951635, 0.9428877871610427, 0.9350713071800288, 0.942565337801836, 0.9575981308275903, 0.9563868634761611, 0.9652826655769281, 0.9491552556873886, 0.9420963420506424, 0.9847331766537203, 1.0096150790848648, 1.04790648955979, 1.0655117621099133, 1.0385685218809764, 1.0534603272574514, 1.081166710352203, 1.0482627661033046, 1.043798054515593, 1.0380318282044334, 1.0432345780986587, 1.0563414089712158, 1.040530202852884, 1.016800101974218, 0.994213524295576, 0.9615062038110537, 0.9588191548712408, 1.0083781762701824, 0.9906167417321134, 0.9806665318619081, 0.9803953826179919, 0.9882355555277172, 0.995206638441898, 0.9914698869277376, 0.9667405830056848, 0.9514072426988874, 0.9406117058073061, 0.929912706842986, 0.9188445191834885, 0.9144745404599577, 0.9241476862195352, 0.9222888600716953, 0.9259001862968985, 0.91787738335182, 0.9088783202371937, 0.9233568687965865, 0.9477517117024963, 0.9712486418004872, 0.9493574284340304, 0.9719342556868719, 0.9537463863222972, 0.9437925991029722, 0.9307057226205253, 0.9370351317270217, 0.9099019967305623, 0.8979148180383408, 0.9163676525750047, 0.8903567456927296, 0.8627629682165273, 0.8557452196249683, 0.8798505158015332, 0.9113738738013716, 0.8816938980983308, 0.876259388501814, 0.844137611432993, 0.8546575663540443, 0.8283298350111269, 0.7878762090138596, 0.8018227536489928, 0.7810745438231665, 0.8001019311304551, 0.7723592875199854, 0.7911222793589702]}, {\"line\": {\"color\": \"rgba(255, 255, 51, 0.7999999999999998)\", \"dash\": \"solid\", \"shape\": \"linear\", \"width\": 1.3}, \"marker\": {\"size\": 5, \"symbol\": \"circle\"}, \"mode\": \"lines+markers\", \"name\": \"path 29\", \"text\": \"\", \"type\": \"scatter\", \"x\": [0.0, 0.010101010101010102, 0.020202020202020204, 0.030303030303030304, 0.04040404040404041, 0.05050505050505051, 0.06060606060606061, 0.07070707070707072, 0.08080808080808081, 0.09090909090909091, 0.10101010101010102, 0.11111111111111112, 0.12121212121212122, 0.13131313131313133, 0.14141414141414144, 0.15151515151515152, 0.16161616161616163, 0.17171717171717174, 0.18181818181818182, 0.19191919191919193, 0.20202020202020204, 0.21212121212121213, 0.22222222222222224, 0.23232323232323235, 0.24242424242424243, 0.25252525252525254, 0.26262626262626265, 0.27272727272727276, 0.2828282828282829, 0.29292929292929293, 0.30303030303030304, 0.31313131313131315, 0.32323232323232326, 0.33333333333333337, 0.3434343434343435, 0.3535353535353536, 0.36363636363636365, 0.37373737373737376, 0.38383838383838387, 0.393939393939394, 0.4040404040404041, 0.4141414141414142, 0.42424242424242425, 0.43434343434343436, 0.4444444444444445, 0.4545454545454546, 0.4646464646464647, 0.4747474747474748, 0.48484848484848486, 0.494949494949495, 0.5050505050505051, 0.5151515151515152, 0.5252525252525253, 0.5353535353535354, 0.5454545454545455, 0.5555555555555556, 0.5656565656565657, 0.5757575757575758, 0.5858585858585859, 0.595959595959596, 0.6060606060606061, 0.6161616161616162, 0.6262626262626263, 0.6363636363636365, 0.6464646464646465, 0.6565656565656566, 0.6666666666666667, 0.6767676767676768, 0.686868686868687, 0.696969696969697, 0.7070707070707072, 0.7171717171717172, 0.7272727272727273, 0.7373737373737375, 0.7474747474747475, 0.7575757575757577, 0.7676767676767677, 0.7777777777777778, 0.787878787878788, 0.797979797979798, 0.8080808080808082, 0.8181818181818182, 0.8282828282828284, 0.8383838383838385, 0.8484848484848485, 0.8585858585858587, 0.8686868686868687, 0.8787878787878789, 0.888888888888889, 0.8989898989898991, 0.9090909090909092, 0.9191919191919192, 0.9292929292929294, 0.9393939393939394, 0.9494949494949496, 0.9595959595959597, 0.9696969696969697, 0.9797979797979799, 0.98989898989899, 1.0], \"y\": [1.0, 0.9894323753837764, 0.9984513067914923, 0.9727952940361556, 0.961712382477732, 0.9657959882099829, 0.9871768855473595, 1.0283561433961055, 1.0247218415712787, 1.022043077507976, 1.018213936561717, 1.0166148851781553, 1.0084009579762094, 1.0150968600614088, 1.0130823202574946, 0.9925551896859522, 0.9871422944715221, 0.9941807163010209, 0.9774649415791826, 0.9627614273973321, 0.9598740519358848, 0.94512660468224, 0.9522594101646411, 0.9753725936817286, 0.948274919582258, 0.9487862555664306, 0.9532756538799015, 0.9531174257961135, 0.9527214992719498, 0.9558686210107128, 0.9674383956120254, 1.0018039847692541, 0.9842981342096117, 1.010276931745952, 0.9733558259924742, 1.0043577838241975, 1.0093739812067963, 1.0251939901191425, 1.0298458682755631, 1.0345737931338488, 1.0647837933378341, 1.0679123351876123, 1.0987915444600223, 1.1129197299852946, 1.1146270850089393, 1.1655458480852177, 1.1454768780345261, 1.1925868482044897, 1.1819039834944263, 1.1937821206024917, 1.2346460416280631, 1.2720450466498028, 1.2689408137019513, 1.243482976720927, 1.2464038324602473, 1.238319297380783, 1.225443453218587, 1.196959912492353, 1.2099442953382824, 1.2221498584477726, 1.2410236506505468, 1.2172989838925241, 1.2427791257500174, 1.2831198128949055, 1.286677669918434, 1.2785201727952828, 1.315060163748781, 1.3453697696116949, 1.354725598157531, 1.3381025343078763, 1.3824114157653449, 1.3587811374900096, 1.3878738796128491, 1.3724688318909677, 1.3849977879606068, 1.3608295282968623, 1.3422947091966304, 1.3221809935567048, 1.2650863476758283, 1.2555956654797555, 1.21448275408709, 1.2279206991723732, 1.2005107662240895, 1.186424363486823, 1.2118708390705053, 1.1755812593835997, 1.164305282366442, 1.1908043575658447, 1.1599914162233493, 1.132411962698204, 1.180768973941569, 1.1719381327990768, 1.1709683676711842, 1.1846649633302877, 1.179356483180564, 1.2178826955111928, 1.200074139367569, 1.2016343569522587, 1.2324369831039508, 1.1954250175144807]}, {\"line\": {\"color\": \"rgba(128, 128, 0, 0.7999999999999998)\", \"dash\": \"solid\", \"shape\": \"linear\", \"width\": 1.3}, \"marker\": {\"size\": 5, \"symbol\": \"circle\"}, \"mode\": \"lines+markers\", \"name\": \"path 30\", \"text\": \"\", \"type\": \"scatter\", \"x\": [0.0, 0.010101010101010102, 0.020202020202020204, 0.030303030303030304, 0.04040404040404041, 0.05050505050505051, 0.06060606060606061, 0.07070707070707072, 0.08080808080808081, 0.09090909090909091, 0.10101010101010102, 0.11111111111111112, 0.12121212121212122, 0.13131313131313133, 0.14141414141414144, 0.15151515151515152, 0.16161616161616163, 0.17171717171717174, 0.18181818181818182, 0.19191919191919193, 0.20202020202020204, 0.21212121212121213, 0.22222222222222224, 0.23232323232323235, 0.24242424242424243, 0.25252525252525254, 0.26262626262626265, 0.27272727272727276, 0.2828282828282829, 0.29292929292929293, 0.30303030303030304, 0.31313131313131315, 0.32323232323232326, 0.33333333333333337, 0.3434343434343435, 0.3535353535353536, 0.36363636363636365, 0.37373737373737376, 0.38383838383838387, 0.393939393939394, 0.4040404040404041, 0.4141414141414142, 0.42424242424242425, 0.43434343434343436, 0.4444444444444445, 0.4545454545454546, 0.4646464646464647, 0.4747474747474748, 0.48484848484848486, 0.494949494949495, 0.5050505050505051, 0.5151515151515152, 0.5252525252525253, 0.5353535353535354, 0.5454545454545455, 0.5555555555555556, 0.5656565656565657, 0.5757575757575758, 0.5858585858585859, 0.595959595959596, 0.6060606060606061, 0.6161616161616162, 0.6262626262626263, 0.6363636363636365, 0.6464646464646465, 0.6565656565656566, 0.6666666666666667, 0.6767676767676768, 0.686868686868687, 0.696969696969697, 0.7070707070707072, 0.7171717171717172, 0.7272727272727273, 0.7373737373737375, 0.7474747474747475, 0.7575757575757577, 0.7676767676767677, 0.7777777777777778, 0.787878787878788, 0.797979797979798, 0.8080808080808082, 0.8181818181818182, 0.8282828282828284, 0.8383838383838385, 0.8484848484848485, 0.8585858585858587, 0.8686868686868687, 0.8787878787878789, 0.888888888888889, 0.8989898989898991, 0.9090909090909092, 0.9191919191919192, 0.9292929292929294, 0.9393939393939394, 0.9494949494949496, 0.9595959595959597, 0.9696969696969697, 0.9797979797979799, 0.98989898989899, 1.0], \"y\": [1.0, 1.056684274625968, 1.0732173008158816, 1.1437030093400193, 1.1286178759960814, 1.1660935224064481, 1.1405753578911528, 1.159595419375231, 1.1401588792795074, 1.116204424315617, 1.104160532024904, 1.1831637398099815, 1.1736614997607326, 1.2101525196394693, 1.2251902888968307, 1.2693992052055123, 1.245639106248735, 1.2440891975001114, 1.2683874065543594, 1.2637100741950356, 1.2710218062596645, 1.229628183634322, 1.2330742326277477, 1.274554425515536, 1.2369224187248553, 1.2508547394756084, 1.2401534411166681, 1.2735606942432816, 1.282679083839186, 1.2904291361821263, 1.2975241575160745, 1.2985605037397159, 1.296490070911462, 1.2638008450824982, 1.258816742060675, 1.2465931100971877, 1.2597695088001633, 1.2511002036004768, 1.2560910762932107, 1.2207299214559553, 1.1896728293765235, 1.1636002823241332, 1.1796143336576173, 1.17715855065168, 1.1530263994427348, 1.177671081890468, 1.2036125550144015, 1.192699954092526, 1.2073611666288737, 1.2495122044413334, 1.2590783005660635, 1.2588524909087628, 1.2735386957622379, 1.2812969098931224, 1.277580339245234, 1.2499321957359684, 1.1948730803446708, 1.18963101058694, 1.1586732839815026, 1.1695895861740835, 1.1686129311966846, 1.1597288617125399, 1.1970834222121804, 1.195083294441157, 1.2221048357998443, 1.2096485932894308, 1.2072979794669036, 1.220916489160222, 1.2288419540638014, 1.2402936890418803, 1.2294353649671654, 1.2316060280605874, 1.203375958699415, 1.206208563685203, 1.2190753524080706, 1.249207540971235, 1.2665968389398594, 1.2615495660171288, 1.2311791081388301, 1.2238313855212066, 1.2224431123515795, 1.2200345172608569, 1.2629463092709465, 1.2716314123909604, 1.21181921559747, 1.213548017991295, 1.1898689546473462, 1.1806363002622864, 1.2071515799307162, 1.2311787510318162, 1.2215654017664834, 1.2116661394387866, 1.2123814940064925, 1.1886321342533044, 1.185271699954591, 1.1989734858987022, 1.216263513830475, 1.2129370570574045, 1.1966145427670756, 1.190790172639898]}],                        {\"legend\": {\"bgcolor\": \"#F5F6F9\", \"font\": {\"color\": \"#4D5663\"}}, \"paper_bgcolor\": \"#F5F6F9\", \"plot_bgcolor\": \"#F5F6F9\", \"template\": {\"data\": {\"bar\": [{\"error_x\": {\"color\": \"#2a3f5f\"}, \"error_y\": {\"color\": \"#2a3f5f\"}, \"marker\": {\"line\": {\"color\": \"#E5ECF6\", \"width\": 0.5}}, \"type\": \"bar\"}], \"barpolar\": [{\"marker\": {\"line\": {\"color\": \"#E5ECF6\", \"width\": 0.5}}, \"type\": \"barpolar\"}], \"carpet\": [{\"aaxis\": {\"endlinecolor\": \"#2a3f5f\", \"gridcolor\": \"white\", \"linecolor\": \"white\", \"minorgridcolor\": \"white\", \"startlinecolor\": \"#2a3f5f\"}, \"baxis\": {\"endlinecolor\": \"#2a3f5f\", \"gridcolor\": \"white\", \"linecolor\": \"white\", \"minorgridcolor\": \"white\", \"startlinecolor\": \"#2a3f5f\"}, \"type\": \"carpet\"}], \"choropleth\": [{\"colorbar\": {\"outlinewidth\": 0, \"ticks\": \"\"}, \"type\": \"choropleth\"}], \"contour\": [{\"colorbar\": {\"outlinewidth\": 0, \"ticks\": \"\"}, \"colorscale\": [[0.0, \"#0d0887\"], [0.1111111111111111, \"#46039f\"], [0.2222222222222222, \"#7201a8\"], [0.3333333333333333, \"#9c179e\"], [0.4444444444444444, \"#bd3786\"], [0.5555555555555556, \"#d8576b\"], [0.6666666666666666, \"#ed7953\"], [0.7777777777777778, \"#fb9f3a\"], [0.8888888888888888, \"#fdca26\"], [1.0, \"#f0f921\"]], \"type\": \"contour\"}], \"contourcarpet\": [{\"colorbar\": {\"outlinewidth\": 0, \"ticks\": \"\"}, \"type\": \"contourcarpet\"}], \"heatmap\": [{\"colorbar\": {\"outlinewidth\": 0, \"ticks\": \"\"}, \"colorscale\": [[0.0, \"#0d0887\"], [0.1111111111111111, \"#46039f\"], [0.2222222222222222, \"#7201a8\"], [0.3333333333333333, \"#9c179e\"], [0.4444444444444444, \"#bd3786\"], [0.5555555555555556, \"#d8576b\"], [0.6666666666666666, \"#ed7953\"], [0.7777777777777778, \"#fb9f3a\"], [0.8888888888888888, \"#fdca26\"], [1.0, \"#f0f921\"]], \"type\": \"heatmap\"}], \"heatmapgl\": [{\"colorbar\": {\"outlinewidth\": 0, \"ticks\": \"\"}, \"colorscale\": [[0.0, \"#0d0887\"], [0.1111111111111111, \"#46039f\"], [0.2222222222222222, \"#7201a8\"], [0.3333333333333333, \"#9c179e\"], [0.4444444444444444, \"#bd3786\"], [0.5555555555555556, \"#d8576b\"], [0.6666666666666666, \"#ed7953\"], [0.7777777777777778, \"#fb9f3a\"], [0.8888888888888888, \"#fdca26\"], [1.0, \"#f0f921\"]], \"type\": \"heatmapgl\"}], \"histogram\": [{\"marker\": {\"colorbar\": {\"outlinewidth\": 0, \"ticks\": \"\"}}, \"type\": \"histogram\"}], \"histogram2d\": [{\"colorbar\": {\"outlinewidth\": 0, \"ticks\": \"\"}, \"colorscale\": [[0.0, \"#0d0887\"], [0.1111111111111111, \"#46039f\"], [0.2222222222222222, \"#7201a8\"], [0.3333333333333333, \"#9c179e\"], [0.4444444444444444, \"#bd3786\"], [0.5555555555555556, \"#d8576b\"], [0.6666666666666666, \"#ed7953\"], [0.7777777777777778, \"#fb9f3a\"], [0.8888888888888888, \"#fdca26\"], [1.0, \"#f0f921\"]], \"type\": \"histogram2d\"}], \"histogram2dcontour\": [{\"colorbar\": {\"outlinewidth\": 0, \"ticks\": \"\"}, \"colorscale\": [[0.0, \"#0d0887\"], [0.1111111111111111, \"#46039f\"], [0.2222222222222222, \"#7201a8\"], [0.3333333333333333, \"#9c179e\"], [0.4444444444444444, \"#bd3786\"], [0.5555555555555556, \"#d8576b\"], [0.6666666666666666, \"#ed7953\"], [0.7777777777777778, \"#fb9f3a\"], [0.8888888888888888, \"#fdca26\"], [1.0, \"#f0f921\"]], \"type\": \"histogram2dcontour\"}], \"mesh3d\": [{\"colorbar\": {\"outlinewidth\": 0, \"ticks\": \"\"}, \"type\": \"mesh3d\"}], \"parcoords\": [{\"line\": {\"colorbar\": {\"outlinewidth\": 0, \"ticks\": \"\"}}, \"type\": \"parcoords\"}], \"pie\": [{\"automargin\": true, \"type\": \"pie\"}], \"scatter\": [{\"marker\": {\"colorbar\": {\"outlinewidth\": 0, \"ticks\": \"\"}}, \"type\": \"scatter\"}], \"scatter3d\": [{\"line\": {\"colorbar\": {\"outlinewidth\": 0, \"ticks\": \"\"}}, \"marker\": {\"colorbar\": {\"outlinewidth\": 0, \"ticks\": \"\"}}, \"type\": \"scatter3d\"}], \"scattercarpet\": [{\"marker\": {\"colorbar\": {\"outlinewidth\": 0, \"ticks\": \"\"}}, \"type\": \"scattercarpet\"}], \"scattergeo\": [{\"marker\": {\"colorbar\": {\"outlinewidth\": 0, \"ticks\": \"\"}}, \"type\": \"scattergeo\"}], \"scattergl\": [{\"marker\": {\"colorbar\": {\"outlinewidth\": 0, \"ticks\": \"\"}}, \"type\": \"scattergl\"}], \"scattermapbox\": [{\"marker\": {\"colorbar\": {\"outlinewidth\": 0, \"ticks\": \"\"}}, \"type\": \"scattermapbox\"}], \"scatterpolar\": [{\"marker\": {\"colorbar\": {\"outlinewidth\": 0, \"ticks\": \"\"}}, \"type\": \"scatterpolar\"}], \"scatterpolargl\": [{\"marker\": {\"colorbar\": {\"outlinewidth\": 0, \"ticks\": \"\"}}, \"type\": \"scatterpolargl\"}], \"scatterternary\": [{\"marker\": {\"colorbar\": {\"outlinewidth\": 0, \"ticks\": \"\"}}, \"type\": \"scatterternary\"}], \"surface\": [{\"colorbar\": {\"outlinewidth\": 0, \"ticks\": \"\"}, \"colorscale\": [[0.0, \"#0d0887\"], [0.1111111111111111, \"#46039f\"], [0.2222222222222222, \"#7201a8\"], [0.3333333333333333, \"#9c179e\"], [0.4444444444444444, \"#bd3786\"], [0.5555555555555556, \"#d8576b\"], [0.6666666666666666, \"#ed7953\"], [0.7777777777777778, \"#fb9f3a\"], [0.8888888888888888, \"#fdca26\"], [1.0, \"#f0f921\"]], \"type\": \"surface\"}], \"table\": [{\"cells\": {\"fill\": {\"color\": \"#EBF0F8\"}, \"line\": {\"color\": \"white\"}}, \"header\": {\"fill\": {\"color\": \"#C8D4E3\"}, \"line\": {\"color\": \"white\"}}, \"type\": \"table\"}]}, \"layout\": {\"annotationdefaults\": {\"arrowcolor\": \"#2a3f5f\", \"arrowhead\": 0, \"arrowwidth\": 1}, \"autotypenumbers\": \"strict\", \"coloraxis\": {\"colorbar\": {\"outlinewidth\": 0, \"ticks\": \"\"}}, \"colorscale\": {\"diverging\": [[0, \"#8e0152\"], [0.1, \"#c51b7d\"], [0.2, \"#de77ae\"], [0.3, \"#f1b6da\"], [0.4, \"#fde0ef\"], [0.5, \"#f7f7f7\"], [0.6, \"#e6f5d0\"], [0.7, \"#b8e186\"], [0.8, \"#7fbc41\"], [0.9, \"#4d9221\"], [1, \"#276419\"]], \"sequential\": [[0.0, \"#0d0887\"], [0.1111111111111111, \"#46039f\"], [0.2222222222222222, \"#7201a8\"], [0.3333333333333333, \"#9c179e\"], [0.4444444444444444, \"#bd3786\"], [0.5555555555555556, \"#d8576b\"], [0.6666666666666666, \"#ed7953\"], [0.7777777777777778, \"#fb9f3a\"], [0.8888888888888888, \"#fdca26\"], [1.0, \"#f0f921\"]], \"sequentialminus\": [[0.0, \"#0d0887\"], [0.1111111111111111, \"#46039f\"], [0.2222222222222222, \"#7201a8\"], [0.3333333333333333, \"#9c179e\"], [0.4444444444444444, \"#bd3786\"], [0.5555555555555556, \"#d8576b\"], [0.6666666666666666, \"#ed7953\"], [0.7777777777777778, \"#fb9f3a\"], [0.8888888888888888, \"#fdca26\"], [1.0, \"#f0f921\"]]}, \"colorway\": [\"#636efa\", \"#EF553B\", \"#00cc96\", \"#ab63fa\", \"#FFA15A\", \"#19d3f3\", \"#FF6692\", \"#B6E880\", \"#FF97FF\", \"#FECB52\"], \"font\": {\"color\": \"#2a3f5f\"}, \"geo\": {\"bgcolor\": \"white\", \"lakecolor\": \"white\", \"landcolor\": \"#E5ECF6\", \"showlakes\": true, \"showland\": true, \"subunitcolor\": \"white\"}, \"hoverlabel\": {\"align\": \"left\"}, \"hovermode\": \"closest\", \"mapbox\": {\"style\": \"light\"}, \"paper_bgcolor\": \"white\", \"plot_bgcolor\": \"#E5ECF6\", \"polar\": {\"angularaxis\": {\"gridcolor\": \"white\", \"linecolor\": \"white\", \"ticks\": \"\"}, \"bgcolor\": \"#E5ECF6\", \"radialaxis\": {\"gridcolor\": \"white\", \"linecolor\": \"white\", \"ticks\": \"\"}}, \"scene\": {\"xaxis\": {\"backgroundcolor\": \"#E5ECF6\", \"gridcolor\": \"white\", \"gridwidth\": 2, \"linecolor\": \"white\", \"showbackground\": true, \"ticks\": \"\", \"zerolinecolor\": \"white\"}, \"yaxis\": {\"backgroundcolor\": \"#E5ECF6\", \"gridcolor\": \"white\", \"gridwidth\": 2, \"linecolor\": \"white\", \"showbackground\": true, \"ticks\": \"\", \"zerolinecolor\": \"white\"}, \"zaxis\": {\"backgroundcolor\": \"#E5ECF6\", \"gridcolor\": \"white\", \"gridwidth\": 2, \"linecolor\": \"white\", \"showbackground\": true, \"ticks\": \"\", \"zerolinecolor\": \"white\"}}, \"shapedefaults\": {\"line\": {\"color\": \"#2a3f5f\"}}, \"ternary\": {\"aaxis\": {\"gridcolor\": \"white\", \"linecolor\": \"white\", \"ticks\": \"\"}, \"baxis\": {\"gridcolor\": \"white\", \"linecolor\": \"white\", \"ticks\": \"\"}, \"bgcolor\": \"#E5ECF6\", \"caxis\": {\"gridcolor\": \"white\", \"linecolor\": \"white\", \"ticks\": \"\"}}, \"title\": {\"x\": 0.05}, \"xaxis\": {\"automargin\": true, \"gridcolor\": \"white\", \"linecolor\": \"white\", \"ticks\": \"\", \"title\": {\"standoff\": 15}, \"zerolinecolor\": \"white\", \"zerolinewidth\": 2}, \"yaxis\": {\"automargin\": true, \"gridcolor\": \"white\", \"linecolor\": \"white\", \"ticks\": \"\", \"title\": {\"standoff\": 15}, \"zerolinecolor\": \"white\", \"zerolinewidth\": 2}}}, \"title\": {\"font\": {\"color\": \"#4D5663\"}, \"text\": \"\\u4ef7\\u683c\\u8def\\u5f84\\u6a21\\u62df\"}, \"xaxis\": {\"gridcolor\": \"#E1E5ED\", \"showgrid\": true, \"tickfont\": {\"color\": \"#4D5663\"}, \"title\": {\"font\": {\"color\": \"#4D5663\"}, \"text\": \"t\"}, \"zerolinecolor\": \"#E1E5ED\"}, \"yaxis\": {\"gridcolor\": \"#E1E5ED\", \"showgrid\": true, \"tickfont\": {\"color\": \"#4D5663\"}, \"title\": {\"font\": {\"color\": \"#4D5663\"}, \"text\": \"S\"}, \"zerolinecolor\": \"#E1E5ED\"}},                        {\"showLink\": true, \"linkText\": \"Export to plot.ly\", \"plotlyServerURL\": \"https://plot.ly\", \"responsive\": true}                    ).then(function(){\n",
       "                            \n",
       "var gd = document.getElementById('6cf6696a-8cdc-4e38-b666-c475ca0dc203');\n",
       "var x = new MutationObserver(function (mutations, observer) {{\n",
       "        var display = window.getComputedStyle(gd).display;\n",
       "        if (!display || display === 'none') {{\n",
       "            console.log([gd, 'removed!']);\n",
       "            Plotly.purge(gd);\n",
       "            observer.disconnect();\n",
       "        }}\n",
       "}});\n",
       "\n",
       "// Listen for the removal of the full notebook cells\n",
       "var notebookContainer = gd.closest('#notebook-container');\n",
       "if (notebookContainer) {{\n",
       "    x.observe(notebookContainer, {childList: true});\n",
       "}}\n",
       "\n",
       "// Listen for the clearing of the current output cell\n",
       "var outputEl = gd.closest('.output');\n",
       "if (outputEl) {{\n",
       "    x.observe(outputEl, {childList: true});\n",
       "}}\n",
       "\n",
       "                        })                };                });            </script>        </div>"
      ]
     },
     "metadata": {},
     "output_type": "display_data"
    }
   ],
   "source": [
    "df.iplot( xTitle = 't', yTitle = 'S', mode = 'lines+markers',size=5,title='价格路径模拟')"
   ]
  },
  {
   "cell_type": "markdown",
   "metadata": {},
   "source": [
    "- LSMC美式期权定价"
   ]
  },
  {
   "cell_type": "code",
   "execution_count": 22,
   "metadata": {},
   "outputs": [
    {
     "data": {
      "text/plain": [
       "array([[1.      , 1.      , 1.      , 1.      , 1.      , 1.      ,\n",
       "        1.      , 1.      , 1.      , 1.      ],\n",
       "       [1.05065 , 1.16053 , 1.37341 , 1.04052 , 0.988251, 0.976515,\n",
       "        1.2562  , 0.978993, 0.992926, 1.0279  ],\n",
       "       [1.2637  , 0.998913, 1.076339, 1.06595 , 0.993791, 0.975938,\n",
       "        1.09887 , 0.999051, 1.2701  , 1.2288  ],\n",
       "       [1.16451 , 0.989231, 1.33054 , 1.079766, 0.980977, 0.996368,\n",
       "        1.04448 , 1.2662  , 0.969168, 1.11321 ]])"
      ]
     },
     "execution_count": 22,
     "metadata": {},
     "output_type": "execute_result"
    }
   ],
   "source": [
    "S = np.array([ [1.00, 1.00, 1.00,1.0,1.0,1.00,1.00,1.00,1.00,1.00],\n",
    "                [1.05065, 1.16053,1.37341,1.040520,0.988251,0.976515,1.2562,0.978993,0.992926,1.0279],\n",
    "                [1.2637,0.998913,1.076339,1.065950,0.993791,0.975938,1.09887,0.999051,1.2701,1.2288],\n",
    "                [1.16451,0.989231,1.33054,1.079766,0.980977,0.996368,1.044480,1.2662,0.969168,1.11321] ])\n",
    "S"
   ]
  },
  {
   "cell_type": "code",
   "execution_count": 23,
   "metadata": {},
   "outputs": [],
   "source": [
    "(S0,r,K,T,omega) = (1,0.06,1.1,3,-1)\n",
    "(Nt,Nsim) = (4,S.shape[1])"
   ]
  },
  {
   "cell_type": "code",
   "execution_count": 24,
   "metadata": {},
   "outputs": [
    {
     "data": {
      "text/plain": [
       "0.9417645335842487"
      ]
     },
     "execution_count": 24,
     "metadata": {},
     "output_type": "execute_result"
    }
   ],
   "source": [
    "DF = np.exp(-r*T/(Nt-1))\n",
    "DF"
   ]
  },
  {
   "cell_type": "code",
   "execution_count": 25,
   "metadata": {},
   "outputs": [
    {
     "name": "stdout",
     "output_type": "stream",
     "text": [
      "索引 2 回归函数：E[Y|X] = 16.180x^2 + (-34.141X) + 18.022\n",
      "\n",
      "索引 1 回归函数：E[Y|X] = 2.923x^2 + (-7.511X) + 4.664\n",
      "\n"
     ]
    },
    {
     "data": {
      "text/plain": [
       "0.10000000000000009"
      ]
     },
     "execution_count": 25,
     "metadata": {},
     "output_type": "execute_result"
    }
   ],
   "source": [
    "CF = np.maximum(omega * (S[-1,:]-K),0)\n",
    "path = np.arange(Nsim)\n",
    "\n",
    "for i in np.arange(Nt-2,0,-1):\n",
    "    #discount cashflow from T_{i+1} to T{i}\n",
    "    CF =  CF * DF\n",
    "\n",
    "    #find the index of the path where option is in the money\n",
    "    ITM_bool = omega*(S[i]-K) > 0\n",
    "\n",
    "    #Slice the uderlying and discounted CF under ITM path\n",
    "    X = S[i,ITM_bool]\n",
    "    Y = CF[ITM_bool]\n",
    "\n",
    "    #Regress Y against X with polynomial function\n",
    "    coef = polyfit(X,Y,2)\n",
    "\n",
    "    print(f'索引 {i} 回归函数：E[Y|X] = {coef[0]:.3f}x^2 + ({coef[1]:.3f}X) + {coef[2]:.3f}\\n')\n",
    "\n",
    "    #compute the holding value and exercise value\n",
    "    HV = polyval(coef,X)\n",
    "    EV = np.maximum(omega*(X-K),0)\n",
    "\n",
    "    #find the exercise path and update the cashflow\n",
    "    EP_bool = (EV > HV)\n",
    "    EP = path[ITM_bool][EP_bool]\n",
    "\n",
    "    CF[EP] = EV[EP_bool]\n",
    "\n",
    "V = np.maximum(omega*(S0 - K), np.mean(CF*DF))\n",
    "V"
   ]
  },
  {
   "cell_type": "code",
   "execution_count": 26,
   "metadata": {},
   "outputs": [],
   "source": [
    "def LSMC(S,K,r,T,N,Nsim,omega,verbose = False):\n",
    "    DF = np.exp(-r*T/(N-1))\n",
    "    CF = np.maximum(omega * (S[-1,:]-K),0)\n",
    "    path = np.arange(Nsim)\n",
    "\n",
    "    for i in np.arange(N-2,0,-1):\n",
    "        #discount cashflow from T_{i+1} to T{i}\n",
    "        CF =  CF * DF\n",
    "\n",
    "        #find the index of the path where option is in the money\n",
    "        ITM_bool = omega*(S[i]-K) > 0\n",
    "\n",
    "        #Slice the uderlying and discounted CF under ITM path\n",
    "        X = S[i,ITM_bool]\n",
    "        Y = CF[ITM_bool]\n",
    "\n",
    "        #Regress Y against X with polynomial function\n",
    "        coef = polyfit(X,Y,2)\n",
    "\n",
    "        if verbose:\n",
    "            print(f'索引 {i} 回归函数：E[Y|X] = {coef[0]:.3f}x^2 + ({coef[1]:.3f}X) + {coef[2]:.3f}\\n')\n",
    "\n",
    "        #compute the holding value and exercise value\n",
    "        HV = polyval(coef,X)\n",
    "        EV = np.maximum(omega*(X-K),0)\n",
    "\n",
    "        #find the exercise path and update the cashflow\n",
    "        EP_bool = (EV > HV)\n",
    "        EP = path[ITM_bool][EP_bool]\n",
    "\n",
    "        CF[EP] = EV[EP_bool]\n",
    "\n",
    "    V = np.maximum(omega*(S0 - K), np.mean(CF*DF))\n",
    "    return V"
   ]
  },
  {
   "cell_type": "code",
   "execution_count": 27,
   "metadata": {},
   "outputs": [
    {
     "name": "stdout",
     "output_type": "stream",
     "text": [
      "索引 2 回归函数：E[Y|X] = 16.180x^2 + (-34.141X) + 18.022\n",
      "\n",
      "索引 1 回归函数：E[Y|X] = 2.923x^2 + (-7.511X) + 4.664\n",
      "\n"
     ]
    },
    {
     "data": {
      "text/plain": [
       "0.10000000000000009"
      ]
     },
     "execution_count": 27,
     "metadata": {},
     "output_type": "execute_result"
    }
   ],
   "source": [
    "LSMC(S,K,r,T,Nt,Nsim,omega,verbose=True)"
   ]
  },
  {
   "cell_type": "markdown",
   "metadata": {},
   "source": [
    "## 例子：使用50000个对立变量，因此共100000条路径，每一年分成50个间隔因此51个时点"
   ]
  },
  {
   "cell_type": "code",
   "execution_count": 28,
   "metadata": {},
   "outputs": [],
   "source": [
    "(S0,K,r,q,sigma,T,omega) = (36,40,0.06,0,0.2,1,-1)\n",
    "(Nsim,Nt) = (100000,51)\n",
    "Smat = underlying_AV(S0,r,q,T,sigma,Nsim,Nt,antithetic=True)"
   ]
  },
  {
   "cell_type": "code",
   "execution_count": 29,
   "metadata": {},
   "outputs": [
    {
     "name": "stdout",
     "output_type": "stream",
     "text": [
      "索引 49 回归函数：E[Y|X] = 0.002x^2 + (-1.097X) + 41.360\n",
      "\n",
      "索引 48 回归函数：E[Y|X] = 0.003x^2 + (-1.152X) + 42.187\n",
      "\n",
      "索引 47 回归函数：E[Y|X] = 0.004x^2 + (-1.209X) + 43.008\n",
      "\n",
      "索引 46 回归函数：E[Y|X] = 0.005x^2 + (-1.276X) + 44.014\n",
      "\n",
      "索引 45 回归函数：E[Y|X] = 0.006x^2 + (-1.335X) + 44.865\n",
      "\n",
      "索引 44 回归函数：E[Y|X] = 0.006x^2 + (-1.362X) + 45.250\n",
      "\n",
      "索引 43 回归函数：E[Y|X] = 0.007x^2 + (-1.414X) + 46.006\n",
      "\n",
      "索引 42 回归函数：E[Y|X] = 0.008x^2 + (-1.449X) + 46.545\n",
      "\n",
      "索引 41 回归函数：E[Y|X] = 0.008x^2 + (-1.501X) + 47.311\n",
      "\n",
      "索引 40 回归函数：E[Y|X] = 0.009x^2 + (-1.540X) + 47.889\n",
      "\n",
      "索引 39 回归函数：E[Y|X] = 0.010x^2 + (-1.580X) + 48.504\n",
      "\n",
      "索引 38 回归函数：E[Y|X] = 0.011x^2 + (-1.642X) + 49.441\n",
      "\n",
      "索引 37 回归函数：E[Y|X] = 0.011x^2 + (-1.633X) + 49.284\n",
      "\n",
      "索引 36 回归函数：E[Y|X] = 0.012x^2 + (-1.695X) + 50.251\n",
      "\n",
      "索引 35 回归函数：E[Y|X] = 0.012x^2 + (-1.716X) + 50.517\n",
      "\n",
      "索引 34 回归函数：E[Y|X] = 0.013x^2 + (-1.775X) + 51.426\n",
      "\n",
      "索引 33 回归函数：E[Y|X] = 0.013x^2 + (-1.812X) + 52.022\n",
      "\n",
      "索引 32 回归函数：E[Y|X] = 0.014x^2 + (-1.850X) + 52.598\n",
      "\n",
      "索引 31 回归函数：E[Y|X] = 0.014x^2 + (-1.851X) + 52.577\n",
      "\n",
      "索引 30 回归函数：E[Y|X] = 0.015x^2 + (-1.918X) + 53.626\n",
      "\n",
      "索引 29 回归函数：E[Y|X] = 0.016x^2 + (-1.974X) + 54.512\n",
      "\n",
      "索引 28 回归函数：E[Y|X] = 0.017x^2 + (-2.005X) + 54.978\n",
      "\n",
      "索引 27 回归函数：E[Y|X] = 0.017x^2 + (-2.047X) + 55.665\n",
      "\n",
      "索引 26 回归函数：E[Y|X] = 0.017x^2 + (-2.049X) + 55.675\n",
      "\n",
      "索引 25 回归函数：E[Y|X] = 0.019x^2 + (-2.155X) + 57.376\n",
      "\n",
      "索引 24 回归函数：E[Y|X] = 0.019x^2 + (-2.174X) + 57.694\n",
      "\n",
      "索引 23 回归函数：E[Y|X] = 0.020x^2 + (-2.195X) + 58.036\n",
      "\n",
      "索引 22 回归函数：E[Y|X] = 0.020x^2 + (-2.209X) + 58.246\n",
      "\n",
      "索引 21 回归函数：E[Y|X] = 0.021x^2 + (-2.279X) + 59.386\n",
      "\n",
      "索引 20 回归函数：E[Y|X] = 0.022x^2 + (-2.359X) + 60.729\n",
      "\n",
      "索引 19 回归函数：E[Y|X] = 0.023x^2 + (-2.402X) + 61.388\n",
      "\n",
      "索引 18 回归函数：E[Y|X] = 0.024x^2 + (-2.457X) + 62.315\n",
      "\n",
      "索引 17 回归函数：E[Y|X] = 0.024x^2 + (-2.515X) + 63.262\n",
      "\n",
      "索引 16 回归函数：E[Y|X] = 0.026x^2 + (-2.610X) + 64.879\n",
      "\n",
      "索引 15 回归函数：E[Y|X] = 0.026x^2 + (-2.633X) + 65.265\n",
      "\n",
      "索引 14 回归函数：E[Y|X] = 0.026x^2 + (-2.655X) + 65.680\n",
      "\n",
      "索引 13 回归函数：E[Y|X] = 0.026x^2 + (-2.651X) + 65.615\n",
      "\n",
      "索引 12 回归函数：E[Y|X] = 0.029x^2 + (-2.832X) + 68.691\n",
      "\n",
      "索引 11 回归函数：E[Y|X] = 0.030x^2 + (-2.903X) + 69.884\n",
      "\n",
      "索引 10 回归函数：E[Y|X] = 0.031x^2 + (-2.967X) + 70.987\n",
      "\n",
      "索引 9 回归函数：E[Y|X] = 0.032x^2 + (-3.055X) + 72.548\n",
      "\n",
      "索引 8 回归函数：E[Y|X] = 0.035x^2 + (-3.236X) + 75.659\n",
      "\n",
      "索引 7 回归函数：E[Y|X] = 0.037x^2 + (-3.403X) + 78.600\n",
      "\n",
      "索引 6 回归函数：E[Y|X] = 0.038x^2 + (-3.420X) + 78.881\n",
      "\n",
      "索引 5 回归函数：E[Y|X] = 0.039x^2 + (-3.528X) + 80.743\n",
      "\n",
      "索引 4 回归函数：E[Y|X] = 0.040x^2 + (-3.612X) + 82.357\n",
      "\n",
      "索引 3 回归函数：E[Y|X] = 0.040x^2 + (-3.597X) + 82.147\n",
      "\n",
      "索引 2 回归函数：E[Y|X] = 0.038x^2 + (-3.458X) + 79.573\n",
      "\n",
      "索引 1 回归函数：E[Y|X] = 0.042x^2 + (-3.739X) + 84.360\n",
      "\n"
     ]
    },
    {
     "data": {
      "text/plain": [
       "4.466699662675269"
      ]
     },
     "execution_count": 29,
     "metadata": {},
     "output_type": "execute_result"
    }
   ],
   "source": [
    "LSMC(Smat.T,K,r,T,Nt,Nsim,omega,verbose = True)"
   ]
  },
  {
   "cell_type": "markdown",
   "metadata": {},
   "source": [
    "- 和论文中的4.472非常接近"
   ]
  },
  {
   "cell_type": "markdown",
   "metadata": {},
   "source": [
    "## 百慕大期权"
   ]
  },
  {
   "cell_type": "markdown",
   "metadata": {},
   "source": [
    "- 每半年执行权利, 执行日期限 [0.5]\n",
    "- 每三个月执行权利，期限 [0.25,0.5,0.75]\n",
    "- 每个月执行权利, 期限 [1/12,2/12,3/12...11/12]"
   ]
  },
  {
   "cell_type": "code",
   "execution_count": 30,
   "metadata": {},
   "outputs": [],
   "source": [
    "(S0,K,r,q,sigma,T,omega) = (50,60,0.03,0.01,0.4,1,-1)\n",
    "(Nsim,Nt) = (100000,49)\n",
    "Smat = underlying_AV(S0,r,q,T,sigma,Nsim,Nt,antithetic=True)\n"
   ]
  },
  {
   "cell_type": "code",
   "execution_count": 31,
   "metadata": {},
   "outputs": [
    {
     "data": {
      "text/plain": [
       "13.5820064834101"
      ]
     },
     "execution_count": 31,
     "metadata": {},
     "output_type": "execute_result"
    }
   ],
   "source": [
    "V_euro = np.exp(-r*T) * np.mean( np.maximum(omega *(Smat[:,-1]-K),0))\n",
    "V_euro"
   ]
  },
  {
   "cell_type": "code",
   "execution_count": 32,
   "metadata": {},
   "outputs": [
    {
     "data": {
      "text/plain": [
       "13.812370101906513"
      ]
     },
     "execution_count": 32,
     "metadata": {},
     "output_type": "execute_result"
    }
   ],
   "source": [
    "V_amer = LSMC(Smat.T,K,r,T,Nt,Nsim,omega)\n",
    "V_amer"
   ]
  },
  {
   "cell_type": "code",
   "execution_count": 33,
   "metadata": {},
   "outputs": [
    {
     "data": {
      "text/plain": [
       "array([0.        , 0.02083333, 0.04166667, 0.0625    , 0.08333333,\n",
       "       0.10416667, 0.125     , 0.14583333, 0.16666667, 0.1875    ,\n",
       "       0.20833333, 0.22916667, 0.25      , 0.27083333, 0.29166667,\n",
       "       0.3125    , 0.33333333, 0.35416667, 0.375     , 0.39583333,\n",
       "       0.41666667, 0.4375    , 0.45833333, 0.47916667, 0.5       ,\n",
       "       0.52083333, 0.54166667, 0.5625    , 0.58333333, 0.60416667,\n",
       "       0.625     , 0.64583333, 0.66666667, 0.6875    , 0.70833333,\n",
       "       0.72916667, 0.75      , 0.77083333, 0.79166667, 0.8125    ,\n",
       "       0.83333333, 0.85416667, 0.875     , 0.89583333, 0.91666667,\n",
       "       0.9375    , 0.95833333, 0.97916667, 1.        ])"
      ]
     },
     "execution_count": 33,
     "metadata": {},
     "output_type": "execute_result"
    }
   ],
   "source": [
    "# Bermudan option\n",
    "\n",
    "#时间节点\n",
    "T_vec = np.linspace(0,T,Nt)\n",
    "T_vec"
   ]
  },
  {
   "cell_type": "code",
   "execution_count": 34,
   "metadata": {},
   "outputs": [
    {
     "data": {
      "text/plain": [
       "array([ 0, 24, 48], dtype=int64)"
      ]
     },
     "execution_count": 34,
     "metadata": {},
     "output_type": "execute_result"
    }
   ],
   "source": [
    "T_ex1 = np.array([0,0.5,T])\n",
    "idx1 = np.searchsorted(T_vec,T_ex1)\n",
    "idx1"
   ]
  },
  {
   "cell_type": "code",
   "execution_count": 35,
   "metadata": {},
   "outputs": [
    {
     "data": {
      "text/plain": [
       "array([[ 50.        ,  50.        ,  50.        , ...,  50.        ,\n",
       "         50.        ,  50.        ],\n",
       "       [ 63.74768877,  48.75780473,  47.82247788, ...,  50.78651821,\n",
       "         48.90210666,  75.06099207],\n",
       "       [ 54.00136093,  45.4751438 ,  65.59575358, ...,  42.15065994,\n",
       "         43.35595363, 103.69304355]])"
      ]
     },
     "execution_count": 35,
     "metadata": {},
     "output_type": "execute_result"
    }
   ],
   "source": [
    "S =Smat[:,idx1].T\n",
    "S  "
   ]
  },
  {
   "cell_type": "code",
   "execution_count": 36,
   "metadata": {},
   "outputs": [
    {
     "data": {
      "text/plain": [
       "13.69429772541042"
      ]
     },
     "execution_count": 36,
     "metadata": {},
     "output_type": "execute_result"
    }
   ],
   "source": [
    "V_berm1 = LSMC(S,K,r,T,S.shape[0],Nsim,omega)\n",
    "V_berm1"
   ]
  },
  {
   "cell_type": "code",
   "execution_count": 37,
   "metadata": {},
   "outputs": [
    {
     "data": {
      "text/plain": [
       "array([ 0, 12, 24, 36, 48], dtype=int64)"
      ]
     },
     "execution_count": 37,
     "metadata": {},
     "output_type": "execute_result"
    }
   ],
   "source": [
    "T_ex2 = np.array([0,0.25,0.5,0.75,T])\n",
    "idx2 = np.searchsorted(T_vec,T_ex2)\n",
    "idx2"
   ]
  },
  {
   "cell_type": "code",
   "execution_count": 38,
   "metadata": {},
   "outputs": [
    {
     "data": {
      "text/plain": [
       "13.765438043482613"
      ]
     },
     "execution_count": 38,
     "metadata": {},
     "output_type": "execute_result"
    }
   ],
   "source": [
    "S = Smat[:,idx2].T\n",
    "V_berm2 = LSMC(S,K,r,T,S.shape[0],Nsim,omega)\n",
    "V_berm2"
   ]
  },
  {
   "cell_type": "code",
   "execution_count": 39,
   "metadata": {},
   "outputs": [
    {
     "data": {
      "text/plain": [
       "array([ 0,  4,  8, 12, 16, 21, 24, 29, 32, 36, 41, 44, 48], dtype=int64)"
      ]
     },
     "execution_count": 39,
     "metadata": {},
     "output_type": "execute_result"
    }
   ],
   "source": [
    "T_ex3 = np.arange(13)/12\n",
    "idx3 = np.searchsorted(T_vec,T_ex3)\n",
    "idx3"
   ]
  },
  {
   "cell_type": "code",
   "execution_count": 40,
   "metadata": {},
   "outputs": [
    {
     "data": {
      "text/plain": [
       "13.802281729989629"
      ]
     },
     "execution_count": 40,
     "metadata": {},
     "output_type": "execute_result"
    }
   ],
   "source": [
    "S = Smat[:,idx3].T \n",
    "V_berm3 = LSMC(S,K,r,T,S.shape[0],Nsim,omega)\n",
    "V_berm3"
   ]
  },
  {
   "cell_type": "code",
   "execution_count": 41,
   "metadata": {},
   "outputs": [
    {
     "data": {
      "text/plain": [
       "欧式            13.582006\n",
       "百慕大(按半年执行)    13.694298\n",
       "百慕大(按季度执行)    13.765438\n",
       "百慕大(按月执行)     13.802282\n",
       "美式            13.812370\n",
       "dtype: float64"
      ]
     },
     "execution_count": 41,
     "metadata": {},
     "output_type": "execute_result"
    }
   ],
   "source": [
    "d = {'欧式':V_euro,'百慕大(按半年执行)':V_berm1,'百慕大(按季度执行)':V_berm2,'百慕大(按月执行)':V_berm3,'美式':V_amer}\n",
    "s = pd.Series(d)\n",
    "s"
   ]
  },
  {
   "cell_type": "code",
   "execution_count": 42,
   "metadata": {},
   "outputs": [
    {
     "data": {
      "application/vnd.plotly.v1+json": {
       "config": {
        "linkText": "Export to plot.ly",
        "plotlyServerURL": "https://plot.ly",
        "showLink": true
       },
       "data": [
        {
         "line": {
          "color": "rgba(255, 153, 51, 1.0)",
          "dash": "solid",
          "shape": "linear",
          "width": 1.3
         },
         "marker": {
          "size": 10,
          "symbol": "circle"
         },
         "mode": "lines+markers",
         "name": "None",
         "text": "",
         "type": "scatter",
         "x": [
          "欧式",
          "百慕大(按半年执行)",
          "百慕大(按季度执行)",
          "百慕大(按月执行)",
          "美式"
         ],
         "y": [
          13.5820064834101,
          13.69429772541042,
          13.765438043482613,
          13.802281729989629,
          13.812370101906513
         ]
        }
       ],
       "layout": {
        "legend": {
         "bgcolor": "#151516",
         "font": {
          "color": "#D9D9D9"
         }
        },
        "paper_bgcolor": "#151516",
        "plot_bgcolor": "#151516",
        "template": {
         "data": {
          "bar": [
           {
            "error_x": {
             "color": "#2a3f5f"
            },
            "error_y": {
             "color": "#2a3f5f"
            },
            "marker": {
             "line": {
              "color": "#E5ECF6",
              "width": 0.5
             }
            },
            "type": "bar"
           }
          ],
          "barpolar": [
           {
            "marker": {
             "line": {
              "color": "#E5ECF6",
              "width": 0.5
             }
            },
            "type": "barpolar"
           }
          ],
          "carpet": [
           {
            "aaxis": {
             "endlinecolor": "#2a3f5f",
             "gridcolor": "white",
             "linecolor": "white",
             "minorgridcolor": "white",
             "startlinecolor": "#2a3f5f"
            },
            "baxis": {
             "endlinecolor": "#2a3f5f",
             "gridcolor": "white",
             "linecolor": "white",
             "minorgridcolor": "white",
             "startlinecolor": "#2a3f5f"
            },
            "type": "carpet"
           }
          ],
          "choropleth": [
           {
            "colorbar": {
             "outlinewidth": 0,
             "ticks": ""
            },
            "type": "choropleth"
           }
          ],
          "contour": [
           {
            "colorbar": {
             "outlinewidth": 0,
             "ticks": ""
            },
            "colorscale": [
             [
              0,
              "#0d0887"
             ],
             [
              0.1111111111111111,
              "#46039f"
             ],
             [
              0.2222222222222222,
              "#7201a8"
             ],
             [
              0.3333333333333333,
              "#9c179e"
             ],
             [
              0.4444444444444444,
              "#bd3786"
             ],
             [
              0.5555555555555556,
              "#d8576b"
             ],
             [
              0.6666666666666666,
              "#ed7953"
             ],
             [
              0.7777777777777778,
              "#fb9f3a"
             ],
             [
              0.8888888888888888,
              "#fdca26"
             ],
             [
              1,
              "#f0f921"
             ]
            ],
            "type": "contour"
           }
          ],
          "contourcarpet": [
           {
            "colorbar": {
             "outlinewidth": 0,
             "ticks": ""
            },
            "type": "contourcarpet"
           }
          ],
          "heatmap": [
           {
            "colorbar": {
             "outlinewidth": 0,
             "ticks": ""
            },
            "colorscale": [
             [
              0,
              "#0d0887"
             ],
             [
              0.1111111111111111,
              "#46039f"
             ],
             [
              0.2222222222222222,
              "#7201a8"
             ],
             [
              0.3333333333333333,
              "#9c179e"
             ],
             [
              0.4444444444444444,
              "#bd3786"
             ],
             [
              0.5555555555555556,
              "#d8576b"
             ],
             [
              0.6666666666666666,
              "#ed7953"
             ],
             [
              0.7777777777777778,
              "#fb9f3a"
             ],
             [
              0.8888888888888888,
              "#fdca26"
             ],
             [
              1,
              "#f0f921"
             ]
            ],
            "type": "heatmap"
           }
          ],
          "heatmapgl": [
           {
            "colorbar": {
             "outlinewidth": 0,
             "ticks": ""
            },
            "colorscale": [
             [
              0,
              "#0d0887"
             ],
             [
              0.1111111111111111,
              "#46039f"
             ],
             [
              0.2222222222222222,
              "#7201a8"
             ],
             [
              0.3333333333333333,
              "#9c179e"
             ],
             [
              0.4444444444444444,
              "#bd3786"
             ],
             [
              0.5555555555555556,
              "#d8576b"
             ],
             [
              0.6666666666666666,
              "#ed7953"
             ],
             [
              0.7777777777777778,
              "#fb9f3a"
             ],
             [
              0.8888888888888888,
              "#fdca26"
             ],
             [
              1,
              "#f0f921"
             ]
            ],
            "type": "heatmapgl"
           }
          ],
          "histogram": [
           {
            "marker": {
             "colorbar": {
              "outlinewidth": 0,
              "ticks": ""
             }
            },
            "type": "histogram"
           }
          ],
          "histogram2d": [
           {
            "colorbar": {
             "outlinewidth": 0,
             "ticks": ""
            },
            "colorscale": [
             [
              0,
              "#0d0887"
             ],
             [
              0.1111111111111111,
              "#46039f"
             ],
             [
              0.2222222222222222,
              "#7201a8"
             ],
             [
              0.3333333333333333,
              "#9c179e"
             ],
             [
              0.4444444444444444,
              "#bd3786"
             ],
             [
              0.5555555555555556,
              "#d8576b"
             ],
             [
              0.6666666666666666,
              "#ed7953"
             ],
             [
              0.7777777777777778,
              "#fb9f3a"
             ],
             [
              0.8888888888888888,
              "#fdca26"
             ],
             [
              1,
              "#f0f921"
             ]
            ],
            "type": "histogram2d"
           }
          ],
          "histogram2dcontour": [
           {
            "colorbar": {
             "outlinewidth": 0,
             "ticks": ""
            },
            "colorscale": [
             [
              0,
              "#0d0887"
             ],
             [
              0.1111111111111111,
              "#46039f"
             ],
             [
              0.2222222222222222,
              "#7201a8"
             ],
             [
              0.3333333333333333,
              "#9c179e"
             ],
             [
              0.4444444444444444,
              "#bd3786"
             ],
             [
              0.5555555555555556,
              "#d8576b"
             ],
             [
              0.6666666666666666,
              "#ed7953"
             ],
             [
              0.7777777777777778,
              "#fb9f3a"
             ],
             [
              0.8888888888888888,
              "#fdca26"
             ],
             [
              1,
              "#f0f921"
             ]
            ],
            "type": "histogram2dcontour"
           }
          ],
          "mesh3d": [
           {
            "colorbar": {
             "outlinewidth": 0,
             "ticks": ""
            },
            "type": "mesh3d"
           }
          ],
          "parcoords": [
           {
            "line": {
             "colorbar": {
              "outlinewidth": 0,
              "ticks": ""
             }
            },
            "type": "parcoords"
           }
          ],
          "pie": [
           {
            "automargin": true,
            "type": "pie"
           }
          ],
          "scatter": [
           {
            "marker": {
             "colorbar": {
              "outlinewidth": 0,
              "ticks": ""
             }
            },
            "type": "scatter"
           }
          ],
          "scatter3d": [
           {
            "line": {
             "colorbar": {
              "outlinewidth": 0,
              "ticks": ""
             }
            },
            "marker": {
             "colorbar": {
              "outlinewidth": 0,
              "ticks": ""
             }
            },
            "type": "scatter3d"
           }
          ],
          "scattercarpet": [
           {
            "marker": {
             "colorbar": {
              "outlinewidth": 0,
              "ticks": ""
             }
            },
            "type": "scattercarpet"
           }
          ],
          "scattergeo": [
           {
            "marker": {
             "colorbar": {
              "outlinewidth": 0,
              "ticks": ""
             }
            },
            "type": "scattergeo"
           }
          ],
          "scattergl": [
           {
            "marker": {
             "colorbar": {
              "outlinewidth": 0,
              "ticks": ""
             }
            },
            "type": "scattergl"
           }
          ],
          "scattermapbox": [
           {
            "marker": {
             "colorbar": {
              "outlinewidth": 0,
              "ticks": ""
             }
            },
            "type": "scattermapbox"
           }
          ],
          "scatterpolar": [
           {
            "marker": {
             "colorbar": {
              "outlinewidth": 0,
              "ticks": ""
             }
            },
            "type": "scatterpolar"
           }
          ],
          "scatterpolargl": [
           {
            "marker": {
             "colorbar": {
              "outlinewidth": 0,
              "ticks": ""
             }
            },
            "type": "scatterpolargl"
           }
          ],
          "scatterternary": [
           {
            "marker": {
             "colorbar": {
              "outlinewidth": 0,
              "ticks": ""
             }
            },
            "type": "scatterternary"
           }
          ],
          "surface": [
           {
            "colorbar": {
             "outlinewidth": 0,
             "ticks": ""
            },
            "colorscale": [
             [
              0,
              "#0d0887"
             ],
             [
              0.1111111111111111,
              "#46039f"
             ],
             [
              0.2222222222222222,
              "#7201a8"
             ],
             [
              0.3333333333333333,
              "#9c179e"
             ],
             [
              0.4444444444444444,
              "#bd3786"
             ],
             [
              0.5555555555555556,
              "#d8576b"
             ],
             [
              0.6666666666666666,
              "#ed7953"
             ],
             [
              0.7777777777777778,
              "#fb9f3a"
             ],
             [
              0.8888888888888888,
              "#fdca26"
             ],
             [
              1,
              "#f0f921"
             ]
            ],
            "type": "surface"
           }
          ],
          "table": [
           {
            "cells": {
             "fill": {
              "color": "#EBF0F8"
             },
             "line": {
              "color": "white"
             }
            },
            "header": {
             "fill": {
              "color": "#C8D4E3"
             },
             "line": {
              "color": "white"
             }
            },
            "type": "table"
           }
          ]
         },
         "layout": {
          "annotationdefaults": {
           "arrowcolor": "#2a3f5f",
           "arrowhead": 0,
           "arrowwidth": 1
          },
          "autotypenumbers": "strict",
          "coloraxis": {
           "colorbar": {
            "outlinewidth": 0,
            "ticks": ""
           }
          },
          "colorscale": {
           "diverging": [
            [
             0,
             "#8e0152"
            ],
            [
             0.1,
             "#c51b7d"
            ],
            [
             0.2,
             "#de77ae"
            ],
            [
             0.3,
             "#f1b6da"
            ],
            [
             0.4,
             "#fde0ef"
            ],
            [
             0.5,
             "#f7f7f7"
            ],
            [
             0.6,
             "#e6f5d0"
            ],
            [
             0.7,
             "#b8e186"
            ],
            [
             0.8,
             "#7fbc41"
            ],
            [
             0.9,
             "#4d9221"
            ],
            [
             1,
             "#276419"
            ]
           ],
           "sequential": [
            [
             0,
             "#0d0887"
            ],
            [
             0.1111111111111111,
             "#46039f"
            ],
            [
             0.2222222222222222,
             "#7201a8"
            ],
            [
             0.3333333333333333,
             "#9c179e"
            ],
            [
             0.4444444444444444,
             "#bd3786"
            ],
            [
             0.5555555555555556,
             "#d8576b"
            ],
            [
             0.6666666666666666,
             "#ed7953"
            ],
            [
             0.7777777777777778,
             "#fb9f3a"
            ],
            [
             0.8888888888888888,
             "#fdca26"
            ],
            [
             1,
             "#f0f921"
            ]
           ],
           "sequentialminus": [
            [
             0,
             "#0d0887"
            ],
            [
             0.1111111111111111,
             "#46039f"
            ],
            [
             0.2222222222222222,
             "#7201a8"
            ],
            [
             0.3333333333333333,
             "#9c179e"
            ],
            [
             0.4444444444444444,
             "#bd3786"
            ],
            [
             0.5555555555555556,
             "#d8576b"
            ],
            [
             0.6666666666666666,
             "#ed7953"
            ],
            [
             0.7777777777777778,
             "#fb9f3a"
            ],
            [
             0.8888888888888888,
             "#fdca26"
            ],
            [
             1,
             "#f0f921"
            ]
           ]
          },
          "colorway": [
           "#636efa",
           "#EF553B",
           "#00cc96",
           "#ab63fa",
           "#FFA15A",
           "#19d3f3",
           "#FF6692",
           "#B6E880",
           "#FF97FF",
           "#FECB52"
          ],
          "font": {
           "color": "#2a3f5f"
          },
          "geo": {
           "bgcolor": "white",
           "lakecolor": "white",
           "landcolor": "#E5ECF6",
           "showlakes": true,
           "showland": true,
           "subunitcolor": "white"
          },
          "hoverlabel": {
           "align": "left"
          },
          "hovermode": "closest",
          "mapbox": {
           "style": "light"
          },
          "paper_bgcolor": "white",
          "plot_bgcolor": "#E5ECF6",
          "polar": {
           "angularaxis": {
            "gridcolor": "white",
            "linecolor": "white",
            "ticks": ""
           },
           "bgcolor": "#E5ECF6",
           "radialaxis": {
            "gridcolor": "white",
            "linecolor": "white",
            "ticks": ""
           }
          },
          "scene": {
           "xaxis": {
            "backgroundcolor": "#E5ECF6",
            "gridcolor": "white",
            "gridwidth": 2,
            "linecolor": "white",
            "showbackground": true,
            "ticks": "",
            "zerolinecolor": "white"
           },
           "yaxis": {
            "backgroundcolor": "#E5ECF6",
            "gridcolor": "white",
            "gridwidth": 2,
            "linecolor": "white",
            "showbackground": true,
            "ticks": "",
            "zerolinecolor": "white"
           },
           "zaxis": {
            "backgroundcolor": "#E5ECF6",
            "gridcolor": "white",
            "gridwidth": 2,
            "linecolor": "white",
            "showbackground": true,
            "ticks": "",
            "zerolinecolor": "white"
           }
          },
          "shapedefaults": {
           "line": {
            "color": "#2a3f5f"
           }
          },
          "ternary": {
           "aaxis": {
            "gridcolor": "white",
            "linecolor": "white",
            "ticks": ""
           },
           "baxis": {
            "gridcolor": "white",
            "linecolor": "white",
            "ticks": ""
           },
           "bgcolor": "#E5ECF6",
           "caxis": {
            "gridcolor": "white",
            "linecolor": "white",
            "ticks": ""
           }
          },
          "title": {
           "x": 0.05
          },
          "xaxis": {
           "automargin": true,
           "gridcolor": "white",
           "linecolor": "white",
           "ticks": "",
           "title": {
            "standoff": 15
           },
           "zerolinecolor": "white",
           "zerolinewidth": 2
          },
          "yaxis": {
           "automargin": true,
           "gridcolor": "white",
           "linecolor": "white",
           "ticks": "",
           "title": {
            "standoff": 15
           },
           "zerolinecolor": "white",
           "zerolinewidth": 2
          }
         }
        },
        "title": {
         "font": {
          "color": "#D9D9D9"
         },
         "text": "LSMC option pricing"
        },
        "xaxis": {
         "gridcolor": "#434343",
         "showgrid": true,
         "tickfont": {
          "color": "#C2C2C2"
         },
         "title": {
          "font": {
           "color": "#D9D9D9"
          },
          "text": "种类"
         },
         "zerolinecolor": "#666570"
        },
        "yaxis": {
         "gridcolor": "#434343",
         "showgrid": true,
         "tickfont": {
          "color": "#C2C2C2"
         },
         "title": {
          "font": {
           "color": "#D9D9D9"
          },
          "text": "期权价值"
         },
         "zerolinecolor": "#666570"
        }
       }
      },
      "text/html": [
       "<div>                            <div id=\"30494f44-e4dc-4364-b015-ad551c0befc7\" class=\"plotly-graph-div\" style=\"height:525px; width:100%;\"></div>            <script type=\"text/javascript\">                require([\"plotly\"], function(Plotly) {                    window.PLOTLYENV=window.PLOTLYENV || {};\n",
       "                    window.PLOTLYENV.BASE_URL='https://plot.ly';                                    if (document.getElementById(\"30494f44-e4dc-4364-b015-ad551c0befc7\")) {                    Plotly.newPlot(                        \"30494f44-e4dc-4364-b015-ad551c0befc7\",                        [{\"line\": {\"color\": \"rgba(255, 153, 51, 1.0)\", \"dash\": \"solid\", \"shape\": \"linear\", \"width\": 1.3}, \"marker\": {\"size\": 10, \"symbol\": \"circle\"}, \"mode\": \"lines+markers\", \"name\": \"None\", \"text\": \"\", \"type\": \"scatter\", \"x\": [\"\\u6b27\\u5f0f\", \"\\u767e\\u6155\\u5927(\\u6309\\u534a\\u5e74\\u6267\\u884c)\", \"\\u767e\\u6155\\u5927(\\u6309\\u5b63\\u5ea6\\u6267\\u884c)\", \"\\u767e\\u6155\\u5927(\\u6309\\u6708\\u6267\\u884c)\", \"\\u7f8e\\u5f0f\"], \"y\": [13.5820064834101, 13.69429772541042, 13.765438043482613, 13.802281729989629, 13.812370101906513]}],                        {\"legend\": {\"bgcolor\": \"#151516\", \"font\": {\"color\": \"#D9D9D9\"}}, \"paper_bgcolor\": \"#151516\", \"plot_bgcolor\": \"#151516\", \"template\": {\"data\": {\"bar\": [{\"error_x\": {\"color\": \"#2a3f5f\"}, \"error_y\": {\"color\": \"#2a3f5f\"}, \"marker\": {\"line\": {\"color\": \"#E5ECF6\", \"width\": 0.5}}, \"type\": \"bar\"}], \"barpolar\": [{\"marker\": {\"line\": {\"color\": \"#E5ECF6\", \"width\": 0.5}}, \"type\": \"barpolar\"}], \"carpet\": [{\"aaxis\": {\"endlinecolor\": \"#2a3f5f\", \"gridcolor\": \"white\", \"linecolor\": \"white\", \"minorgridcolor\": \"white\", \"startlinecolor\": \"#2a3f5f\"}, \"baxis\": {\"endlinecolor\": \"#2a3f5f\", \"gridcolor\": \"white\", \"linecolor\": \"white\", \"minorgridcolor\": \"white\", \"startlinecolor\": \"#2a3f5f\"}, \"type\": \"carpet\"}], \"choropleth\": [{\"colorbar\": {\"outlinewidth\": 0, \"ticks\": \"\"}, \"type\": \"choropleth\"}], \"contour\": [{\"colorbar\": {\"outlinewidth\": 0, \"ticks\": \"\"}, \"colorscale\": [[0.0, \"#0d0887\"], [0.1111111111111111, \"#46039f\"], [0.2222222222222222, \"#7201a8\"], [0.3333333333333333, \"#9c179e\"], [0.4444444444444444, \"#bd3786\"], [0.5555555555555556, \"#d8576b\"], [0.6666666666666666, \"#ed7953\"], [0.7777777777777778, \"#fb9f3a\"], [0.8888888888888888, \"#fdca26\"], [1.0, \"#f0f921\"]], \"type\": \"contour\"}], \"contourcarpet\": [{\"colorbar\": {\"outlinewidth\": 0, \"ticks\": \"\"}, \"type\": \"contourcarpet\"}], \"heatmap\": [{\"colorbar\": {\"outlinewidth\": 0, \"ticks\": \"\"}, \"colorscale\": [[0.0, \"#0d0887\"], [0.1111111111111111, \"#46039f\"], [0.2222222222222222, \"#7201a8\"], [0.3333333333333333, \"#9c179e\"], [0.4444444444444444, \"#bd3786\"], [0.5555555555555556, \"#d8576b\"], [0.6666666666666666, \"#ed7953\"], [0.7777777777777778, \"#fb9f3a\"], [0.8888888888888888, \"#fdca26\"], [1.0, \"#f0f921\"]], \"type\": \"heatmap\"}], \"heatmapgl\": [{\"colorbar\": {\"outlinewidth\": 0, \"ticks\": \"\"}, \"colorscale\": [[0.0, \"#0d0887\"], [0.1111111111111111, \"#46039f\"], [0.2222222222222222, \"#7201a8\"], [0.3333333333333333, \"#9c179e\"], [0.4444444444444444, \"#bd3786\"], [0.5555555555555556, \"#d8576b\"], [0.6666666666666666, \"#ed7953\"], [0.7777777777777778, \"#fb9f3a\"], [0.8888888888888888, \"#fdca26\"], [1.0, \"#f0f921\"]], \"type\": \"heatmapgl\"}], \"histogram\": [{\"marker\": {\"colorbar\": {\"outlinewidth\": 0, \"ticks\": \"\"}}, \"type\": \"histogram\"}], \"histogram2d\": [{\"colorbar\": {\"outlinewidth\": 0, \"ticks\": \"\"}, \"colorscale\": [[0.0, \"#0d0887\"], [0.1111111111111111, \"#46039f\"], [0.2222222222222222, \"#7201a8\"], [0.3333333333333333, \"#9c179e\"], [0.4444444444444444, \"#bd3786\"], [0.5555555555555556, \"#d8576b\"], [0.6666666666666666, \"#ed7953\"], [0.7777777777777778, \"#fb9f3a\"], [0.8888888888888888, \"#fdca26\"], [1.0, \"#f0f921\"]], \"type\": \"histogram2d\"}], \"histogram2dcontour\": [{\"colorbar\": {\"outlinewidth\": 0, \"ticks\": \"\"}, \"colorscale\": [[0.0, \"#0d0887\"], [0.1111111111111111, \"#46039f\"], [0.2222222222222222, \"#7201a8\"], [0.3333333333333333, \"#9c179e\"], [0.4444444444444444, \"#bd3786\"], [0.5555555555555556, \"#d8576b\"], [0.6666666666666666, \"#ed7953\"], [0.7777777777777778, \"#fb9f3a\"], [0.8888888888888888, \"#fdca26\"], [1.0, \"#f0f921\"]], \"type\": \"histogram2dcontour\"}], \"mesh3d\": [{\"colorbar\": {\"outlinewidth\": 0, \"ticks\": \"\"}, \"type\": \"mesh3d\"}], \"parcoords\": [{\"line\": {\"colorbar\": {\"outlinewidth\": 0, \"ticks\": \"\"}}, \"type\": \"parcoords\"}], \"pie\": [{\"automargin\": true, \"type\": \"pie\"}], \"scatter\": [{\"marker\": {\"colorbar\": {\"outlinewidth\": 0, \"ticks\": \"\"}}, \"type\": \"scatter\"}], \"scatter3d\": [{\"line\": {\"colorbar\": {\"outlinewidth\": 0, \"ticks\": \"\"}}, \"marker\": {\"colorbar\": {\"outlinewidth\": 0, \"ticks\": \"\"}}, \"type\": \"scatter3d\"}], \"scattercarpet\": [{\"marker\": {\"colorbar\": {\"outlinewidth\": 0, \"ticks\": \"\"}}, \"type\": \"scattercarpet\"}], \"scattergeo\": [{\"marker\": {\"colorbar\": {\"outlinewidth\": 0, \"ticks\": \"\"}}, \"type\": \"scattergeo\"}], \"scattergl\": [{\"marker\": {\"colorbar\": {\"outlinewidth\": 0, \"ticks\": \"\"}}, \"type\": \"scattergl\"}], \"scattermapbox\": [{\"marker\": {\"colorbar\": {\"outlinewidth\": 0, \"ticks\": \"\"}}, \"type\": \"scattermapbox\"}], \"scatterpolar\": [{\"marker\": {\"colorbar\": {\"outlinewidth\": 0, \"ticks\": \"\"}}, \"type\": \"scatterpolar\"}], \"scatterpolargl\": [{\"marker\": {\"colorbar\": {\"outlinewidth\": 0, \"ticks\": \"\"}}, \"type\": \"scatterpolargl\"}], \"scatterternary\": [{\"marker\": {\"colorbar\": {\"outlinewidth\": 0, \"ticks\": \"\"}}, \"type\": \"scatterternary\"}], \"surface\": [{\"colorbar\": {\"outlinewidth\": 0, \"ticks\": \"\"}, \"colorscale\": [[0.0, \"#0d0887\"], [0.1111111111111111, \"#46039f\"], [0.2222222222222222, \"#7201a8\"], [0.3333333333333333, \"#9c179e\"], [0.4444444444444444, \"#bd3786\"], [0.5555555555555556, \"#d8576b\"], [0.6666666666666666, \"#ed7953\"], [0.7777777777777778, \"#fb9f3a\"], [0.8888888888888888, \"#fdca26\"], [1.0, \"#f0f921\"]], \"type\": \"surface\"}], \"table\": [{\"cells\": {\"fill\": {\"color\": \"#EBF0F8\"}, \"line\": {\"color\": \"white\"}}, \"header\": {\"fill\": {\"color\": \"#C8D4E3\"}, \"line\": {\"color\": \"white\"}}, \"type\": \"table\"}]}, \"layout\": {\"annotationdefaults\": {\"arrowcolor\": \"#2a3f5f\", \"arrowhead\": 0, \"arrowwidth\": 1}, \"autotypenumbers\": \"strict\", \"coloraxis\": {\"colorbar\": {\"outlinewidth\": 0, \"ticks\": \"\"}}, \"colorscale\": {\"diverging\": [[0, \"#8e0152\"], [0.1, \"#c51b7d\"], [0.2, \"#de77ae\"], [0.3, \"#f1b6da\"], [0.4, \"#fde0ef\"], [0.5, \"#f7f7f7\"], [0.6, \"#e6f5d0\"], [0.7, \"#b8e186\"], [0.8, \"#7fbc41\"], [0.9, \"#4d9221\"], [1, \"#276419\"]], \"sequential\": [[0.0, \"#0d0887\"], [0.1111111111111111, \"#46039f\"], [0.2222222222222222, \"#7201a8\"], [0.3333333333333333, \"#9c179e\"], [0.4444444444444444, \"#bd3786\"], [0.5555555555555556, \"#d8576b\"], [0.6666666666666666, \"#ed7953\"], [0.7777777777777778, \"#fb9f3a\"], [0.8888888888888888, \"#fdca26\"], [1.0, \"#f0f921\"]], \"sequentialminus\": [[0.0, \"#0d0887\"], [0.1111111111111111, \"#46039f\"], [0.2222222222222222, \"#7201a8\"], [0.3333333333333333, \"#9c179e\"], [0.4444444444444444, \"#bd3786\"], [0.5555555555555556, \"#d8576b\"], [0.6666666666666666, \"#ed7953\"], [0.7777777777777778, \"#fb9f3a\"], [0.8888888888888888, \"#fdca26\"], [1.0, \"#f0f921\"]]}, \"colorway\": [\"#636efa\", \"#EF553B\", \"#00cc96\", \"#ab63fa\", \"#FFA15A\", \"#19d3f3\", \"#FF6692\", \"#B6E880\", \"#FF97FF\", \"#FECB52\"], \"font\": {\"color\": \"#2a3f5f\"}, \"geo\": {\"bgcolor\": \"white\", \"lakecolor\": \"white\", \"landcolor\": \"#E5ECF6\", \"showlakes\": true, \"showland\": true, \"subunitcolor\": \"white\"}, \"hoverlabel\": {\"align\": \"left\"}, \"hovermode\": \"closest\", \"mapbox\": {\"style\": \"light\"}, \"paper_bgcolor\": \"white\", \"plot_bgcolor\": \"#E5ECF6\", \"polar\": {\"angularaxis\": {\"gridcolor\": \"white\", \"linecolor\": \"white\", \"ticks\": \"\"}, \"bgcolor\": \"#E5ECF6\", \"radialaxis\": {\"gridcolor\": \"white\", \"linecolor\": \"white\", \"ticks\": \"\"}}, \"scene\": {\"xaxis\": {\"backgroundcolor\": \"#E5ECF6\", \"gridcolor\": \"white\", \"gridwidth\": 2, \"linecolor\": \"white\", \"showbackground\": true, \"ticks\": \"\", \"zerolinecolor\": \"white\"}, \"yaxis\": {\"backgroundcolor\": \"#E5ECF6\", \"gridcolor\": \"white\", \"gridwidth\": 2, \"linecolor\": \"white\", \"showbackground\": true, \"ticks\": \"\", \"zerolinecolor\": \"white\"}, \"zaxis\": {\"backgroundcolor\": \"#E5ECF6\", \"gridcolor\": \"white\", \"gridwidth\": 2, \"linecolor\": \"white\", \"showbackground\": true, \"ticks\": \"\", \"zerolinecolor\": \"white\"}}, \"shapedefaults\": {\"line\": {\"color\": \"#2a3f5f\"}}, \"ternary\": {\"aaxis\": {\"gridcolor\": \"white\", \"linecolor\": \"white\", \"ticks\": \"\"}, \"baxis\": {\"gridcolor\": \"white\", \"linecolor\": \"white\", \"ticks\": \"\"}, \"bgcolor\": \"#E5ECF6\", \"caxis\": {\"gridcolor\": \"white\", \"linecolor\": \"white\", \"ticks\": \"\"}}, \"title\": {\"x\": 0.05}, \"xaxis\": {\"automargin\": true, \"gridcolor\": \"white\", \"linecolor\": \"white\", \"ticks\": \"\", \"title\": {\"standoff\": 15}, \"zerolinecolor\": \"white\", \"zerolinewidth\": 2}, \"yaxis\": {\"automargin\": true, \"gridcolor\": \"white\", \"linecolor\": \"white\", \"ticks\": \"\", \"title\": {\"standoff\": 15}, \"zerolinecolor\": \"white\", \"zerolinewidth\": 2}}}, \"title\": {\"font\": {\"color\": \"#D9D9D9\"}, \"text\": \"LSMC option pricing\"}, \"xaxis\": {\"gridcolor\": \"#434343\", \"showgrid\": true, \"tickfont\": {\"color\": \"#C2C2C2\"}, \"title\": {\"font\": {\"color\": \"#D9D9D9\"}, \"text\": \"\\u79cd\\u7c7b\"}, \"zerolinecolor\": \"#666570\"}, \"yaxis\": {\"gridcolor\": \"#434343\", \"showgrid\": true, \"tickfont\": {\"color\": \"#C2C2C2\"}, \"title\": {\"font\": {\"color\": \"#D9D9D9\"}, \"text\": \"\\u671f\\u6743\\u4ef7\\u503c\"}, \"zerolinecolor\": \"#666570\"}},                        {\"showLink\": true, \"linkText\": \"Export to plot.ly\", \"plotlyServerURL\": \"https://plot.ly\", \"responsive\": true}                    ).then(function(){\n",
       "                            \n",
       "var gd = document.getElementById('30494f44-e4dc-4364-b015-ad551c0befc7');\n",
       "var x = new MutationObserver(function (mutations, observer) {{\n",
       "        var display = window.getComputedStyle(gd).display;\n",
       "        if (!display || display === 'none') {{\n",
       "            console.log([gd, 'removed!']);\n",
       "            Plotly.purge(gd);\n",
       "            observer.disconnect();\n",
       "        }}\n",
       "}});\n",
       "\n",
       "// Listen for the removal of the full notebook cells\n",
       "var notebookContainer = gd.closest('#notebook-container');\n",
       "if (notebookContainer) {{\n",
       "    x.observe(notebookContainer, {childList: true});\n",
       "}}\n",
       "\n",
       "// Listen for the clearing of the current output cell\n",
       "var outputEl = gd.closest('.output');\n",
       "if (outputEl) {{\n",
       "    x.observe(outputEl, {childList: true});\n",
       "}}\n",
       "\n",
       "                        })                };                });            </script>        </div>"
      ]
     },
     "metadata": {},
     "output_type": "display_data"
    }
   ],
   "source": [
    "s.iplot(xTitle = '种类',yTitle = '期权价值', mode = 'lines+markers',size = 10,title='LSMC option pricing',theme='solar')"
   ]
  },
  {
   "cell_type": "code",
   "execution_count": 43,
   "metadata": {},
   "outputs": [],
   "source": [
    "def LSMC_laguerre(S,K,r,T,N,Nsim,omega,verbose = False, fit_type = 'plain'):\n",
    "    DF = np.exp(-r*T/(N-1))\n",
    "    CF = np.maximum(omega * (S[-1,:]-K),0)\n",
    "    path = np.arange(Nsim)\n",
    "\n",
    "    for i in np.arange(N-2,0,-1):\n",
    "        #discount cashflow from T_{i+1} to T{i}\n",
    "        CF =  CF * DF\n",
    "\n",
    "        #find the index of the path where option is in the money\n",
    "        ITM_bool = omega*(S[i]-K) > 0\n",
    "\n",
    "        #Slice the uderlying and discounted CF under ITM path\n",
    "        X = S[i,ITM_bool]\n",
    "        Y = CF[ITM_bool]\n",
    "\n",
    "        if fit_type == 'laguerre':\n",
    "            coef = lagfit(X,Y,3)\n",
    "            HV = lagval(X,coef)\n",
    "        else:\n",
    "            #Regress Y against X with polynomial function\n",
    "            coef = polyfit(X,Y,2)\n",
    "            #compute the holding value and exercise value\n",
    "            HV = polyval(coef,X)\n",
    "\n",
    "        if verbose:\n",
    "            print(f'索引 {i} 回归函数：E[Y|X] = {coef[0]:.3f}x^2 + ({coef[1]:.3f}X) + {coef[2]:.3f}\\n')\n",
    "\n",
    "        #compute exercise value\n",
    "        EV = np.maximum(omega*(X-K),0)\n",
    "\n",
    "        #find the exercise path and update the cashflow\n",
    "        EP_bool = (EV > HV)\n",
    "        EP = path[ITM_bool][EP_bool]\n",
    "\n",
    "        CF[EP] = EV[EP_bool]\n",
    "\n",
    "    V = np.maximum(omega*(S0 - K), np.mean(CF*DF))\n",
    "    return V"
   ]
  },
  {
   "cell_type": "code",
   "execution_count": 44,
   "metadata": {},
   "outputs": [
    {
     "data": {
      "text/plain": [
       "13.816434898078544"
      ]
     },
     "execution_count": 44,
     "metadata": {},
     "output_type": "execute_result"
    }
   ],
   "source": [
    "V_amer_LG = LSMC_laguerre(Smat.T,K,r,T,Nt,Nsim,omega,fit_type = 'laguerre')\n",
    "V_amer_LG"
   ]
  },
  {
   "cell_type": "code",
   "execution_count": 45,
   "metadata": {},
   "outputs": [
    {
     "data": {
      "text/plain": [
       "13.699403024829577"
      ]
     },
     "execution_count": 45,
     "metadata": {},
     "output_type": "execute_result"
    }
   ],
   "source": [
    "S_LG = Smat[:,idx1].T \n",
    "V_berm1_LG = LSMC_laguerre(S_LG,K,r,T,S_LG.shape[0],Nsim,omega,fit_type='laguerre')\n",
    "V_berm1_LG"
   ]
  },
  {
   "cell_type": "code",
   "execution_count": 46,
   "metadata": {},
   "outputs": [
    {
     "data": {
      "text/plain": [
       "13.76679267431952"
      ]
     },
     "execution_count": 46,
     "metadata": {},
     "output_type": "execute_result"
    }
   ],
   "source": [
    "S_LG = Smat[:,idx2].T \n",
    "V_berm2_LG = LSMC_laguerre(S_LG,K,r,T,S_LG.shape[0],Nsim,omega,fit_type='laguerre')\n",
    "V_berm2_LG"
   ]
  },
  {
   "cell_type": "code",
   "execution_count": 47,
   "metadata": {},
   "outputs": [
    {
     "data": {
      "text/plain": [
       "13.819482140782316"
      ]
     },
     "execution_count": 47,
     "metadata": {},
     "output_type": "execute_result"
    }
   ],
   "source": [
    "S_LG = Smat[:,idx3].T \n",
    "V_berm3_LG = LSMC_laguerre(S_LG,K,r,T,S_LG.shape[0],Nsim,omega,fit_type='laguerre')\n",
    "V_berm3_LG"
   ]
  },
  {
   "cell_type": "code",
   "execution_count": 48,
   "metadata": {},
   "outputs": [
    {
     "data": {
      "text/plain": [
       "欧式            13.582006\n",
       "百慕大(按半年执行)    13.699403\n",
       "百慕大(按季度执行)    13.766793\n",
       "百慕大(按月执行)     13.819482\n",
       "美式            13.816435\n",
       "dtype: float64"
      ]
     },
     "execution_count": 48,
     "metadata": {},
     "output_type": "execute_result"
    }
   ],
   "source": [
    "d = {'欧式':V_euro,'百慕大(按半年执行)':V_berm1_LG,'百慕大(按季度执行)':V_berm2_LG,'百慕大(按月执行)':V_berm3_LG,'美式':V_amer_LG}\n",
    "s = pd.Series(d)\n",
    "s"
   ]
  },
  {
   "cell_type": "code",
   "execution_count": 49,
   "metadata": {},
   "outputs": [
    {
     "data": {
      "application/vnd.plotly.v1+json": {
       "config": {
        "linkText": "Export to plot.ly",
        "plotlyServerURL": "https://plot.ly",
        "showLink": true
       },
       "data": [
        {
         "line": {
          "color": "rgba(255, 153, 51, 1.0)",
          "dash": "solid",
          "shape": "linear",
          "width": 1.3
         },
         "marker": {
          "size": 10,
          "symbol": "circle"
         },
         "mode": "lines+markers",
         "name": "None",
         "text": "",
         "type": "scatter",
         "x": [
          "欧式",
          "百慕大(按半年执行)",
          "百慕大(按季度执行)",
          "百慕大(按月执行)",
          "美式"
         ],
         "y": [
          13.5820064834101,
          13.699403024829577,
          13.76679267431952,
          13.819482140782316,
          13.816434898078544
         ]
        }
       ],
       "layout": {
        "legend": {
         "bgcolor": "#151516",
         "font": {
          "color": "#D9D9D9"
         }
        },
        "paper_bgcolor": "#151516",
        "plot_bgcolor": "#151516",
        "template": {
         "data": {
          "bar": [
           {
            "error_x": {
             "color": "#2a3f5f"
            },
            "error_y": {
             "color": "#2a3f5f"
            },
            "marker": {
             "line": {
              "color": "#E5ECF6",
              "width": 0.5
             }
            },
            "type": "bar"
           }
          ],
          "barpolar": [
           {
            "marker": {
             "line": {
              "color": "#E5ECF6",
              "width": 0.5
             }
            },
            "type": "barpolar"
           }
          ],
          "carpet": [
           {
            "aaxis": {
             "endlinecolor": "#2a3f5f",
             "gridcolor": "white",
             "linecolor": "white",
             "minorgridcolor": "white",
             "startlinecolor": "#2a3f5f"
            },
            "baxis": {
             "endlinecolor": "#2a3f5f",
             "gridcolor": "white",
             "linecolor": "white",
             "minorgridcolor": "white",
             "startlinecolor": "#2a3f5f"
            },
            "type": "carpet"
           }
          ],
          "choropleth": [
           {
            "colorbar": {
             "outlinewidth": 0,
             "ticks": ""
            },
            "type": "choropleth"
           }
          ],
          "contour": [
           {
            "colorbar": {
             "outlinewidth": 0,
             "ticks": ""
            },
            "colorscale": [
             [
              0,
              "#0d0887"
             ],
             [
              0.1111111111111111,
              "#46039f"
             ],
             [
              0.2222222222222222,
              "#7201a8"
             ],
             [
              0.3333333333333333,
              "#9c179e"
             ],
             [
              0.4444444444444444,
              "#bd3786"
             ],
             [
              0.5555555555555556,
              "#d8576b"
             ],
             [
              0.6666666666666666,
              "#ed7953"
             ],
             [
              0.7777777777777778,
              "#fb9f3a"
             ],
             [
              0.8888888888888888,
              "#fdca26"
             ],
             [
              1,
              "#f0f921"
             ]
            ],
            "type": "contour"
           }
          ],
          "contourcarpet": [
           {
            "colorbar": {
             "outlinewidth": 0,
             "ticks": ""
            },
            "type": "contourcarpet"
           }
          ],
          "heatmap": [
           {
            "colorbar": {
             "outlinewidth": 0,
             "ticks": ""
            },
            "colorscale": [
             [
              0,
              "#0d0887"
             ],
             [
              0.1111111111111111,
              "#46039f"
             ],
             [
              0.2222222222222222,
              "#7201a8"
             ],
             [
              0.3333333333333333,
              "#9c179e"
             ],
             [
              0.4444444444444444,
              "#bd3786"
             ],
             [
              0.5555555555555556,
              "#d8576b"
             ],
             [
              0.6666666666666666,
              "#ed7953"
             ],
             [
              0.7777777777777778,
              "#fb9f3a"
             ],
             [
              0.8888888888888888,
              "#fdca26"
             ],
             [
              1,
              "#f0f921"
             ]
            ],
            "type": "heatmap"
           }
          ],
          "heatmapgl": [
           {
            "colorbar": {
             "outlinewidth": 0,
             "ticks": ""
            },
            "colorscale": [
             [
              0,
              "#0d0887"
             ],
             [
              0.1111111111111111,
              "#46039f"
             ],
             [
              0.2222222222222222,
              "#7201a8"
             ],
             [
              0.3333333333333333,
              "#9c179e"
             ],
             [
              0.4444444444444444,
              "#bd3786"
             ],
             [
              0.5555555555555556,
              "#d8576b"
             ],
             [
              0.6666666666666666,
              "#ed7953"
             ],
             [
              0.7777777777777778,
              "#fb9f3a"
             ],
             [
              0.8888888888888888,
              "#fdca26"
             ],
             [
              1,
              "#f0f921"
             ]
            ],
            "type": "heatmapgl"
           }
          ],
          "histogram": [
           {
            "marker": {
             "colorbar": {
              "outlinewidth": 0,
              "ticks": ""
             }
            },
            "type": "histogram"
           }
          ],
          "histogram2d": [
           {
            "colorbar": {
             "outlinewidth": 0,
             "ticks": ""
            },
            "colorscale": [
             [
              0,
              "#0d0887"
             ],
             [
              0.1111111111111111,
              "#46039f"
             ],
             [
              0.2222222222222222,
              "#7201a8"
             ],
             [
              0.3333333333333333,
              "#9c179e"
             ],
             [
              0.4444444444444444,
              "#bd3786"
             ],
             [
              0.5555555555555556,
              "#d8576b"
             ],
             [
              0.6666666666666666,
              "#ed7953"
             ],
             [
              0.7777777777777778,
              "#fb9f3a"
             ],
             [
              0.8888888888888888,
              "#fdca26"
             ],
             [
              1,
              "#f0f921"
             ]
            ],
            "type": "histogram2d"
           }
          ],
          "histogram2dcontour": [
           {
            "colorbar": {
             "outlinewidth": 0,
             "ticks": ""
            },
            "colorscale": [
             [
              0,
              "#0d0887"
             ],
             [
              0.1111111111111111,
              "#46039f"
             ],
             [
              0.2222222222222222,
              "#7201a8"
             ],
             [
              0.3333333333333333,
              "#9c179e"
             ],
             [
              0.4444444444444444,
              "#bd3786"
             ],
             [
              0.5555555555555556,
              "#d8576b"
             ],
             [
              0.6666666666666666,
              "#ed7953"
             ],
             [
              0.7777777777777778,
              "#fb9f3a"
             ],
             [
              0.8888888888888888,
              "#fdca26"
             ],
             [
              1,
              "#f0f921"
             ]
            ],
            "type": "histogram2dcontour"
           }
          ],
          "mesh3d": [
           {
            "colorbar": {
             "outlinewidth": 0,
             "ticks": ""
            },
            "type": "mesh3d"
           }
          ],
          "parcoords": [
           {
            "line": {
             "colorbar": {
              "outlinewidth": 0,
              "ticks": ""
             }
            },
            "type": "parcoords"
           }
          ],
          "pie": [
           {
            "automargin": true,
            "type": "pie"
           }
          ],
          "scatter": [
           {
            "marker": {
             "colorbar": {
              "outlinewidth": 0,
              "ticks": ""
             }
            },
            "type": "scatter"
           }
          ],
          "scatter3d": [
           {
            "line": {
             "colorbar": {
              "outlinewidth": 0,
              "ticks": ""
             }
            },
            "marker": {
             "colorbar": {
              "outlinewidth": 0,
              "ticks": ""
             }
            },
            "type": "scatter3d"
           }
          ],
          "scattercarpet": [
           {
            "marker": {
             "colorbar": {
              "outlinewidth": 0,
              "ticks": ""
             }
            },
            "type": "scattercarpet"
           }
          ],
          "scattergeo": [
           {
            "marker": {
             "colorbar": {
              "outlinewidth": 0,
              "ticks": ""
             }
            },
            "type": "scattergeo"
           }
          ],
          "scattergl": [
           {
            "marker": {
             "colorbar": {
              "outlinewidth": 0,
              "ticks": ""
             }
            },
            "type": "scattergl"
           }
          ],
          "scattermapbox": [
           {
            "marker": {
             "colorbar": {
              "outlinewidth": 0,
              "ticks": ""
             }
            },
            "type": "scattermapbox"
           }
          ],
          "scatterpolar": [
           {
            "marker": {
             "colorbar": {
              "outlinewidth": 0,
              "ticks": ""
             }
            },
            "type": "scatterpolar"
           }
          ],
          "scatterpolargl": [
           {
            "marker": {
             "colorbar": {
              "outlinewidth": 0,
              "ticks": ""
             }
            },
            "type": "scatterpolargl"
           }
          ],
          "scatterternary": [
           {
            "marker": {
             "colorbar": {
              "outlinewidth": 0,
              "ticks": ""
             }
            },
            "type": "scatterternary"
           }
          ],
          "surface": [
           {
            "colorbar": {
             "outlinewidth": 0,
             "ticks": ""
            },
            "colorscale": [
             [
              0,
              "#0d0887"
             ],
             [
              0.1111111111111111,
              "#46039f"
             ],
             [
              0.2222222222222222,
              "#7201a8"
             ],
             [
              0.3333333333333333,
              "#9c179e"
             ],
             [
              0.4444444444444444,
              "#bd3786"
             ],
             [
              0.5555555555555556,
              "#d8576b"
             ],
             [
              0.6666666666666666,
              "#ed7953"
             ],
             [
              0.7777777777777778,
              "#fb9f3a"
             ],
             [
              0.8888888888888888,
              "#fdca26"
             ],
             [
              1,
              "#f0f921"
             ]
            ],
            "type": "surface"
           }
          ],
          "table": [
           {
            "cells": {
             "fill": {
              "color": "#EBF0F8"
             },
             "line": {
              "color": "white"
             }
            },
            "header": {
             "fill": {
              "color": "#C8D4E3"
             },
             "line": {
              "color": "white"
             }
            },
            "type": "table"
           }
          ]
         },
         "layout": {
          "annotationdefaults": {
           "arrowcolor": "#2a3f5f",
           "arrowhead": 0,
           "arrowwidth": 1
          },
          "autotypenumbers": "strict",
          "coloraxis": {
           "colorbar": {
            "outlinewidth": 0,
            "ticks": ""
           }
          },
          "colorscale": {
           "diverging": [
            [
             0,
             "#8e0152"
            ],
            [
             0.1,
             "#c51b7d"
            ],
            [
             0.2,
             "#de77ae"
            ],
            [
             0.3,
             "#f1b6da"
            ],
            [
             0.4,
             "#fde0ef"
            ],
            [
             0.5,
             "#f7f7f7"
            ],
            [
             0.6,
             "#e6f5d0"
            ],
            [
             0.7,
             "#b8e186"
            ],
            [
             0.8,
             "#7fbc41"
            ],
            [
             0.9,
             "#4d9221"
            ],
            [
             1,
             "#276419"
            ]
           ],
           "sequential": [
            [
             0,
             "#0d0887"
            ],
            [
             0.1111111111111111,
             "#46039f"
            ],
            [
             0.2222222222222222,
             "#7201a8"
            ],
            [
             0.3333333333333333,
             "#9c179e"
            ],
            [
             0.4444444444444444,
             "#bd3786"
            ],
            [
             0.5555555555555556,
             "#d8576b"
            ],
            [
             0.6666666666666666,
             "#ed7953"
            ],
            [
             0.7777777777777778,
             "#fb9f3a"
            ],
            [
             0.8888888888888888,
             "#fdca26"
            ],
            [
             1,
             "#f0f921"
            ]
           ],
           "sequentialminus": [
            [
             0,
             "#0d0887"
            ],
            [
             0.1111111111111111,
             "#46039f"
            ],
            [
             0.2222222222222222,
             "#7201a8"
            ],
            [
             0.3333333333333333,
             "#9c179e"
            ],
            [
             0.4444444444444444,
             "#bd3786"
            ],
            [
             0.5555555555555556,
             "#d8576b"
            ],
            [
             0.6666666666666666,
             "#ed7953"
            ],
            [
             0.7777777777777778,
             "#fb9f3a"
            ],
            [
             0.8888888888888888,
             "#fdca26"
            ],
            [
             1,
             "#f0f921"
            ]
           ]
          },
          "colorway": [
           "#636efa",
           "#EF553B",
           "#00cc96",
           "#ab63fa",
           "#FFA15A",
           "#19d3f3",
           "#FF6692",
           "#B6E880",
           "#FF97FF",
           "#FECB52"
          ],
          "font": {
           "color": "#2a3f5f"
          },
          "geo": {
           "bgcolor": "white",
           "lakecolor": "white",
           "landcolor": "#E5ECF6",
           "showlakes": true,
           "showland": true,
           "subunitcolor": "white"
          },
          "hoverlabel": {
           "align": "left"
          },
          "hovermode": "closest",
          "mapbox": {
           "style": "light"
          },
          "paper_bgcolor": "white",
          "plot_bgcolor": "#E5ECF6",
          "polar": {
           "angularaxis": {
            "gridcolor": "white",
            "linecolor": "white",
            "ticks": ""
           },
           "bgcolor": "#E5ECF6",
           "radialaxis": {
            "gridcolor": "white",
            "linecolor": "white",
            "ticks": ""
           }
          },
          "scene": {
           "xaxis": {
            "backgroundcolor": "#E5ECF6",
            "gridcolor": "white",
            "gridwidth": 2,
            "linecolor": "white",
            "showbackground": true,
            "ticks": "",
            "zerolinecolor": "white"
           },
           "yaxis": {
            "backgroundcolor": "#E5ECF6",
            "gridcolor": "white",
            "gridwidth": 2,
            "linecolor": "white",
            "showbackground": true,
            "ticks": "",
            "zerolinecolor": "white"
           },
           "zaxis": {
            "backgroundcolor": "#E5ECF6",
            "gridcolor": "white",
            "gridwidth": 2,
            "linecolor": "white",
            "showbackground": true,
            "ticks": "",
            "zerolinecolor": "white"
           }
          },
          "shapedefaults": {
           "line": {
            "color": "#2a3f5f"
           }
          },
          "ternary": {
           "aaxis": {
            "gridcolor": "white",
            "linecolor": "white",
            "ticks": ""
           },
           "baxis": {
            "gridcolor": "white",
            "linecolor": "white",
            "ticks": ""
           },
           "bgcolor": "#E5ECF6",
           "caxis": {
            "gridcolor": "white",
            "linecolor": "white",
            "ticks": ""
           }
          },
          "title": {
           "x": 0.05
          },
          "xaxis": {
           "automargin": true,
           "gridcolor": "white",
           "linecolor": "white",
           "ticks": "",
           "title": {
            "standoff": 15
           },
           "zerolinecolor": "white",
           "zerolinewidth": 2
          },
          "yaxis": {
           "automargin": true,
           "gridcolor": "white",
           "linecolor": "white",
           "ticks": "",
           "title": {
            "standoff": 15
           },
           "zerolinecolor": "white",
           "zerolinewidth": 2
          }
         }
        },
        "title": {
         "font": {
          "color": "#D9D9D9"
         },
         "text": "LSMC_Laguerre option pricing"
        },
        "xaxis": {
         "gridcolor": "#434343",
         "showgrid": true,
         "tickfont": {
          "color": "#C2C2C2"
         },
         "title": {
          "font": {
           "color": "#D9D9D9"
          },
          "text": "种类"
         },
         "zerolinecolor": "#666570"
        },
        "yaxis": {
         "gridcolor": "#434343",
         "showgrid": true,
         "tickfont": {
          "color": "#C2C2C2"
         },
         "title": {
          "font": {
           "color": "#D9D9D9"
          },
          "text": "期权价值"
         },
         "zerolinecolor": "#666570"
        }
       }
      },
      "text/html": [
       "<div>                            <div id=\"e944b398-12e7-400d-9e4b-96e56facaf15\" class=\"plotly-graph-div\" style=\"height:525px; width:100%;\"></div>            <script type=\"text/javascript\">                require([\"plotly\"], function(Plotly) {                    window.PLOTLYENV=window.PLOTLYENV || {};\n",
       "                    window.PLOTLYENV.BASE_URL='https://plot.ly';                                    if (document.getElementById(\"e944b398-12e7-400d-9e4b-96e56facaf15\")) {                    Plotly.newPlot(                        \"e944b398-12e7-400d-9e4b-96e56facaf15\",                        [{\"line\": {\"color\": \"rgba(255, 153, 51, 1.0)\", \"dash\": \"solid\", \"shape\": \"linear\", \"width\": 1.3}, \"marker\": {\"size\": 10, \"symbol\": \"circle\"}, \"mode\": \"lines+markers\", \"name\": \"None\", \"text\": \"\", \"type\": \"scatter\", \"x\": [\"\\u6b27\\u5f0f\", \"\\u767e\\u6155\\u5927(\\u6309\\u534a\\u5e74\\u6267\\u884c)\", \"\\u767e\\u6155\\u5927(\\u6309\\u5b63\\u5ea6\\u6267\\u884c)\", \"\\u767e\\u6155\\u5927(\\u6309\\u6708\\u6267\\u884c)\", \"\\u7f8e\\u5f0f\"], \"y\": [13.5820064834101, 13.699403024829577, 13.76679267431952, 13.819482140782316, 13.816434898078544]}],                        {\"legend\": {\"bgcolor\": \"#151516\", \"font\": {\"color\": \"#D9D9D9\"}}, \"paper_bgcolor\": \"#151516\", \"plot_bgcolor\": \"#151516\", \"template\": {\"data\": {\"bar\": [{\"error_x\": {\"color\": \"#2a3f5f\"}, \"error_y\": {\"color\": \"#2a3f5f\"}, \"marker\": {\"line\": {\"color\": \"#E5ECF6\", \"width\": 0.5}}, \"type\": \"bar\"}], \"barpolar\": [{\"marker\": {\"line\": {\"color\": \"#E5ECF6\", \"width\": 0.5}}, \"type\": \"barpolar\"}], \"carpet\": [{\"aaxis\": {\"endlinecolor\": \"#2a3f5f\", \"gridcolor\": \"white\", \"linecolor\": \"white\", \"minorgridcolor\": \"white\", \"startlinecolor\": \"#2a3f5f\"}, \"baxis\": {\"endlinecolor\": \"#2a3f5f\", \"gridcolor\": \"white\", \"linecolor\": \"white\", \"minorgridcolor\": \"white\", \"startlinecolor\": \"#2a3f5f\"}, \"type\": \"carpet\"}], \"choropleth\": [{\"colorbar\": {\"outlinewidth\": 0, \"ticks\": \"\"}, \"type\": \"choropleth\"}], \"contour\": [{\"colorbar\": {\"outlinewidth\": 0, \"ticks\": \"\"}, \"colorscale\": [[0.0, \"#0d0887\"], [0.1111111111111111, \"#46039f\"], [0.2222222222222222, \"#7201a8\"], [0.3333333333333333, \"#9c179e\"], [0.4444444444444444, \"#bd3786\"], [0.5555555555555556, \"#d8576b\"], [0.6666666666666666, \"#ed7953\"], [0.7777777777777778, \"#fb9f3a\"], [0.8888888888888888, \"#fdca26\"], [1.0, \"#f0f921\"]], \"type\": \"contour\"}], \"contourcarpet\": [{\"colorbar\": {\"outlinewidth\": 0, \"ticks\": \"\"}, \"type\": \"contourcarpet\"}], \"heatmap\": [{\"colorbar\": {\"outlinewidth\": 0, \"ticks\": \"\"}, \"colorscale\": [[0.0, \"#0d0887\"], [0.1111111111111111, \"#46039f\"], [0.2222222222222222, \"#7201a8\"], [0.3333333333333333, \"#9c179e\"], [0.4444444444444444, \"#bd3786\"], [0.5555555555555556, \"#d8576b\"], [0.6666666666666666, \"#ed7953\"], [0.7777777777777778, \"#fb9f3a\"], [0.8888888888888888, \"#fdca26\"], [1.0, \"#f0f921\"]], \"type\": \"heatmap\"}], \"heatmapgl\": [{\"colorbar\": {\"outlinewidth\": 0, \"ticks\": \"\"}, \"colorscale\": [[0.0, \"#0d0887\"], [0.1111111111111111, \"#46039f\"], [0.2222222222222222, \"#7201a8\"], [0.3333333333333333, \"#9c179e\"], [0.4444444444444444, \"#bd3786\"], [0.5555555555555556, \"#d8576b\"], [0.6666666666666666, \"#ed7953\"], [0.7777777777777778, \"#fb9f3a\"], [0.8888888888888888, \"#fdca26\"], [1.0, \"#f0f921\"]], \"type\": \"heatmapgl\"}], \"histogram\": [{\"marker\": {\"colorbar\": {\"outlinewidth\": 0, \"ticks\": \"\"}}, \"type\": \"histogram\"}], \"histogram2d\": [{\"colorbar\": {\"outlinewidth\": 0, \"ticks\": \"\"}, \"colorscale\": [[0.0, \"#0d0887\"], [0.1111111111111111, \"#46039f\"], [0.2222222222222222, \"#7201a8\"], [0.3333333333333333, \"#9c179e\"], [0.4444444444444444, \"#bd3786\"], [0.5555555555555556, \"#d8576b\"], [0.6666666666666666, \"#ed7953\"], [0.7777777777777778, \"#fb9f3a\"], [0.8888888888888888, \"#fdca26\"], [1.0, \"#f0f921\"]], \"type\": \"histogram2d\"}], \"histogram2dcontour\": [{\"colorbar\": {\"outlinewidth\": 0, \"ticks\": \"\"}, \"colorscale\": [[0.0, \"#0d0887\"], [0.1111111111111111, \"#46039f\"], [0.2222222222222222, \"#7201a8\"], [0.3333333333333333, \"#9c179e\"], [0.4444444444444444, \"#bd3786\"], [0.5555555555555556, \"#d8576b\"], [0.6666666666666666, \"#ed7953\"], [0.7777777777777778, \"#fb9f3a\"], [0.8888888888888888, \"#fdca26\"], [1.0, \"#f0f921\"]], \"type\": \"histogram2dcontour\"}], \"mesh3d\": [{\"colorbar\": {\"outlinewidth\": 0, \"ticks\": \"\"}, \"type\": \"mesh3d\"}], \"parcoords\": [{\"line\": {\"colorbar\": {\"outlinewidth\": 0, \"ticks\": \"\"}}, \"type\": \"parcoords\"}], \"pie\": [{\"automargin\": true, \"type\": \"pie\"}], \"scatter\": [{\"marker\": {\"colorbar\": {\"outlinewidth\": 0, \"ticks\": \"\"}}, \"type\": \"scatter\"}], \"scatter3d\": [{\"line\": {\"colorbar\": {\"outlinewidth\": 0, \"ticks\": \"\"}}, \"marker\": {\"colorbar\": {\"outlinewidth\": 0, \"ticks\": \"\"}}, \"type\": \"scatter3d\"}], \"scattercarpet\": [{\"marker\": {\"colorbar\": {\"outlinewidth\": 0, \"ticks\": \"\"}}, \"type\": \"scattercarpet\"}], \"scattergeo\": [{\"marker\": {\"colorbar\": {\"outlinewidth\": 0, \"ticks\": \"\"}}, \"type\": \"scattergeo\"}], \"scattergl\": [{\"marker\": {\"colorbar\": {\"outlinewidth\": 0, \"ticks\": \"\"}}, \"type\": \"scattergl\"}], \"scattermapbox\": [{\"marker\": {\"colorbar\": {\"outlinewidth\": 0, \"ticks\": \"\"}}, \"type\": \"scattermapbox\"}], \"scatterpolar\": [{\"marker\": {\"colorbar\": {\"outlinewidth\": 0, \"ticks\": \"\"}}, \"type\": \"scatterpolar\"}], \"scatterpolargl\": [{\"marker\": {\"colorbar\": {\"outlinewidth\": 0, \"ticks\": \"\"}}, \"type\": \"scatterpolargl\"}], \"scatterternary\": [{\"marker\": {\"colorbar\": {\"outlinewidth\": 0, \"ticks\": \"\"}}, \"type\": \"scatterternary\"}], \"surface\": [{\"colorbar\": {\"outlinewidth\": 0, \"ticks\": \"\"}, \"colorscale\": [[0.0, \"#0d0887\"], [0.1111111111111111, \"#46039f\"], [0.2222222222222222, \"#7201a8\"], [0.3333333333333333, \"#9c179e\"], [0.4444444444444444, \"#bd3786\"], [0.5555555555555556, \"#d8576b\"], [0.6666666666666666, \"#ed7953\"], [0.7777777777777778, \"#fb9f3a\"], [0.8888888888888888, \"#fdca26\"], [1.0, \"#f0f921\"]], \"type\": \"surface\"}], \"table\": [{\"cells\": {\"fill\": {\"color\": \"#EBF0F8\"}, \"line\": {\"color\": \"white\"}}, \"header\": {\"fill\": {\"color\": \"#C8D4E3\"}, \"line\": {\"color\": \"white\"}}, \"type\": \"table\"}]}, \"layout\": {\"annotationdefaults\": {\"arrowcolor\": \"#2a3f5f\", \"arrowhead\": 0, \"arrowwidth\": 1}, \"autotypenumbers\": \"strict\", \"coloraxis\": {\"colorbar\": {\"outlinewidth\": 0, \"ticks\": \"\"}}, \"colorscale\": {\"diverging\": [[0, \"#8e0152\"], [0.1, \"#c51b7d\"], [0.2, \"#de77ae\"], [0.3, \"#f1b6da\"], [0.4, \"#fde0ef\"], [0.5, \"#f7f7f7\"], [0.6, \"#e6f5d0\"], [0.7, \"#b8e186\"], [0.8, \"#7fbc41\"], [0.9, \"#4d9221\"], [1, \"#276419\"]], \"sequential\": [[0.0, \"#0d0887\"], [0.1111111111111111, \"#46039f\"], [0.2222222222222222, \"#7201a8\"], [0.3333333333333333, \"#9c179e\"], [0.4444444444444444, \"#bd3786\"], [0.5555555555555556, \"#d8576b\"], [0.6666666666666666, \"#ed7953\"], [0.7777777777777778, \"#fb9f3a\"], [0.8888888888888888, \"#fdca26\"], [1.0, \"#f0f921\"]], \"sequentialminus\": [[0.0, \"#0d0887\"], [0.1111111111111111, \"#46039f\"], [0.2222222222222222, \"#7201a8\"], [0.3333333333333333, \"#9c179e\"], [0.4444444444444444, \"#bd3786\"], [0.5555555555555556, \"#d8576b\"], [0.6666666666666666, \"#ed7953\"], [0.7777777777777778, \"#fb9f3a\"], [0.8888888888888888, \"#fdca26\"], [1.0, \"#f0f921\"]]}, \"colorway\": [\"#636efa\", \"#EF553B\", \"#00cc96\", \"#ab63fa\", \"#FFA15A\", \"#19d3f3\", \"#FF6692\", \"#B6E880\", \"#FF97FF\", \"#FECB52\"], \"font\": {\"color\": \"#2a3f5f\"}, \"geo\": {\"bgcolor\": \"white\", \"lakecolor\": \"white\", \"landcolor\": \"#E5ECF6\", \"showlakes\": true, \"showland\": true, \"subunitcolor\": \"white\"}, \"hoverlabel\": {\"align\": \"left\"}, \"hovermode\": \"closest\", \"mapbox\": {\"style\": \"light\"}, \"paper_bgcolor\": \"white\", \"plot_bgcolor\": \"#E5ECF6\", \"polar\": {\"angularaxis\": {\"gridcolor\": \"white\", \"linecolor\": \"white\", \"ticks\": \"\"}, \"bgcolor\": \"#E5ECF6\", \"radialaxis\": {\"gridcolor\": \"white\", \"linecolor\": \"white\", \"ticks\": \"\"}}, \"scene\": {\"xaxis\": {\"backgroundcolor\": \"#E5ECF6\", \"gridcolor\": \"white\", \"gridwidth\": 2, \"linecolor\": \"white\", \"showbackground\": true, \"ticks\": \"\", \"zerolinecolor\": \"white\"}, \"yaxis\": {\"backgroundcolor\": \"#E5ECF6\", \"gridcolor\": \"white\", \"gridwidth\": 2, \"linecolor\": \"white\", \"showbackground\": true, \"ticks\": \"\", \"zerolinecolor\": \"white\"}, \"zaxis\": {\"backgroundcolor\": \"#E5ECF6\", \"gridcolor\": \"white\", \"gridwidth\": 2, \"linecolor\": \"white\", \"showbackground\": true, \"ticks\": \"\", \"zerolinecolor\": \"white\"}}, \"shapedefaults\": {\"line\": {\"color\": \"#2a3f5f\"}}, \"ternary\": {\"aaxis\": {\"gridcolor\": \"white\", \"linecolor\": \"white\", \"ticks\": \"\"}, \"baxis\": {\"gridcolor\": \"white\", \"linecolor\": \"white\", \"ticks\": \"\"}, \"bgcolor\": \"#E5ECF6\", \"caxis\": {\"gridcolor\": \"white\", \"linecolor\": \"white\", \"ticks\": \"\"}}, \"title\": {\"x\": 0.05}, \"xaxis\": {\"automargin\": true, \"gridcolor\": \"white\", \"linecolor\": \"white\", \"ticks\": \"\", \"title\": {\"standoff\": 15}, \"zerolinecolor\": \"white\", \"zerolinewidth\": 2}, \"yaxis\": {\"automargin\": true, \"gridcolor\": \"white\", \"linecolor\": \"white\", \"ticks\": \"\", \"title\": {\"standoff\": 15}, \"zerolinecolor\": \"white\", \"zerolinewidth\": 2}}}, \"title\": {\"font\": {\"color\": \"#D9D9D9\"}, \"text\": \"LSMC_Laguerre option pricing\"}, \"xaxis\": {\"gridcolor\": \"#434343\", \"showgrid\": true, \"tickfont\": {\"color\": \"#C2C2C2\"}, \"title\": {\"font\": {\"color\": \"#D9D9D9\"}, \"text\": \"\\u79cd\\u7c7b\"}, \"zerolinecolor\": \"#666570\"}, \"yaxis\": {\"gridcolor\": \"#434343\", \"showgrid\": true, \"tickfont\": {\"color\": \"#C2C2C2\"}, \"title\": {\"font\": {\"color\": \"#D9D9D9\"}, \"text\": \"\\u671f\\u6743\\u4ef7\\u503c\"}, \"zerolinecolor\": \"#666570\"}},                        {\"showLink\": true, \"linkText\": \"Export to plot.ly\", \"plotlyServerURL\": \"https://plot.ly\", \"responsive\": true}                    ).then(function(){\n",
       "                            \n",
       "var gd = document.getElementById('e944b398-12e7-400d-9e4b-96e56facaf15');\n",
       "var x = new MutationObserver(function (mutations, observer) {{\n",
       "        var display = window.getComputedStyle(gd).display;\n",
       "        if (!display || display === 'none') {{\n",
       "            console.log([gd, 'removed!']);\n",
       "            Plotly.purge(gd);\n",
       "            observer.disconnect();\n",
       "        }}\n",
       "}});\n",
       "\n",
       "// Listen for the removal of the full notebook cells\n",
       "var notebookContainer = gd.closest('#notebook-container');\n",
       "if (notebookContainer) {{\n",
       "    x.observe(notebookContainer, {childList: true});\n",
       "}}\n",
       "\n",
       "// Listen for the clearing of the current output cell\n",
       "var outputEl = gd.closest('.output');\n",
       "if (outputEl) {{\n",
       "    x.observe(outputEl, {childList: true});\n",
       "}}\n",
       "\n",
       "                        })                };                });            </script>        </div>"
      ]
     },
     "metadata": {},
     "output_type": "display_data"
    }
   ],
   "source": [
    "s.iplot(xTitle = '种类',yTitle = '期权价值', mode = 'lines+markers',size = 10,title='LSMC_Laguerre option pricing',theme='solar')"
   ]
  },
  {
   "cell_type": "code",
   "execution_count": null,
   "metadata": {},
   "outputs": [],
   "source": []
  },
  {
   "cell_type": "code",
   "execution_count": null,
   "metadata": {},
   "outputs": [],
   "source": []
  }
 ],
 "metadata": {
  "kernelspec": {
   "display_name": "Python 3",
   "language": "python",
   "name": "python3"
  },
  "language_info": {
   "codemirror_mode": {
    "name": "ipython",
    "version": 3
   },
   "file_extension": ".py",
   "mimetype": "text/x-python",
   "name": "python",
   "nbconvert_exporter": "python",
   "pygments_lexer": "ipython3",
   "version": "3.7.6"
  }
 },
 "nbformat": 4,
 "nbformat_minor": 4
}
