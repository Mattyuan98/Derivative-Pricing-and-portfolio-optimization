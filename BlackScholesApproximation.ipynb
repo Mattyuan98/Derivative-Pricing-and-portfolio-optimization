{
 "cells": [
  {
   "cell_type": "markdown",
   "metadata": {
    "id": "vqnv-eBizJI7"
   },
   "source": [
    "# Deep Learning Black Scholes\n",
    "The goal of this case study is to perform derivative pricing from a machine learning standpoint and use supervised regression-based model to learn the Black-Scholes option pricing model from simulated data.\n"
   ]
  },
  {
   "cell_type": "markdown",
   "metadata": {
    "id": "4ifiaH7JzJI-"
   },
   "source": [
    "<a id='0'></a>\n",
    "# 1. Problem Definition"
   ]
  },
  {
   "cell_type": "markdown",
   "metadata": {
    "id": "7e0ljoYCzJI-"
   },
   "source": [
    "In the supervised regression framework used for this case study, the derivative pricing\n",
    "problem is defined in the regression framework, where the predicted variable is the\n",
    "pricing of the option, and the predictor variables are the market data that are used as\n",
    "inputs to the Black-Scholes option pricing model"
   ]
  },
  {
   "cell_type": "markdown",
   "metadata": {
    "id": "01mumYSYzJI_"
   },
   "source": [
    "Options have been used in finance as means to hedge risk in a nonlinear manner. They are are also used by speculators in order to take leveraged bets in the financial markets. Historically, people have used the Black Scholes formula."
   ]
  },
  {
   "cell_type": "markdown",
   "metadata": {
    "id": "OV59MMZLzJI_"
   },
   "source": [
    "$$  Se^{-q \\tau}\\Phi(d_1) - e^{-r \\tau} K\\Phi(d_2) \\, $$"
   ]
  },
  {
   "cell_type": "markdown",
   "metadata": {
    "id": "iogr15MBzJJA"
   },
   "source": [
    "With"
   ]
  },
  {
   "cell_type": "markdown",
   "metadata": {
    "id": "I4O49pS8zJJA"
   },
   "source": [
    "$$  d_1 = \\frac{\\ln(S/K) + (r - q + \\sigma^2/2)\\tau}{\\sigma\\sqrt{\\tau}}  $$"
   ]
  },
  {
   "cell_type": "markdown",
   "metadata": {
    "id": "ehj119MDzJJA"
   },
   "source": [
    "and"
   ]
  },
  {
   "cell_type": "markdown",
   "metadata": {
    "id": "zAngvIpLzJJB"
   },
   "source": [
    "$$  d_2 = \\frac{\\ln(S/K) + (r - q - \\sigma^2/2)\\tau}{\\sigma\\sqrt{\\tau}} = d_1 - \\sigma\\sqrt{\\tau}  $$"
   ]
  },
  {
   "cell_type": "markdown",
   "metadata": {
    "id": "MkEEkc6bzJJB"
   },
   "source": [
    "Where we have;\n",
    "    Stock price $S$;\n",
    "    Strike price $K$;\n",
    "    Risk-free rate $r$;\n",
    "    Annual dividend yield $q$;\n",
    "    Time to maturity $\\tau = T-t$ (represented as a unit-less fraction of one year);\n",
    "    Volatility $\\sigma$"
   ]
  },
  {
   "cell_type": "markdown",
   "metadata": {
    "id": "7u2wCMUczJJB"
   },
   "source": [
    "In order to make the logic simpler, we define *Moneyness* as $M = K/S$ and look at the prices in terms of per unit of current stock price. We also set $q$ as $0$ "
   ]
  },
  {
   "cell_type": "markdown",
   "metadata": {
    "id": "9HznMaU1zJJB"
   },
   "source": [
    "This simplifes the formula down to the following"
   ]
  },
  {
   "cell_type": "markdown",
   "metadata": {
    "id": "16m4Og1pzJJB"
   },
   "source": [
    "$$  S e^{-q \\tau}\\Phi\\left( \\frac{- \\ln(M) + (r+ \\sigma^2/2 )\\tau}{\\sigma\\sqrt{\\tau}}\\right) - S e^{-r \\tau} M\\Phi\\left( \\frac{- \\ln(M) + (r - \\sigma^2/2)\\tau}{\\sigma\\sqrt{\\tau}} \\right) \\, $$"
   ]
  },
  {
   "cell_type": "markdown",
   "metadata": {
    "id": "5n-NM6rmzJJD"
   },
   "source": [
    "### Python Imports"
   ]
  },
  {
   "cell_type": "code",
   "execution_count": 1,
   "metadata": {
    "colab": {
     "base_uri": "https://localhost:8080/"
    },
    "executionInfo": {
     "elapsed": 931,
     "status": "ok",
     "timestamp": 1636899340729,
     "user": {
      "displayName": "D OK",
      "photoUrl": "https://lh3.googleusercontent.com/a/default-user=s64",
      "userId": "10267117973942008095"
     },
     "user_tz": -60
    },
    "id": "RfRq2r2UzJJD",
    "outputId": "b426ed01-e899-43cb-9f8b-08ee49c76cc6"
   },
   "outputs": [],
   "source": [
    "# Distribution functions\n",
    "from scipy.stats import norm\n",
    "\n",
    "\n",
    "# Load libraries\n",
    "import numpy as np\n",
    "import pandas as pd\n",
    "import pandas_datareader.data as web\n",
    "import matplotlib.pyplot as plt\n",
    "from pandas.plotting import scatter_matrix\n",
    "import seaborn as sns\n",
    "\n",
    "from sklearn.model_selection import KFold\n",
    "from sklearn.model_selection import cross_val_score\n",
    "from sklearn.model_selection import GridSearchCV\n",
    "\n",
    "# Error Metrics\n",
    "from sklearn.metrics import mean_squared_error\n",
    "\n",
    "# Feature Selection\n",
    "from sklearn.feature_selection import SelectKBest\n",
    "from sklearn.feature_selection import chi2, f_regression\n",
    "\n",
    "#Plotting \n",
    "from pandas.plotting import scatter_matrix"
   ]
  },
  {
   "cell_type": "code",
   "execution_count": 2,
   "metadata": {
    "executionInfo": {
     "elapsed": 265,
     "status": "ok",
     "timestamp": 1636899342528,
     "user": {
      "displayName": "D OK",
      "photoUrl": "https://lh3.googleusercontent.com/a/default-user=s64",
      "userId": "10267117973942008095"
     },
     "user_tz": -60
    },
    "id": "g6_33bcgzJJE"
   },
   "outputs": [],
   "source": [
    "#Diable the warnings\n",
    "import warnings\n",
    "warnings.filterwarnings('ignore')"
   ]
  },
  {
   "cell_type": "markdown",
   "metadata": {
    "id": "gu_Nw9kXzJJE"
   },
   "source": [
    "<a id='1.2'></a>\n",
    "## 2.2. Defining functions and parameters"
   ]
  },
  {
   "cell_type": "markdown",
   "metadata": {
    "id": "_olmQ12uzJJE"
   },
   "source": [
    "### True Parameters"
   ]
  },
  {
   "cell_type": "code",
   "execution_count": 3,
   "metadata": {
    "executionInfo": {
     "elapsed": 4,
     "status": "ok",
     "timestamp": 1636899345033,
     "user": {
      "displayName": "D OK",
      "photoUrl": "https://lh3.googleusercontent.com/a/default-user=s64",
      "userId": "10267117973942008095"
     },
     "user_tz": -60
    },
    "id": "cW5o9kAkzJJE"
   },
   "outputs": [],
   "source": [
    "# riskless rate and initial stock price\n",
    "r = 0.02\n",
    "s0 = 100.0"
   ]
  },
  {
   "cell_type": "markdown",
   "metadata": {
    "id": "wS4Gh2YezJJE"
   },
   "source": [
    "### Vol and Option Pricing Functions"
   ]
  },
  {
   "cell_type": "code",
   "execution_count": 4,
   "metadata": {
    "executionInfo": {
     "elapsed": 4,
     "status": "ok",
     "timestamp": 1636899346029,
     "user": {
      "displayName": "D OK",
      "photoUrl": "https://lh3.googleusercontent.com/a/default-user=s64",
      "userId": "10267117973942008095"
     },
     "user_tz": -60
    },
    "id": "XSB3y1IVzJJE"
   },
   "outputs": [],
   "source": [
    "def call_option_price(s0, M, t, v):\n",
    "    # Black Scholes Equation\n",
    "    d1=(-np.log(M)+(r+np.square(v)/2)*t)/(v*np.sqrt(t))\n",
    "    d2=(-np.log(M)+(r-np.square(v)/2)*t)/(v*np.sqrt(t))\n",
    "    N_d1 = norm.cdf(d1)\n",
    "    N_d2 = norm.cdf(d2)\n",
    "    return s0 * N_d1 - s0 * M * np.exp(-r*t) * N_d2"
   ]
  },
  {
   "cell_type": "code",
   "execution_count": 5,
   "metadata": {},
   "outputs": [],
   "source": [
    "# to capture the skew\n",
    "def option_vol(m):\n",
    "    a = 0.35\n",
    "    b = -0.1\n",
    "    c = 0.02\n",
    "    vol = a + b*m + c*m*m\n",
    "    return vol"
   ]
  },
  {
   "cell_type": "code",
   "execution_count": 6,
   "metadata": {},
   "outputs": [
    {
     "data": {
      "image/png": "[encoded data removed]",
      "text/plain": [
       "<Figure size 432x288 with 1 Axes>"
      ]
     },
     "metadata": {
      "needs_background": "light"
     },
     "output_type": "display_data"
    }
   ],
   "source": [
    "moneyness = np.linspace(0.5, 2.0, 100)\n",
    "v = option_vol(moneyness)\n",
    "plt.plot(moneyness, v);\n",
    "plt.xlabel(\"Moneyness (K/S)\")\n",
    "plt.ylabel(\"Volatility\");"
   ]
  },
  {
   "cell_type": "markdown",
   "metadata": {
    "id": "W1SWnRqhzJJE"
   },
   "source": [
    "## Data Generation"
   ]
  },
  {
   "cell_type": "markdown",
   "metadata": {},
   "source": [
    "Generate option prices for a range of K, T, sigma holding r fixed "
   ]
  },
  {
   "cell_type": "code",
   "execution_count": 7,
   "metadata": {
    "executionInfo": {
     "elapsed": 2438,
     "status": "ok",
     "timestamp": 1636899349562,
     "user": {
      "displayName": "D OK",
      "photoUrl": "https://lh3.googleusercontent.com/a/default-user=s64",
      "userId": "10267117973942008095"
     },
     "user_tz": -60
    },
    "id": "pgMWgGEnzJJF"
   },
   "outputs": [],
   "source": [
    "N = 10000\n",
    "\n",
    "Ms = (0.5+1.0*np.random.random(N)) #moneyness with mean around 1\n",
    "Ts = np.random.random(N) * 5.0 #expiration time \n",
    "Vs = option_vol(Ms) #volatility\n",
    "Ps = np.array([call_option_price(s0, m, t, v) for m, t, v in zip(Ms,Ts,Vs)])"
   ]
  },
  {
   "cell_type": "code",
   "execution_count": 10,
   "metadata": {},
   "outputs": [
    {
     "data": {
      "text/plain": [
       "array([6.06696664e+00, 5.38384290e+01, 1.73831144e-03, ...,\n",
       "       3.97301324e-01, 1.38777362e+01, 4.54002220e+01])"
      ]
     },
     "execution_count": 10,
     "metadata": {},
     "output_type": "execute_result"
    }
   ],
   "source": [
    "Ps"
   ]
  },
  {
   "cell_type": "markdown",
   "metadata": {
    "id": "clcERYVMzJJF"
   },
   "source": [
    "### Set the Endog and Exog Data"
   ]
  },
  {
   "cell_type": "code",
   "execution_count": 11,
   "metadata": {
    "executionInfo": {
     "elapsed": 7,
     "status": "ok",
     "timestamp": 1636899349562,
     "user": {
      "displayName": "D OK",
      "photoUrl": "https://lh3.googleusercontent.com/a/default-user=s64",
      "userId": "10267117973942008095"
     },
     "user_tz": -60
    },
    "id": "71JZmj3mzJJF"
   },
   "outputs": [],
   "source": [
    "Y = Ps\n",
    "\n",
    "X = np.concatenate([Ms.reshape(-1,1), Ts.reshape(-1,1), Vs.reshape(-1,1)], axis=1)\n",
    "\n",
    "dataset = pd.DataFrame(np.concatenate([Y.reshape(-1,1), X], axis=1),\n",
    "                       columns=['Price', 'Moneyness', 'Time', 'Volatility'])"
   ]
  },
  {
   "cell_type": "code",
   "execution_count": 12,
   "metadata": {
    "colab": {
     "base_uri": "https://localhost:8080/",
     "height": 204
    },
    "executionInfo": {
     "elapsed": 4,
     "status": "ok",
     "timestamp": 1636899349924,
     "user": {
      "displayName": "D OK",
      "photoUrl": "https://lh3.googleusercontent.com/a/default-user=s64",
      "userId": "10267117973942008095"
     },
     "user_tz": -60
    },
    "id": "BFrkpP8wzJJF",
    "outputId": "3c2cc811-fa3c-46fd-d791-b0f9a81791c6"
   },
   "outputs": [
    {
     "data": {
      "text/html": [
       "<div>\n",
       "<style scoped>\n",
       "    .dataframe tbody tr th:only-of-type {\n",
       "        vertical-align: middle;\n",
       "    }\n",
       "\n",
       "    .dataframe tbody tr th {\n",
       "        vertical-align: top;\n",
       "    }\n",
       "\n",
       "    .dataframe thead th {\n",
       "        text-align: right;\n",
       "    }\n",
       "</style>\n",
       "<table border=\"1\" class=\"dataframe\">\n",
       "  <thead>\n",
       "    <tr style=\"text-align: right;\">\n",
       "      <th></th>\n",
       "      <th>Price</th>\n",
       "      <th>Moneyness</th>\n",
       "      <th>Time</th>\n",
       "      <th>Volatility</th>\n",
       "    </tr>\n",
       "  </thead>\n",
       "  <tbody>\n",
       "    <tr>\n",
       "      <th>0</th>\n",
       "      <td>6.066967</td>\n",
       "      <td>1.326531</td>\n",
       "      <td>2.042141</td>\n",
       "      <td>0.252541</td>\n",
       "    </tr>\n",
       "    <tr>\n",
       "      <th>1</th>\n",
       "      <td>53.838429</td>\n",
       "      <td>0.520163</td>\n",
       "      <td>3.778165</td>\n",
       "      <td>0.303395</td>\n",
       "    </tr>\n",
       "    <tr>\n",
       "      <th>2</th>\n",
       "      <td>0.001738</td>\n",
       "      <td>1.396029</td>\n",
       "      <td>0.164696</td>\n",
       "      <td>0.249375</td>\n",
       "    </tr>\n",
       "    <tr>\n",
       "      <th>3</th>\n",
       "      <td>1.245372</td>\n",
       "      <td>1.219718</td>\n",
       "      <td>0.436665</td>\n",
       "      <td>0.257782</td>\n",
       "    </tr>\n",
       "    <tr>\n",
       "      <th>4</th>\n",
       "      <td>29.515667</td>\n",
       "      <td>0.883773</td>\n",
       "      <td>3.745972</td>\n",
       "      <td>0.277244</td>\n",
       "    </tr>\n",
       "  </tbody>\n",
       "</table>\n",
       "</div>"
      ],
      "text/plain": [
       "       Price  Moneyness      Time  Volatility\n",
       "0   6.066967   1.326531  2.042141    0.252541\n",
       "1  53.838429   0.520163  3.778165    0.303395\n",
       "2   0.001738   1.396029  0.164696    0.249375\n",
       "3   1.245372   1.219718  0.436665    0.257782\n",
       "4  29.515667   0.883773  3.745972    0.277244"
      ]
     },
     "execution_count": 12,
     "metadata": {},
     "output_type": "execute_result"
    }
   ],
   "source": [
    "dataset.head()"
   ]
  },
  {
   "cell_type": "markdown",
   "metadata": {
    "id": "WrPHthoTzJJG"
   },
   "source": [
    "<a id='2.2'></a>\n",
    "## 3.2. Data Visualization"
   ]
  },
  {
   "cell_type": "code",
   "execution_count": 13,
   "metadata": {
    "colab": {
     "base_uri": "https://localhost:8080/",
     "height": 707
    },
    "executionInfo": {
     "elapsed": 1523,
     "status": "ok",
     "timestamp": 1636899353404,
     "user": {
      "displayName": "D OK",
      "photoUrl": "https://lh3.googleusercontent.com/a/default-user=s64",
      "userId": "10267117973942008095"
     },
     "user_tz": -60
    },
    "id": "9vB-pC0kzJJG",
    "outputId": "3fb716e2-b0b1-465c-c0a6-a454ca0770b7"
   },
   "outputs": [
    {
     "data": {
      "image/png": "[encoded data removed]",
      "text/plain": [
       "<Figure size 864x648 with 4 Axes>"
      ]
     },
     "metadata": {
      "needs_background": "light"
     },
     "output_type": "display_data"
    }
   ],
   "source": [
    "dataset.hist(bins=50, density=True, sharex=False, sharey=False, xlabelsize=10, ylabelsize=10, figsize=(12,9));"
   ]
  },
  {
   "cell_type": "markdown",
   "metadata": {
    "id": "PFnqwwwszJJG"
   },
   "source": [
    "We can see that the price has an interesting distribution with a spike at $0$ due to all of the OTM options. Strike is Gaussian distributed around 100 and the time is uniformally distributed out to 5 years"
   ]
  },
  {
   "cell_type": "markdown",
   "metadata": {
    "id": "ILP9lvPEzJJG"
   },
   "source": [
    "Next we look at the interaction between different variables"
   ]
  },
  {
   "cell_type": "markdown",
   "metadata": {
    "id": "UyBhE8jYzJJG"
   },
   "source": [
    "## Data Preparation and Analysis"
   ]
  },
  {
   "cell_type": "markdown",
   "metadata": {
    "id": "0TXnGFVszJJG"
   },
   "source": [
    "### Univariate Feature Selection"
   ]
  },
  {
   "cell_type": "markdown",
   "metadata": {
    "id": "WZ0x9PJOzJJG"
   },
   "source": [
    "We use SelectKBest function from sklearn"
   ]
  },
  {
   "cell_type": "code",
   "execution_count": 14,
   "metadata": {
    "colab": {
     "base_uri": "https://localhost:8080/",
     "height": 173
    },
    "executionInfo": {
     "elapsed": 252,
     "status": "ok",
     "timestamp": 1636899368716,
     "user": {
      "displayName": "D OK",
      "photoUrl": "https://lh3.googleusercontent.com/a/default-user=s64",
      "userId": "10267117973942008095"
     },
     "user_tz": -60
    },
    "id": "69Zssuh0zJJG",
    "outputId": "4c88aeb8-666d-4a84-e3eb-9bee38ea2d5f"
   },
   "outputs": [
    {
     "data": {
      "text/html": [
       "<div>\n",
       "<style scoped>\n",
       "    .dataframe tbody tr th:only-of-type {\n",
       "        vertical-align: middle;\n",
       "    }\n",
       "\n",
       "    .dataframe tbody tr th {\n",
       "        vertical-align: top;\n",
       "    }\n",
       "\n",
       "    .dataframe thead th {\n",
       "        text-align: right;\n",
       "    }\n",
       "</style>\n",
       "<table border=\"1\" class=\"dataframe\">\n",
       "  <thead>\n",
       "    <tr style=\"text-align: right;\">\n",
       "      <th></th>\n",
       "      <th>Score</th>\n",
       "    </tr>\n",
       "    <tr>\n",
       "      <th>Specs</th>\n",
       "      <th></th>\n",
       "    </tr>\n",
       "  </thead>\n",
       "  <tbody>\n",
       "    <tr>\n",
       "      <th>Vol</th>\n",
       "      <td>64172.703809</td>\n",
       "    </tr>\n",
       "    <tr>\n",
       "      <th>Strike</th>\n",
       "      <td>51422.753429</td>\n",
       "    </tr>\n",
       "    <tr>\n",
       "      <th>Time</th>\n",
       "      <td>1292.024002</td>\n",
       "    </tr>\n",
       "  </tbody>\n",
       "</table>\n",
       "</div>"
      ],
      "text/plain": [
       "               Score\n",
       "Specs               \n",
       "Vol     64172.703809\n",
       "Strike  51422.753429\n",
       "Time     1292.024002"
      ]
     },
     "execution_count": 14,
     "metadata": {},
     "output_type": "execute_result"
    }
   ],
   "source": [
    "bestfeatures = SelectKBest(k='all', score_func=f_regression)\n",
    "fit = bestfeatures.fit(X,Y)\n",
    "dfscores = pd.DataFrame(fit.scores_)\n",
    "dfcolumns = pd.DataFrame(['Strike', 'Time', 'Vol'])\n",
    "#concat two dataframes for better visualization \n",
    "featureScores = pd.concat([dfcolumns,dfscores],axis=1)\n",
    "featureScores.columns = ['Specs','Score']  #naming the dataframe columns\n",
    "featureScores.nlargest(10,'Score').set_index('Specs')  #print 10 best features"
   ]
  },
  {
   "cell_type": "markdown",
   "metadata": {
    "id": "WcpoDeCLzJJH"
   },
   "source": [
    "<a id='4'></a>\n",
    "# 5. Evaluate Algorithms and Models"
   ]
  },
  {
   "cell_type": "markdown",
   "metadata": {
    "id": "H-7OmH8GzJJH"
   },
   "source": [
    "<a id='4.1'></a>\n",
    "## 5.1. Train Test Split and Evaluation Metrics"
   ]
  },
  {
   "cell_type": "code",
   "execution_count": 15,
   "metadata": {
    "executionInfo": {
     "elapsed": 251,
     "status": "ok",
     "timestamp": 1636899371401,
     "user": {
      "displayName": "D OK",
      "photoUrl": "https://lh3.googleusercontent.com/a/default-user=s64",
      "userId": "10267117973942008095"
     },
     "user_tz": -60
    },
    "id": "qIoFGyM_zJJH"
   },
   "outputs": [],
   "source": [
    "validation_size = 0.2\n",
    "\n",
    "train_size = int(len(X) * (1-validation_size))\n",
    "X_train, X_test = X[0:train_size], X[train_size:len(X)]\n",
    "Y_train, Y_test = Y[0:train_size], Y[train_size:len(X)]"
   ]
  },
  {
   "cell_type": "markdown",
   "metadata": {
    "id": "K284YCK2zJJH"
   },
   "source": [
    "We use the prebuilt scikit models to run a K fold analysis on our training data. We then train the model on the full training data and use it for prediction of the test data. The parameters for the K fold analysis are defined as -"
   ]
  },
  {
   "cell_type": "code",
   "execution_count": 16,
   "metadata": {
    "executionInfo": {
     "elapsed": 2,
     "status": "ok",
     "timestamp": 1636899372648,
     "user": {
      "displayName": "D OK",
      "photoUrl": "https://lh3.googleusercontent.com/a/default-user=s64",
      "userId": "10267117973942008095"
     },
     "user_tz": -60
    },
    "id": "nwcisKDzzJJH"
   },
   "outputs": [],
   "source": [
    "num_folds = 10\n",
    "seed = 7\n",
    "# scikit is moving away from mean_squared_error. \n",
    "# In order to avoid confusion, and to allow comparison with other models, we invert the final scores\n",
    "scoring = 'neg_mean_squared_error' "
   ]
  },
  {
   "cell_type": "markdown",
   "metadata": {
    "id": "Yx965hO-zJJH"
   },
   "source": [
    "## Training an MLP in Scikit Learn"
   ]
  },
  {
   "cell_type": "code",
   "execution_count": 17,
   "metadata": {},
   "outputs": [],
   "source": [
    "from sklearn.neural_network import MLPRegressor"
   ]
  },
  {
   "cell_type": "code",
   "execution_count": 18,
   "metadata": {
    "executionInfo": {
     "elapsed": 268,
     "status": "ok",
     "timestamp": 1636899374373,
     "user": {
      "displayName": "D OK",
      "photoUrl": "https://lh3.googleusercontent.com/a/default-user=s64",
      "userId": "10267117973942008095"
     },
     "user_tz": -60
    },
    "id": "H8HKxcbbzJJH"
   },
   "outputs": [],
   "source": [
    "models = []\n",
    "models.append(('MLP', MLPRegressor()))"
   ]
  },
  {
   "cell_type": "code",
   "execution_count": 19,
   "metadata": {
    "colab": {
     "base_uri": "https://localhost:8080/"
    },
    "executionInfo": {
     "elapsed": 53804,
     "status": "ok",
     "timestamp": 1636899430678,
     "user": {
      "displayName": "D OK",
      "photoUrl": "https://lh3.googleusercontent.com/a/default-user=s64",
      "userId": "10267117973942008095"
     },
     "user_tz": -60
    },
    "id": "LP4k-JZszJJH",
    "outputId": "3e4ef7df-b806-4761-84c3-f1aa75480740"
   },
   "outputs": [
    {
     "name": "stdout",
     "output_type": "stream",
     "text": [
      "MLP: 0.969698 (0.716248) 0.791245 0.751929\n"
     ]
    }
   ],
   "source": [
    "names = []\n",
    "kfold_results = []\n",
    "test_results = []\n",
    "train_results = []\n",
    "\n",
    "for name, model in models:\n",
    "    names.append(name)\n",
    "    \n",
    "    ## K Fold analysis:\n",
    "    \n",
    "    kfold = KFold(n_splits=num_folds)\n",
    "    #converted mean square error to positive. The lower the beter\n",
    "    cv_results = -1* cross_val_score(model, X_train, Y_train, cv=kfold, scoring=scoring)\n",
    "    kfold_results.append(cv_results)\n",
    "    \n",
    "    # Full Training period\n",
    "    res = model.fit(X_train, Y_train)\n",
    "    train_result = mean_squared_error(res.predict(X_train), Y_train)\n",
    "    train_results.append(train_result)\n",
    "    \n",
    "    # Test results\n",
    "    test_result = mean_squared_error(res.predict(X_test), Y_test)\n",
    "    test_results.append(test_result)\n",
    "    \n",
    "    msg = \"%s: %f (%f) %f %f\" % (name, cv_results.mean(), cv_results.std(), train_result, test_result)\n",
    "    print(msg)"
   ]
  },
  {
   "cell_type": "markdown",
   "metadata": {
    "id": "gtetnUoszJJI"
   },
   "source": [
    "We begin by looking at the Kfold analysis"
   ]
  },
  {
   "cell_type": "code",
   "execution_count": 20,
   "metadata": {
    "colab": {
     "base_uri": "https://localhost:8080/",
     "height": 540
    },
    "executionInfo": {
     "elapsed": 413,
     "status": "ok",
     "timestamp": 1636899431085,
     "user": {
      "displayName": "D OK",
      "photoUrl": "https://lh3.googleusercontent.com/a/default-user=s64",
      "userId": "10267117973942008095"
     },
     "user_tz": -60
    },
    "id": "j6IlN9gJzJJI",
    "outputId": "2adefcb5-ce94-4886-a257-6cbc9e9a0588"
   },
   "outputs": [
    {
     "data": {
      "image/png": "[encoded data removed]",
      "text/plain": [
       "<Figure size 1080x576 with 1 Axes>"
      ]
     },
     "metadata": {
      "needs_background": "light"
     },
     "output_type": "display_data"
    }
   ],
   "source": [
    "fig = plt.figure()\n",
    "fig.suptitle('Algorithm Comparison: Kfold results')\n",
    "ax = fig.add_subplot(111)\n",
    "plt.boxplot(kfold_results)\n",
    "ax.set_xticklabels(names)\n",
    "fig.set_size_inches(15,8)\n",
    "plt.show()"
   ]
  },
  {
   "cell_type": "markdown",
   "metadata": {
    "id": "QruBVDQ1zJJI"
   },
   "source": [
    "Let's look out of sample"
   ]
  },
  {
   "cell_type": "code",
   "execution_count": 21,
   "metadata": {
    "colab": {
     "base_uri": "https://localhost:8080/",
     "height": 540
    },
    "executionInfo": {
     "elapsed": 554,
     "status": "ok",
     "timestamp": 1636899431634,
     "user": {
      "displayName": "D OK",
      "photoUrl": "https://lh3.googleusercontent.com/a/default-user=s64",
      "userId": "10267117973942008095"
     },
     "user_tz": -60
    },
    "id": "Prq6P0zszJJI",
    "outputId": "53d769b0-e72d-47f2-ade0-f21c1e02e269"
   },
   "outputs": [
    {
     "data": {
      "image/png": "[encoded data removed]",
      "text/plain": [
       "<Figure size 1080x576 with 1 Axes>"
      ]
     },
     "metadata": {
      "needs_background": "light"
     },
     "output_type": "display_data"
    }
   ],
   "source": [
    "# compare algorithms\n",
    "fig = plt.figure()\n",
    "\n",
    "ind = np.arange(len(names))  # the x locations for the groups\n",
    "width = 0.35  # the width of the bars\n",
    "\n",
    "fig.suptitle('Algorithm Comparison')\n",
    "ax = fig.add_subplot(111)\n",
    "plt.bar(ind - width/2, train_results,  width=width, label='Train Error')\n",
    "plt.bar(ind + width/2, test_results, width=width, label='Test Error')\n",
    "fig.set_size_inches(15,8)\n",
    "plt.legend()\n",
    "ax.set_xticks(ind)\n",
    "ax.set_xticklabels(names)\n",
    "plt.show()"
   ]
  },
  {
   "cell_type": "markdown",
   "metadata": {
    "id": "60jujoRrzJJI"
   },
   "source": [
    "We see that the multilayer perceptron (MLP) algorithm does a lot better that the linear algorithm. Given MLP is one of the best models we perform the grid search for MLP model in the next step.  "
   ]
  },
  {
   "cell_type": "markdown",
   "metadata": {
    "id": "scC-oGvIzJJI"
   },
   "source": [
    "<a id='5'></a>\n",
    "# 6. Finalising the model"
   ]
  },
  {
   "cell_type": "code",
   "execution_count": 22,
   "metadata": {},
   "outputs": [
    {
     "data": {
      "text/plain": [
       "[('MLP', MLPRegressor())]"
      ]
     },
     "execution_count": 22,
     "metadata": {},
     "output_type": "execute_result"
    }
   ],
   "source": [
    "models"
   ]
  },
  {
   "cell_type": "code",
   "execution_count": 23,
   "metadata": {
    "colab": {
     "base_uri": "https://localhost:8080/"
    },
    "executionInfo": {
     "elapsed": 484,
     "status": "ok",
     "timestamp": 1636899448265,
     "user": {
      "displayName": "D OK",
      "photoUrl": "https://lh3.googleusercontent.com/a/default-user=s64",
      "userId": "10267117973942008095"
     },
     "user_tz": -60
    },
    "id": "7ZnXckh3zJJJ",
    "outputId": "b973662b-b90e-40b9-bb45-ef47e822724e"
   },
   "outputs": [],
   "source": [
    "# prepare model\n",
    "name, mlp = models[-1]"
   ]
  },
  {
   "cell_type": "code",
   "execution_count": 25,
   "metadata": {
    "colab": {
     "base_uri": "https://localhost:8080/"
    },
    "executionInfo": {
     "elapsed": 16,
     "status": "ok",
     "timestamp": 1636899448266,
     "user": {
      "displayName": "D OK",
      "photoUrl": "https://lh3.googleusercontent.com/a/default-user=s64",
      "userId": "10267117973942008095"
     },
     "user_tz": -60
    },
    "id": "0YUtyXb9zJJJ",
    "outputId": "ecff79f8-1903-4881-db9f-93803d6a2f4c"
   },
   "outputs": [
    {
     "name": "stdout",
     "output_type": "stream",
     "text": [
      "0.7519285922040281\n"
     ]
    }
   ],
   "source": [
    "# estimate accuracy on validation set\n",
    "# transform the validation dataset\n",
    "predictions = mlp.predict(X_test)\n",
    "print(mean_squared_error(Y_test, predictions))"
   ]
  },
  {
   "cell_type": "markdown",
   "metadata": {},
   "source": [
    "## Examination of the Fit"
   ]
  },
  {
   "cell_type": "markdown",
   "metadata": {},
   "source": [
    "We see how good the fit is for different moneyness, volatility and times to maturity."
   ]
  },
  {
   "cell_type": "code",
   "execution_count": 55,
   "metadata": {},
   "outputs": [],
   "source": [
    "def plot_fit(model,tmat):\n",
    "\n",
    "    s0 = 100.0\n",
    "    strike = np.linspace(0.7*s0, 1.3*s0, 100)\n",
    "    moneyness = strike / s0\n",
    "    time_to_maturity = np.ones(100)*tmat\n",
    "    option_vol_vector = option_vol(moneyness)\n",
    "\n",
    "    bs_price = call_option_price(s0, moneyness, time_to_maturity, option_vol_vector)\n",
    "\n",
    "    X = np.array([moneyness, time_to_maturity, option_vol_vector]).transpose()\n",
    "    predicted_price = model.predict(X)\n",
    "\n",
    "    plt.plot(strike, bs_price, label='Black Scholes')\n",
    "    plt.plot(strike, predicted_price, label='Predicted Price')\n",
    "    plt.xlabel(\"Strike\")\n",
    "    plt.ylabel(\"Call Option Value\")\n",
    "    plt.title(\"Expiry in \" + str(tmat) + \" year(s)\")\n",
    "    plt.legend();"
   ]
  },
  {
   "cell_type": "code",
   "execution_count": 56,
   "metadata": {},
   "outputs": [
    {
     "data": {
      "image/png": "[encoded data removed]",
      "text/plain": [
       "<Figure size 432x288 with 1 Axes>"
      ]
     },
     "metadata": {
      "needs_background": "light"
     },
     "output_type": "display_data"
    }
   ],
   "source": [
    "plot_fit(res,0.50)"
   ]
  },
  {
   "cell_type": "code",
   "execution_count": 57,
   "metadata": {},
   "outputs": [
    {
     "data": {
      "image/png": "[encoded data removed]",
      "text/plain": [
       "<Figure size 432x288 with 1 Axes>"
      ]
     },
     "metadata": {
      "needs_background": "light"
     },
     "output_type": "display_data"
    }
   ],
   "source": [
    "plot_fit(res,1.0)"
   ]
  },
  {
   "cell_type": "code",
   "execution_count": 58,
   "metadata": {},
   "outputs": [
    {
     "data": {
      "image/png": "[encoded data removed]",
      "text/plain": [
       "<Figure size 432x288 with 1 Axes>"
      ]
     },
     "metadata": {
      "needs_background": "light"
     },
     "output_type": "display_data"
    }
   ],
   "source": [
    "plot_fit(res,3.0)"
   ]
  },
  {
   "cell_type": "code",
   "execution_count": 59,
   "metadata": {},
   "outputs": [
    {
     "data": {
      "image/png": "[encoded data removed]",
      "text/plain": [
       "<Figure size 432x288 with 1 Axes>"
      ]
     },
     "metadata": {
      "needs_background": "light"
     },
     "output_type": "display_data"
    }
   ],
   "source": [
    "plot_fit(res,5.0)"
   ]
  },
  {
   "cell_type": "markdown",
   "metadata": {
    "id": "Sj7AbpAKzJJK"
   },
   "source": [
    "### Summary"
   ]
  },
  {
   "cell_type": "markdown",
   "metadata": {
    "id": "F5eDYyLfzJJK"
   },
   "source": [
    "Artificial neural network (ANN) can reproduce the Black and Scholes option pricing formula for a call option to a reasonable degree of accuracy which means that we can leverage the efficient numerical calculation of machine learning in the derivative pricing without relying on the impractical assumptions made in the traditional derivative pricing models. "
   ]
  },
  {
   "cell_type": "markdown",
   "metadata": {},
   "source": [
    "### Use Keras to approximate BSM pricing"
   ]
  },
  {
   "cell_type": "code",
   "execution_count": 33,
   "metadata": {},
   "outputs": [],
   "source": [
    "import warnings\n",
    "warnings.filterwarnings(\"ignore\")\n",
    "import tensorflow as tf\n",
    "from tensorflow import keras \n",
    "from tensorflow.keras import Sequential\n",
    "from tensorflow.keras.layers import Dense,Input,Dropout,BatchNormalization\n",
    "from tensorflow.keras.optimizers import Adam, SGD, RMSprop"
   ]
  },
  {
   "cell_type": "code",
   "execution_count": 34,
   "metadata": {},
   "outputs": [],
   "source": [
    "# define a adaptive learning rate\n",
    "def ada_lr(maxiter):\n",
    "    lr_vals=[]\n",
    "    for i in range(1,maxiter+1):\n",
    "        lr_vals.append(np.exp(1-maxiter/(maxiter+1-i)))\n",
    "    return lr_vals"
   ]
  },
  {
   "cell_type": "code",
   "execution_count": 35,
   "metadata": {},
   "outputs": [
    {
     "data": {
      "text/plain": [
       "[<matplotlib.lines.Line2D at 0x1191d571970>]"
      ]
     },
     "execution_count": 35,
     "metadata": {},
     "output_type": "execute_result"
    },
    {
     "data": {
      "image/png": "[encoded data removed]",
      "text/plain": [
       "<Figure size 432x288 with 1 Axes>"
      ]
     },
     "metadata": {
      "needs_background": "light"
     },
     "output_type": "display_data"
    }
   ],
   "source": [
    "maxiter = 500\n",
    "iteration = np.linspace(1,maxiter,maxiter)\n",
    "plt.plot(iteration,ada_lr(maxiter))"
   ]
  },
  {
   "cell_type": "code",
   "execution_count": 36,
   "metadata": {},
   "outputs": [],
   "source": [
    "tf_model = Sequential()\n",
    "tf_model.add(Dense(100,activation='relu',input_shape = X_train.shape[1:]))\n",
    "tf_model.add(Dense(1))"
   ]
  },
  {
   "cell_type": "code",
   "execution_count": 37,
   "metadata": {},
   "outputs": [
    {
     "name": "stdout",
     "output_type": "stream",
     "text": [
      "Model: \"sequential\"\n",
      "_________________________________________________________________\n",
      " Layer (type)                Output Shape              Param #   \n",
      "=================================================================\n",
      " dense (Dense)               (None, 100)               400       \n",
      "                                                                 \n",
      " dense_1 (Dense)             (None, 1)                 101       \n",
      "                                                                 \n",
      "=================================================================\n",
      "Total params: 501\n",
      "Trainable params: 501\n",
      "Non-trainable params: 0\n",
      "_________________________________________________________________\n"
     ]
    }
   ],
   "source": [
    "tf_model.summary()"
   ]
  },
  {
   "cell_type": "code",
   "execution_count": 43,
   "metadata": {},
   "outputs": [],
   "source": [
    "tf_model.compile(optimizer=SGD(lr=1e-3,nesterov=True), loss='mean_squared_error')"
   ]
  },
  {
   "cell_type": "code",
   "execution_count": 44,
   "metadata": {},
   "outputs": [
    {
     "name": "stdout",
     "output_type": "stream",
     "text": [
      "Epoch 1/50\n",
      "250/250 [==============================] - 0s 859us/step - loss: 0.0583 - val_loss: 0.0573\n",
      "Epoch 2/50\n",
      "250/250 [==============================] - 0s 586us/step - loss: 0.0577 - val_loss: 0.0561\n",
      "Epoch 3/50\n",
      "250/250 [==============================] - 0s 554us/step - loss: 0.0570 - val_loss: 0.0567\n",
      "Epoch 4/50\n",
      "250/250 [==============================] - 0s 563us/step - loss: 0.0565 - val_loss: 0.0577\n",
      "Epoch 5/50\n",
      "250/250 [==============================] - 0s 550us/step - loss: 0.0559 - val_loss: 0.0540\n",
      "Epoch 6/50\n",
      "250/250 [==============================] - 0s 570us/step - loss: 0.0557 - val_loss: 0.0559\n",
      "Epoch 7/50\n",
      "250/250 [==============================] - 0s 562us/step - loss: 0.0549 - val_loss: 0.0530\n",
      "Epoch 8/50\n",
      "250/250 [==============================] - 0s 685us/step - loss: 0.0543 - val_loss: 0.0530\n",
      "Epoch 9/50\n",
      "250/250 [==============================] - 0s 690us/step - loss: 0.0537 - val_loss: 0.0538\n",
      "Epoch 10/50\n",
      "250/250 [==============================] - 0s 582us/step - loss: 0.0531 - val_loss: 0.0520\n",
      "Epoch 11/50\n",
      "250/250 [==============================] - 0s 635us/step - loss: 0.0530 - val_loss: 0.0512\n",
      "Epoch 12/50\n",
      "250/250 [==============================] - 0s 606us/step - loss: 0.0526 - val_loss: 0.0521\n",
      "Epoch 13/50\n",
      "250/250 [==============================] - 0s 863us/step - loss: 0.0520 - val_loss: 0.0503\n",
      "Epoch 14/50\n",
      "250/250 [==============================] - 0s 799us/step - loss: 0.0513 - val_loss: 0.0504\n",
      "Epoch 15/50\n",
      "250/250 [==============================] - 0s 663us/step - loss: 0.0512 - val_loss: 0.0495\n",
      "Epoch 16/50\n",
      "250/250 [==============================] - 0s 695us/step - loss: 0.0508 - val_loss: 0.0507\n",
      "Epoch 17/50\n",
      "250/250 [==============================] - 0s 554us/step - loss: 0.0501 - val_loss: 0.0491\n",
      "Epoch 18/50\n",
      "250/250 [==============================] - 0s 553us/step - loss: 0.0502 - val_loss: 0.0483\n",
      "Epoch 19/50\n",
      "250/250 [==============================] - 0s 546us/step - loss: 0.0492 - val_loss: 0.0512\n",
      "Epoch 20/50\n",
      "250/250 [==============================] - 0s 687us/step - loss: 0.0491 - val_loss: 0.0479\n",
      "Epoch 21/50\n",
      "250/250 [==============================] - 0s 547us/step - loss: 0.0486 - val_loss: 0.0472\n",
      "Epoch 22/50\n",
      "250/250 [==============================] - 0s 526us/step - loss: 0.0481 - val_loss: 0.0474\n",
      "Epoch 23/50\n",
      "250/250 [==============================] - 0s 547us/step - loss: 0.0479 - val_loss: 0.0540\n",
      "Epoch 24/50\n",
      "250/250 [==============================] - 0s 533us/step - loss: 0.0476 - val_loss: 0.0465\n",
      "Epoch 25/50\n",
      "250/250 [==============================] - 0s 526us/step - loss: 0.0470 - val_loss: 0.0467\n",
      "Epoch 26/50\n",
      "250/250 [==============================] - 0s 530us/step - loss: 0.0471 - val_loss: 0.0453\n",
      "Epoch 27/50\n",
      "250/250 [==============================] - 0s 558us/step - loss: 0.0463 - val_loss: 0.0448\n",
      "Epoch 28/50\n",
      "250/250 [==============================] - 0s 570us/step - loss: 0.0459 - val_loss: 0.0446\n",
      "Epoch 29/50\n",
      "250/250 [==============================] - 0s 595us/step - loss: 0.0461 - val_loss: 0.0475\n",
      "Epoch 30/50\n",
      "250/250 [==============================] - 0s 566us/step - loss: 0.0456 - val_loss: 0.0471\n",
      "Epoch 31/50\n",
      "250/250 [==============================] - 0s 542us/step - loss: 0.0450 - val_loss: 0.0436\n",
      "Epoch 32/50\n",
      "250/250 [==============================] - 0s 566us/step - loss: 0.0446 - val_loss: 0.0438\n",
      "Epoch 33/50\n",
      "250/250 [==============================] - 0s 546us/step - loss: 0.0446 - val_loss: 0.0444\n",
      "Epoch 34/50\n",
      "250/250 [==============================] - 0s 571us/step - loss: 0.0441 - val_loss: 0.0428\n",
      "Epoch 35/50\n",
      "250/250 [==============================] - 0s 544us/step - loss: 0.0440 - val_loss: 0.0426\n",
      "Epoch 36/50\n",
      "250/250 [==============================] - 0s 549us/step - loss: 0.0438 - val_loss: 0.0441\n",
      "Epoch 37/50\n",
      "250/250 [==============================] - 0s 550us/step - loss: 0.0432 - val_loss: 0.0457\n",
      "Epoch 38/50\n",
      "250/250 [==============================] - 0s 546us/step - loss: 0.0432 - val_loss: 0.0416\n",
      "Epoch 39/50\n",
      "250/250 [==============================] - 0s 526us/step - loss: 0.0427 - val_loss: 0.0423\n",
      "Epoch 40/50\n",
      "250/250 [==============================] - 0s 536us/step - loss: 0.0422 - val_loss: 0.0415\n",
      "Epoch 41/50\n",
      "250/250 [==============================] - 0s 550us/step - loss: 0.0421 - val_loss: 0.0409\n",
      "Epoch 42/50\n",
      "250/250 [==============================] - 0s 538us/step - loss: 0.0418 - val_loss: 0.0407\n",
      "Epoch 43/50\n",
      "250/250 [==============================] - 0s 544us/step - loss: 0.0418 - val_loss: 0.0407\n",
      "Epoch 44/50\n",
      "250/250 [==============================] - 0s 539us/step - loss: 0.0414 - val_loss: 0.0402\n",
      "Epoch 45/50\n",
      "250/250 [==============================] - 0s 570us/step - loss: 0.0410 - val_loss: 0.0419\n",
      "Epoch 46/50\n",
      "250/250 [==============================] - 0s 534us/step - loss: 0.0408 - val_loss: 0.0411\n",
      "Epoch 47/50\n",
      "250/250 [==============================] - 0s 544us/step - loss: 0.0409 - val_loss: 0.0397\n",
      "Epoch 48/50\n",
      "250/250 [==============================] - 0s 542us/step - loss: 0.0404 - val_loss: 0.0394\n",
      "Epoch 49/50\n",
      "250/250 [==============================] - 0s 566us/step - loss: 0.0402 - val_loss: 0.0407\n",
      "Epoch 50/50\n",
      "250/250 [==============================] - 0s 619us/step - loss: 0.0399 - val_loss: 0.0390\n"
     ]
    }
   ],
   "source": [
    "results = tf_model.fit(X_train,Y_train,epochs=50,validation_data=(X_test,Y_test))"
   ]
  },
  {
   "cell_type": "code",
   "execution_count": 40,
   "metadata": {},
   "outputs": [
    {
     "data": {
      "text/plain": [
       "dict_keys(['loss', 'val_loss'])"
      ]
     },
     "execution_count": 40,
     "metadata": {},
     "output_type": "execute_result"
    }
   ],
   "source": [
    "results.history.keys()"
   ]
  },
  {
   "cell_type": "code",
   "execution_count": 45,
   "metadata": {},
   "outputs": [
    {
     "data": {
      "text/plain": [
       "<matplotlib.legend.Legend at 0x119254f9550>"
      ]
     },
     "execution_count": 45,
     "metadata": {},
     "output_type": "execute_result"
    },
    {
     "data": {
      "image/png": "[encoded data removed]",
      "text/plain": [
       "<Figure size 432x288 with 1 Axes>"
      ]
     },
     "metadata": {
      "needs_background": "light"
     },
     "output_type": "display_data"
    }
   ],
   "source": [
    "fig, ax = plt.subplots()\n",
    "ax.plot(results.history[\"loss\"],'r', marker='.', label=\"Train Loss\")\n",
    "ax.plot(results.history[\"val_loss\"],'b', marker='+', label=\"Validation Loss\")\n",
    "ax.legend()"
   ]
  },
  {
   "cell_type": "code",
   "execution_count": 46,
   "metadata": {},
   "outputs": [
    {
     "name": "stdout",
     "output_type": "stream",
     "text": [
      "Epoch 1/250\n",
      "250/250 [==============================] - 0s 989us/step - loss: 0.0397 - val_loss: 0.0400\n",
      "Epoch 2/250\n",
      "250/250 [==============================] - 0s 843us/step - loss: 0.0394 - val_loss: 0.0383\n",
      "Epoch 3/250\n",
      "250/250 [==============================] - 0s 606us/step - loss: 0.0391 - val_loss: 0.0393\n",
      "Epoch 4/250\n",
      "250/250 [==============================] - 0s 582us/step - loss: 0.0389 - val_loss: 0.0405\n",
      "Epoch 5/250\n",
      "250/250 [==============================] - 0s 592us/step - loss: 0.0388 - val_loss: 0.0379\n",
      "Epoch 6/250\n",
      "250/250 [==============================] - 0s 601us/step - loss: 0.0383 - val_loss: 0.0375\n",
      "Epoch 7/250\n",
      "250/250 [==============================] - 0s 775us/step - loss: 0.0383 - val_loss: 0.0376\n",
      "Epoch 8/250\n",
      "250/250 [==============================] - 0s 630us/step - loss: 0.0382 - val_loss: 0.0373\n",
      "Epoch 9/250\n",
      "250/250 [==============================] - 0s 695us/step - loss: 0.0380 - val_loss: 0.0370\n",
      "Epoch 10/250\n",
      "250/250 [==============================] - 0s 558us/step - loss: 0.0378 - val_loss: 0.0370\n",
      "Epoch 11/250\n",
      "250/250 [==============================] - 0s 586us/step - loss: 0.0377 - val_loss: 0.0368\n",
      "Epoch 12/250\n",
      "250/250 [==============================] - 0s 546us/step - loss: 0.0374 - val_loss: 0.0369\n",
      "Epoch 13/250\n",
      "250/250 [==============================] - 0s 567us/step - loss: 0.0372 - val_loss: 0.0370\n",
      "Epoch 14/250\n",
      "250/250 [==============================] - 0s 590us/step - loss: 0.0370 - val_loss: 0.0376\n",
      "Epoch 15/250\n",
      "250/250 [==============================] - 0s 586us/step - loss: 0.0366 - val_loss: 0.0374\n",
      "Epoch 16/250\n",
      "250/250 [==============================] - 0s 871us/step - loss: 0.0366 - val_loss: 0.0363\n",
      "Epoch 17/250\n",
      "250/250 [==============================] - 0s 797us/step - loss: 0.0366 - val_loss: 0.0357\n",
      "Epoch 18/250\n",
      "250/250 [==============================] - 0s 719us/step - loss: 0.0361 - val_loss: 0.0355\n",
      "Epoch 19/250\n",
      "250/250 [==============================] - 0s 589us/step - loss: 0.0362 - val_loss: 0.0361\n",
      "Epoch 20/250\n",
      "250/250 [==============================] - 0s 622us/step - loss: 0.0358 - val_loss: 0.0350\n",
      "Epoch 21/250\n",
      "250/250 [==============================] - 0s 711us/step - loss: 0.0358 - val_loss: 0.0354\n",
      "Epoch 22/250\n",
      "250/250 [==============================] - 0s 827us/step - loss: 0.0355 - val_loss: 0.0347\n",
      "Epoch 23/250\n",
      "250/250 [==============================] - 0s 812us/step - loss: 0.0354 - val_loss: 0.0347\n",
      "Epoch 24/250\n",
      "250/250 [==============================] - 0s 884us/step - loss: 0.0350 - val_loss: 0.0354\n",
      "Epoch 25/250\n",
      "250/250 [==============================] - 0s 586us/step - loss: 0.0349 - val_loss: 0.0347\n",
      "Epoch 26/250\n",
      "250/250 [==============================] - 0s 656us/step - loss: 0.0349 - val_loss: 0.0342\n",
      "Epoch 27/250\n",
      "250/250 [==============================] - 0s 594us/step - loss: 0.0347 - val_loss: 0.0366\n",
      "Epoch 28/250\n",
      "250/250 [==============================] - 0s 566us/step - loss: 0.0346 - val_loss: 0.0342\n",
      "Epoch 29/250\n",
      "250/250 [==============================] - 0s 625us/step - loss: 0.0344 - val_loss: 0.0340\n",
      "Epoch 30/250\n",
      "250/250 [==============================] - 0s 735us/step - loss: 0.0343 - val_loss: 0.0343\n",
      "Epoch 31/250\n",
      "250/250 [==============================] - 0s 651us/step - loss: 0.0343 - val_loss: 0.0334\n",
      "Epoch 32/250\n",
      "250/250 [==============================] - 0s 577us/step - loss: 0.0338 - val_loss: 0.0335\n",
      "Epoch 33/250\n",
      "250/250 [==============================] - 0s 619us/step - loss: 0.0339 - val_loss: 0.0338\n",
      "Epoch 34/250\n",
      "250/250 [==============================] - 0s 555us/step - loss: 0.0336 - val_loss: 0.0332\n",
      "Epoch 35/250\n",
      "250/250 [==============================] - 0s 571us/step - loss: 0.0333 - val_loss: 0.0336\n",
      "Epoch 36/250\n",
      "250/250 [==============================] - 0s 590us/step - loss: 0.0334 - val_loss: 0.0330\n",
      "Epoch 37/250\n",
      "250/250 [==============================] - 0s 553us/step - loss: 0.0333 - val_loss: 0.0344\n",
      "Epoch 38/250\n",
      "250/250 [==============================] - 0s 563us/step - loss: 0.0331 - val_loss: 0.0325\n",
      "Epoch 39/250\n",
      "250/250 [==============================] - 0s 577us/step - loss: 0.0329 - val_loss: 0.0328\n",
      "Epoch 40/250\n",
      "250/250 [==============================] - 0s 605us/step - loss: 0.0328 - val_loss: 0.0326\n",
      "Epoch 41/250\n",
      "250/250 [==============================] - 0s 582us/step - loss: 0.0327 - val_loss: 0.0321\n",
      "Epoch 42/250\n",
      "250/250 [==============================] - 0s 579us/step - loss: 0.0324 - val_loss: 0.0320\n",
      "Epoch 43/250\n",
      "250/250 [==============================] - 0s 572us/step - loss: 0.0323 - val_loss: 0.0341\n",
      "Epoch 44/250\n",
      "250/250 [==============================] - 0s 578us/step - loss: 0.0323 - val_loss: 0.0317\n",
      "Epoch 45/250\n",
      "250/250 [==============================] - 0s 612us/step - loss: 0.0321 - val_loss: 0.0319\n",
      "Epoch 46/250\n",
      "250/250 [==============================] - 0s 562us/step - loss: 0.0320 - val_loss: 0.0318\n",
      "Epoch 47/250\n",
      "250/250 [==============================] - 0s 593us/step - loss: 0.0318 - val_loss: 0.0314\n",
      "Epoch 48/250\n",
      "250/250 [==============================] - 0s 557us/step - loss: 0.0317 - val_loss: 0.0314\n",
      "Epoch 49/250\n",
      "250/250 [==============================] - 0s 555us/step - loss: 0.0317 - val_loss: 0.0318\n",
      "Epoch 50/250\n",
      "250/250 [==============================] - 0s 549us/step - loss: 0.0315 - val_loss: 0.0311\n",
      "Epoch 51/250\n",
      "250/250 [==============================] - 0s 586us/step - loss: 0.0315 - val_loss: 0.0316\n",
      "Epoch 52/250\n",
      "250/250 [==============================] - 0s 542us/step - loss: 0.0313 - val_loss: 0.0309\n",
      "Epoch 53/250\n",
      "250/250 [==============================] - 0s 610us/step - loss: 0.0311 - val_loss: 0.0311\n",
      "Epoch 54/250\n",
      "250/250 [==============================] - 0s 563us/step - loss: 0.0311 - val_loss: 0.0311\n",
      "Epoch 55/250\n",
      "250/250 [==============================] - 0s 560us/step - loss: 0.0308 - val_loss: 0.0307\n",
      "Epoch 56/250\n",
      "250/250 [==============================] - 0s 568us/step - loss: 0.0306 - val_loss: 0.0314\n",
      "Epoch 57/250\n",
      "250/250 [==============================] - 0s 554us/step - loss: 0.0305 - val_loss: 0.0304\n",
      "Epoch 58/250\n",
      "250/250 [==============================] - 0s 565us/step - loss: 0.0304 - val_loss: 0.0303\n",
      "Epoch 59/250\n",
      "250/250 [==============================] - 0s 596us/step - loss: 0.0302 - val_loss: 0.0307\n",
      "Epoch 60/250\n",
      "250/250 [==============================] - 0s 570us/step - loss: 0.0303 - val_loss: 0.0302\n",
      "Epoch 61/250\n",
      "250/250 [==============================] - 0s 580us/step - loss: 0.0301 - val_loss: 0.0304\n",
      "Epoch 62/250\n",
      "250/250 [==============================] - 0s 566us/step - loss: 0.0300 - val_loss: 0.0298\n",
      "Epoch 63/250\n",
      "250/250 [==============================] - 0s 969us/step - loss: 0.0299 - val_loss: 0.0303\n",
      "Epoch 64/250\n",
      "250/250 [==============================] - 0s 795us/step - loss: 0.0300 - val_loss: 0.0302\n",
      "Epoch 65/250\n",
      "250/250 [==============================] - 0s 703us/step - loss: 0.0298 - val_loss: 0.0295\n",
      "Epoch 66/250\n",
      "250/250 [==============================] - 0s 703us/step - loss: 0.0296 - val_loss: 0.0294\n",
      "Epoch 67/250\n",
      "250/250 [==============================] - 0s 547us/step - loss: 0.0296 - val_loss: 0.0293\n",
      "Epoch 68/250\n",
      "250/250 [==============================] - 0s 566us/step - loss: 0.0294 - val_loss: 0.0292\n",
      "Epoch 69/250\n",
      "250/250 [==============================] - 0s 558us/step - loss: 0.0294 - val_loss: 0.0292\n",
      "Epoch 70/250\n",
      "250/250 [==============================] - 0s 532us/step - loss: 0.0292 - val_loss: 0.0290\n",
      "Epoch 71/250\n",
      "250/250 [==============================] - 0s 558us/step - loss: 0.0292 - val_loss: 0.0289\n",
      "Epoch 72/250\n",
      "250/250 [==============================] - 0s 543us/step - loss: 0.0291 - val_loss: 0.0288\n",
      "Epoch 73/250\n",
      "250/250 [==============================] - 0s 609us/step - loss: 0.0289 - val_loss: 0.0294\n",
      "Epoch 74/250\n",
      "250/250 [==============================] - 0s 562us/step - loss: 0.0288 - val_loss: 0.0294\n",
      "Epoch 75/250\n",
      "250/250 [==============================] - 0s 537us/step - loss: 0.0289 - val_loss: 0.0293\n",
      "Epoch 76/250\n",
      "250/250 [==============================] - 0s 576us/step - loss: 0.0287 - val_loss: 0.0285\n",
      "Epoch 77/250\n",
      "250/250 [==============================] - 0s 534us/step - loss: 0.0287 - val_loss: 0.0288\n",
      "Epoch 78/250\n",
      "250/250 [==============================] - 0s 574us/step - loss: 0.0285 - val_loss: 0.0297\n",
      "Epoch 79/250\n",
      "250/250 [==============================] - 0s 562us/step - loss: 0.0285 - val_loss: 0.0282\n",
      "Epoch 80/250\n",
      "250/250 [==============================] - 0s 581us/step - loss: 0.0282 - val_loss: 0.0286\n",
      "Epoch 81/250\n",
      "250/250 [==============================] - 0s 554us/step - loss: 0.0282 - val_loss: 0.0305\n",
      "Epoch 82/250\n",
      "250/250 [==============================] - 0s 546us/step - loss: 0.0282 - val_loss: 0.0280\n",
      "Epoch 83/250\n",
      "250/250 [==============================] - 0s 551us/step - loss: 0.0282 - val_loss: 0.0286\n",
      "Epoch 84/250\n",
      "250/250 [==============================] - 0s 570us/step - loss: 0.0278 - val_loss: 0.0290\n",
      "Epoch 85/250\n",
      "250/250 [==============================] - 0s 630us/step - loss: 0.0278 - val_loss: 0.0276\n",
      "Epoch 86/250\n",
      "250/250 [==============================] - 0s 567us/step - loss: 0.0278 - val_loss: 0.0277\n",
      "Epoch 87/250\n",
      "250/250 [==============================] - 0s 582us/step - loss: 0.0278 - val_loss: 0.0280\n",
      "Epoch 88/250\n",
      "250/250 [==============================] - 0s 552us/step - loss: 0.0276 - val_loss: 0.0277\n",
      "Epoch 89/250\n",
      "250/250 [==============================] - 0s 538us/step - loss: 0.0275 - val_loss: 0.0280\n",
      "Epoch 90/250\n",
      "250/250 [==============================] - 0s 554us/step - loss: 0.0274 - val_loss: 0.0275\n",
      "Epoch 91/250\n",
      "250/250 [==============================] - 0s 575us/step - loss: 0.0273 - val_loss: 0.0272\n",
      "Epoch 92/250\n",
      "250/250 [==============================] - 0s 538us/step - loss: 0.0272 - val_loss: 0.0271\n",
      "Epoch 93/250\n",
      "250/250 [==============================] - 0s 548us/step - loss: 0.0273 - val_loss: 0.0277\n",
      "Epoch 94/250\n",
      "250/250 [==============================] - 0s 618us/step - loss: 0.0270 - val_loss: 0.0275\n",
      "Epoch 95/250\n",
      "250/250 [==============================] - 0s 537us/step - loss: 0.0270 - val_loss: 0.0271\n",
      "Epoch 96/250\n",
      "250/250 [==============================] - 0s 572us/step - loss: 0.0270 - val_loss: 0.0269\n",
      "Epoch 97/250\n",
      "250/250 [==============================] - 0s 707us/step - loss: 0.0268 - val_loss: 0.0272\n",
      "Epoch 98/250\n",
      "250/250 [==============================] - 0s 643us/step - loss: 0.0268 - val_loss: 0.0268\n",
      "Epoch 99/250\n",
      "250/250 [==============================] - 0s 582us/step - loss: 0.0267 - val_loss: 0.0270\n",
      "Epoch 100/250\n",
      "250/250 [==============================] - 0s 627us/step - loss: 0.0266 - val_loss: 0.0266\n",
      "Epoch 101/250\n",
      "250/250 [==============================] - 0s 567us/step - loss: 0.0265 - val_loss: 0.0266\n",
      "Epoch 102/250\n",
      "250/250 [==============================] - 0s 542us/step - loss: 0.0264 - val_loss: 0.0267\n",
      "Epoch 103/250\n",
      "250/250 [==============================] - 0s 554us/step - loss: 0.0264 - val_loss: 0.0264\n",
      "Epoch 104/250\n",
      "250/250 [==============================] - 0s 543us/step - loss: 0.0264 - val_loss: 0.0267\n",
      "Epoch 105/250\n",
      "250/250 [==============================] - 0s 607us/step - loss: 0.0262 - val_loss: 0.0266\n",
      "Epoch 106/250\n",
      "250/250 [==============================] - 0s 542us/step - loss: 0.0263 - val_loss: 0.0267\n",
      "Epoch 107/250\n",
      "250/250 [==============================] - 0s 606us/step - loss: 0.0262 - val_loss: 0.0265\n",
      "Epoch 108/250\n",
      "250/250 [==============================] - 0s 639us/step - loss: 0.0262 - val_loss: 0.0263\n",
      "Epoch 109/250\n",
      "250/250 [==============================] - 0s 558us/step - loss: 0.0261 - val_loss: 0.0262\n",
      "Epoch 110/250\n",
      "250/250 [==============================] - 0s 590us/step - loss: 0.0259 - val_loss: 0.0262\n",
      "Epoch 111/250\n",
      "250/250 [==============================] - 0s 550us/step - loss: 0.0259 - val_loss: 0.0261\n",
      "Epoch 112/250\n",
      "250/250 [==============================] - 0s 569us/step - loss: 0.0257 - val_loss: 0.0259\n",
      "Epoch 113/250\n",
      "250/250 [==============================] - 0s 549us/step - loss: 0.0257 - val_loss: 0.0266\n",
      "Epoch 114/250\n",
      "250/250 [==============================] - 0s 566us/step - loss: 0.0257 - val_loss: 0.0260\n",
      "Epoch 115/250\n",
      "250/250 [==============================] - 0s 585us/step - loss: 0.0255 - val_loss: 0.0256\n",
      "Epoch 116/250\n",
      "250/250 [==============================] - 0s 559us/step - loss: 0.0256 - val_loss: 0.0265\n",
      "Epoch 117/250\n",
      "250/250 [==============================] - 0s 537us/step - loss: 0.0255 - val_loss: 0.0262\n",
      "Epoch 118/250\n",
      "250/250 [==============================] - 0s 547us/step - loss: 0.0255 - val_loss: 0.0276\n",
      "Epoch 119/250\n",
      "250/250 [==============================] - 0s 590us/step - loss: 0.0254 - val_loss: 0.0255\n",
      "Epoch 120/250\n",
      "250/250 [==============================] - 0s 566us/step - loss: 0.0253 - val_loss: 0.0253\n",
      "Epoch 121/250\n",
      "250/250 [==============================] - 0s 552us/step - loss: 0.0253 - val_loss: 0.0253\n",
      "Epoch 122/250\n",
      "250/250 [==============================] - 0s 566us/step - loss: 0.0251 - val_loss: 0.0253\n",
      "Epoch 123/250\n",
      "250/250 [==============================] - 0s 546us/step - loss: 0.0252 - val_loss: 0.0257\n",
      "Epoch 124/250\n",
      "250/250 [==============================] - 0s 564us/step - loss: 0.0250 - val_loss: 0.0253\n",
      "Epoch 125/250\n",
      "250/250 [==============================] - 0s 571us/step - loss: 0.0250 - val_loss: 0.0253\n",
      "Epoch 126/250\n",
      "250/250 [==============================] - 0s 570us/step - loss: 0.0250 - val_loss: 0.0256\n",
      "Epoch 127/250\n",
      "250/250 [==============================] - 0s 588us/step - loss: 0.0249 - val_loss: 0.0286\n",
      "Epoch 128/250\n",
      "250/250 [==============================] - 0s 658us/step - loss: 0.0247 - val_loss: 0.0250\n",
      "Epoch 129/250\n",
      "250/250 [==============================] - 0s 645us/step - loss: 0.0246 - val_loss: 0.0247\n",
      "Epoch 130/250\n",
      "250/250 [==============================] - 0s 660us/step - loss: 0.0246 - val_loss: 0.0248\n",
      "Epoch 131/250\n",
      "250/250 [==============================] - 0s 675us/step - loss: 0.0246 - val_loss: 0.0252\n",
      "Epoch 132/250\n",
      "250/250 [==============================] - 0s 755us/step - loss: 0.0245 - val_loss: 0.0245\n",
      "Epoch 133/250\n",
      "250/250 [==============================] - 0s 732us/step - loss: 0.0245 - val_loss: 0.0249\n",
      "Epoch 134/250\n",
      "250/250 [==============================] - 0s 734us/step - loss: 0.0244 - val_loss: 0.0247\n",
      "Epoch 135/250\n",
      "250/250 [==============================] - 0s 687us/step - loss: 0.0243 - val_loss: 0.0244\n",
      "Epoch 136/250\n",
      "250/250 [==============================] - 0s 670us/step - loss: 0.0242 - val_loss: 0.0244\n",
      "Epoch 137/250\n",
      "250/250 [==============================] - 0s 649us/step - loss: 0.0242 - val_loss: 0.0246\n",
      "Epoch 138/250\n",
      "250/250 [==============================] - 0s 670us/step - loss: 0.0241 - val_loss: 0.0264\n",
      "Epoch 139/250\n",
      "250/250 [==============================] - 0s 759us/step - loss: 0.0241 - val_loss: 0.0242\n",
      "Epoch 140/250\n",
      "250/250 [==============================] - 0s 776us/step - loss: 0.0240 - val_loss: 0.0244\n",
      "Epoch 141/250\n",
      "250/250 [==============================] - 0s 697us/step - loss: 0.0240 - val_loss: 0.0240\n",
      "Epoch 142/250\n",
      "250/250 [==============================] - 0s 680us/step - loss: 0.0240 - val_loss: 0.0256\n",
      "Epoch 143/250\n",
      "250/250 [==============================] - 0s 728us/step - loss: 0.0240 - val_loss: 0.0240\n",
      "Epoch 144/250\n",
      "250/250 [==============================] - 0s 682us/step - loss: 0.0238 - val_loss: 0.0239\n",
      "Epoch 145/250\n",
      "250/250 [==============================] - 0s 647us/step - loss: 0.0238 - val_loss: 0.0238\n",
      "Epoch 146/250\n",
      "250/250 [==============================] - 0s 682us/step - loss: 0.0237 - val_loss: 0.0243\n",
      "Epoch 147/250\n",
      "250/250 [==============================] - 0s 672us/step - loss: 0.0236 - val_loss: 0.0238\n",
      "Epoch 148/250\n",
      "250/250 [==============================] - 0s 651us/step - loss: 0.0235 - val_loss: 0.0244\n",
      "Epoch 149/250\n",
      "250/250 [==============================] - 0s 771us/step - loss: 0.0236 - val_loss: 0.0241\n",
      "Epoch 150/250\n",
      "250/250 [==============================] - 0s 713us/step - loss: 0.0235 - val_loss: 0.0236\n",
      "Epoch 151/250\n",
      "250/250 [==============================] - 0s 695us/step - loss: 0.0234 - val_loss: 0.0240\n",
      "Epoch 152/250\n",
      "250/250 [==============================] - 0s 699us/step - loss: 0.0234 - val_loss: 0.0236\n",
      "Epoch 153/250\n",
      "250/250 [==============================] - 0s 659us/step - loss: 0.0233 - val_loss: 0.0244\n",
      "Epoch 154/250\n",
      "250/250 [==============================] - 0s 630us/step - loss: 0.0233 - val_loss: 0.0234\n",
      "Epoch 155/250\n",
      "250/250 [==============================] - 0s 682us/step - loss: 0.0232 - val_loss: 0.0241\n",
      "Epoch 156/250\n",
      "250/250 [==============================] - 0s 631us/step - loss: 0.0232 - val_loss: 0.0252\n",
      "Epoch 157/250\n",
      "250/250 [==============================] - 0s 622us/step - loss: 0.0232 - val_loss: 0.0233\n",
      "Epoch 158/250\n",
      "250/250 [==============================] - 0s 667us/step - loss: 0.0230 - val_loss: 0.0233\n",
      "Epoch 159/250\n",
      "250/250 [==============================] - 0s 647us/step - loss: 0.0231 - val_loss: 0.0232\n",
      "Epoch 160/250\n",
      "250/250 [==============================] - 0s 679us/step - loss: 0.0230 - val_loss: 0.0233\n",
      "Epoch 161/250\n",
      "250/250 [==============================] - 0s 803us/step - loss: 0.0230 - val_loss: 0.0233\n",
      "Epoch 162/250\n",
      "250/250 [==============================] - 0s 916us/step - loss: 0.0228 - val_loss: 0.0235\n",
      "Epoch 163/250\n",
      "250/250 [==============================] - 0s 759us/step - loss: 0.0228 - val_loss: 0.0230\n",
      "Epoch 164/250\n",
      "250/250 [==============================] - 0s 686us/step - loss: 0.0228 - val_loss: 0.0231\n",
      "Epoch 165/250\n",
      "250/250 [==============================] - 0s 644us/step - loss: 0.0228 - val_loss: 0.0234\n",
      "Epoch 166/250\n",
      "250/250 [==============================] - 0s 625us/step - loss: 0.0228 - val_loss: 0.0240\n",
      "Epoch 167/250\n",
      "250/250 [==============================] - 0s 639us/step - loss: 0.0227 - val_loss: 0.0237\n",
      "Epoch 168/250\n",
      "250/250 [==============================] - 0s 646us/step - loss: 0.0226 - val_loss: 0.0231\n",
      "Epoch 169/250\n",
      "250/250 [==============================] - 0s 671us/step - loss: 0.0226 - val_loss: 0.0227\n",
      "Epoch 170/250\n",
      "250/250 [==============================] - 0s 692us/step - loss: 0.0225 - val_loss: 0.0228\n",
      "Epoch 171/250\n",
      "250/250 [==============================] - 0s 687us/step - loss: 0.0225 - val_loss: 0.0229\n",
      "Epoch 172/250\n",
      "250/250 [==============================] - 0s 672us/step - loss: 0.0224 - val_loss: 0.0226\n",
      "Epoch 173/250\n",
      "250/250 [==============================] - 0s 756us/step - loss: 0.0224 - val_loss: 0.0226\n",
      "Epoch 174/250\n",
      "250/250 [==============================] - 0s 719us/step - loss: 0.0224 - val_loss: 0.0224\n",
      "Epoch 175/250\n",
      "250/250 [==============================] - 0s 676us/step - loss: 0.0223 - val_loss: 0.0225\n",
      "Epoch 176/250\n",
      "250/250 [==============================] - 0s 591us/step - loss: 0.0223 - val_loss: 0.0252\n",
      "Epoch 177/250\n",
      "250/250 [==============================] - 0s 630us/step - loss: 0.0222 - val_loss: 0.0228\n",
      "Epoch 178/250\n",
      "250/250 [==============================] - 0s 674us/step - loss: 0.0222 - val_loss: 0.0224\n",
      "Epoch 179/250\n",
      "250/250 [==============================] - 0s 683us/step - loss: 0.0221 - val_loss: 0.0222\n",
      "Epoch 180/250\n",
      "250/250 [==============================] - 0s 715us/step - loss: 0.0220 - val_loss: 0.0226\n",
      "Epoch 181/250\n",
      "250/250 [==============================] - 0s 719us/step - loss: 0.0220 - val_loss: 0.0223\n",
      "Epoch 182/250\n",
      "250/250 [==============================] - 0s 680us/step - loss: 0.0221 - val_loss: 0.0226\n",
      "Epoch 183/250\n",
      "250/250 [==============================] - 0s 771us/step - loss: 0.0219 - val_loss: 0.0221\n",
      "Epoch 184/250\n",
      "250/250 [==============================] - 0s 740us/step - loss: 0.0219 - val_loss: 0.0226\n",
      "Epoch 185/250\n",
      "250/250 [==============================] - 0s 684us/step - loss: 0.0218 - val_loss: 0.0234\n",
      "Epoch 186/250\n",
      "250/250 [==============================] - 0s 740us/step - loss: 0.0218 - val_loss: 0.0229\n",
      "Epoch 187/250\n",
      "250/250 [==============================] - 0s 663us/step - loss: 0.0218 - val_loss: 0.0221\n",
      "Epoch 188/250\n",
      "250/250 [==============================] - 0s 624us/step - loss: 0.0217 - val_loss: 0.0223\n",
      "Epoch 189/250\n",
      "250/250 [==============================] - 0s 733us/step - loss: 0.0217 - val_loss: 0.0248\n",
      "Epoch 190/250\n",
      "250/250 [==============================] - 0s 701us/step - loss: 0.0216 - val_loss: 0.0227\n",
      "Epoch 191/250\n",
      "250/250 [==============================] - 0s 627us/step - loss: 0.0216 - val_loss: 0.0218\n",
      "Epoch 192/250\n",
      "250/250 [==============================] - 0s 655us/step - loss: 0.0216 - val_loss: 0.0216\n",
      "Epoch 193/250\n",
      "250/250 [==============================] - 0s 661us/step - loss: 0.0215 - val_loss: 0.0218\n",
      "Epoch 194/250\n",
      "250/250 [==============================] - 0s 655us/step - loss: 0.0215 - val_loss: 0.0216\n",
      "Epoch 195/250\n",
      "250/250 [==============================] - 0s 684us/step - loss: 0.0214 - val_loss: 0.0218\n",
      "Epoch 196/250\n",
      "250/250 [==============================] - 0s 829us/step - loss: 0.0215 - val_loss: 0.0224\n",
      "Epoch 197/250\n",
      "250/250 [==============================] - 0s 765us/step - loss: 0.0213 - val_loss: 0.0215\n",
      "Epoch 198/250\n",
      "250/250 [==============================] - 0s 667us/step - loss: 0.0213 - val_loss: 0.0216\n",
      "Epoch 199/250\n",
      "250/250 [==============================] - 0s 618us/step - loss: 0.0213 - val_loss: 0.0235\n",
      "Epoch 200/250\n",
      "250/250 [==============================] - 0s 623us/step - loss: 0.0213 - val_loss: 0.0214\n",
      "Epoch 201/250\n",
      "250/250 [==============================] - 0s 650us/step - loss: 0.0212 - val_loss: 0.0216\n",
      "Epoch 202/250\n",
      "250/250 [==============================] - 0s 668us/step - loss: 0.0212 - val_loss: 0.0213\n",
      "Epoch 203/250\n",
      "250/250 [==============================] - 0s 656us/step - loss: 0.0211 - val_loss: 0.0213\n",
      "Epoch 204/250\n",
      "250/250 [==============================] - 0s 680us/step - loss: 0.0210 - val_loss: 0.0217\n",
      "Epoch 205/250\n",
      "250/250 [==============================] - 0s 667us/step - loss: 0.0210 - val_loss: 0.0211\n",
      "Epoch 206/250\n",
      "250/250 [==============================] - 0s 643us/step - loss: 0.0210 - val_loss: 0.0216\n",
      "Epoch 207/250\n",
      "250/250 [==============================] - 0s 646us/step - loss: 0.0210 - val_loss: 0.0213\n",
      "Epoch 208/250\n",
      "250/250 [==============================] - 0s 637us/step - loss: 0.0209 - val_loss: 0.0212\n",
      "Epoch 209/250\n",
      "250/250 [==============================] - 0s 661us/step - loss: 0.0209 - val_loss: 0.0213\n",
      "Epoch 210/250\n",
      "250/250 [==============================] - 0s 690us/step - loss: 0.0209 - val_loss: 0.0214\n",
      "Epoch 211/250\n",
      "250/250 [==============================] - 0s 688us/step - loss: 0.0207 - val_loss: 0.0211\n",
      "Epoch 212/250\n",
      "250/250 [==============================] - 0s 683us/step - loss: 0.0208 - val_loss: 0.0212\n",
      "Epoch 213/250\n",
      "250/250 [==============================] - 0s 713us/step - loss: 0.0208 - val_loss: 0.0209\n",
      "Epoch 214/250\n",
      "250/250 [==============================] - 0s 714us/step - loss: 0.0206 - val_loss: 0.0214\n",
      "Epoch 215/250\n",
      "250/250 [==============================] - 0s 743us/step - loss: 0.0206 - val_loss: 0.0212\n",
      "Epoch 216/250\n",
      "250/250 [==============================] - 0s 760us/step - loss: 0.0205 - val_loss: 0.0213\n",
      "Epoch 217/250\n",
      "250/250 [==============================] - 0s 670us/step - loss: 0.0206 - val_loss: 0.0207\n",
      "Epoch 218/250\n",
      "250/250 [==============================] - 0s 698us/step - loss: 0.0205 - val_loss: 0.0208\n",
      "Epoch 219/250\n",
      "250/250 [==============================] - 0s 719us/step - loss: 0.0205 - val_loss: 0.0206\n",
      "Epoch 220/250\n",
      "250/250 [==============================] - 0s 724us/step - loss: 0.0204 - val_loss: 0.0206\n",
      "Epoch 221/250\n",
      "250/250 [==============================] - 0s 747us/step - loss: 0.0205 - val_loss: 0.0206\n",
      "Epoch 222/250\n",
      "250/250 [==============================] - 0s 653us/step - loss: 0.0204 - val_loss: 0.0206\n",
      "Epoch 223/250\n",
      "250/250 [==============================] - 0s 632us/step - loss: 0.0203 - val_loss: 0.0205\n",
      "Epoch 224/250\n",
      "250/250 [==============================] - 0s 622us/step - loss: 0.0203 - val_loss: 0.0208\n",
      "Epoch 225/250\n",
      "250/250 [==============================] - 0s 669us/step - loss: 0.0204 - val_loss: 0.0204\n",
      "Epoch 226/250\n",
      "250/250 [==============================] - 0s 631us/step - loss: 0.0203 - val_loss: 0.0205\n",
      "Epoch 227/250\n",
      "250/250 [==============================] - 0s 705us/step - loss: 0.0202 - val_loss: 0.0205\n",
      "Epoch 228/250\n",
      "250/250 [==============================] - 0s 671us/step - loss: 0.0201 - val_loss: 0.0206\n",
      "Epoch 229/250\n",
      "250/250 [==============================] - 0s 725us/step - loss: 0.0203 - val_loss: 0.0203\n",
      "Epoch 230/250\n",
      "250/250 [==============================] - 0s 766us/step - loss: 0.0201 - val_loss: 0.0203\n",
      "Epoch 231/250\n",
      "250/250 [==============================] - 0s 668us/step - loss: 0.0201 - val_loss: 0.0204\n",
      "Epoch 232/250\n",
      "250/250 [==============================] - 0s 704us/step - loss: 0.0200 - val_loss: 0.0203\n",
      "Epoch 233/250\n",
      "250/250 [==============================] - 0s 711us/step - loss: 0.0200 - val_loss: 0.0202\n",
      "Epoch 234/250\n",
      "250/250 [==============================] - 0s 649us/step - loss: 0.0200 - val_loss: 0.0225\n",
      "Epoch 235/250\n",
      "250/250 [==============================] - 0s 614us/step - loss: 0.0200 - val_loss: 0.0209\n",
      "Epoch 236/250\n",
      "250/250 [==============================] - 0s 639us/step - loss: 0.0199 - val_loss: 0.0203\n",
      "Epoch 237/250\n",
      "250/250 [==============================] - 0s 635us/step - loss: 0.0199 - val_loss: 0.0200\n",
      "Epoch 238/250\n",
      "250/250 [==============================] - 0s 667us/step - loss: 0.0198 - val_loss: 0.0202\n",
      "Epoch 239/250\n",
      "250/250 [==============================] - 0s 719us/step - loss: 0.0198 - val_loss: 0.0203\n",
      "Epoch 240/250\n",
      "250/250 [==============================] - 0s 722us/step - loss: 0.0198 - val_loss: 0.0211\n",
      "Epoch 241/250\n",
      "250/250 [==============================] - 0s 771us/step - loss: 0.0198 - val_loss: 0.0200\n",
      "Epoch 242/250\n",
      "250/250 [==============================] - 0s 688us/step - loss: 0.0197 - val_loss: 0.0199\n",
      "Epoch 243/250\n",
      "250/250 [==============================] - 0s 928us/step - loss: 0.0196 - val_loss: 0.0198\n",
      "Epoch 244/250\n",
      "250/250 [==============================] - 0s 892us/step - loss: 0.0196 - val_loss: 0.0197\n",
      "Epoch 245/250\n",
      "250/250 [==============================] - 0s 956us/step - loss: 0.0195 - val_loss: 0.0223\n",
      "Epoch 246/250\n",
      "250/250 [==============================] - 0s 908us/step - loss: 0.0196 - val_loss: 0.0201\n",
      "Epoch 247/250\n",
      "250/250 [==============================] - 0s 867us/step - loss: 0.0195 - val_loss: 0.0198\n",
      "Epoch 248/250\n",
      "250/250 [==============================] - 0s 807us/step - loss: 0.0196 - val_loss: 0.0197\n",
      "Epoch 249/250\n",
      "250/250 [==============================] - 0s 731us/step - loss: 0.0194 - val_loss: 0.0197\n",
      "Epoch 250/250\n",
      "250/250 [==============================] - 0s 711us/step - loss: 0.0194 - val_loss: 0.0200\n"
     ]
    }
   ],
   "source": [
    "results_2 = tf_model.fit(X_train,Y_train,epochs=250,validation_data=(X_test,Y_test))"
   ]
  },
  {
   "cell_type": "code",
   "execution_count": 47,
   "metadata": {},
   "outputs": [
    {
     "data": {
      "text/plain": [
       "<matplotlib.legend.Legend at 0x119276b71c0>"
      ]
     },
     "execution_count": 47,
     "metadata": {},
     "output_type": "execute_result"
    },
    {
     "data": {
      "image/png": "[encoded data removed]",
      "text/plain": [
       "<Figure size 864x576 with 1 Axes>"
      ]
     },
     "metadata": {
      "needs_background": "light"
     },
     "output_type": "display_data"
    }
   ],
   "source": [
    "n = len(results.history[\"loss\"])\n",
    "m = len(results_2.history['loss'])\n",
    "fig, ax = plt.subplots(figsize=(12, 8))\n",
    "\n",
    "ax.plot(range(n), results.history[\"loss\"],'r', marker='.', label=\"Train Loss - Run 1\")\n",
    "ax.plot(range(n, n+m), results_2.history[\"loss\"], 'hotpink', marker='.', label=\"Train Loss - Run 2\")\n",
    "\n",
    "ax.plot(range(n), results.history[\"val_loss\"],'b', marker='+', label=\"Validation Loss - Run 1\")\n",
    "ax.plot(range(n, n+m), results_2.history[\"val_loss\"], 'LightSkyBlue', marker='+',  label=\"Validation Loss - Run 2\")\n",
    "\n",
    "ax.legend()"
   ]
  },
  {
   "cell_type": "code",
   "execution_count": 60,
   "metadata": {},
   "outputs": [
    {
     "data": {
      "image/png": "[encoded data removed]",
      "text/plain": [
       "<Figure size 432x288 with 1 Axes>"
      ]
     },
     "metadata": {
      "needs_background": "light"
     },
     "output_type": "display_data"
    }
   ],
   "source": [
    "plot_fit(tf_model,0.5)"
   ]
  },
  {
   "cell_type": "code",
   "execution_count": 62,
   "metadata": {},
   "outputs": [
    {
     "data": {
      "image/png": "[encoded data removed]",
      "text/plain": [
       "<Figure size 432x288 with 1 Axes>"
      ]
     },
     "metadata": {
      "needs_background": "light"
     },
     "output_type": "display_data"
    }
   ],
   "source": [
    "plot_fit(tf_model,5)"
   ]
  },
  {
   "cell_type": "code",
   "execution_count": null,
   "metadata": {},
   "outputs": [],
   "source": []
  }
 ],
 "metadata": {
  "colab": {
   "collapsed_sections": [
    "UyBhE8jYzJJG"
   ],
   "name": "DOK_DerivativesPricing.ipynb",
   "provenance": []
  },
  "kernelspec": {
   "display_name": "Python 3 (ipykernel)",
   "language": "python",
   "name": "python3"
  },
  "language_info": {
   "codemirror_mode": {
    "name": "ipython",
    "version": 3
   },
   "file_extension": ".py",
   "mimetype": "text/x-python",
   "name": "python",
   "nbconvert_exporter": "python",
   "pygments_lexer": "ipython3",
   "version": "3.9.7"
  }
 },
 "nbformat": 4,
 "nbformat_minor": 1
}
